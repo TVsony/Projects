{
  "cells": [
    {
      "cell_type": "code",
      "execution_count": 2,
      "metadata": {
        "colab": {
          "base_uri": "https://localhost:8080/"
        },
        "id": "PyHBFXHqzi6M",
        "outputId": "53e60e96-630f-4ded-e6a7-5ac06bd01b0d"
      },
      "outputs": [
        {
          "name": "stdout",
          "output_type": "stream",
          "text": [
            "/content\n"
          ]
        }
      ],
      "source": [
        "!pwd"
      ]
    },
    {
      "cell_type": "code",
      "execution_count": 3,
      "metadata": {
        "colab": {
          "base_uri": "https://localhost:8080/"
        },
        "id": "qUFFeuz-z4qF",
        "outputId": "dcab5b3c-3965-4bc5-efd4-a83e5305a977"
      },
      "outputs": [
        {
          "name": "stdout",
          "output_type": "stream",
          "text": [
            "/content/drive/MyDrive\n"
          ]
        }
      ],
      "source": [
        "cd /content/drive/MyDrive"
      ]
    },
    {
      "cell_type": "code",
      "execution_count": 5,
      "metadata": {
        "colab": {
          "base_uri": "https://localhost:8080/",
          "height": 73
        },
        "id": "fesgHY8b0H1_",
        "outputId": "7ea3e94a-9ad0-4913-f084-cf14cd29601f"
      },
      "outputs": [
        {
          "data": {
            "text/html": [
              "\n",
              "     <input type=\"file\" id=\"files-5076e706-aa45-4f9f-a51a-b1ca1d24872d\" name=\"files[]\" multiple disabled\n",
              "        style=\"border:none\" />\n",
              "     <output id=\"result-5076e706-aa45-4f9f-a51a-b1ca1d24872d\">\n",
              "      Upload widget is only available when the cell has been executed in the\n",
              "      current browser session. Please rerun this cell to enable.\n",
              "      </output>\n",
              "      <script>// Copyright 2017 Google LLC\n",
              "//\n",
              "// Licensed under the Apache License, Version 2.0 (the \"License\");\n",
              "// you may not use this file except in compliance with the License.\n",
              "// You may obtain a copy of the License at\n",
              "//\n",
              "//      http://www.apache.org/licenses/LICENSE-2.0\n",
              "//\n",
              "// Unless required by applicable law or agreed to in writing, software\n",
              "// distributed under the License is distributed on an \"AS IS\" BASIS,\n",
              "// WITHOUT WARRANTIES OR CONDITIONS OF ANY KIND, either express or implied.\n",
              "// See the License for the specific language governing permissions and\n",
              "// limitations under the License.\n",
              "\n",
              "/**\n",
              " * @fileoverview Helpers for google.colab Python module.\n",
              " */\n",
              "(function(scope) {\n",
              "function span(text, styleAttributes = {}) {\n",
              "  const element = document.createElement('span');\n",
              "  element.textContent = text;\n",
              "  for (const key of Object.keys(styleAttributes)) {\n",
              "    element.style[key] = styleAttributes[key];\n",
              "  }\n",
              "  return element;\n",
              "}\n",
              "\n",
              "// Max number of bytes which will be uploaded at a time.\n",
              "const MAX_PAYLOAD_SIZE = 100 * 1024;\n",
              "\n",
              "function _uploadFiles(inputId, outputId) {\n",
              "  const steps = uploadFilesStep(inputId, outputId);\n",
              "  const outputElement = document.getElementById(outputId);\n",
              "  // Cache steps on the outputElement to make it available for the next call\n",
              "  // to uploadFilesContinue from Python.\n",
              "  outputElement.steps = steps;\n",
              "\n",
              "  return _uploadFilesContinue(outputId);\n",
              "}\n",
              "\n",
              "// This is roughly an async generator (not supported in the browser yet),\n",
              "// where there are multiple asynchronous steps and the Python side is going\n",
              "// to poll for completion of each step.\n",
              "// This uses a Promise to block the python side on completion of each step,\n",
              "// then passes the result of the previous step as the input to the next step.\n",
              "function _uploadFilesContinue(outputId) {\n",
              "  const outputElement = document.getElementById(outputId);\n",
              "  const steps = outputElement.steps;\n",
              "\n",
              "  const next = steps.next(outputElement.lastPromiseValue);\n",
              "  return Promise.resolve(next.value.promise).then((value) => {\n",
              "    // Cache the last promise value to make it available to the next\n",
              "    // step of the generator.\n",
              "    outputElement.lastPromiseValue = value;\n",
              "    return next.value.response;\n",
              "  });\n",
              "}\n",
              "\n",
              "/**\n",
              " * Generator function which is called between each async step of the upload\n",
              " * process.\n",
              " * @param {string} inputId Element ID of the input file picker element.\n",
              " * @param {string} outputId Element ID of the output display.\n",
              " * @return {!Iterable<!Object>} Iterable of next steps.\n",
              " */\n",
              "function* uploadFilesStep(inputId, outputId) {\n",
              "  const inputElement = document.getElementById(inputId);\n",
              "  inputElement.disabled = false;\n",
              "\n",
              "  const outputElement = document.getElementById(outputId);\n",
              "  outputElement.innerHTML = '';\n",
              "\n",
              "  const pickedPromise = new Promise((resolve) => {\n",
              "    inputElement.addEventListener('change', (e) => {\n",
              "      resolve(e.target.files);\n",
              "    });\n",
              "  });\n",
              "\n",
              "  const cancel = document.createElement('button');\n",
              "  inputElement.parentElement.appendChild(cancel);\n",
              "  cancel.textContent = 'Cancel upload';\n",
              "  const cancelPromise = new Promise((resolve) => {\n",
              "    cancel.onclick = () => {\n",
              "      resolve(null);\n",
              "    };\n",
              "  });\n",
              "\n",
              "  // Wait for the user to pick the files.\n",
              "  const files = yield {\n",
              "    promise: Promise.race([pickedPromise, cancelPromise]),\n",
              "    response: {\n",
              "      action: 'starting',\n",
              "    }\n",
              "  };\n",
              "\n",
              "  cancel.remove();\n",
              "\n",
              "  // Disable the input element since further picks are not allowed.\n",
              "  inputElement.disabled = true;\n",
              "\n",
              "  if (!files) {\n",
              "    return {\n",
              "      response: {\n",
              "        action: 'complete',\n",
              "      }\n",
              "    };\n",
              "  }\n",
              "\n",
              "  for (const file of files) {\n",
              "    const li = document.createElement('li');\n",
              "    li.append(span(file.name, {fontWeight: 'bold'}));\n",
              "    li.append(span(\n",
              "        `(${file.type || 'n/a'}) - ${file.size} bytes, ` +\n",
              "        `last modified: ${\n",
              "            file.lastModifiedDate ? file.lastModifiedDate.toLocaleDateString() :\n",
              "                                    'n/a'} - `));\n",
              "    const percent = span('0% done');\n",
              "    li.appendChild(percent);\n",
              "\n",
              "    outputElement.appendChild(li);\n",
              "\n",
              "    const fileDataPromise = new Promise((resolve) => {\n",
              "      const reader = new FileReader();\n",
              "      reader.onload = (e) => {\n",
              "        resolve(e.target.result);\n",
              "      };\n",
              "      reader.readAsArrayBuffer(file);\n",
              "    });\n",
              "    // Wait for the data to be ready.\n",
              "    let fileData = yield {\n",
              "      promise: fileDataPromise,\n",
              "      response: {\n",
              "        action: 'continue',\n",
              "      }\n",
              "    };\n",
              "\n",
              "    // Use a chunked sending to avoid message size limits. See b/62115660.\n",
              "    let position = 0;\n",
              "    do {\n",
              "      const length = Math.min(fileData.byteLength - position, MAX_PAYLOAD_SIZE);\n",
              "      const chunk = new Uint8Array(fileData, position, length);\n",
              "      position += length;\n",
              "\n",
              "      const base64 = btoa(String.fromCharCode.apply(null, chunk));\n",
              "      yield {\n",
              "        response: {\n",
              "          action: 'append',\n",
              "          file: file.name,\n",
              "          data: base64,\n",
              "        },\n",
              "      };\n",
              "\n",
              "      let percentDone = fileData.byteLength === 0 ?\n",
              "          100 :\n",
              "          Math.round((position / fileData.byteLength) * 100);\n",
              "      percent.textContent = `${percentDone}% done`;\n",
              "\n",
              "    } while (position < fileData.byteLength);\n",
              "  }\n",
              "\n",
              "  // All done.\n",
              "  yield {\n",
              "    response: {\n",
              "      action: 'complete',\n",
              "    }\n",
              "  };\n",
              "}\n",
              "\n",
              "scope.google = scope.google || {};\n",
              "scope.google.colab = scope.google.colab || {};\n",
              "scope.google.colab._files = {\n",
              "  _uploadFiles,\n",
              "  _uploadFilesContinue,\n",
              "};\n",
              "})(self);\n",
              "</script> "
            ],
            "text/plain": [
              "<IPython.core.display.HTML object>"
            ]
          },
          "metadata": {},
          "output_type": "display_data"
        },
        {
          "name": "stdout",
          "output_type": "stream",
          "text": [
            "Saving Churn_Modelling.csv to Churn_Modelling.csv\n"
          ]
        }
      ],
      "source": [
        "from google.colab import files\n",
        "uploaded = files.upload()"
      ]
    },
    {
      "cell_type": "code",
      "execution_count": 8,
      "metadata": {
        "id": "FJ0YvDmZ19Uu"
      },
      "outputs": [],
      "source": [
        "# Importing the libraries\n",
        "import numpy as np\n",
        "import matplotlib.pyplot as plt\n",
        "import pandas as pd"
      ]
    },
    {
      "cell_type": "code",
      "execution_count": 9,
      "metadata": {
        "id": "RS0gPTEx2arc"
      },
      "outputs": [],
      "source": [
        "# Importing the dataset\n",
        "dataset = pd.read_csv('Churn_Modelling.csv')\n",
        "X = dataset.iloc[:, 3:13]\n",
        "y = dataset.iloc[:, 13]\n"
      ]
    },
    {
      "cell_type": "code",
      "execution_count": 10,
      "metadata": {
        "id": "UNi77nQi2ezT"
      },
      "outputs": [],
      "source": [
        "#Create dummy variables\n",
        "geography=pd.get_dummies(X[\"Geography\"],drop_first=True)\n",
        "gender=pd.get_dummies(X['Gender'],drop_first=True)"
      ]
    },
    {
      "cell_type": "code",
      "execution_count": 11,
      "metadata": {
        "id": "jcLP6Hvq2jJs"
      },
      "outputs": [],
      "source": [
        "## Concatenate the Data Frames\n",
        "\n",
        "X=pd.concat([X,geography,gender],axis=1)"
      ]
    },
    {
      "cell_type": "code",
      "execution_count": 12,
      "metadata": {
        "id": "HiPU3Kqd2m_j"
      },
      "outputs": [],
      "source": [
        "## Drop Unnecessary columns\n",
        "X=X.drop(['Geography','Gender'],axis=1)"
      ]
    },
    {
      "cell_type": "code",
      "execution_count": 13,
      "metadata": {
        "id": "LddsZF4X2rCN"
      },
      "outputs": [],
      "source": [
        "# Splitting the dataset into the Training set and Test set\n",
        "from sklearn.model_selection import train_test_split\n",
        "X_train, X_test, y_train, y_test = train_test_split(X, y, test_size = 0.2, random_state = 0)"
      ]
    },
    {
      "cell_type": "code",
      "execution_count": 14,
      "metadata": {
        "id": "MSjm5J3t2uec"
      },
      "outputs": [],
      "source": [
        "# Feature Scaling\n",
        "from sklearn.preprocessing import StandardScaler\n",
        "sc = StandardScaler()\n",
        "X_train = sc.fit_transform(X_train)\n",
        "X_test = sc.transform(X_test)"
      ]
    },
    {
      "cell_type": "code",
      "execution_count": 15,
      "metadata": {
        "id": "OOdUoRC42x9l"
      },
      "outputs": [],
      "source": [
        "# Part 2 - Now let's make the ANN!\n",
        "# Importing the Keras libraries and packages\n",
        "import keras\n",
        "from keras.models import Sequential\n",
        "from keras.layers import Dense\n",
        "from keras.layers import LeakyReLU,PReLU,ELU\n",
        "from keras.layers import Dropout"
      ]
    },
    {
      "cell_type": "code",
      "execution_count": 17,
      "metadata": {
        "colab": {
          "base_uri": "https://localhost:8080/"
        },
        "id": "U6_6_9pG22Z8",
        "outputId": "d14e9440-4b06-47ce-d281-d40971e8ecbc"
      },
      "outputs": [
        {
          "name": "stdout",
          "output_type": "stream",
          "text": [
            "Epoch 1/100\n",
            "536/536 [==============================] - 4s 4ms/step - loss: 0.6003 - accuracy: 0.7324 - val_loss: 0.5573 - val_accuracy: 0.7963\n",
            "Epoch 2/100\n",
            "536/536 [==============================] - 2s 3ms/step - loss: 0.5427 - accuracy: 0.7962 - val_loss: 0.5222 - val_accuracy: 0.7959\n",
            "Epoch 3/100\n",
            "536/536 [==============================] - 2s 3ms/step - loss: 0.5131 - accuracy: 0.7962 - val_loss: 0.4993 - val_accuracy: 0.7959\n",
            "Epoch 4/100\n",
            "536/536 [==============================] - 2s 4ms/step - loss: 0.4923 - accuracy: 0.7962 - val_loss: 0.4844 - val_accuracy: 0.7959\n",
            "Epoch 5/100\n",
            "536/536 [==============================] - 2s 3ms/step - loss: 0.4765 - accuracy: 0.7968 - val_loss: 0.4717 - val_accuracy: 0.7967\n",
            "Epoch 6/100\n",
            "536/536 [==============================] - 5s 8ms/step - loss: 0.4639 - accuracy: 0.7979 - val_loss: 0.4626 - val_accuracy: 0.7970\n",
            "Epoch 7/100\n",
            "536/536 [==============================] - 5s 9ms/step - loss: 0.4540 - accuracy: 0.8005 - val_loss: 0.4544 - val_accuracy: 0.8020\n",
            "Epoch 8/100\n",
            "536/536 [==============================] - 4s 7ms/step - loss: 0.4457 - accuracy: 0.8059 - val_loss: 0.4474 - val_accuracy: 0.8061\n",
            "Epoch 9/100\n",
            "536/536 [==============================] - 4s 7ms/step - loss: 0.4391 - accuracy: 0.8099 - val_loss: 0.4419 - val_accuracy: 0.8107\n",
            "Epoch 10/100\n",
            "536/536 [==============================] - 10s 19ms/step - loss: 0.4335 - accuracy: 0.8130 - val_loss: 0.4369 - val_accuracy: 0.8137\n",
            "Epoch 11/100\n",
            "536/536 [==============================] - 5s 10ms/step - loss: 0.4287 - accuracy: 0.8168 - val_loss: 0.4330 - val_accuracy: 0.8148\n",
            "Epoch 12/100\n",
            "536/536 [==============================] - 7s 13ms/step - loss: 0.4247 - accuracy: 0.8182 - val_loss: 0.4296 - val_accuracy: 0.8160\n",
            "Epoch 13/100\n",
            "536/536 [==============================] - 6s 11ms/step - loss: 0.4212 - accuracy: 0.8210 - val_loss: 0.4269 - val_accuracy: 0.8171\n",
            "Epoch 14/100\n",
            "536/536 [==============================] - 4s 8ms/step - loss: 0.4183 - accuracy: 0.8205 - val_loss: 0.4245 - val_accuracy: 0.8190\n",
            "Epoch 15/100\n",
            "536/536 [==============================] - 5s 9ms/step - loss: 0.4157 - accuracy: 0.8229 - val_loss: 0.4225 - val_accuracy: 0.8198\n",
            "Epoch 16/100\n",
            "536/536 [==============================] - 4s 7ms/step - loss: 0.4133 - accuracy: 0.8235 - val_loss: 0.4206 - val_accuracy: 0.8201\n",
            "Epoch 17/100\n",
            "536/536 [==============================] - 3s 6ms/step - loss: 0.4110 - accuracy: 0.8242 - val_loss: 0.4188 - val_accuracy: 0.8213\n",
            "Epoch 18/100\n",
            "536/536 [==============================] - 3s 5ms/step - loss: 0.4087 - accuracy: 0.8257 - val_loss: 0.4169 - val_accuracy: 0.8190\n",
            "Epoch 19/100\n",
            "536/536 [==============================] - 5s 9ms/step - loss: 0.4065 - accuracy: 0.8289 - val_loss: 0.4153 - val_accuracy: 0.8186\n",
            "Epoch 20/100\n",
            "536/536 [==============================] - 3s 6ms/step - loss: 0.4044 - accuracy: 0.8300 - val_loss: 0.4135 - val_accuracy: 0.8201\n",
            "Epoch 21/100\n",
            "536/536 [==============================] - 2s 3ms/step - loss: 0.4022 - accuracy: 0.8317 - val_loss: 0.4117 - val_accuracy: 0.8213\n",
            "Epoch 22/100\n",
            "536/536 [==============================] - 2s 4ms/step - loss: 0.4002 - accuracy: 0.8337 - val_loss: 0.4100 - val_accuracy: 0.8209\n",
            "Epoch 23/100\n",
            "536/536 [==============================] - 2s 3ms/step - loss: 0.3984 - accuracy: 0.8337 - val_loss: 0.4085 - val_accuracy: 0.8205\n",
            "Epoch 24/100\n",
            "536/536 [==============================] - 3s 5ms/step - loss: 0.3965 - accuracy: 0.8341 - val_loss: 0.4070 - val_accuracy: 0.8205\n",
            "Epoch 25/100\n",
            "536/536 [==============================] - 2s 4ms/step - loss: 0.3948 - accuracy: 0.8350 - val_loss: 0.4052 - val_accuracy: 0.8213\n",
            "Epoch 26/100\n",
            "536/536 [==============================] - 2s 4ms/step - loss: 0.3931 - accuracy: 0.8356 - val_loss: 0.4036 - val_accuracy: 0.8224\n",
            "Epoch 27/100\n",
            "536/536 [==============================] - 2s 3ms/step - loss: 0.3915 - accuracy: 0.8358 - val_loss: 0.4019 - val_accuracy: 0.8236\n",
            "Epoch 28/100\n",
            "536/536 [==============================] - 3s 6ms/step - loss: 0.3899 - accuracy: 0.8356 - val_loss: 0.4002 - val_accuracy: 0.8243\n",
            "Epoch 29/100\n",
            "536/536 [==============================] - 5s 8ms/step - loss: 0.3882 - accuracy: 0.8373 - val_loss: 0.3985 - val_accuracy: 0.8258\n",
            "Epoch 30/100\n",
            "536/536 [==============================] - 3s 6ms/step - loss: 0.3866 - accuracy: 0.8384 - val_loss: 0.3970 - val_accuracy: 0.8270\n",
            "Epoch 31/100\n",
            "536/536 [==============================] - 2s 3ms/step - loss: 0.3849 - accuracy: 0.8399 - val_loss: 0.3956 - val_accuracy: 0.8266\n",
            "Epoch 32/100\n",
            "536/536 [==============================] - 2s 4ms/step - loss: 0.3834 - accuracy: 0.8391 - val_loss: 0.3943 - val_accuracy: 0.8277\n",
            "Epoch 33/100\n",
            "536/536 [==============================] - 2s 4ms/step - loss: 0.3818 - accuracy: 0.8403 - val_loss: 0.3928 - val_accuracy: 0.8300\n",
            "Epoch 34/100\n",
            "536/536 [==============================] - 2s 3ms/step - loss: 0.3803 - accuracy: 0.8406 - val_loss: 0.3913 - val_accuracy: 0.8296\n",
            "Epoch 35/100\n",
            "536/536 [==============================] - 3s 5ms/step - loss: 0.3786 - accuracy: 0.8414 - val_loss: 0.3901 - val_accuracy: 0.8319\n",
            "Epoch 36/100\n",
            "536/536 [==============================] - 2s 5ms/step - loss: 0.3771 - accuracy: 0.8418 - val_loss: 0.3886 - val_accuracy: 0.8315\n",
            "Epoch 37/100\n",
            "536/536 [==============================] - 2s 3ms/step - loss: 0.3754 - accuracy: 0.8425 - val_loss: 0.3874 - val_accuracy: 0.8319\n",
            "Epoch 38/100\n",
            "536/536 [==============================] - 2s 4ms/step - loss: 0.3737 - accuracy: 0.8438 - val_loss: 0.3864 - val_accuracy: 0.8330\n",
            "Epoch 39/100\n",
            "536/536 [==============================] - 2s 3ms/step - loss: 0.3720 - accuracy: 0.8451 - val_loss: 0.3852 - val_accuracy: 0.8345\n",
            "Epoch 40/100\n",
            "536/536 [==============================] - 2s 3ms/step - loss: 0.3703 - accuracy: 0.8457 - val_loss: 0.3835 - val_accuracy: 0.8349\n",
            "Epoch 41/100\n",
            "536/536 [==============================] - 2s 4ms/step - loss: 0.3684 - accuracy: 0.8475 - val_loss: 0.3821 - val_accuracy: 0.8368\n",
            "Epoch 42/100\n",
            "536/536 [==============================] - 4s 7ms/step - loss: 0.3666 - accuracy: 0.8490 - val_loss: 0.3811 - val_accuracy: 0.8372\n",
            "Epoch 43/100\n",
            "536/536 [==============================] - 2s 4ms/step - loss: 0.3649 - accuracy: 0.8500 - val_loss: 0.3804 - val_accuracy: 0.8368\n",
            "Epoch 44/100\n",
            "536/536 [==============================] - 2s 4ms/step - loss: 0.3635 - accuracy: 0.8502 - val_loss: 0.3790 - val_accuracy: 0.8395\n",
            "Epoch 45/100\n",
            "536/536 [==============================] - 2s 4ms/step - loss: 0.3620 - accuracy: 0.8513 - val_loss: 0.3778 - val_accuracy: 0.8402\n",
            "Epoch 46/100\n",
            "536/536 [==============================] - 2s 4ms/step - loss: 0.3605 - accuracy: 0.8528 - val_loss: 0.3760 - val_accuracy: 0.8413\n",
            "Epoch 47/100\n",
            "536/536 [==============================] - 2s 3ms/step - loss: 0.3589 - accuracy: 0.8526 - val_loss: 0.3743 - val_accuracy: 0.8432\n",
            "Epoch 48/100\n",
            "536/536 [==============================] - 3s 6ms/step - loss: 0.3575 - accuracy: 0.8537 - val_loss: 0.3737 - val_accuracy: 0.8406\n",
            "Epoch 49/100\n",
            "536/536 [==============================] - 2s 4ms/step - loss: 0.3561 - accuracy: 0.8543 - val_loss: 0.3728 - val_accuracy: 0.8413\n",
            "Epoch 50/100\n",
            "536/536 [==============================] - 1s 3ms/step - loss: 0.3547 - accuracy: 0.8558 - val_loss: 0.3720 - val_accuracy: 0.8425\n",
            "Epoch 51/100\n",
            "536/536 [==============================] - 2s 3ms/step - loss: 0.3533 - accuracy: 0.8559 - val_loss: 0.3711 - val_accuracy: 0.8432\n",
            "Epoch 52/100\n",
            "536/536 [==============================] - 2s 3ms/step - loss: 0.3523 - accuracy: 0.8569 - val_loss: 0.3701 - val_accuracy: 0.8448\n",
            "Epoch 53/100\n",
            "536/536 [==============================] - 2s 3ms/step - loss: 0.3509 - accuracy: 0.8563 - val_loss: 0.3693 - val_accuracy: 0.8451\n",
            "Epoch 54/100\n",
            "536/536 [==============================] - 2s 3ms/step - loss: 0.3499 - accuracy: 0.8586 - val_loss: 0.3689 - val_accuracy: 0.8474\n",
            "Epoch 55/100\n",
            "536/536 [==============================] - 3s 5ms/step - loss: 0.3486 - accuracy: 0.8586 - val_loss: 0.3683 - val_accuracy: 0.8485\n",
            "Epoch 56/100\n",
            "536/536 [==============================] - 3s 6ms/step - loss: 0.3473 - accuracy: 0.8606 - val_loss: 0.3672 - val_accuracy: 0.8482\n",
            "Epoch 57/100\n",
            "536/536 [==============================] - 2s 3ms/step - loss: 0.3460 - accuracy: 0.8597 - val_loss: 0.3667 - val_accuracy: 0.8497\n",
            "Epoch 58/100\n",
            "536/536 [==============================] - 2s 4ms/step - loss: 0.3451 - accuracy: 0.8617 - val_loss: 0.3663 - val_accuracy: 0.8497\n",
            "Epoch 59/100\n",
            "536/536 [==============================] - 2s 3ms/step - loss: 0.3442 - accuracy: 0.8623 - val_loss: 0.3654 - val_accuracy: 0.8504\n",
            "Epoch 60/100\n",
            "536/536 [==============================] - 2s 4ms/step - loss: 0.3432 - accuracy: 0.8632 - val_loss: 0.3650 - val_accuracy: 0.8504\n",
            "Epoch 61/100\n",
            "536/536 [==============================] - 2s 4ms/step - loss: 0.3424 - accuracy: 0.8625 - val_loss: 0.3648 - val_accuracy: 0.8504\n",
            "Epoch 62/100\n",
            "536/536 [==============================] - 3s 6ms/step - loss: 0.3418 - accuracy: 0.8632 - val_loss: 0.3639 - val_accuracy: 0.8516\n",
            "Epoch 63/100\n",
            "536/536 [==============================] - 2s 3ms/step - loss: 0.3410 - accuracy: 0.8643 - val_loss: 0.3635 - val_accuracy: 0.8519\n",
            "Epoch 64/100\n",
            "536/536 [==============================] - 2s 3ms/step - loss: 0.3403 - accuracy: 0.8638 - val_loss: 0.3627 - val_accuracy: 0.8508\n",
            "Epoch 65/100\n",
            "536/536 [==============================] - 2s 4ms/step - loss: 0.3396 - accuracy: 0.8647 - val_loss: 0.3624 - val_accuracy: 0.8519\n",
            "Epoch 66/100\n",
            "536/536 [==============================] - 2s 3ms/step - loss: 0.3388 - accuracy: 0.8628 - val_loss: 0.3618 - val_accuracy: 0.8538\n",
            "Epoch 67/100\n",
            "536/536 [==============================] - 2s 3ms/step - loss: 0.3381 - accuracy: 0.8638 - val_loss: 0.3613 - val_accuracy: 0.8531\n",
            "Epoch 68/100\n",
            "536/536 [==============================] - 2s 4ms/step - loss: 0.3375 - accuracy: 0.8636 - val_loss: 0.3604 - val_accuracy: 0.8550\n",
            "Epoch 69/100\n",
            "536/536 [==============================] - 3s 5ms/step - loss: 0.3373 - accuracy: 0.8632 - val_loss: 0.3602 - val_accuracy: 0.8538\n",
            "Epoch 70/100\n",
            "536/536 [==============================] - 2s 4ms/step - loss: 0.3366 - accuracy: 0.8636 - val_loss: 0.3606 - val_accuracy: 0.8538\n",
            "Epoch 71/100\n",
            "536/536 [==============================] - 2s 3ms/step - loss: 0.3362 - accuracy: 0.8625 - val_loss: 0.3598 - val_accuracy: 0.8550\n",
            "Epoch 72/100\n",
            "536/536 [==============================] - 2s 4ms/step - loss: 0.3361 - accuracy: 0.8621 - val_loss: 0.3594 - val_accuracy: 0.8550\n",
            "Epoch 73/100\n",
            "536/536 [==============================] - 2s 4ms/step - loss: 0.3357 - accuracy: 0.8632 - val_loss: 0.3593 - val_accuracy: 0.8538\n",
            "Epoch 74/100\n",
            "536/536 [==============================] - 2s 4ms/step - loss: 0.3352 - accuracy: 0.8638 - val_loss: 0.3595 - val_accuracy: 0.8527\n",
            "Epoch 75/100\n",
            "536/536 [==============================] - 4s 7ms/step - loss: 0.3352 - accuracy: 0.8627 - val_loss: 0.3591 - val_accuracy: 0.8538\n",
            "Epoch 76/100\n",
            "536/536 [==============================] - 2s 3ms/step - loss: 0.3348 - accuracy: 0.8643 - val_loss: 0.3587 - val_accuracy: 0.8538\n",
            "Epoch 77/100\n",
            "536/536 [==============================] - 2s 4ms/step - loss: 0.3345 - accuracy: 0.8636 - val_loss: 0.3585 - val_accuracy: 0.8546\n",
            "Epoch 78/100\n",
            "536/536 [==============================] - 2s 3ms/step - loss: 0.3343 - accuracy: 0.8651 - val_loss: 0.3584 - val_accuracy: 0.8550\n",
            "Epoch 79/100\n",
            "536/536 [==============================] - 2s 4ms/step - loss: 0.3342 - accuracy: 0.8649 - val_loss: 0.3580 - val_accuracy: 0.8554\n",
            "Epoch 80/100\n",
            "536/536 [==============================] - 2s 3ms/step - loss: 0.3339 - accuracy: 0.8645 - val_loss: 0.3579 - val_accuracy: 0.8554\n",
            "Epoch 81/100\n",
            "536/536 [==============================] - 3s 5ms/step - loss: 0.3337 - accuracy: 0.8645 - val_loss: 0.3584 - val_accuracy: 0.8554\n",
            "Epoch 82/100\n",
            "536/536 [==============================] - 4s 7ms/step - loss: 0.3336 - accuracy: 0.8645 - val_loss: 0.3578 - val_accuracy: 0.8550\n",
            "Epoch 83/100\n",
            "536/536 [==============================] - 3s 5ms/step - loss: 0.3334 - accuracy: 0.8643 - val_loss: 0.3578 - val_accuracy: 0.8554\n",
            "Epoch 84/100\n",
            "536/536 [==============================] - 2s 4ms/step - loss: 0.3331 - accuracy: 0.8649 - val_loss: 0.3575 - val_accuracy: 0.8538\n",
            "Epoch 85/100\n",
            "536/536 [==============================] - 2s 3ms/step - loss: 0.3332 - accuracy: 0.8642 - val_loss: 0.3575 - val_accuracy: 0.8569\n",
            "Epoch 86/100\n",
            "536/536 [==============================] - 2s 3ms/step - loss: 0.3329 - accuracy: 0.8655 - val_loss: 0.3574 - val_accuracy: 0.8554\n",
            "Epoch 87/100\n",
            "536/536 [==============================] - 2s 4ms/step - loss: 0.3328 - accuracy: 0.8653 - val_loss: 0.3575 - val_accuracy: 0.8554\n",
            "Epoch 88/100\n",
            "536/536 [==============================] - 2s 5ms/step - loss: 0.3325 - accuracy: 0.8651 - val_loss: 0.3571 - val_accuracy: 0.8561\n",
            "Epoch 89/100\n",
            "536/536 [==============================] - 3s 5ms/step - loss: 0.3325 - accuracy: 0.8656 - val_loss: 0.3570 - val_accuracy: 0.8561\n",
            "Epoch 90/100\n",
            "536/536 [==============================] - 2s 4ms/step - loss: 0.3324 - accuracy: 0.8655 - val_loss: 0.3568 - val_accuracy: 0.8561\n",
            "Epoch 91/100\n",
            "536/536 [==============================] - 2s 3ms/step - loss: 0.3323 - accuracy: 0.8649 - val_loss: 0.3567 - val_accuracy: 0.8561\n",
            "Epoch 92/100\n",
            "536/536 [==============================] - 2s 4ms/step - loss: 0.3321 - accuracy: 0.8653 - val_loss: 0.3566 - val_accuracy: 0.8565\n",
            "Epoch 93/100\n",
            "536/536 [==============================] - 2s 4ms/step - loss: 0.3320 - accuracy: 0.8664 - val_loss: 0.3566 - val_accuracy: 0.8554\n",
            "Epoch 94/100\n",
            "536/536 [==============================] - 2s 4ms/step - loss: 0.3319 - accuracy: 0.8668 - val_loss: 0.3567 - val_accuracy: 0.8550\n",
            "Epoch 95/100\n",
            "536/536 [==============================] - 3s 6ms/step - loss: 0.3318 - accuracy: 0.8656 - val_loss: 0.3564 - val_accuracy: 0.8550\n",
            "Epoch 96/100\n",
            "536/536 [==============================] - 2s 4ms/step - loss: 0.3316 - accuracy: 0.8656 - val_loss: 0.3563 - val_accuracy: 0.8557\n",
            "Epoch 97/100\n",
            "536/536 [==============================] - 2s 4ms/step - loss: 0.3316 - accuracy: 0.8649 - val_loss: 0.3561 - val_accuracy: 0.8569\n",
            "Epoch 98/100\n",
            "536/536 [==============================] - 2s 4ms/step - loss: 0.3315 - accuracy: 0.8664 - val_loss: 0.3561 - val_accuracy: 0.8565\n",
            "Epoch 99/100\n",
            "536/536 [==============================] - 2s 4ms/step - loss: 0.3313 - accuracy: 0.8662 - val_loss: 0.3567 - val_accuracy: 0.8546\n",
            "Epoch 100/100\n",
            "536/536 [==============================] - 3s 6ms/step - loss: 0.3312 - accuracy: 0.8656 - val_loss: 0.3562 - val_accuracy: 0.8557\n"
          ]
        }
      ],
      "source": [
        "# Initialising the ANN\n",
        "classifier = Sequential()\n",
        "\n",
        "# Adding the input layer and the first hidden layer\n",
        "classifier.add(Dense(units=6, kernel_initializer='he_uniform', activation='relu', input_dim=11))\n",
        "\n",
        "# Adding the second hidden layer\n",
        "classifier.add(Dense(units=6, kernel_initializer='he_uniform', activation='relu'))\n",
        "\n",
        "# Adding the output layer\n",
        "classifier.add(Dense(units=1, kernel_initializer='glorot_uniform', activation='sigmoid'))\n",
        "\n",
        "# Compiling the ANN\n",
        "classifier.compile(optimizer='Adamax', loss='binary_crossentropy', metrics=['accuracy'])\n",
        "\n",
        "# Fitting the ANN to the Training set\n",
        "model_history = classifier.fit(X_train, y_train, validation_split=0.33, batch_size=10, epochs=100)\n"
      ]
    },
    {
      "cell_type": "code",
      "execution_count": 21,
      "metadata": {
        "colab": {
          "base_uri": "https://localhost:8080/",
          "height": 489
        },
        "id": "MgpEGU642-jC",
        "outputId": "ca0560a4-5678-47f8-84c6-2926c9da8902"
      },
      "outputs": [
        {
          "name": "stdout",
          "output_type": "stream",
          "text": [
            "dict_keys(['loss', 'accuracy', 'val_loss', 'val_accuracy'])\n"
          ]
        },
        {
          "data": {
            "image/png": "[encoded data removed]",
            "text/plain": [
              "<Figure size 640x480 with 1 Axes>"
            ]
          },
          "metadata": {},
          "output_type": "display_data"
        }
      ],
      "source": [
        "# List all data in history\n",
        "print(model_history.history.keys())\n",
        "\n",
        "# Summarize history for accuracy\n",
        "plt.plot(model_history.history['val_accuracy'])  # Using 'val_accuracy' for validation accuracy\n",
        "plt.plot(model_history.history['accuracy'])      # Using 'accuracy' for training accuracy\n",
        "plt.title('Model Accuracy')\n",
        "plt.ylabel('Accuracy')\n",
        "plt.xlabel('Epoch')\n",
        "plt.legend(['Validation', 'Training'], loc='upper left')\n",
        "plt.show()"
      ]
    },
    {
      "cell_type": "code",
      "execution_count": 22,
      "metadata": {
        "colab": {
          "base_uri": "https://localhost:8080/",
          "height": 472
        },
        "id": "whTXp17l3dJ1",
        "outputId": "1dd0b112-2735-44a8-e47e-045a7358acbc"
      },
      "outputs": [
        {
          "data": {
            "image/png": "[encoded data removed]",
            "text/plain": [
              "<Figure size 640x480 with 1 Axes>"
            ]
          },
          "metadata": {},
          "output_type": "display_data"
        }
      ],
      "source": [
        "# summarize history for loss\n",
        "plt.plot(model_history.history['loss'])\n",
        "plt.plot(model_history.history['val_loss'])\n",
        "plt.title('model loss')\n",
        "plt.ylabel('loss')\n",
        "plt.xlabel('epoch')\n",
        "plt.legend(['train', 'test'], loc='upper left')\n",
        "plt.show()"
      ]
    },
    {
      "cell_type": "code",
      "execution_count": 23,
      "metadata": {
        "colab": {
          "base_uri": "https://localhost:8080/"
        },
        "id": "aQEdT5143eRd",
        "outputId": "83487579-470b-4dc7-c66f-6ed167f5cae3"
      },
      "outputs": [
        {
          "name": "stdout",
          "output_type": "stream",
          "text": [
            "63/63 [==============================] - 0s 2ms/step\n"
          ]
        }
      ],
      "source": [
        "# Part 3 - Making the predictions and evaluating the model\n",
        "\n",
        "# Predicting the Test set results\n",
        "y_pred = classifier.predict(X_test)\n",
        "y_pred = (y_pred > 0.5)\n"
      ]
    },
    {
      "cell_type": "code",
      "execution_count": 26,
      "metadata": {
        "colab": {
          "base_uri": "https://localhost:8080/"
        },
        "id": "qHwX0VoB3kF8",
        "outputId": "9d7a2560-6874-46c8-e6ed-a811a7e2236c"
      },
      "outputs": [
        {
          "data": {
            "text/plain": [
              "array([[1509,   86],\n",
              "       [ 191,  214]])"
            ]
          },
          "execution_count": 26,
          "metadata": {},
          "output_type": "execute_result"
        }
      ],
      "source": [
        "# Making the Confusion Matrix\n",
        "from sklearn.metrics import confusion_matrix\n",
        "cm = confusion_matrix(y_test, y_pred)\n",
        "cm"
      ]
    },
    {
      "cell_type": "code",
      "execution_count": 27,
      "metadata": {
        "colab": {
          "base_uri": "https://localhost:8080/"
        },
        "id": "uscO82qe3ldi",
        "outputId": "bce61568-2c50-4eb3-9c91-4a0d737a828c"
      },
      "outputs": [
        {
          "data": {
            "text/plain": [
              "0.8615"
            ]
          },
          "execution_count": 27,
          "metadata": {},
          "output_type": "execute_result"
        }
      ],
      "source": [
        "# Calculate the Accuracy\n",
        "from sklearn.metrics import accuracy_score\n",
        "score=accuracy_score(y_pred,y_test)\n",
        "score"
      ]
    },
    {
      "cell_type": "code",
      "execution_count": null,
      "metadata": {
        "id": "MwiixHaN5Vex"
      },
      "outputs": [],
      "source": []
    }
  ],
  "metadata": {
    "colab": {
      "provenance": []
    },
    "kernelspec": {
      "display_name": "Python 3",
      "name": "python3"
    },
    "language_info": {
      "name": "python"
    }
  },
  "nbformat": 4,
  "nbformat_minor": 0
}
