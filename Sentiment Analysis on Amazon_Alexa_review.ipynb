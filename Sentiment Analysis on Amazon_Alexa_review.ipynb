<!DOCTYPE html>
<!-- saved from url=(0106)https://colab.research.google.com/drive/1gUxaP4tzRrFzcouV6qd9DYmCT9M1TwLX?authuser=0#scrollTo=3v9tRpNSiq-6 -->
<html lang="en" theme="adaptive" style="--colab-code-font-family: monospace;" editor="Default Light"><head><meta http-equiv="Content-Type" content="text/html; charset=UTF-8"><meta http-equiv="origin-trial" content="Az520Inasey3TAyqLyojQa8MnmCALSEU29yQFW8dePZ7xQTvSt73pHazLFTK5f7SyLUJSo2uKLesEtEa9aUYcgMAAACPeyJvcmlnaW4iOiJodHRwczovL2dvb2dsZS5jb206NDQzIiwiZmVhdHVyZSI6IkRpc2FibGVUaGlyZFBhcnR5U3RvcmFnZVBhcnRpdGlvbmluZyIsImV4cGlyeSI6MTcyNTQwNzk5OSwiaXNTdWJkb21haW4iOnRydWUsImlzVGhpcmRQYXJ0eSI6dHJ1ZX0="><meta http-equiv="origin-trial" content="Az520Inasey3TAyqLyojQa8MnmCALSEU29yQFW8dePZ7xQTvSt73pHazLFTK5f7SyLUJSo2uKLesEtEa9aUYcgMAAACPeyJvcmlnaW4iOiJodHRwczovL2dvb2dsZS5jb206NDQzIiwiZmVhdHVyZSI6IkRpc2FibGVUaGlyZFBhcnR5U3RvcmFnZVBhcnRpdGlvbmluZyIsImV4cGlyeSI6MTcyNTQwNzk5OSwiaXNTdWJkb21haW4iOnRydWUsImlzVGhpcmRQYXJ0eSI6dHJ1ZX0="><style>body {transition: opacity ease-in 0.2s; } 
body[unresolved] {opacity: 0; display: block; overflow: hidden; position: relative; } 
</style><script type="text/javascript" async="" src="./Sentiment Analysis on Amazon_Alexa_review_files/recaptcha__en.js.download" crossorigin="anonymous" integrity="sha384-NrxlLtZ4CAsefOJz4XJsZ/b3K5PA9SfPh3SYVEwJrcs16BKCT8dvFHl826TN141b" nonce=""></script><script type="text/javascript" async="" src="./Sentiment Analysis on Amazon_Alexa_review_files/recaptcha__en.js.download" crossorigin="anonymous" integrity="sha384-NrxlLtZ4CAsefOJz4XJsZ/b3K5PA9SfPh3SYVEwJrcs16BKCT8dvFHl826TN141b" nonce=""></script><script src="./Sentiment Analysis on Amazon_Alexa_review_files/cb=gapi.loaded_1" nonce="" async=""></script><script src="./Sentiment Analysis on Amazon_Alexa_review_files/cb=gapi.loaded_0" nonce="" async=""></script><script async="" src="./Sentiment Analysis on Amazon_Alexa_review_files/analytics.js.download"></script><script nonce="">
      document.addEventListener('keydown', (e) => {
        // Stop propagation on ESC because otherwise it will halt outbound XHRs
        // See b/131755324 for more info.
        if (e.key === 'Escape') {
          e.stopPropagation();
          e.preventDefault();
        }
      });
    </script><meta name="referrer" content="origin"><meta name="viewport" content="width=device-width, initial-scale=1"><title>Untitled24.ipynb - Colaboratory</title><link href="./Sentiment Analysis on Amazon_Alexa_review_files/css2" rel="stylesheet"><link href="./Sentiment Analysis on Amazon_Alexa_review_files/css" rel="stylesheet"><link rel="search" type="application/opensearchdescription+xml" href="https://colab.research.google.com/opensearch.xml" title="Google Colaboratory"><style>.gb_gb:not(.gb_id){font:13px/27px Roboto,Arial,sans-serif;z-index:986}@-webkit-keyframes gb__a{0%{opacity:0}50%{opacity:1}}@keyframes gb__a{0%{opacity:0}50%{opacity:1}}a.gb_xa{border:none;color:#4285f4;cursor:default;font-weight:bold;outline:none;position:relative;text-align:center;text-decoration:none;text-transform:uppercase;white-space:nowrap;-webkit-user-select:none}a.gb_xa:hover:after,a.gb_xa:focus:after{background-color:rgba(0,0,0,.12);content:"";height:100%;left:0;position:absolute;top:0;width:100%}a.gb_xa:hover,a.gb_xa:focus{text-decoration:none}a.gb_xa:active{background-color:rgba(153,153,153,.4);text-decoration:none}a.gb_ya{background-color:#4285f4;color:#fff}a.gb_ya:active{background-color:#0043b2}.gb_za{box-shadow:0 1px 1px rgba(0,0,0,.16)}.gb_xa,.gb_ya,.gb_Aa,.gb_Ba{display:inline-block;line-height:28px;padding:0 12px;border-radius:2px}.gb_Aa{background:#f8f8f8;border:1px solid #c6c6c6}.gb_Ba{background:#f8f8f8}.gb_Aa,#gb a.gb_Aa.gb_Aa,.gb_Ba{color:#666;cursor:default;text-decoration:none}#gb a.gb_Ba{cursor:default;text-decoration:none}.gb_Ba{border:1px solid #4285f4;font-weight:bold;outline:none;background:#4285f4;background:-webkit-gradient(linear,left top,left bottom,from(top),color-stop(#4387fd),to(#4683ea));background:-webkit-linear-gradient(top,#4387fd,#4683ea);background:linear-gradient(top,#4387fd,#4683ea);filter:progid:DXImageTransform.Microsoft.gradient(startColorstr=#4387fd,endColorstr=#4683ea,GradientType=0)}#gb a.gb_Ba{color:#fff}.gb_Ba:hover{box-shadow:0 1px 0 rgba(0,0,0,.15)}.gb_Ba:active{box-shadow:inset 0 2px 0 rgba(0,0,0,.15);background:#3c78dc;background:-webkit-gradient(linear,left top,left bottom,from(top),color-stop(#3c7ae4),to(#3f76d3));background:-webkit-linear-gradient(top,#3c7ae4,#3f76d3);background:linear-gradient(top,#3c7ae4,#3f76d3);filter:progid:DXImageTransform.Microsoft.gradient(startColorstr=#3c7ae4,endColorstr=#3f76d3,GradientType=0)}#gb .gb_Ca{background:#fff;border:1px solid #dadce0;color:#1a73e8;display:inline-block;text-decoration:none}#gb .gb_Ca:hover{background:#f8fbff;border-color:#dadce0;color:#174ea6}#gb .gb_Ca:focus{background:#f4f8ff;color:#174ea6;outline:1px solid #174ea6}#gb .gb_Ca:active,#gb .gb_Ca:focus:active{background:#ecf3fe;color:#174ea6}#gb .gb_Ca.gb_i{background:transparent;border:1px solid #5f6368;color:#8ab4f8;text-decoration:none}#gb .gb_Ca.gb_i:hover{background:rgba(255,255,255,.04);color:#e8eaed}#gb .gb_Ca.gb_i:focus{background:rgba(232,234,237,.12);color:#e8eaed;outline:1px solid #e8eaed}#gb .gb_Ca.gb_i:active,#gb .gb_Ca.gb_i:focus:active{background:rgba(232,234,237,.1);color:#e8eaed}.gb_p{display:none!important}.gb_1a{visibility:hidden}.gb_w{display:inline-block;vertical-align:middle}.gb_Rd .gb_o{bottom:-3px;right:-5px}.gb_f{position:relative}.gb_d{display:inline-block;outline:none;vertical-align:middle;border-radius:2px;box-sizing:border-box;height:40px;width:40px;cursor:pointer;text-decoration:none}#gb#gb a.gb_d{cursor:pointer;text-decoration:none}.gb_d,a.gb_d{color:#000}.gb_hf{border-color:transparent;border-bottom-color:#fff;border-style:dashed dashed solid;border-width:0 8.5px 8.5px;display:none;position:absolute;left:11.5px;top:33px;z-index:1;height:0;width:0;-webkit-animation:gb__a .2s;animation:gb__a .2s}.gb_if{border-color:transparent;border-style:dashed dashed solid;border-width:0 8.5px 8.5px;display:none;position:absolute;left:11.5px;z-index:1;height:0;width:0;-webkit-animation:gb__a .2s;animation:gb__a .2s;border-bottom-color:rgba(0,0,0,.2);top:32px}x:-o-prefocus,div.gb_if{border-bottom-color:#ccc}.gb_5{background:#fff;border:1px solid #ccc;border-color:rgba(0,0,0,.2);color:#000;-webkit-box-shadow:0 2px 10px rgba(0,0,0,.2);box-shadow:0 2px 10px rgba(0,0,0,.2);display:none;outline:none;overflow:hidden;position:absolute;right:8px;top:62px;-webkit-animation:gb__a .2s;animation:gb__a .2s;border-radius:2px;-webkit-user-select:text}.gb_w.gb_La .gb_hf,.gb_w.gb_La .gb_if,.gb_w.gb_La .gb_5,.gb_La.gb_5{display:block}.gb_w.gb_La.gb_jf .gb_hf,.gb_w.gb_La.gb_jf .gb_if{display:none}.gb_Sd{position:absolute;right:8px;top:62px;z-index:-1}.gb_7a .gb_hf,.gb_7a .gb_if,.gb_7a .gb_5{margin-top:-10px}.gb_w:first-child,#gbsfw:first-child+.gb_w{padding-left:4px}.gb_Pa.gb_Td .gb_w:first-child{padding-left:0}.gb_Ud{position:relative}.gb_t.gb_Bd.gb_eb.gb_qd{margin:0 12px;padding:0}.gb_t .gb_d{position:relative}.gb_t .gb_w{margin:0 4px;padding:4px}.gb_t .gb_Vd{display:inline-block}.gb_t a.gb_md{-webkit-box-align:center;-webkit-align-items:center;-webkit-align-items:center;align-items:center;-webkit-border-radius:100px;border-radius:100px;border:0;background:#0b57d0;color:#fff;display:-webkit-inline-box;display:-webkit-inline-flex;display:-webkit-inline-box;display:-webkit-inline-flex;display:inline-flex;font-size:14px;font-weight:500;height:40px;white-space:nowrap;width:auto}.gb_t a.gb_d.gb_md{margin:0 4px;padding:4px 24px 4px 24px}.gb_t a.gb_md.gb_Wd{padding:9px 12px 9px 16px}.gb_t a.gb_md.gb_Xd{background:transparent;border:1px solid #747775;color:#0b57d0;outline:0}.gb_t .gb_s{fill:#0b57d0}.gb_t .gb_Zd{fill:#0b57d0;margin-left:8px}.gb_t .gb_Zd circle{fill:#fff}.gb_t .gb_md .gb_Kd{-webkit-box-flex:1;-webkit-flex-grow:1;-webkit-box-flex:1;box-flex:1;-webkit-flex-grow:1;flex-grow:1;text-align:center}.gb_t .gb_md:hover{background:#3763cd}.gb_t .gb_md:hover .gb_Zd{fill:#3763cd}.gb_t .gb_md:focus,.gb_t .gb_md:active,.gb_t .gb_md:focus:hover,.gb_t .gb_md[aria-expanded=true],.gb_t .gb_md:hover[aria-expanded=true]{background:#416acf}.gb_t .gb_md:focus .gb_Zd,.gb_t .gb_md:active .gb_Zd,.gb_t .gb_md:focus:hover .gb_Zd,.gb_t .gb_md[aria-expanded=true] .gb_Zd,.gb_t .gb_md:hover[aria-expanded=true] .gb_Zd{fill:#416acf}.gb_t .gb_md:focus,.gb_t .gb_md:active,.gb_t .gb_md[aria-expanded=true]{-webkit-box-shadow:0 1px 3px 1px rgba(66,64,67,.15),0 1px 2px 0 rgba(60,64,67,.3);box-shadow:0 1px 3px 1px rgba(66,64,67,.15),0 1px 2px 0 rgba(60,64,67,.3)}.gb_t .gb_md:focus-visible{outline:1px solid #416acf;outline-offset:2px}.gb_t .gb_Fa:focus-visible{outline:1px solid #416acf}.gb_t .gb_i.gb_md{background:#a8c7fa;color:#062e6f}.gb_t .gb_i.gb_md .gb_Zd{fill:#a8c7fa}.gb_t .gb_i.gb_md .gb_Zd circle{fill:#062e6f}.gb_t .gb_i.gb_md:hover{background:#b4cbf6}.gb_t .gb_i.gb_md:hover .gb_Zd{fill:#b4cbf6}.gb_t .gb_i.gb_md:focus,.gb_t .gb_i.gb_md:focus:hover,.gb_t .gb_i.gb_md:active,.gb_t .gb_i.gb_md[aria-expanded=true],.gb_t .gb_i.gb_md:hover[aria-expanded=true]{background:#b8cdf7}.gb_t .gb_i.gb_md:focus .gb_Zd,.gb_t .gb_i.gb_md:focus:hover .gb_Zd,.gb_t .gb_i.gb_md:active .gb_Zd,.gb_t .gb_i.gb_md[aria-expanded=true] .gb_Zd,.gb_t .gb_i.gb_md:hover[aria-expanded=true] .gb_Zd{fill:#b8cdf7}.gb_t .gb_i.gb_md:focus-visible{outline-color:#b8cdf7}.gb_t .gb_i.gb_md:focus,.gb_t .gb_i.gb_md:active,.gb_t .gb_i.gb_md[aria-expanded=true]{-webkit-box-shadow:0 1px 3px 1px rgba(66,64,67,.15),0 1px 2px 0 rgba(60,64,67,.3);box-shadow:0 1px 3px 1px rgba(66,64,67,.15),0 1px 2px 0 rgba(60,64,67,.3)}.gb_t .gb_md.gb_Xd:hover,.gb_t .gb_md.gb_Xd:focus,.gb_t .gb_md.gb_Xd[aria-expanded=true],.gb_t .gb_md.gb_Xd:hover[aria-expanded=true]{background:rgba(11,87,208,.08);-webkit-box-shadow:none;box-shadow:none}.gb_t .gb_md.gb_Xd:active{background:rgba(11,87,208,.12);-webkit-box-shadow:none;box-shadow:none}.gb_t .gb_md.gb_Xd:focus-visible{border-color:#0b57d0;outline:0}.gb_t .gb_i.gb_md.gb_Xd{background:transparent;color:#a8c7fa}.gb_t .gb_i.gb_md.gb_Xd:hover,.gb_t .gb_i.gb_md.gb_Xd:focus,.gb_t .gb_i.gb_md.gb_Xd[aria-expanded=true],.gb_t .gb_i.gb_md.gb_Xd:hover[aria-expanded=true]{background:rgba(168,199,250,.08);-webkit-box-shadow:none;box-shadow:none}.gb_t .gb_i.gb_md.gb_Xd:active{background:rgba(168,199,250,.12);-webkit-box-shadow:none;box-shadow:none}.gb_t .gb_i.gb_md.gb_Xd:focus-visible{border-color:#a8c7fa;outline:0}.gb_i .gb_t .gb_s{fill:#a8c7fa}.gb_i .gb_t .gb_Fa:focus-visible{outline-color:#a8c7fa}.gb_5c .gb_Ud,.gb_ld .gb_Ud{float:right}.gb_d{padding:8px;cursor:pointer}.gb_d:after{content:"";position:absolute;top:-4px;bottom:-4px;left:-4px;right:-4px}.gb_Pa .gb_me:not(.gb_xa):focus img{background-color:rgba(0,0,0,.2);outline:none;-webkit-border-radius:50%;border-radius:50%}.gb_0d button svg,.gb_d{-webkit-border-radius:50%;border-radius:50%}.gb_0d button:focus:not(:focus-visible) svg,.gb_0d button:hover svg,.gb_0d button:active svg,.gb_d:focus:not(:focus-visible),.gb_d:hover,.gb_d:active,.gb_d[aria-expanded=true]{outline:none}.gb_Oc .gb_0d.gb_ve button:focus-visible svg,.gb_0d button:focus-visible svg,.gb_d:focus-visible{outline:1px solid #202124}.gb_Oc .gb_0d button:focus-visible svg,.gb_Oc .gb_d:focus-visible{outline:1px solid #f1f3f4}@media (forced-colors:active){.gb_Oc .gb_0d.gb_ve button:focus-visible svg,.gb_0d button:focus-visible svg,.gb_Oc .gb_0d button:focus-visible svg{outline:1px solid currentcolor}}.gb_Oc .gb_0d.gb_ve button:focus svg,.gb_Oc .gb_0d.gb_ve button:focus:hover svg,.gb_0d button:focus svg,.gb_0d button:focus:hover svg,.gb_d:focus,.gb_d:focus:hover{background-color:rgba(60,64,67,.1)}.gb_Oc .gb_0d.gb_ve button:active svg,.gb_0d button:active svg,.gb_d:active{background-color:rgba(60,64,67,.12)}.gb_Oc .gb_0d.gb_ve button:hover svg,.gb_0d button:hover svg,.gb_d:hover{background-color:rgba(60,64,67,.08)}.gb_Da .gb_d.gb_Fa:hover{background-color:transparent}.gb_d[aria-expanded=true],.gb_d:hover[aria-expanded=true]{background-color:rgba(95,99,104,.24)}.gb_d[aria-expanded=true] .gb_h{fill:#5f6368;opacity:1}.gb_Oc .gb_0d button:hover svg,.gb_Oc .gb_d:hover{background-color:rgba(232,234,237,.08)}.gb_Oc .gb_0d button:focus svg,.gb_Oc .gb_0d button:focus:hover svg,.gb_Oc .gb_d:focus,.gb_Oc .gb_d:focus:hover{background-color:rgba(232,234,237,.1)}.gb_Oc .gb_0d button:active svg,.gb_Oc .gb_d:active{background-color:rgba(232,234,237,.12)}.gb_Oc .gb_d[aria-expanded=true],.gb_Oc .gb_d:hover[aria-expanded=true]{background-color:rgba(255,255,255,.12)}.gb_Oc .gb_d[aria-expanded=true] .gb_h{fill:#fff;opacity:1}.gb_w{padding:4px}.gb_Pa.gb_Td .gb_w{padding:4px 2px}.gb_Pa.gb_Td .gb_b.gb_w{padding-left:6px}.gb_5{z-index:991;line-height:normal}.gb_5.gb_1d{left:0;right:auto}@media (max-width:350px){.gb_5.gb_1d{left:0}}.gb_2d .gb_5{top:56px}.gb_k .gb_d,.gb_4 .gb_k .gb_d{background-position:-64px -29px}.gb_K .gb_k .gb_d{background-position:-29px -29px;opacity:1}.gb_k .gb_d,.gb_k .gb_d:hover,.gb_k .gb_d:focus{opacity:1}.gb_jd{display:none}@media screen and (max-width:319px){.gb_rd:not(.gb_wd) .gb_k{display:none;visibility:hidden}}.gb_o{display:none}.gb_dd{font-family:Google Sans,Roboto,Helvetica,Arial,sans-serif;font-size:20px;font-weight:400;letter-spacing:0.25px;line-height:48px;margin-bottom:2px;opacity:1;overflow:hidden;padding-left:16px;position:relative;text-overflow:ellipsis;vertical-align:middle;top:2px;white-space:nowrap;-webkit-flex:1 1 auto;-webkit-box-flex:1;flex:1 1 auto}.gb_dd.gb_ed{color:#3c4043}.gb_Pa.gb_Qa .gb_dd{margin-bottom:0}.gb_fd.gb_gd .gb_dd{padding-left:4px}.gb_Pa.gb_Qa .gb_hd{position:relative;top:-2px}.gb_Pa{color:black;min-width:160px;position:relative;-webkit-transition:box-shadow 250ms;transition:box-shadow 250ms}.gb_Pa.gb_Wc{min-width:120px}.gb_Pa.gb_pd .gb_qd{display:none}.gb_Pa.gb_pd .gb_rd{height:56px}header.gb_Pa{display:block}.gb_Pa svg{fill:currentColor}.gb_sd{position:fixed;top:0;width:100%}.gb_td{-webkit-box-shadow:0 4px 5px 0 rgba(0,0,0,.14),0 1px 10px 0 rgba(0,0,0,.12),0 2px 4px -1px rgba(0,0,0,.2);box-shadow:0 4px 5px 0 rgba(0,0,0,.14),0 1px 10px 0 rgba(0,0,0,.12),0 2px 4px -1px rgba(0,0,0,.2)}.gb_ud{height:64px}.gb_rd{-webkit-box-sizing:border-box;box-sizing:border-box;position:relative;width:100%;display:-webkit-box;display:-webkit-flex;display:flex;-webkit-box-pack:space-between;-webkit-justify-content:space-between;justify-content:space-between;min-width:-webkit-min-content;min-width:min-content}.gb_Pa:not(.gb_Qa) .gb_rd{padding:8px}.gb_Pa.gb_vd .gb_rd{-webkit-flex:1 0 auto;-webkit-box-flex:1;flex:1 0 auto}.gb_Pa .gb_rd.gb_wd.gb_xd{min-width:0}.gb_Pa.gb_Qa .gb_rd{padding:4px;padding-left:8px;min-width:0}.gb_qd{height:48px;vertical-align:middle;white-space:nowrap;-webkit-box-align:center;-webkit-align-items:center;align-items:center;display:-webkit-box;display:-webkit-flex;display:flex;-webkit-user-select:none}.gb_zd>.gb_qd{display:table-cell;width:100%}.gb_fd{padding-right:30px;box-sizing:border-box;-webkit-flex:1 0 auto;-webkit-box-flex:1;flex:1 0 auto}.gb_Pa.gb_Qa .gb_fd{padding-right:14px}.gb_Ad{-webkit-flex:1 1 100%;-webkit-box-flex:1;flex:1 1 100%}.gb_Ad>:only-child{display:inline-block}.gb_Bd.gb_6c{padding-left:4px}.gb_Bd.gb_Cd,.gb_Pa.gb_vd .gb_Bd,.gb_Pa.gb_Qa:not(.gb_ld) .gb_Bd{padding-left:0}.gb_Pa.gb_Qa .gb_Bd.gb_Cd{padding-right:0}.gb_Pa.gb_Qa .gb_Bd.gb_Cd .gb_Da{margin-left:10px}.gb_6c{display:inline}.gb_Pa.gb_0c .gb_Bd.gb_Dd,.gb_Pa.gb_ld .gb_Bd.gb_Dd{padding-left:2px}.gb_dd{display:inline-block}.gb_Bd{-webkit-box-sizing:border-box;box-sizing:border-box;height:48px;line-height:normal;padding:0 4px;padding-left:30px;-webkit-flex:0 0 auto;-webkit-box-flex:0;flex:0 0 auto;-webkit-box-pack:flex-end;-webkit-justify-content:flex-end;justify-content:flex-end}.gb_ld{height:48px}.gb_Pa.gb_ld{min-width:auto}.gb_ld .gb_Bd{float:right;padding-left:32px}.gb_ld .gb_Bd.gb_Ed{padding-left:0}.gb_Fd{font-size:14px;max-width:200px;overflow:hidden;padding:0 12px;text-overflow:ellipsis;white-space:nowrap;-webkit-user-select:text}.gb_kd{-webkit-transition:background-color .4s;-webkit-transition:background-color .4s;transition:background-color .4s}.gb_Md{color:black}.gb_Oc{color:white}.gb_Pa a,.gb_Tc a{color:inherit}.gb_U{color:rgba(0,0,0,.87)}.gb_Pa svg,.gb_Tc svg,.gb_fd .gb_od,.gb_5c .gb_od{color:#5f6368;opacity:1}.gb_Oc svg,.gb_Tc.gb_Xc svg,.gb_Oc .gb_fd .gb_od,.gb_Oc .gb_fd .gb_Nc,.gb_Oc .gb_fd .gb_hd,.gb_Tc.gb_Xc .gb_od{color:rgba(255,255,255,.87)}.gb_Oc .gb_fd .gb_Mc:not(.gb_Nd){opacity:.87}.gb_ed{color:inherit;opacity:1;text-rendering:optimizeLegibility;-webkit-font-smoothing:antialiased}.gb_Oc .gb_ed,.gb_Md .gb_ed{opacity:1}.gb_Hd{position:relative}.gb_Id{font-family:arial,sans-serif;line-height:normal;padding-right:15px}a.gb_H,span.gb_H{color:rgba(0,0,0,.87);text-decoration:none}.gb_Oc a.gb_H,.gb_Oc span.gb_H{color:white}a.gb_H:focus{outline-offset:2px}a.gb_H:hover{text-decoration:underline}.gb_I{display:inline-block;padding-left:15px}.gb_I .gb_H{display:inline-block;line-height:24px;vertical-align:middle}.gb_Od{font-family:Google Sans,Roboto,Helvetica,Arial,sans-serif;font-weight:500;font-size:14px;letter-spacing:.25px;line-height:16px;margin-left:10px;margin-right:8px;min-width:96px;padding:9px 23px;text-align:center;vertical-align:middle;border-radius:4px;box-sizing:border-box}.gb_Pa.gb_ld .gb_Od{margin-left:8px}#gb a.gb_Ba.gb_Od{cursor:pointer}.gb_Ba.gb_Od:hover{background:#1b66c9;-webkit-box-shadow:0 1px 3px 1px rgba(66,64,67,.15),0 1px 2px 0 rgba(60,64,67,.3);box-shadow:0 1px 3px 1px rgba(66,64,67,.15),0 1px 2px 0 rgba(60,64,67,.3)}.gb_Ba.gb_Od:focus,.gb_Ba.gb_Od:hover:focus{background:#1c5fba;-webkit-box-shadow:0 1px 3px 1px rgba(66,64,67,.15),0 1px 2px 0 rgba(60,64,67,.3);box-shadow:0 1px 3px 1px rgba(66,64,67,.15),0 1px 2px 0 rgba(60,64,67,.3)}.gb_Ba.gb_Od:active{background:#1b63c1;-webkit-box-shadow:0 1px 3px 1px rgba(66,64,67,.15),0 1px 2px 0 rgba(60,64,67,.3);box-shadow:0 1px 3px 1px rgba(66,64,67,.15),0 1px 2px 0 rgba(60,64,67,.3)}.gb_Od{background:#1a73e8;border:1px solid transparent}.gb_Pa.gb_Qa .gb_Od{padding:9px 15px;min-width:80px}.gb_Jd{text-align:left}#gb .gb_Oc a.gb_Od:not(.gb_i),#gb.gb_Oc a.gb_Od:not(.gb_Pd){background:#fff;border-color:#dadce0;-webkit-box-shadow:none;box-shadow:none;color:#1a73e8}#gb a.gb_Ba.gb_i.gb_Od{background:#8ab4f8;border:1px solid transparent;-webkit-box-shadow:none;box-shadow:none;color:#202124}#gb .gb_Oc a.gb_Od:hover:not(.gb_i),#gb.gb_Oc a.gb_Od:not(.gb_Pd):hover{background:#f8fbff;border-color:#cce0fc}#gb a.gb_Ba.gb_i.gb_Od:hover{background:#93baf9;border-color:transparent;-webkit-box-shadow:0 1px 3px 1px rgba(0,0,0,.15),0 1px 2px rgba(0,0,0,.3);box-shadow:0 1px 3px 1px rgba(0,0,0,.15),0 1px 2px rgba(0,0,0,.3)}#gb .gb_Oc a.gb_Od:focus:not(.gb_i),#gb .gb_Oc a.gb_Od:focus:hover:not(.gb_i),#gb.gb_Oc a.gb_Od:focus:not(.gb_i),#gb.gb_Oc a.gb_Od:focus:hover:not(.gb_i){background:#f4f8ff;outline:1px solid #c9ddfc}#gb a.gb_Ba.gb_i.gb_Od:focus,#gb a.gb_Ba.gb_i.gb_Od:focus:hover{background:#a6c6fa;border-color:transparent;-webkit-box-shadow:none;box-shadow:none}#gb .gb_Oc a.gb_Od:active:not(.gb_i),#gb.gb_Oc a.gb_Od:not(.gb_Pd):active{background:#ecf3fe}#gb a.gb_Ba.gb_i.gb_Od:active{background:#a1c3f9;-webkit-box-shadow:0 1px 2px rgba(60,64,67,.3),0 2px 6px 2px rgba(60,64,67,.15);box-shadow:0 1px 2px rgba(60,64,67,.3),0 2px 6px 2px rgba(60,64,67,.15)}.gb_l{display:none}@media screen and (max-width:319px){.gb_rd:not(.gb_wd) .gb_k{display:none;visibility:hidden}}.gb_Da{background-color:rgba(255,255,255,.88);border:1px solid #dadce0;-webkit-box-sizing:border-box;box-sizing:border-box;cursor:pointer;display:inline-block;max-height:48px;overflow:hidden;outline:none;padding:0;vertical-align:middle;width:134px;-webkit-border-radius:8px;border-radius:8px}.gb_Da.gb_i{background-color:transparent;border:1px solid #5f6368}.gb_Ka{display:inherit}.gb_Da.gb_i .gb_Ka{background:#fff;-webkit-border-radius:4px;border-radius:4px;display:inline-block;left:8px;margin-right:5px;position:relative;padding:3px;top:-1px}.gb_Da:hover{border:1px solid #d2e3fc;background-color:rgba(248,250,255,.88)}.gb_Da.gb_i:hover{background-color:rgba(241,243,244,.04);border:1px solid #5f6368}.gb_Da:focus-visible,.gb_Da:focus{background-color:#fff;outline:1px solid #202124;-webkit-box-shadow:0 1px 2px 0 rgba(60,64,67,.3),0 1px 3px 1px rgba(60,64,67,.15);box-shadow:0 1px 2px 0 rgba(60,64,67,.3),0 1px 3px 1px rgba(60,64,67,.15)}.gb_Da.gb_i:focus-visible,.gb_Da.gb_i:focus{background-color:rgba(241,243,244,.12);outline:1px solid #f1f3f4;-webkit-box-shadow:0 1px 3px 1px rgba(0,0,0,.15),0 1px 2px 0 rgba(0,0,0,.3);box-shadow:0 1px 3px 1px rgba(0,0,0,.15),0 1px 2px 0 rgba(0,0,0,.3)}.gb_Da.gb_i:active,.gb_Da.gb_La.gb_i:focus{background-color:rgba(241,243,244,.1);border:1px solid #5f6368}.gb_Ma{display:inline-block;padding-bottom:2px;padding-left:7px;padding-top:2px;text-align:center;vertical-align:middle;line-height:32px;width:78px}.gb_Da.gb_i .gb_Ma{line-height:26px;margin-left:0;padding-bottom:0;padding-left:0;padding-top:0;width:72px}.gb_Ma.gb_Na{background-color:#f1f3f4;-webkit-border-radius:4px;border-radius:4px;margin-left:8px;padding-left:0;line-height:30px}.gb_Ma.gb_Na .gb_Oa{vertical-align:middle}.gb_Pa:not(.gb_Qa) .gb_Da{margin-left:10px;margin-right:4px}.gb_Ra{max-height:32px;width:78px}.gb_Da.gb_i .gb_Ra{max-height:26px;width:72px}.gb_n{-webkit-background-size:32px 32px;background-size:32px 32px;border:0;-webkit-border-radius:50%;border-radius:50%;display:block;margin:0px;position:relative;height:32px;width:32px;z-index:0}.gb_2a{background-color:#e8f0fe;border:1px solid rgba(32,33,36,.08);position:relative}.gb_2a.gb_n{height:30px;width:30px}.gb_2a.gb_n:hover,.gb_2a.gb_n:active{-webkit-box-shadow:none;box-shadow:none}.gb_3a{background:#fff;border:none;-webkit-border-radius:50%;border-radius:50%;bottom:2px;-webkit-box-shadow:0px 1px 2px 0px rgba(60,64,67,.30),0px 1px 3px 1px rgba(60,64,67,.15);box-shadow:0px 1px 2px 0px rgba(60,64,67,.30),0px 1px 3px 1px rgba(60,64,67,.15);height:14px;margin:2px;position:absolute;right:0;width:14px}.gb_4a{color:#1f71e7;font:400 22px/32px Google Sans,Roboto,Helvetica,Arial,sans-serif;text-align:center;text-transform:uppercase}@media (-webkit-min-device-pixel-ratio:1.25),(min-resolution:1.25dppx),(min-device-pixel-ratio:1.25){.gb_n::before,.gb_5a::before{display:inline-block;-webkit-transform:scale(0.5);-webkit-transform:scale(0.5);transform:scale(0.5);-webkit-transform-origin:left 0;-webkit-transform-origin:left 0;transform-origin:left 0}.gb_M .gb_5a::before{-webkit-transform:scale(scale(0.416666667));-webkit-transform:scale(scale(0.416666667));transform:scale(scale(0.416666667))}}.gb_n:hover,.gb_n:focus{-webkit-box-shadow:0 1px 0 rgba(0,0,0,.15);box-shadow:0 1px 0 rgba(0,0,0,.15)}.gb_n:active{-webkit-box-shadow:inset 0 2px 0 rgba(0,0,0,.15);box-shadow:inset 0 2px 0 rgba(0,0,0,.15)}.gb_n:active::after{background:rgba(0,0,0,.1);-webkit-border-radius:50%;border-radius:50%;content:"";display:block;height:100%}.gb_6a{cursor:pointer;line-height:40px;min-width:30px;opacity:.75;overflow:hidden;vertical-align:middle;text-overflow:ellipsis}.gb_d.gb_6a{width:auto}.gb_6a:hover,.gb_6a:focus{opacity:.85}.gb_7a .gb_6a,.gb_7a .gb_8a{line-height:26px}#gb#gb.gb_7a a.gb_6a,.gb_7a .gb_8a{font-size:11px;height:auto}.gb_9a{border-top:4px solid #000;border-left:4px dashed transparent;border-right:4px dashed transparent;display:inline-block;margin-left:6px;opacity:.75;vertical-align:middle}.gb_Fa:hover .gb_9a{opacity:.85}.gb_Da>.gb_b{padding:3px 3px 3px 4px}.gb_ab.gb_1a{color:#fff}.gb_K .gb_6a,.gb_K .gb_9a{opacity:1}#gb#gb.gb_K.gb_K a.gb_6a,#gb#gb .gb_K.gb_K a.gb_6a{color:#fff}.gb_K.gb_K .gb_9a{border-top-color:#fff;opacity:1}.gb_4 .gb_n:hover,.gb_K .gb_n:hover,.gb_4 .gb_n:focus,.gb_K .gb_n:focus{-webkit-box-shadow:0 1px 0 rgba(0,0,0,.15),0 1px 2px rgba(0,0,0,.2);box-shadow:0 1px 0 rgba(0,0,0,.15),0 1px 2px rgba(0,0,0,.2)}.gb_bb .gb_b,.gb_cb .gb_b{position:absolute;right:1px}.gb_b.gb_J,.gb_db.gb_J,.gb_Fa.gb_J{-webkit-flex:0 1 auto;-webkit-box-flex:0;flex:0 1 auto}.gb_eb.gb_fb .gb_6a{width:30px!important}.gb_m{height:40px;position:absolute;right:-5px;top:-5px;width:40px}.gb_gb .gb_m,.gb_hb .gb_m{right:0;top:0}.gb_b .gb_d{padding:4px}.gb_q{display:none}sentinel{}</style><script nonce="">;this.gbar_={CONFIG:[[[0,"www.gstatic.com","og.qtm.en_US.ONu2-d3nfJQ.2019.O","co.in","en","425",0,[4,2,"","","","616678539","0"],null,"Wcn7ZZHdIe3ip84P47ew4As",null,0,"og.qtm.KRY3GSse2XM.L.W.O","AA2YrTuqK5zupohdywxEVdO08ckxPTTkAA","AA2YrTuYcFfJCynAX2YrQ8DsIOONT0X9WA","",2,1,200,"IND",null,null,"425","425",1,null,null,114591953,0],null,[1,0.1000000014901161,2,1],null,[1,0,0,null,"0","bhimrao.pawar.07@gmail.com","","AAvwJFAyHZaaoQhn5oq-WzKirWXrW2rtnZIx8Q7PCSpW3Ja5kn12-8aTR9U80wxysD7VVfejSkcvg4EFNwcx8CDdj5B5pzIlFw",0,0,0],[0,0,"",1,0,0,0,0,0,0,null,0,0,null,0,0,null,null,0,0,0,"","","","","","",null,0,0,0,0,0,null,null,null,"rgba(32,33,36,1)","rgba(255,255,255,1)",0,0,0,null,null,1,0,0],["%1$s (default)","Brand account",1,"%1$s (delegated)",1,null,83,"https://colab.research.google.com/?authuser=$authuser",null,null,null,1,"https://accounts.google.com/ListAccounts?listPages=0\u0026pid=425\u0026gpsia=1\u0026source=ogb\u0026atic=1\u0026mo=1\u0026mn=1\u0026hl=en\u0026ts=250",0,"dashboard",null,null,null,null,"Profile","",1,null,"Signed out","https://accounts.google.com/AccountChooser?source=ogb\u0026continue=$continue\u0026Email=$email\u0026ec=GAhAqQM","https://accounts.google.com/RemoveLocalAccount?source=ogb","Remove","Sign in",0,1,1,0,1,1,0,null,null,null,"Session expired",null,null,null,"Visitor",null,"Default","Delegated","Sign out of all accounts",0,null,null,0,null,null,"myaccount.google.com","https",0,1,0],null,["1","gci_91f30755d6a6b787dcc2a4062e6e9824.js","googleapis.client:gapi.iframes","0","en"],null,null,null,null,["m;/_/scs/abc-static/_/js/k=gapi.gapi.en.uvrmm4sgViM.O/d=1/rs=AHpOoo-soQ1xukOpN46EKPUFps9DoQSPjw/m=__features__","https://apis.google.com","","","1","",null,1,"es_plusone_gc_20240304.0_p0","en",null,0],[0.009999999776482582,"co.in","425",[null,"","0",null,1,5184000,null,null,"",null,null,null,null,null,0,null,0,null,1,0,0,0,null,null,0,0,null,0,0,0,0,0],null,null,null,0,null,null,["5061451","google\\.(com|ru|ca|by|kz|com\\.mx|com\\.tr)$",1]],[1,1,null,40400,425,"IND","en","616678539.0",8,0.009999999776482582,1,0,null,null,null,null,"3701310",null,null,null,"Wcn7ZZHdIe3ip84P47ew4As",0,0,0,null,2,5,"nn",105,0,0,1,1,1,114591953,0],[[null,null,null,"https://www.gstatic.com/og/_/js/k=og.qtm.en_US.ONu2-d3nfJQ.2019.O/rt=j/m=qabr,qgl,q_dnp,qcwid,qbd,qapid,qrcd,q_dg/exm=qaaw,qadd,qaid,qein,qhaw,qhba,qhbr,qhch,qhga,qhid,qhin/d=1/ed=1/rs=AA2YrTuqK5zupohdywxEVdO08ckxPTTkAA"],[null,null,null,"https://www.gstatic.com/og/_/ss/k=og.qtm.KRY3GSse2XM.L.W.O/m=qcwid/excm=qaaw,qadd,qaid,qein,qhaw,qhba,qhbr,qhch,qhga,qhid,qhin/d=1/ed=1/ct=zgms/rs=AA2YrTuYcFfJCynAX2YrQ8DsIOONT0X9WA"]],null,null,null,[[[null,null,[null,null,null,"https://ogs.google.com/u/0/widget/account?amb=1\u0026sea=1"],0,414,436,57,4,1,0,0,65,66,8000,"https://accounts.google.com/SignOutOptions?hl=en\u0026continue=https://colab.research.google.com/%3Fauthuser%3D0\u0026ec=GBRAqQM",68,2,null,null,1,113,"Something went wrong.%1$s Refresh to try again or %2$schoose another account%3$s.",3,null,null,75,0,null,null,null,null,null,null,null,"/widget/account",["https","myaccount.google.com",0,32,83,0],0,0,1,["Critical security alert","Important account alert"],0,1,null,1,1,0,0]],null,null,"425","425",1,0,null,"en",0,["https://colab.research.google.com/?authuser=$authuser","https://accounts.google.com/AddSession?hl=en\u0026continue=https://colab.research.google.com/%3Fauthuser%3D0\u0026ec=GAlAqQM","https://accounts.google.com/Logout?hl=en\u0026continue=https://colab.research.google.com/%3Fauthuser%3D0\u0026timeStmp=1710999897\u0026secTok=.AG5fkS-e6Sph6VRErdkpS7EeXz8Cg2tNfg\u0026ec=GAdAqQM","https://accounts.google.com/ListAccounts?listPages=0\u0026pid=425\u0026gpsia=1\u0026source=ogb\u0026atic=1\u0026mo=1\u0026mn=1\u0026hl=en\u0026ts=250",0,0,"",0,0,null,0,0,"https://accounts.google.com/ServiceLogin?passive=true\u0026authuser=0\u0026continue=https%3A%2F%2Fcolab.research.google.com%2F%3Fauthuser%3D0\u0026ec=GAZAqQM",0,0],0,0,0,null,0],null,[["mousedown","touchstart","touchmove","wheel","keydown"],300000],[[null,null,null,"https://accounts.google.com/RotateCookiesPage"],3,null,null,null,0,0]]],};this.gbar_=this.gbar_||{};(function(_){var window=this;
try{
_._F_toggles_initialize=function(a){("undefined"!==typeof globalThis?globalThis:"undefined"!==typeof self?self:this)._F_toggles=a||[]};(0,_._F_toggles_initialize)([]);
/*

 Copyright The Closure Library Authors.
 SPDX-License-Identifier: Apache-2.0
*/
var fa,la,oa,pa,ya,za,Aa,Ca,Da,Ea,Ha,Ya,Xa,$a,bb,ab,cb,db,gb,mb,ob,pb,qb,rb;_.aa=function(a,b){if(Error.captureStackTrace)Error.captureStackTrace(this,_.aa);else{const c=Error().stack;c&&(this.stack=c)}a&&(this.message=String(a));void 0!==b&&(this.cause=b)};_.ba=function(a){_.q.setTimeout(()=>{throw a;},0)};_.ca=function(){var a=_.q.navigator;return a&&(a=a.userAgent)?a:""};fa=function(a){return da?ea?ea.brands.some(({brand:b})=>b&&-1!=b.indexOf(a)):!1:!1};_.u=function(a){return-1!=_.ca().indexOf(a)};
_.ha=function(){return da?!!ea&&0<ea.brands.length:!1};_.ia=function(){return _.ha()?!1:_.u("Opera")};_.ja=function(){return _.ha()?!1:_.u("Trident")||_.u("MSIE")};_.ka=function(){return _.u("Firefox")||_.u("FxiOS")};_.ma=function(){return _.u("Safari")&&!(la()||(_.ha()?0:_.u("Coast"))||_.ia()||(_.ha()?0:_.u("Edge"))||(_.ha()?fa("Microsoft Edge"):_.u("Edg/"))||(_.ha()?fa("Opera"):_.u("OPR"))||_.ka()||_.u("Silk")||_.u("Android"))};
la=function(){return _.ha()?fa("Chromium"):(_.u("Chrome")||_.u("CriOS"))&&!(_.ha()?0:_.u("Edge"))||_.u("Silk")};_.na=function(){return _.u("Android")&&!(la()||_.ka()||_.ia()||_.u("Silk"))};oa=function(){return da?!!ea&&!!ea.platform:!1};pa=function(){return _.u("iPhone")&&!_.u("iPod")&&!_.u("iPad")};_.qa=function(){return pa()||_.u("iPad")||_.u("iPod")};_.ra=function(){return oa()?"macOS"===ea.platform:_.u("Macintosh")};_.ta=function(a,b){return 0<=_.sa(a,b)};
_.ua=function(a){let b="",c=0;const d=a.length-10240;for(;c<d;)b+=String.fromCharCode.apply(null,a.subarray(c,c+=10240));b+=String.fromCharCode.apply(null,c?a.subarray(c):a);return btoa(b)};_.va=function(a){return null!=a&&a instanceof Uint8Array};_.wa=function(a){return Array.prototype.slice.call(a)};ya=function(a,b){_.xa(b,(a|0)&-14591)};za=function(a,b){_.xa(b,(a|34)&-14557)};Aa=function(a){a=a>>14&1023;return 0===a?536870912:a};Ca=function(a){return!(!a||"object"!==typeof a||a.i!==Ba)};
Da=function(a){return null!==a&&"object"===typeof a&&!Array.isArray(a)&&a.constructor===Object};Ea=function(a,b,c){if(!Array.isArray(a)||a.length)return!1;const d=a[_.v]|0;if(d&1)return!0;if(!(b&&(Array.isArray(b)?b.includes(c):b.has(c))))return!1;_.xa(a,d|1);return!0};_.Fa=function(a){if(a&2)throw Error();};Ha=function(a,b){(b=_.Ga?b[_.Ga]:void 0)&&(a[_.Ga]=_.wa(b))};_.Ka=function(){const a=Error();Ja(a,"incident");_.ba(a)};_.La=function(a){a=Error(a);Ja(a,"warning");return a};
_.Na=function(a){if("boolean"!==typeof a)throw Error("r`"+_.Ma(a)+"`"+a);return a};_.Oa=function(a){if(!Number.isFinite(a))throw _.La("enum");return a|0};_.Pa=function(a){if("number"!==typeof a)throw _.La("int32");if(!Number.isFinite(a))throw _.La("int32");return a|0};_.Qa=function(a){if(null!=a&&"string"!==typeof a)throw Error();return a};_.Ra=function(a){return null==a||"string"===typeof a?a:void 0};
_.Ta=function(a,b,c){if(null!=a&&"object"===typeof a&&a.Sd===_.Sa)return a;if(Array.isArray(a)){var d=a[_.v]|0,e=d;0===e&&(e|=c&32);e|=c&2;e!==d&&_.xa(a,e);return new b(a)}};_.Va=function(a,b){Ua=b;a=new a(b);Ua=void 0;return a};
_.Wa=function(a,b,c){null==a&&(a=Ua);Ua=void 0;if(null==a){var d=96;c?(a=[c],d|=512):a=[];b&&(d=d&-16760833|(b&1023)<<14)}else{if(!Array.isArray(a))throw Error();d=a[_.v]|0;if(d&2048)throw Error();if(d&64)return a;d|=64;if(c&&(d|=512,c!==a[0]))throw Error();a:{c=a;const e=c.length;if(e){const f=e-1;if(Da(c[f])){d|=256;b=f-(+!!(d&512)-1);if(1024<=b)throw Error();d=d&-16760833|(b&1023)<<14;break a}}if(b){b=Math.max(b,e-(+!!(d&512)-1));if(1024<b)throw Error();d=d&-16760833|(b&1023)<<14}}}_.xa(a,d);return a};
Ya=function(a,b){return Xa(b)};Xa=function(a){switch(typeof a){case "number":return isFinite(a)?a:String(a);case "boolean":return a?1:0;case "object":if(a)if(Array.isArray(a)){if(Ea(a,void 0,0))return}else{if(_.va(a))return _.ua(a);if("function"==typeof _.Za&&a instanceof _.Za)return a.j()}}return a};$a=function(a,b,c){const d=_.wa(a);var e=d.length;const f=b&256?d[e-1]:void 0;e+=f?-1:0;for(b=b&512?1:0;b<e;b++)d[b]=c(d[b]);if(f){b=d[b]={};for(const g in f)b[g]=c(f[g])}Ha(d,a);return d};
bb=function(a,b,c,d,e){if(null!=a){if(Array.isArray(a))a=Ea(a,void 0,0)?void 0:e&&(a[_.v]|0)&2?a:ab(a,b,c,void 0!==d,e);else if(Da(a)){const f={};for(let g in a)f[g]=bb(a[g],b,c,d,e);a=f}else a=b(a,d);return a}};ab=function(a,b,c,d,e){const f=d||c?a[_.v]|0:0;d=d?!!(f&32):void 0;const g=_.wa(a);for(let h=0;h<g.length;h++)g[h]=bb(g[h],b,c,d,e);c&&(Ha(g,a),c(f,g));return g};cb=function(a){return a.Sd===_.Sa?a.toJSON():Xa(a)};
db=function(a,b,c=za){if(null!=a){if(a instanceof Uint8Array)return b?a:new Uint8Array(a);if(Array.isArray(a)){var d=a[_.v]|0;if(d&2)return a;b&&(b=0===d||!!(d&32)&&!(d&64||!(d&16)));return b?_.xa(a,(d|34)&-12293):ab(a,db,d&4?za:c,!0,!0)}a.Sd===_.Sa&&(c=a.qa,d=c[_.v],a=d&2?a:_.Va(a.constructor,_.eb(c,d,!0)));return a}};_.eb=function(a,b,c){const d=c||b&2?za:ya,e=!!(b&32);a=$a(a,b,f=>db(f,e,d));a[_.v]=a[_.v]|32|(c?2:0);return a};
_.fb=function(a){const b=a.qa,c=b[_.v];return c&2?_.Va(a.constructor,_.eb(b,c,!1)):a};gb=function(a,b,c,d){b=d+(+!!(b&512)-1);if(!(0>b||b>=a.length||b>=c))return a[b]};_.hb=function(a,b,c,d,e){const f=Aa(b);if(c>=f||e){let g=b;if(b&256)e=a[a.length-1];else{if(null==d)return g;e=a[f+(+!!(b&512)-1)]={};g|=256}e[c]=d;c<f&&(a[c+(+!!(b&512)-1)]=void 0);g!==b&&_.xa(a,g);return g}a[c+(+!!(b&512)-1)]=d;b&256&&(a=a[a.length-1],c in a&&delete a[c]);return b};
_.jb=function(a,b,c,d){a=a.qa;let e=a[_.v];const f=_.ib(a,e,c,d);b=_.Ta(f,b,e);b!==f&&null!=b&&_.hb(a,e,c,b,d);return b};_.kb=function(a,b){return null!=a?a:b};
mb=function(a,b,c){var d=lb?void 0:a.constructor.ta;const e=(c?a.qa:b)[_.v];a=b.length;if(!a)return b;let f,g;if(Da(c=b[a-1])){a:{var h=c;let p={},n=!1;for(var k in h){let r=h[k];if(Array.isArray(r)){let t=r;if(Ea(r,d,+k)||Ca(r)&&0===r.size)r=null;r!=t&&(n=!0)}null!=r?p[k]=r:n=!0}if(n){for(var l in p){h=p;break a}h=null}}h!=c&&(f=!0);a--}for(k=+!!(e&512)-1;0<a;a--){l=a-1;c=b[l];l-=k;if(!(null==c||Ea(c,d,l)||Ca(c)&&0===c.size))break;g=!0}if(!f&&!g)return b;b=Array.prototype.slice.call(b,0,a);h&&b.push(h);
return b};_.w=function(a,b){return null!=a?!!a:!!b};_.x=function(a,b){void 0==b&&(b="");return null!=a?a:b};_.nb=function(a){for(const b in a)return!1;return!0};ob="function"==typeof Object.defineProperties?Object.defineProperty:function(a,b,c){if(a==Array.prototype||a==Object.prototype)return a;a[b]=c.value;return a};
pb=function(a){a=["object"==typeof globalThis&&globalThis,a,"object"==typeof window&&window,"object"==typeof self&&self,"object"==typeof global&&global];for(var b=0;b<a.length;++b){var c=a[b];if(c&&c.Math==Math)return c}throw Error("a");};qb=pb(this);rb=function(a,b){if(b)a:{var c=qb;a=a.split(".");for(var d=0;d<a.length-1;d++){var e=a[d];if(!(e in c))break a;c=c[e]}a=a[a.length-1];d=c[a];b=b(d);b!=d&&null!=b&&ob(c,a,{configurable:!0,writable:!0,value:b})}};rb("globalThis",function(a){return a||qb});var ub,vb,xb,yb;_.sb=_.sb||{};_.q=this||self;ub=function(a){var b=_.tb("WIZ_global_data.oxN3nb");a=b&&b[a];return null!=a?a:!1};vb=_.q._F_toggles||[];_.tb=function(a,b){a=a.split(".");b=b||_.q;for(var c=0;c<a.length;c++)if(b=b[a[c]],null==b)return null;return b};_.Ma=function(a){var b=typeof a;return"object"!=b?b:a?Array.isArray(a)?"array":b:"null"};_.wb="closure_uid_"+(1E9*Math.random()>>>0);xb=function(a,b,c){return a.call.apply(a.bind,arguments)};
yb=function(a,b,c){if(!a)throw Error();if(2<arguments.length){var d=Array.prototype.slice.call(arguments,2);return function(){var e=Array.prototype.slice.call(arguments);Array.prototype.unshift.apply(e,d);return a.apply(b,e)}}return function(){return a.apply(b,arguments)}};_.y=function(a,b,c){_.y=Function.prototype.bind&&-1!=Function.prototype.bind.toString().indexOf("native code")?xb:yb;return _.y.apply(null,arguments)};
_.z=function(a,b){a=a.split(".");var c=_.q;a[0]in c||"undefined"==typeof c.execScript||c.execScript("var "+a[0]);for(var d;a.length&&(d=a.shift());)a.length||void 0===b?c[d]&&c[d]!==Object.prototype[d]?c=c[d]:c=c[d]={}:c[d]=b};_.A=function(a,b){function c(){}c.prototype=b.prototype;a.X=b.prototype;a.prototype=new c;a.prototype.constructor=a;a.kj=function(d,e,f){for(var g=Array(arguments.length-2),h=2;h<arguments.length;h++)g[h-2]=arguments[h];return b.prototype[e].apply(d,g)}};_.A(_.aa,Error);_.aa.prototype.name="CustomError";_.zb=String.prototype.trim?function(a){return a.trim()}:function(a){return/^[\s\xa0]*([\s\S]*?)[\s\xa0]*$/.exec(a)[1]};var Ab=!!(vb[0]&128),Bb=!!(vb[0]&256),Cb=!!(vb[0]&2);var da=Ab?Bb:ub(610401301),lb=Ab?Cb:ub(188588736);var ea,Db=_.q.navigator;ea=Db?Db.userAgentData||null:null;_.sa=function(a,b){return Array.prototype.indexOf.call(a,b,void 0)};_.Eb=function(a,b,c){Array.prototype.forEach.call(a,b,c)};_.Fb=function(a){_.Fb[" "](a);return a};_.Fb[" "]=function(){};var Sb,Tb,Yb;_.Gb=_.ia();_.B=_.ja();_.Hb=_.u("Edge");_.Ib=_.Hb||_.B;_.Jb=_.u("Gecko")&&!(-1!=_.ca().toLowerCase().indexOf("webkit")&&!_.u("Edge"))&&!(_.u("Trident")||_.u("MSIE"))&&!_.u("Edge");_.Kb=-1!=_.ca().toLowerCase().indexOf("webkit")&&!_.u("Edge");_.Lb=_.ra();_.Mb=oa()?"Windows"===ea.platform:_.u("Windows");_.Nb=oa()?"Android"===ea.platform:_.u("Android");_.Ob=pa();_.Pb=_.u("iPad");_.Qb=_.u("iPod");_.Rb=_.qa();Sb=function(){var a=_.q.document;return a?a.documentMode:void 0};
a:{var Ub="",Vb=function(){var a=_.ca();if(_.Jb)return/rv:([^\);]+)(\)|;)/.exec(a);if(_.Hb)return/Edge\/([\d\.]+)/.exec(a);if(_.B)return/\b(?:MSIE|rv)[: ]([^\);]+)(\)|;)/.exec(a);if(_.Kb)return/WebKit\/(\S+)/.exec(a);if(_.Gb)return/(?:Version)[ \/]?(\S+)/.exec(a)}();Vb&&(Ub=Vb?Vb[1]:"");if(_.B){var Wb=Sb();if(null!=Wb&&Wb>parseFloat(Ub)){Tb=String(Wb);break a}}Tb=Ub}_.Xb=Tb;if(_.q.document&&_.B){var $b=Sb();Yb=$b?$b:parseInt(_.Xb,10)||void 0}else Yb=void 0;_.ac=Yb;_.bc=_.ka();_.cc=pa()||_.u("iPod");_.dc=_.u("iPad");_.ec=_.na();_.fc=la();_.gc=_.ma()&&!_.qa();_.hc="undefined"!==typeof TextDecoder;_.ic="undefined"!==typeof TextEncoder;var jc;_.v=Symbol();jc=Symbol();_.kc=Symbol();_.xa=(a,b)=>{a[_.v]=b;return a};var Ba,lc,nc,oc,pc;_.Sa={};Ba={};nc=[];_.xa(nc,55);_.mc=Object.freeze(nc);oc=class{};pc=class{};Object.freeze(new oc);Object.freeze(new pc);var Ja=function(a,b){a.__closure__error__context__984382||(a.__closure__error__context__984382={});a.__closure__error__context__984382.severity=b};var qc;var Ua;_.rc=function(a,b){a=a.qa;return _.ib(a,a[_.v],b)};_.ib=function(a,b,c,d){if(-1===c)return null;const e=Aa(b);if(c>=e){if(b&256)return a[a.length-1][c]}else{var f=a.length;if(d&&b&256&&(d=a[f-1][c],null!=d)){if(gb(a,b,e,c)&&null!=jc){var g;a=null!=(g=qc)?g:qc={};g=a[jc]||0;4<=g||(a[jc]=g+1,_.Ka())}return d}return gb(a,b,e,c)}};_.sc=function(a,b,c){const d=a.qa;let e=d[_.v];_.Fa(e);_.hb(d,e,b,c);return a};
_.C=function(a,b){a=_.rc(a,b);return null==a||"boolean"===typeof a?a:"number"===typeof a?!!a:void 0};_.E=function(a,b,c,d=!1){b=_.jb(a,b,c,d);if(null==b)return b;a=a.qa;let e=a[_.v];if(!(e&2)){const f=_.fb(b);f!==b&&(b=f,_.hb(a,e,c,b,d))}return b};_.F=function(a,b,c){null==c&&(c=void 0);return _.sc(a,b,c)};_.G=function(a,b){return _.Ra(_.rc(a,b))};_.I=function(a,b,c=!1){return _.kb(_.C(a,b),c)};_.J=function(a,b){return _.kb(_.G(a,b),"")};_.K=function(a,b,c){return _.sc(a,b,null==c?c:_.Na(c))};
_.L=function(a,b,c){return _.sc(a,b,null==c?c:_.Pa(c))};_.M=function(a,b,c){return _.sc(a,b,_.Qa(c))};_.N=function(a,b,c){return _.sc(a,b,null==c?c:_.Oa(c))};_.Q=class{constructor(a,b,c){this.qa=_.Wa(a,b,c)}toJSON(){return lc?mb(this,this.qa,!1):mb(this,ab(this.qa,cb,void 0,void 0,!1),!0)}Ia(){lc=!0;try{return JSON.stringify(this.toJSON(),Ya)}finally{lc=!1}}Bc(){return!!((this.qa[_.v]|0)&2)}};_.Q.prototype.Sd=_.Sa;_.Q.prototype.toString=function(){return mb(this,this.qa,!1).toString()};_.uc=Symbol();_.vc=Symbol();_.wc=Symbol();_.xc=Symbol();_.yc=Symbol();var zc=class extends _.Q{constructor(){super()}};_.Ac=class extends _.Q{constructor(){super()}B(a){return _.L(this,3,a)}};var Bc=class extends _.Q{constructor(a){super(a)}Tc(a){return _.M(this,24,a)}};_.Cc=class extends _.Q{constructor(a){super(a)}};_.Dc=function(){this.Ga=this.Ga;this.na=this.na};_.Dc.prototype.Ga=!1;_.Dc.prototype.isDisposed=function(){return this.Ga};_.Dc.prototype.ha=function(){this.Ga||(this.Ga=!0,this.P())};_.Dc.prototype.P=function(){if(this.na)for(;this.na.length;)this.na.shift()()};var Ec=class extends _.Dc{constructor(){var a=window;super();this.o=a;this.i=[];this.j={}}resolve(a){var b=this.o;a=a.split(".");for(var c=a.length,d=0;d<c;++d)if(b[a[d]])b=b[a[d]];else return null;return b instanceof Function?b:null}Hb(){for(var a=this.i.length,b=this.i,c=[],d=0;d<a;++d){var e=b[d].i(),f=this.resolve(e);if(f&&f!=this.j[e])try{b[d].Hb(f)}catch(g){}else c.push(b[d])}this.i=c.concat(b.slice(a))}};var Gc=class extends _.Dc{constructor(){var a=_.Fc;super();this.o=a;this.A=this.i=null;this.v=0;this.C={};this.j=!1;a=window.navigator.userAgent;0<=a.indexOf("MSIE")&&0<=a.indexOf("Trident")&&(a=/\b(?:MSIE|rv)[: ]([^\);]+)(\)|;)/.exec(a))&&a[1]&&9>parseFloat(a[1])&&(this.j=!0)}B(a,b){this.i=b;this.A=a;b.preventDefault?b.preventDefault():b.returnValue=!1}};_.Hc=class extends _.Q{constructor(a){super(a)}};var Ic=class extends _.Q{constructor(a){super(a)}};var Lc;_.Jc=function(a,b,c=98){if(a.i){const d=new zc;_.M(d,1,b.message);_.M(d,2,b.stack);_.L(d,3,b.lineNumber);_.N(d,5,1);b=new _.Ac;_.F(b,40,d);a.i.log(c,b)}};Lc=class{constructor(){var a=Kc;this.i=null;_.I(a,4,!0)}log(a){_.Jc(this,a)}};var Nc;_.Mc=function(a){if(0<a.o.length){var b=void 0!==a.i,c=void 0!==a.j;if(b||c){b=b?a.v:a.A;c=a.o;a.o=[];try{_.Eb(c,b,a)}catch(d){console.error(d)}}}};_.Oc=class{constructor(a){this.i=a;this.j=void 0;this.o=[]}then(a,b,c){this.o.push(new Nc(a,b,c));_.Mc(this)}resolve(a){if(void 0!==this.i||void 0!==this.j)throw Error("u");this.i=a;_.Mc(this)}v(a){a.j&&a.j.call(a.i,this.i)}A(a){a.o&&a.o.call(a.i,this.j)}};Nc=class{constructor(a,b,c){this.j=a;this.o=b;this.i=c}};_.Pc=a=>{var b="zc";if(a.zc&&a.hasOwnProperty(b))return a.zc;b=new a;return a.zc=b};_.Qc=class{constructor(){this.v=new _.Oc;this.i=new _.Oc;this.D=new _.Oc;this.C=new _.Oc;this.B=new _.Oc;this.A=new _.Oc;this.o=new _.Oc;this.j=new _.Oc;this.H=new _.Oc}K(){return this.v}M(){return this.i}N(){return this.D}L(){return this.C}Ga(){return this.B}na(){return this.A}J(){return this.o}G(){return this.j}static i(){return _.Pc(_.Qc)}};var Vc;_.Sc=function(){return _.E(_.Rc,Bc,1)};_.Tc=function(){return _.E(_.Rc,_.Cc,5)};Vc=class extends _.Q{constructor(){super(Uc)}};var Uc;window.gbar_&&window.gbar_.CONFIG?Uc=window.gbar_.CONFIG[0]||{}:Uc=[];_.Rc=new Vc;var Kc=_.E(_.Rc,Ic,3)||new Ic;_.Sc()||new Bc;_.Fc=new Lc;_.z("gbar_._DumpException",function(a){_.Fc?_.Fc.log(a):console.error(a)});_.Wc=new Gc;var Yc;_.Zc=function(a,b){var c=_.Xc.i();if(a in c.i){if(c.i[a]!=b)throw new Yc;}else{c.i[a]=b;const h=c.j[a];if(h)for(let k=0,l=h.length;k<l;k++){b=h[k];var d=c.i;delete b.i[a];if(_.nb(b.i)){for(var e=b.j.length,f=Array(e),g=0;g<e;g++)f[g]=d[b.j[g]];b.o.apply(b.v,f)}}delete c.j[a]}};_.Xc=class{constructor(){this.i={};this.j={}}static i(){return _.Pc(_.Xc)}};_.$c=class extends _.aa{constructor(){super()}};Yc=class extends _.$c{};_.z("gbar.A",_.Oc);_.Oc.prototype.aa=_.Oc.prototype.then;_.z("gbar.B",_.Qc);_.Qc.prototype.ba=_.Qc.prototype.M;_.Qc.prototype.bb=_.Qc.prototype.N;_.Qc.prototype.bd=_.Qc.prototype.Ga;_.Qc.prototype.bf=_.Qc.prototype.K;_.Qc.prototype.bg=_.Qc.prototype.L;_.Qc.prototype.bh=_.Qc.prototype.na;_.Qc.prototype.bj=_.Qc.prototype.J;_.Qc.prototype.bk=_.Qc.prototype.G;_.z("gbar.a",_.Qc.i());window.gbar&&window.gbar.ap&&window.gbar.ap(window.gbar.a);var ad=new Ec;_.Zc("api",ad);
var bd=_.Tc()||new _.Cc,cd=window,dd=_.x(_.G(bd,8));cd.__PVT=dd;_.Zc("eq",_.Wc);
}catch(e){_._DumpException(e)}
try{
_.ed=class extends _.Q{constructor(a){super(a)}};
}catch(e){_._DumpException(e)}
try{
var fd=class extends _.Q{constructor(){super()}};var gd=class extends _.Dc{constructor(){super();this.j=[];this.i=[]}o(a,b){this.j.push({features:a,options:b})}init(a,b,c){window.gapi={};var d=window.___jsl={};d.h=_.x(_.G(a,1));null!=_.C(a,12)&&(d.dpo=_.w(_.I(a,12)));d.ms=_.x(_.G(a,2));d.m=_.x(_.G(a,3));d.l=[];_.J(b,1)&&(a=_.G(b,3))&&this.i.push(a);_.J(c,1)&&(c=_.G(c,2))&&this.i.push(c);_.z("gapi.load",(0,_.y)(this.o,this));return this}};var hd=_.E(_.Rc,_.Hc,14);if(hd){var id=_.E(_.Rc,_.ed,9)||new _.ed,jd=new fd,kd=new gd;kd.init(hd,id,jd);_.Zc("gs",kd)};
}catch(e){_._DumpException(e)}
})(this.gbar_);
// Google Inc.
</script><script nonce="">try {const preferences = JSON.parse(window.localStorage.getItem("datalab_prefs_BHIMRAO.PAWAR.07@gmail.com")); document.querySelector('html') .setAttribute('theme', preferences['siteTheme'] || 'default');} catch (e) {}</script><script nonce="">window.performance.mark('head_start');</script><script src="https://ssl.gstatic.com/colaboratory-static/common/f514bf8a6651994ac4acd20fbabdab49/common%2Fwebcomponentsjs%2Fwebcomponents-lite.js" nonce=""></script><script src="https://ssl.gstatic.com/colaboratory-static/common/f514bf8a6651994ac4acd20fbabdab49/common%2Fwebanimationsjs%2Fweb-animations-next-lite.min.js" nonce=""></script><script nonce="">var colabVersionTag = 'colab_20240319-060144_RC00_617119809'; var colabScsVersion = 'f514bf8a6651994ac4acd20fbabdab49'; var hl = 'en'; var colabExperiments = JSON.parse('\x7b\x22ai_unsubscribed_warning\x22: true, \x22aida_cell_button\x22: false, \x22aida_complete_code_model_id\x22: \x22\x22, \x22aida_do_conversation_model_id\x22: \x22\x22, \x22aida_generate_code_model_id\x22: \x22\x22, \x22aida_in_editor\x22: false, \x22allowed_public_url_domains\x22: \x5b\x22huggingface.co\x22, \x22dagshub.com\x22, \x22storage.googleapis.com\x22\x5d, \x22backend_version\x22: \x22next\x22, \x22bq_tid\x22: true, \x22cell_tags\x22: false, \x22chat\x22: true, \x22classified_generate\x22: false, \x22classroom_iframe_parent_origin\x22: \x22\x22, \x22client_text_compose\x22: false, \x22client_trim_completion_text\x22: 100, \x22cloud_origin\x22: \x22\x22, \x22commands_in_toolbar\x22: false, \x22comment_poll_long\x22: 900000, \x22comment_poll_short\x22: 60000, \x22completion_throttle_millis\x22: 300, \x22compose_skip_suffix_check\x22: false, \x22converse_temp\x22: \x22\x22, \x22crawler\x22: false, \x22critique_comments\x22: false, \x22dbu\x22: \x22\x22, \x22debug_external\x22: \x22external\x22, \x22debug_prod\x22: \x22prod\x22, \x22dep_cells_commands\x22: false, \x22development\x22: false, \x22document_change_poll_interval\x22: 30000, \x22drive_anon_api_key\x22: \x22AIzaSyB10s2vWUTwP0pj20wZoxmpZIt3rRodYeg\x22, \x22drive_api_key\x22: \x22AIzaSyCN_sSPJMpYrAzC5AtTrltNC8oRmLtoqBk\x22, \x22drive_background_save_project_number\x22: \x22948411933973\x22, \x22drive_realtime_project_number\x22: \x22\x22, \x22embedded_connection_poll\x22: false, \x22embedding_app\x22: \x22\x22, \x22enable_adhoc_backends\x22: false, \x22enable_more_reprs\x22: true, \x22explain_cell\x22: false, \x22explain_error\x22: true, \x22explain_error_prompt_next\x22: false, \x22explain_error_trim_traceback\x22: true, \x22external_trusted_github_org_repos_quick_add\x22: \x22GoogleChrome\/CrUX,google\/generative-ai-docs\x22, \x22filter_repetitive_suggestions\x22: false, \x22first_party_auth\x22: true, \x22generate_code\x22: true, \x22generate_code_prompt\x22: true, \x22generate_df\x22: true, \x22generate_fix\x22: true, \x22generate_temp\x22: \x22\x22, \x22get_started\x22: false, \x22gis_auth\x22: true, \x22github_client_id\x22: \x225036cf6d81e65aaa6340\x22, \x22gpu_utilization_check_interval_ms\x22: 600000, \x22hats_surveys\x22: true, \x22hrc\x22: false, \x22import_data\x22: false, \x22internal_chat\x22: false, \x22internal_schedule\x22: false, \x22is_prober\x22: false, \x22jsraw\x22: \x22compiled\x22, \x22key_promoter\x22: false, \x22kr\x22: false, \x22local_cloud_apis\x22: false, \x22local_service_worker\x22: false, \x22log_hover_type\x22: false, \x22lsp_diagnostic_threshold_b312769838\x22: 0, \x22lsp_diagnostics_reporting\x22: false, \x22lsp_inlay_hint\x22: false, \x22lsp_rename\x22: false, \x22lsrp\x22: 0, \x22ml_banner\x22: false, \x22ml_enabled\x22: true, \x22mlpp\x22: false, \x22mlpp_multiline\x22: false, \x22mlpp_on_by_default\x22: true, \x22mlpp_trim_completion_text\x22: 100, \x22mobile\x22: false, \x22next_steps\x22: true, \x22nl2code_missing_imports\x22: true, \x22no_fun\x22: false, \x22og_dark\x22: true, \x22outage_notification\x22: \x22\x22, \x22outage_notification_link\x22: \x22\x22, \x22output_menu\x22: false, \x22outputframe_version\x22: \x22\x22, \x22override_suf_params_for_test\x22: false, \x22quickchart_button\x22: true, \x22recaptcha_polling_frequency_ms\x22: 300000, \x22recaptcha_v2_site_key\x22: \x226LfQttQUAAAAADuPanA_VZMaZgBAOnHZNuuqUewp\x22, \x22recaptcha_v3_site_key\x22: \x226LfQPtEUAAAAAHBpAdFng54jyuB1V5w5dofknpip\x22, \x22reconnect_max_delay_seconds\x22: 300, \x22replace_indented_block_with_blockquote\x22: false, \x22require_ai_consent\x22: true, \x22resource_poll_interval_ms\x22: 10000, \x22rp_kxhr\x22: false, \x22rp_lsp\x22: false, \x22rp_serve_kernel_port\x22: false, \x22rp_term\x22: false, \x22rp_token_refresh_headroom_millis\x22: 300000, \x22rt\x22: false, \x22runtime_env_overrides\x22: \x22\\n          \x5b\\n            \x5b\\\x22ENABLE_DIRECTORYPREFETCHER\\\x22, \\\x221\\\x22\x5d\\n          \x5d\\n        \x22, \x22runtime_type_for_test\x22: \x22\x22, \x22server_execution_queue\x22: true, \x22session_resume_coalesce\x22: true, \x22sheets_paste\x22: true, \x22show_free_quota_info\x22: false, \x22show_internal_ai_warning\x22: false, \x22show_payments_interstitial\x22: false, \x22show_pip_warning_dialog\x22: true, \x22show_relnotes_on_open\x22: true, \x22show_signup_survey\x22: true, \x22show_subscription_renewal_time\x22: false, \x22show_switch_to_prod_link\x22: false, \x22sql_cell\x22: false, \x22sql_cell_buttons\x22: false, \x22storage_partition_trial\x22: true, \x22storage_partition_trial_token\x22: \x22AmUpB2+Hlwk73pYiEMbnkef\/dprJi1I9rClec33apyFsbVOaCIRN29Rk9M4ht5Otgbp+thCc3MMD73GyCNfEWAkAAAB3eyJvcmlnaW4iOiJodHRwczovL2NvbGFiLnJlc2VhcmNoLmdvb2dsZS5jb206NDQzIiwiZmVhdHVyZSI6IkRpc2FibGVUaGlyZFBhcnR5U3RvcmFnZVBhcnRpdGlvbmluZyIsImV4cGlyeSI6MTcyNTQwNzk5OX0\x3d\x22, \x22suspicious_code_matches\x22: \x22\x22, \x22suspicious_code_regexs\x22: \x22\x22, \x22term4all\x22: false, \x22text_compose_report_changes_millis\x22: 10000, \x22text_span_comments\x22: false, \x22tpu_vm\x22: false, \x22unified_compose\x22: true, \x22unmanaged_vm_min_label_block\x22: \x22\x22, \x22unmanaged_vm_min_label_warn\x22: \x22\x22, \x22unmanaged_vm_min_release_tag_block\x22: \x22\x22, \x22unmanaged_vm_min_release_tag_warn\x22: \x22\x22, \x22use_corplogin\x22: true, \x22use_dm_sql_lsp\x22: false, \x22user_visible_gpu_types\x22: \x5b\x22T4\x22, \x22V100\x22, \x22A100\x22\x5d, \x22uxr_survey\x22: false, \x22verbose_warnings\x22: false, \x22vertex_ai_api_environment_override\x22: \x22\x22, \x22waffle\x22: false, \x22workstations\x22: false, \x22ids\x22: \x5b20730159, 20730177, 20730150, 20730186, 20730129, 20730183\x5d, \x22flag_ids\x22: \x7b\x22ai_unsubscribed_warning\x22: 45504730, \x22aida_cell_button\x22: 45425510, \x22aida_complete_code_model_id\x22: 45427660, \x22aida_do_conversation_model_id\x22: 45427664, \x22aida_generate_code_model_id\x22: 45427663, \x22aida_in_editor\x22: 45425507, \x22allowed_public_url_domains\x22: 45425558, \x22backend_version\x22: 45425541, \x22bq_tid\x22: 45425617, \x22cell_tags\x22: 45425779, \x22chat\x22: 45425490, \x22classified_generate\x22: 45425499, \x22classroom_iframe_parent_origin\x22: 45425537, \x22client_text_compose\x22: 45425512, \x22client_trim_completion_text\x22: 45425628, \x22cloud_origin\x22: 45425538, \x22commands_in_toolbar\x22: 45425502, \x22comment_poll_long\x22: 45425588, \x22comment_poll_short\x22: 45425587, \x22completion_throttle_millis\x22: 45621713, \x22compose_skip_suffix_check\x22: 45615470, \x22converse_temp\x22: 45425509, \x22crawler\x22: 45425491, \x22critique_comments\x22: 45612076, \x22dbu\x22: 45425545, \x22debug_external\x22: 45425470, \x22debug_prod\x22: 45425471, \x22dep_cells_commands\x22: 45622249, \x22development\x22: 45425544, \x22document_change_poll_interval\x22: 45425589, \x22drive_anon_api_key\x22: 45425478, \x22drive_api_key\x22: 45425473, \x22drive_background_save_project_number\x22: 45425479, \x22drive_realtime_project_number\x22: 45425629, \x22embedded_connection_poll\x22: 45491618, \x22enable_adhoc_backends\x22: 45425506, \x22enable_more_reprs\x22: 45613354, \x22explain_cell\x22: 45425505, \x22explain_error\x22: 45425487, \x22explain_error_prompt_next\x22: 45615229, \x22explain_error_trim_traceback\x22: 45618831, \x22external_trusted_github_org_repos_quick_add\x22: 45425555, \x22filter_repetitive_suggestions\x22: 45615781, \x22first_party_auth\x22: 45425560, \x22generate_code\x22: 45425492, \x22generate_code_prompt\x22: 45425488, \x22generate_df\x22: 45425503, \x22generate_fix\x22: 45425504, \x22generate_temp\x22: 45425508, \x22get_started\x22: 45430267, \x22gis_auth\x22: 45425625, \x22github_client_id\x22: 45425556, \x22gpu_utilization_check_interval_ms\x22: 45425561, \x22hats_surveys\x22: 45425559, \x22import_data\x22: 45430411, \x22internal_chat\x22: 45622872, \x22internal_schedule\x22: 45425578, \x22is_prober\x22: 45429104, \x22jsraw\x22: 45425557, \x22key_promoter\x22: 45425570, \x22local_cloud_apis\x22: 45425630, \x22local_service_worker\x22: 45425550, \x22log_hover_type\x22: 45425602, \x22lsp_diagnostic_threshold_b312769838\x22: 45618432, \x22lsp_diagnostics_reporting\x22: 45425604, \x22lsp_inlay_hint\x22: 45614695, \x22lsp_rename\x22: 45618248, \x22lsrp\x22: 45425612, \x22ml_banner\x22: 45425631, \x22ml_enabled\x22: 45425493, \x22mlpp\x22: 45425608, \x22mlpp_multiline\x22: 45425623, \x22mlpp_on_by_default\x22: 45425609, \x22mlpp_trim_completion_text\x22: 45425622, \x22mobile\x22: 45425562, \x22next_steps\x22: 45428239, \x22nl2code_missing_imports\x22: 45615676, \x22no_fun\x22: 45425540, \x22og_dark\x22: 45459627, \x22outage_notification\x22: 45425584, \x22outage_notification_link\x22: 45425585, \x22output_menu\x22: 45617054, \x22outputframe_version\x22: 45425591, \x22override_suf_params_for_test\x22: 45425592, \x22quickchart_button\x22: 45425501, \x22recaptcha_polling_frequency_ms\x22: 45425582, \x22recaptcha_v2_site_key\x22: 45425581, \x22recaptcha_v3_site_key\x22: 45425580, \x22reconnect_max_delay_seconds\x22: 45425539, \x22replace_indented_block_with_blockquote\x22: 45623563, \x22require_ai_consent\x22: 45425489, \x22resource_poll_interval_ms\x22: 45425590, \x22rp_kxhr\x22: 45491686, \x22rp_lsp\x22: 45462965, \x22rp_serve_kernel_port\x22: 45572083, \x22rp_term\x22: 45426219, \x22rp_token_refresh_headroom_millis\x22: 45517773, \x22rt\x22: 45425624, \x22runtime_env_overrides\x22: 45425583, \x22runtime_type_for_test\x22: 45425586, \x22server_execution_queue\x22: 45425600, \x22session_resume_coalesce\x22: 45425603, \x22sheets_paste\x22: 45428502, \x22show_free_quota_info\x22: 45620295, \x22show_internal_ai_warning\x22: 45622780, \x22show_payments_interstitial\x22: 45425543, \x22show_pip_warning_dialog\x22: 45616404, \x22show_relnotes_on_open\x22: 45428128, \x22show_signup_survey\x22: 45425620, \x22show_subscription_renewal_time\x22: 45425569, \x22show_switch_to_prod_link\x22: 45425483, \x22sql_cell\x22: 45425497, \x22sql_cell_buttons\x22: 45425498, \x22suspicious_code_matches\x22: 45425615, \x22suspicious_code_regexs\x22: 45425616, \x22term4all\x22: 45425542, \x22text_compose_report_changes_millis\x22: 45425568, \x22text_span_comments\x22: 45545873, \x22tpu_vm\x22: 45614812, \x22unified_compose\x22: 45425627, \x22unmanaged_vm_min_label_block\x22: 45425546, \x22unmanaged_vm_min_label_warn\x22: 45425547, \x22unmanaged_vm_min_release_tag_block\x22: 45425548, \x22unmanaged_vm_min_release_tag_warn\x22: 45425549, \x22use_corplogin\x22: 45425606, \x22use_dm_sql_lsp\x22: 45425610, \x22user_visible_gpu_types\x22: 45620529, \x22uxr_survey\x22: 45425618, \x22verbose_warnings\x22: 45425551, \x22vertex_ai_api_environment_override\x22: 45612077, \x22waffle\x22: 45446491, \x22workstations\x22: 45425626\x7d\x7d'); var colabUserEmail = 'BHIMRAO.PAWAR.07@gmail.com'; var colabRenderDataToken = 'AFWLbD1kYNX4J4B3hY8sA9LP6lg2w6aN6259yugkioILF1nrJR_8k9eJ_d1N8wL9Zjy7JmCmHBUuOJOESxBfvp8Tk3wgcvaUYQD3'; var colabConfig = '\x5b\x5b\x22BHIMRAO.PAWAR.07@gmail.com\x22,\x5b1,\x22AHXL0D296zVMQsWA0MROjQOKwS8I72e+\/sw2kuhbSaSR6wQDWkQSghx5WHFB\/qQ\/0tegYOcUevaudQSP0O8Vpd7WyeQlGq9kqTCBjJaLpWPRsboRLhLvy8Ey1wmxh9LCHWGHKhQcDBZwz7V5COcxepT+AY9k8SBPz4V9opHKHhLGmcz2Rb6WvCZWiGIkkrtH9xhRWOOZTIAGGah5G+SxprKc+EVn5lXoNOlxQc9sC+8h9gOCFydPB3ZIs0NYA\/YZ5LwzEHroJWHheObiS6iTdfZKLWn8YR98T5jZf9SMGkA3GGLoum+3\/kLPQnzUkYcQyFZFv3Hwuj270W4apaiiWZWyRcGV\/ojZBA4ambOGSOrcuZlfVih2S+MxD9YlmBFEtMiWIL83vtbP+71ZsMo04hbll5Q8enGMjPK9KA9+nXt0wA5n\/mzRScF9MUccmhFisyteC01TTM0hg\/O5yfJvtp\/W\/vKwEshznAEZkYEBKlTXc6dDMoICA5y19JKGzZnoe5IE3bB1J7izKqh7wFWj\/ToFA2lZO\/PsRE44\/OCyg7QArkkETXELBpNpCOc+e7mCtPnBycnoLxJwDvDGGycnGPgj54vGAKL52NhNuWCxxyrWk9Mfjy\/XHC6hMmCooGQDXpIqsaBzBHlHQa7bypMSP7QjJoLh8JBALz1ft7qIYn1f3vCSMYCsIsihqHywCeiOwny3IJhmKDJ5E718otNEHkfOEY5n4DE\/aD+Bn25fepuApwoL0m5WbHTpRAmLKhwHOuIJKumxgdlIKUj6GnBfNR6BXHOiEjoA3EaUJAu0YYYEarflFXX+eBNUg8B4NM5alzjpl3DCDxw\/XhfAiiYcTVgDeOCiOuZ146JVYd+i3th90i2NXQn9swq4ewHT5LW4pt0C6yL6hk0lZczqWocVFmAPsDQK\/lgawCeTNaJux7zPvcRaRRlunn0bUr0BRtCPmXKqTDUM38VX7CRQue1Gs6sdbNpQr5rw\/mxKjVPSRNIgi1\/kBxXz\/ZtQZQC00\/azDTLYYLmzi3w0bfIweap9Wo1AUgh2aSTDc5xZqpYQSEYoag0Cl6kb1ZCmDzHDDT4kHqamUQTQC2bAwwsPKMznxnx8ohAF79EkTm\/F+sqH6KyjXrVsLX3jE1iZOqak583xV5g2o22Otfd6LHE71+kYnX2z+8SL8+lin4Xi1LhNwAlK3OdwvVul9HMMpzryKx1ieKylbeXnz2s2FLx1jSWYzO8xp\/I2493bYbXAeKQKBhtdLcau3NPTQZyyVe7LYXCsa4GZiML7zhwpzaDAu2rDiL9YXlC2Et0KtQV26lea7dmSYlOVA4KgcsS4x2UVhpcMqnX0vmreKV4Zy7xqDlBc4MU7eT281d1\/nAuJL21Ol2v5e102z9sW\/joP0wp7Ohy8ayUrkC5H1D4Leax64+fZ6Mz63K0GqtGzGrUkmKsZUrq2XiNIgmtImWKwRHwGqIXSluQ\/T\/4Di8mQn+9RLeEDQCb7XapK5wobIT6tZmRkN5Q\/muH\/lbBxZTaX7AkYd6QbV2zxtZc8Kxaxtbw+5Wkf8dxQm2NFcspsM07ckUlCDM4eXtSbC+oHGcfnHG3M0sDRcAk4f7joY5XsXg4EooG3j8MCcgQNX\/TyCa9OY+Zrf\/tkU8APtPnChnYcPxpz8jt6LSByeKYHxQ7cKUwB3yR0n0lupwp2ZNMVcHTMndujT10yM7CFQC9a41ROpvCkNQ9i0mKkIwFH8A4pirUVZEs0IHM49t1nKdU5okAceqOgQgYj99tWsoToMFU5tYjUYjsCPP0AkItMPRXdoMSIXhyDKztwQWduAQfWQNFRUp5z5zFvFWDPFdbcoHYW2OqENpqga3Sh7Bue1P9gTyFJDJkwxW9Z\/RCVhgXDRVpQpay9Q15hNwDV7NGf+ok\x3d\x22,\x22AJ9oCCw5jO49JDyV30V1WkhDKsI\/BPD\/kIe3E0QZ3UymjYpEp\/W1bOqDsqdKBLtmPkAMLbNQ7piG3g6aPdimuGXIdUXkEPIHo9sHoywmxxbBfCFXXfWo6Xrb\/\/yIX3U5QFBIu51+dzzc\x22,\x22https:\/\/payments.google.com\/payments\x22,0,0,null,null,null,\x22$11.79\x22,\x22$58.99\x22,\x22$11.79\x22,\x22$58.99\x22\x5d,\x5b1,4\x5d,\x22IN\x22\x5d\x5d';</script><link id="favicon-link" rel="shortcut icon" href="https://ssl.gstatic.com/colaboratory-static/common/f514bf8a6651994ac4acd20fbabdab49/img/favicon.ico"><link rel="stylesheet" href="https://ssl.gstatic.com/colaboratory-static/common/f514bf8a6651994ac4acd20fbabdab49/v2/external/bundle.css"><meta name="google-site-verification" content="wRgpUU3mIRZPD1GORBPNonaotM72092B_DsqQFWNa4s"><meta name="google-site-verification" content="f5qdvL6RAXlBgHezvCLpPtvx2wU5ZgIzzPULroprlnA"><meta name="google-site-verification" content="-wL8iYJTC7X0zF9qBNDQUAd-P1ZkQUK-OhSgv4Wkf1M"><meta name="google-site-verification" content="o-EECwEDQeUpZv0jTmoGfCDX7dUI8Kul4ESepXmDnO0"><meta name="google-site-verification" content="sNOroO9gXrazN-oMODOm0Bs0_vw1R5QwZ-BfrSHn8Io"><meta name="google-site-verification" content="KD0T7LOCCaCHCECvO9oHcfvqtPmvpMnFU6vogWZ6FnQ"><meta name="google-site-verification" content="K1UdZBHJXQYnJGXIK1KuutmVy6dn3vG2sEyV9D1C6dM"><meta name="google-site-verification" content="wdGthzzfu0IjM3qpFqTuQL9poAQZAvAaFKyuzetLpIM"><meta name="google-site-verification" content="qZJ77guHGO0TObHUBRYVdXQlIhXBBuz8dahJVmIlzCo"><meta name="google-site-verification" content="7ahoeOOKT2ZR781GZ5xK4L9t7yO1ZOHc-gaoUALEYgw"><meta name="google-site-verification" content="PHgaSKwdxZELS21aixtLhfpvaHtKen9pnVJ25EI35Zs"><meta name="google-site-verification" content="Ozey1ptWUQW13_lCEhpPMOcmRBLqdyB3WEL-TJUjskU"><meta name="google-site-verification" content="rF5iXzWe9KZXJes1dQNhOUkS4_z_e97IrsVoCx2trek"><meta name="google-site-verification" content="cpB5oulaGwqSxsg4E-9q2MVbK87iE9NAUUVxdveucPw"><meta name="google-site-verification" content="8P-D5fVWgUIhw8X2BxnKJbf5itK0zxX0QhoBjbJFTe8"><meta name="google-site-verification" content="88fgsZDoVRBuRnDPMIEjcHCxsEXzODOqEsJoqtvQsDc"><meta name="google-site-verification" content="26aKGBCw3XblB5Ou01UhxY5WDtMqHjoTm6P-lvF6AqE"><meta name="google-site-verification" content="DGionF7db9g0dOgeBXwOAN2tmCzWBdo5yOdc_-5UcuE"><meta name="google-site-verification" content="Q9LlidR0toR7UtSyVO23xNeaqJmRp8I6r4ghBQTtntU"><meta name="google-site-verification" content="rQawcZaTEK_UrDG30cz_7nVKOVvBass61QEes0Tm04g"><meta name="google-site-verification" content="8L3ghjzKIj241AYAmEygniTe604tsXFkIrb1v-DBtGo"><meta name="google-site-verification" content="Osw7QcOK045GmOYJI2MM2_7AaL-s4q6pdn8gIv6JNxA"><meta name="google-site-verification" content="KiunYPvrY5x8umvAWcjhwPrB677xCar2LeT_8yaVrDg"><meta name="google-site-verification" content="b6bOMRzMVX2bJABYDGBPtpGcB_AUZ-o2SOTggQXErkg"><meta property="og:type" content="article"><meta property="og:image" content="https://colab.research.google.com/img/colab_favicon_256px.png"><meta property="og:title" content="Google Colaboratory"><meta http-equiv="origin-trial" content="AmUpB2+Hlwk73pYiEMbnkef/dprJi1I9rClec33apyFsbVOaCIRN29Rk9M4ht5Otgbp+thCc3MMD73GyCNfEWAkAAAB3eyJvcmlnaW4iOiJodHRwczovL2NvbGFiLnJlc2VhcmNoLmdvb2dsZS5jb206NDQzIiwiZmVhdHVyZSI6IkRpc2FibGVUaGlyZFBhcnR5U3RvcmFnZVBhcnRpdGlvbmluZyIsImV4cGlyeSI6MTcyNTQwNzk5OX0="><script nonce="">window.performance.mark('head_end'); window.performance.measure('head', 'head_start', 'head_end');</script><script async="" src="./Sentiment Analysis on Amazon_Alexa_review_files/lazy.min.js.download" nonce=""></script><style id="inert-style">
[inert] {
  pointer-events: none;
  cursor: default;
}

[inert], [inert] * {
  user-select: none;
  -webkit-user-select: none;
  -moz-user-select: none;
  -ms-user-select: none;
}
</style><custom-style>
  <style is="custom-style">html {
  --google-red-100: #f4c7c3;
      --google-red-300: #e67c73;
      --google-red-500: #db4437;
      --google-red-700: #c53929;

      --google-blue-100: #c6dafc;
      --google-blue-300: #7baaf7;
      --google-blue-500: #4285f4;
      --google-blue-700: #3367d6;

      --google-green-100: #b7e1cd;
      --google-green-300: #57bb8a;
      --google-green-500: #0f9d58;
      --google-green-700: #0b8043;

      --google-yellow-100: #fce8b2;
      --google-yellow-300: #f7cb4d;
      --google-yellow-500: #f4b400;
      --google-yellow-700: #f09300;

      --google-grey-100: #f5f5f5;
      --google-grey-300: #e0e0e0;
      --google-grey-500: #9e9e9e;
      --google-grey-700: #616161;

      

      --paper-red-50: #ffebee;
      --paper-red-100: #ffcdd2;
      --paper-red-200: #ef9a9a;
      --paper-red-300: #e57373;
      --paper-red-400: #ef5350;
      --paper-red-500: #f44336;
      --paper-red-600: #e53935;
      --paper-red-700: #d32f2f;
      --paper-red-800: #c62828;
      --paper-red-900: #b71c1c;
      --paper-red-a100: #ff8a80;
      --paper-red-a200: #ff5252;
      --paper-red-a400: #ff1744;
      --paper-red-a700: #d50000;

      --paper-pink-50: #fce4ec;
      --paper-pink-100: #f8bbd0;
      --paper-pink-200: #f48fb1;
      --paper-pink-300: #f06292;
      --paper-pink-400: #ec407a;
      --paper-pink-500: #e91e63;
      --paper-pink-600: #d81b60;
      --paper-pink-700: #c2185b;
      --paper-pink-800: #ad1457;
      --paper-pink-900: #880e4f;
      --paper-pink-a100: #ff80ab;
      --paper-pink-a200: #ff4081;
      --paper-pink-a400: #f50057;
      --paper-pink-a700: #c51162;

      --paper-purple-50: #f3e5f5;
      --paper-purple-100: #e1bee7;
      --paper-purple-200: #ce93d8;
      --paper-purple-300: #ba68c8;
      --paper-purple-400: #ab47bc;
      --paper-purple-500: #9c27b0;
      --paper-purple-600: #8e24aa;
      --paper-purple-700: #7b1fa2;
      --paper-purple-800: #6a1b9a;
      --paper-purple-900: #4a148c;
      --paper-purple-a100: #ea80fc;
      --paper-purple-a200: #e040fb;
      --paper-purple-a400: #d500f9;
      --paper-purple-a700: #aa00ff;

      --paper-deep-purple-50: #ede7f6;
      --paper-deep-purple-100: #d1c4e9;
      --paper-deep-purple-200: #b39ddb;
      --paper-deep-purple-300: #9575cd;
      --paper-deep-purple-400: #7e57c2;
      --paper-deep-purple-500: #673ab7;
      --paper-deep-purple-600: #5e35b1;
      --paper-deep-purple-700: #512da8;
      --paper-deep-purple-800: #4527a0;
      --paper-deep-purple-900: #311b92;
      --paper-deep-purple-a100: #b388ff;
      --paper-deep-purple-a200: #7c4dff;
      --paper-deep-purple-a400: #651fff;
      --paper-deep-purple-a700: #6200ea;

      --paper-indigo-50: #e8eaf6;
      --paper-indigo-100: #c5cae9;
      --paper-indigo-200: #9fa8da;
      --paper-indigo-300: #7986cb;
      --paper-indigo-400: #5c6bc0;
      --paper-indigo-500: #3f51b5;
      --paper-indigo-600: #3949ab;
      --paper-indigo-700: #303f9f;
      --paper-indigo-800: #283593;
      --paper-indigo-900: #1a237e;
      --paper-indigo-a100: #8c9eff;
      --paper-indigo-a200: #536dfe;
      --paper-indigo-a400: #3d5afe;
      --paper-indigo-a700: #304ffe;

      --paper-blue-50: #e3f2fd;
      --paper-blue-100: #bbdefb;
      --paper-blue-200: #90caf9;
      --paper-blue-300: #64b5f6;
      --paper-blue-400: #42a5f5;
      --paper-blue-500: #2196f3;
      --paper-blue-600: #1e88e5;
      --paper-blue-700: #1976d2;
      --paper-blue-800: #1565c0;
      --paper-blue-900: #0d47a1;
      --paper-blue-a100: #82b1ff;
      --paper-blue-a200: #448aff;
      --paper-blue-a400: #2979ff;
      --paper-blue-a700: #2962ff;

      --paper-light-blue-50: #e1f5fe;
      --paper-light-blue-100: #b3e5fc;
      --paper-light-blue-200: #81d4fa;
      --paper-light-blue-300: #4fc3f7;
      --paper-light-blue-400: #29b6f6;
      --paper-light-blue-500: #03a9f4;
      --paper-light-blue-600: #039be5;
      --paper-light-blue-700: #0288d1;
      --paper-light-blue-800: #0277bd;
      --paper-light-blue-900: #01579b;
      --paper-light-blue-a100: #80d8ff;
      --paper-light-blue-a200: #40c4ff;
      --paper-light-blue-a400: #00b0ff;
      --paper-light-blue-a700: #0091ea;

      --paper-cyan-50: #e0f7fa;
      --paper-cyan-100: #b2ebf2;
      --paper-cyan-200: #80deea;
      --paper-cyan-300: #4dd0e1;
      --paper-cyan-400: #26c6da;
      --paper-cyan-500: #00bcd4;
      --paper-cyan-600: #00acc1;
      --paper-cyan-700: #0097a7;
      --paper-cyan-800: #00838f;
      --paper-cyan-900: #006064;
      --paper-cyan-a100: #84ffff;
      --paper-cyan-a200: #18ffff;
      --paper-cyan-a400: #00e5ff;
      --paper-cyan-a700: #00b8d4;

      --paper-teal-50: #e0f2f1;
      --paper-teal-100: #b2dfdb;
      --paper-teal-200: #80cbc4;
      --paper-teal-300: #4db6ac;
      --paper-teal-400: #26a69a;
      --paper-teal-500: #009688;
      --paper-teal-600: #00897b;
      --paper-teal-700: #00796b;
      --paper-teal-800: #00695c;
      --paper-teal-900: #004d40;
      --paper-teal-a100: #a7ffeb;
      --paper-teal-a200: #64ffda;
      --paper-teal-a400: #1de9b6;
      --paper-teal-a700: #00bfa5;

      --paper-green-50: #e8f5e9;
      --paper-green-100: #c8e6c9;
      --paper-green-200: #a5d6a7;
      --paper-green-300: #81c784;
      --paper-green-400: #66bb6a;
      --paper-green-500: #4caf50;
      --paper-green-600: #43a047;
      --paper-green-700: #388e3c;
      --paper-green-800: #2e7d32;
      --paper-green-900: #1b5e20;
      --paper-green-a100: #b9f6ca;
      --paper-green-a200: #69f0ae;
      --paper-green-a400: #00e676;
      --paper-green-a700: #00c853;

      --paper-light-green-50: #f1f8e9;
      --paper-light-green-100: #dcedc8;
      --paper-light-green-200: #c5e1a5;
      --paper-light-green-300: #aed581;
      --paper-light-green-400: #9ccc65;
      --paper-light-green-500: #8bc34a;
      --paper-light-green-600: #7cb342;
      --paper-light-green-700: #689f38;
      --paper-light-green-800: #558b2f;
      --paper-light-green-900: #33691e;
      --paper-light-green-a100: #ccff90;
      --paper-light-green-a200: #b2ff59;
      --paper-light-green-a400: #76ff03;
      --paper-light-green-a700: #64dd17;

      --paper-lime-50: #f9fbe7;
      --paper-lime-100: #f0f4c3;
      --paper-lime-200: #e6ee9c;
      --paper-lime-300: #dce775;
      --paper-lime-400: #d4e157;
      --paper-lime-500: #cddc39;
      --paper-lime-600: #c0ca33;
      --paper-lime-700: #afb42b;
      --paper-lime-800: #9e9d24;
      --paper-lime-900: #827717;
      --paper-lime-a100: #f4ff81;
      --paper-lime-a200: #eeff41;
      --paper-lime-a400: #c6ff00;
      --paper-lime-a700: #aeea00;

      --paper-yellow-50: #fffde7;
      --paper-yellow-100: #fff9c4;
      --paper-yellow-200: #fff59d;
      --paper-yellow-300: #fff176;
      --paper-yellow-400: #ffee58;
      --paper-yellow-500: #ffeb3b;
      --paper-yellow-600: #fdd835;
      --paper-yellow-700: #fbc02d;
      --paper-yellow-800: #f9a825;
      --paper-yellow-900: #f57f17;
      --paper-yellow-a100: #ffff8d;
      --paper-yellow-a200: #ffff00;
      --paper-yellow-a400: #ffea00;
      --paper-yellow-a700: #ffd600;

      --paper-amber-50: #fff8e1;
      --paper-amber-100: #ffecb3;
      --paper-amber-200: #ffe082;
      --paper-amber-300: #ffd54f;
      --paper-amber-400: #ffca28;
      --paper-amber-500: #ffc107;
      --paper-amber-600: #ffb300;
      --paper-amber-700: #ffa000;
      --paper-amber-800: #ff8f00;
      --paper-amber-900: #ff6f00;
      --paper-amber-a100: #ffe57f;
      --paper-amber-a200: #ffd740;
      --paper-amber-a400: #ffc400;
      --paper-amber-a700: #ffab00;

      --paper-orange-50: #fff3e0;
      --paper-orange-100: #ffe0b2;
      --paper-orange-200: #ffcc80;
      --paper-orange-300: #ffb74d;
      --paper-orange-400: #ffa726;
      --paper-orange-500: #ff9800;
      --paper-orange-600: #fb8c00;
      --paper-orange-700: #f57c00;
      --paper-orange-800: #ef6c00;
      --paper-orange-900: #e65100;
      --paper-orange-a100: #ffd180;
      --paper-orange-a200: #ffab40;
      --paper-orange-a400: #ff9100;
      --paper-orange-a700: #ff6500;

      --paper-deep-orange-50: #fbe9e7;
      --paper-deep-orange-100: #ffccbc;
      --paper-deep-orange-200: #ffab91;
      --paper-deep-orange-300: #ff8a65;
      --paper-deep-orange-400: #ff7043;
      --paper-deep-orange-500: #ff5722;
      --paper-deep-orange-600: #f4511e;
      --paper-deep-orange-700: #e64a19;
      --paper-deep-orange-800: #d84315;
      --paper-deep-orange-900: #bf360c;
      --paper-deep-orange-a100: #ff9e80;
      --paper-deep-orange-a200: #ff6e40;
      --paper-deep-orange-a400: #ff3d00;
      --paper-deep-orange-a700: #dd2c00;

      --paper-brown-50: #efebe9;
      --paper-brown-100: #d7ccc8;
      --paper-brown-200: #bcaaa4;
      --paper-brown-300: #a1887f;
      --paper-brown-400: #8d6e63;
      --paper-brown-500: #795548;
      --paper-brown-600: #6d4c41;
      --paper-brown-700: #5d4037;
      --paper-brown-800: #4e342e;
      --paper-brown-900: #3e2723;

      --paper-grey-50: #fafafa;
      --paper-grey-100: #f5f5f5;
      --paper-grey-200: #eeeeee;
      --paper-grey-300: #e0e0e0;
      --paper-grey-400: #bdbdbd;
      --paper-grey-500: #9e9e9e;
      --paper-grey-600: #757575;
      --paper-grey-700: #616161;
      --paper-grey-800: #424242;
      --paper-grey-900: #212121;

      --paper-blue-grey-50: #eceff1;
      --paper-blue-grey-100: #cfd8dc;
      --paper-blue-grey-200: #b0bec5;
      --paper-blue-grey-300: #90a4ae;
      --paper-blue-grey-400: #78909c;
      --paper-blue-grey-500: #607d8b;
      --paper-blue-grey-600: #546e7a;
      --paper-blue-grey-700: #455a64;
      --paper-blue-grey-800: #37474f;
      --paper-blue-grey-900: #263238;

      
      --dark-divider-opacity: 0.12;
      --dark-disabled-opacity: 0.38; 
      --dark-secondary-opacity: 0.54;
      --dark-primary-opacity: 0.87;

      
      --light-divider-opacity: 0.12;
      --light-disabled-opacity: 0.3; 
      --light-secondary-opacity: 0.7;
      --light-primary-opacity: 1.0;
}

</style>
</custom-style><custom-style>
  <style is="custom-style">html {
  --primary-text-color: var(--light-theme-text-color);
      --primary-background-color: var(--light-theme-background-color);
      --secondary-text-color: var(--light-theme-secondary-color);
      --disabled-text-color: var(--light-theme-disabled-color);
      --divider-color: var(--light-theme-divider-color);
      --error-color: var(--paper-deep-orange-a700);

      
      --primary-color: var(--paper-indigo-500);
      --light-primary-color: var(--paper-indigo-100);
      --dark-primary-color: var(--paper-indigo-700);

      --accent-color: var(--paper-pink-a200);
      --light-accent-color: var(--paper-pink-a100);
      --dark-accent-color: var(--paper-pink-a400);


      
      --light-theme-background-color: #ffffff;
      --light-theme-base-color: #000000;
      --light-theme-text-color: var(--paper-grey-900);
      --light-theme-secondary-color: #737373;  
      --light-theme-disabled-color: #9b9b9b;  
      --light-theme-divider-color: #dbdbdb;

      
      --dark-theme-background-color: var(--paper-grey-900);
      --dark-theme-base-color: #ffffff;
      --dark-theme-text-color: #ffffff;
      --dark-theme-secondary-color: #bcbcbc;  
      --dark-theme-disabled-color: #646464;  
      --dark-theme-divider-color: #3c3c3c;

      
      --text-primary-color: var(--dark-theme-text-color);
      --default-primary-color: var(--primary-color);
}

</style>
</custom-style>
<custom-style>
  <style is="custom-style">[hidden] {
  display: none !important;
}

</style>
</custom-style>
<custom-style>
  <style is="custom-style">html {
  --layout_-_display:  flex;;

      --layout-inline_-_display:  inline-flex;;

      --layout-horizontal_-_display:  var(--layout_-_display); --layout-horizontal_-_-ms-flex-direction:  row; --layout-horizontal_-_-webkit-flex-direction:  row; --layout-horizontal_-_flex-direction:  row;;

      --layout-horizontal-reverse_-_display:  var(--layout_-_display); --layout-horizontal-reverse_-_-ms-flex-direction:  row-reverse; --layout-horizontal-reverse_-_-webkit-flex-direction:  row-reverse; --layout-horizontal-reverse_-_flex-direction:  row-reverse;;

      --layout-vertical_-_display:  var(--layout_-_display); --layout-vertical_-_-ms-flex-direction:  column; --layout-vertical_-_-webkit-flex-direction:  column; --layout-vertical_-_flex-direction:  column;;

      --layout-vertical-reverse_-_display:  var(--layout_-_display); --layout-vertical-reverse_-_-ms-flex-direction:  column-reverse; --layout-vertical-reverse_-_-webkit-flex-direction:  column-reverse; --layout-vertical-reverse_-_flex-direction:  column-reverse;;

      --layout-wrap_-_-ms-flex-wrap:  wrap; --layout-wrap_-_-webkit-flex-wrap:  wrap; --layout-wrap_-_flex-wrap:  wrap;;

      --layout-wrap-reverse_-_-ms-flex-wrap:  wrap-reverse; --layout-wrap-reverse_-_-webkit-flex-wrap:  wrap-reverse; --layout-wrap-reverse_-_flex-wrap:  wrap-reverse;;

      --layout-flex-auto_-_-ms-flex:  1 1 auto; --layout-flex-auto_-_-webkit-flex:  1 1 auto; --layout-flex-auto_-_flex:  1 1 auto;;

      --layout-flex-none_-_-ms-flex:  none; --layout-flex-none_-_-webkit-flex:  none; --layout-flex-none_-_flex:  none;;

      --layout-flex_-_-ms-flex:  1 1 0.000000001px; --layout-flex_-_-webkit-flex:  1; --layout-flex_-_flex:  1; --layout-flex_-_-webkit-flex-basis:  0.000000001px; --layout-flex_-_flex-basis:  0.000000001px;;

      --layout-flex-2_-_-ms-flex:  2; --layout-flex-2_-_-webkit-flex:  2; --layout-flex-2_-_flex:  2;;

      --layout-flex-3_-_-ms-flex:  3; --layout-flex-3_-_-webkit-flex:  3; --layout-flex-3_-_flex:  3;;

      --layout-flex-4_-_-ms-flex:  4; --layout-flex-4_-_-webkit-flex:  4; --layout-flex-4_-_flex:  4;;

      --layout-flex-5_-_-ms-flex:  5; --layout-flex-5_-_-webkit-flex:  5; --layout-flex-5_-_flex:  5;;

      --layout-flex-6_-_-ms-flex:  6; --layout-flex-6_-_-webkit-flex:  6; --layout-flex-6_-_flex:  6;;

      --layout-flex-7_-_-ms-flex:  7; --layout-flex-7_-_-webkit-flex:  7; --layout-flex-7_-_flex:  7;;

      --layout-flex-8_-_-ms-flex:  8; --layout-flex-8_-_-webkit-flex:  8; --layout-flex-8_-_flex:  8;;

      --layout-flex-9_-_-ms-flex:  9; --layout-flex-9_-_-webkit-flex:  9; --layout-flex-9_-_flex:  9;;

      --layout-flex-10_-_-ms-flex:  10; --layout-flex-10_-_-webkit-flex:  10; --layout-flex-10_-_flex:  10;;

      --layout-flex-11_-_-ms-flex:  11; --layout-flex-11_-_-webkit-flex:  11; --layout-flex-11_-_flex:  11;;

      --layout-flex-12_-_-ms-flex:  12; --layout-flex-12_-_-webkit-flex:  12; --layout-flex-12_-_flex:  12;;

      

      --layout-start_-_-ms-flex-align:  start; --layout-start_-_-webkit-align-items:  flex-start; --layout-start_-_align-items:  flex-start;;

      --layout-center_-_-ms-flex-align:  center; --layout-center_-_-webkit-align-items:  center; --layout-center_-_align-items:  center;;

      --layout-end_-_-ms-flex-align:  end; --layout-end_-_-webkit-align-items:  flex-end; --layout-end_-_align-items:  flex-end;;

      --layout-baseline_-_-ms-flex-align:  baseline; --layout-baseline_-_-webkit-align-items:  baseline; --layout-baseline_-_align-items:  baseline;;

      

      --layout-start-justified_-_-ms-flex-pack:  start; --layout-start-justified_-_-webkit-justify-content:  flex-start; --layout-start-justified_-_justify-content:  flex-start;;

      --layout-center-justified_-_-ms-flex-pack:  center; --layout-center-justified_-_-webkit-justify-content:  center; --layout-center-justified_-_justify-content:  center;;

      --layout-end-justified_-_-ms-flex-pack:  end; --layout-end-justified_-_-webkit-justify-content:  flex-end; --layout-end-justified_-_justify-content:  flex-end;;

      --layout-around-justified_-_-ms-flex-pack:  distribute; --layout-around-justified_-_-webkit-justify-content:  space-around; --layout-around-justified_-_justify-content:  space-around;;

      --layout-justified_-_-ms-flex-pack:  justify; --layout-justified_-_-webkit-justify-content:  space-between; --layout-justified_-_justify-content:  space-between;;

      --layout-center-center_-_-ms-flex-align:  var(--layout-center_-_-ms-flex-align); --layout-center-center_-_-webkit-align-items:  var(--layout-center_-_-webkit-align-items); --layout-center-center_-_align-items:  var(--layout-center_-_align-items); --layout-center-center_-_-ms-flex-pack:  var(--layout-center-justified_-_-ms-flex-pack); --layout-center-center_-_-webkit-justify-content:  var(--layout-center-justified_-_-webkit-justify-content); --layout-center-center_-_justify-content:  var(--layout-center-justified_-_justify-content);;

      

      --layout-self-start_-_-ms-align-self:  flex-start; --layout-self-start_-_-webkit-align-self:  flex-start; --layout-self-start_-_align-self:  flex-start;;

      --layout-self-center_-_-ms-align-self:  center; --layout-self-center_-_-webkit-align-self:  center; --layout-self-center_-_align-self:  center;;

      --layout-self-end_-_-ms-align-self:  flex-end; --layout-self-end_-_-webkit-align-self:  flex-end; --layout-self-end_-_align-self:  flex-end;;

      --layout-self-stretch_-_-ms-align-self:  stretch; --layout-self-stretch_-_-webkit-align-self:  stretch; --layout-self-stretch_-_align-self:  stretch;;

      --layout-self-baseline_-_-ms-align-self:  baseline; --layout-self-baseline_-_-webkit-align-self:  baseline; --layout-self-baseline_-_align-self:  baseline;;

      

      --layout-start-aligned_-_-ms-flex-line-pack:  start; --layout-start-aligned_-_-ms-align-content:  flex-start; --layout-start-aligned_-_-webkit-align-content:  flex-start; --layout-start-aligned_-_align-content:  flex-start;;

      --layout-end-aligned_-_-ms-flex-line-pack:  end; --layout-end-aligned_-_-ms-align-content:  flex-end; --layout-end-aligned_-_-webkit-align-content:  flex-end; --layout-end-aligned_-_align-content:  flex-end;;

      --layout-center-aligned_-_-ms-flex-line-pack:  center; --layout-center-aligned_-_-ms-align-content:  center; --layout-center-aligned_-_-webkit-align-content:  center; --layout-center-aligned_-_align-content:  center;;

      --layout-between-aligned_-_-ms-flex-line-pack:  justify; --layout-between-aligned_-_-ms-align-content:  space-between; --layout-between-aligned_-_-webkit-align-content:  space-between; --layout-between-aligned_-_align-content:  space-between;;

      --layout-around-aligned_-_-ms-flex-line-pack:  distribute; --layout-around-aligned_-_-ms-align-content:  space-around; --layout-around-aligned_-_-webkit-align-content:  space-around; --layout-around-aligned_-_align-content:  space-around;;

      

      --layout-block_-_display:  block;;

      --layout-invisible_-_visibility:  hidden !important;;

      --layout-relative_-_position:  relative;;

      --layout-fit_-_position:  absolute; --layout-fit_-_top:  0; --layout-fit_-_right:  0; --layout-fit_-_bottom:  0; --layout-fit_-_left:  0;;

      --layout-scroll_-_-webkit-overflow-scrolling:  touch; --layout-scroll_-_overflow:  auto;;

      --layout-fullbleed_-_margin:  0; --layout-fullbleed_-_height:  100vh;;

      

      --layout-fixed-top_-_position:  fixed; --layout-fixed-top_-_top:  0; --layout-fixed-top_-_left:  0; --layout-fixed-top_-_right:  0;;

      --layout-fixed-right_-_position:  fixed; --layout-fixed-right_-_top:  0; --layout-fixed-right_-_right:  0; --layout-fixed-right_-_bottom:  0;;

      --layout-fixed-bottom_-_position:  fixed; --layout-fixed-bottom_-_right:  0; --layout-fixed-bottom_-_bottom:  0; --layout-fixed-bottom_-_left:  0;;

      --layout-fixed-left_-_position:  fixed; --layout-fixed-left_-_top:  0; --layout-fixed-left_-_bottom:  0; --layout-fixed-left_-_left:  0;;
}

</style>
</custom-style><style>[hidden] { display: none !important; }</style><link rel="stylesheet" href="./Sentiment Analysis on Amazon_Alexa_review_files/css(1)"><link rel="stylesheet" href="./Sentiment Analysis on Amazon_Alexa_review_files/css(2)"><custom-style>
  <style is="custom-style">html {
  --paper-font-common-base_-_font-family:  'Roboto', 'Noto', sans-serif; --paper-font-common-base_-_-webkit-font-smoothing:  antialiased;;

      --paper-font-common-code_-_font-family:  'Roboto Mono', 'Consolas', 'Menlo', monospace; --paper-font-common-code_-_-webkit-font-smoothing:  antialiased;;

      --paper-font-common-expensive-kerning_-_text-rendering:  optimizeLegibility;;

      --paper-font-common-nowrap_-_white-space:  nowrap; --paper-font-common-nowrap_-_overflow:  hidden; --paper-font-common-nowrap_-_text-overflow:  ellipsis;;

      

      --paper-font-display4_-_font-family:  var(--paper-font-common-base_-_font-family); --paper-font-display4_-_-webkit-font-smoothing:  var(--paper-font-common-base_-_-webkit-font-smoothing); --paper-font-display4_-_white-space:  var(--paper-font-common-nowrap_-_white-space); --paper-font-display4_-_overflow:  var(--paper-font-common-nowrap_-_overflow); --paper-font-display4_-_text-overflow:  var(--paper-font-common-nowrap_-_text-overflow); --paper-font-display4_-_font-size:  112px; --paper-font-display4_-_font-weight:  300; --paper-font-display4_-_letter-spacing:  -.044em; --paper-font-display4_-_line-height:  120px;;

      --paper-font-display3_-_font-family:  var(--paper-font-common-base_-_font-family); --paper-font-display3_-_-webkit-font-smoothing:  var(--paper-font-common-base_-_-webkit-font-smoothing); --paper-font-display3_-_white-space:  var(--paper-font-common-nowrap_-_white-space); --paper-font-display3_-_overflow:  var(--paper-font-common-nowrap_-_overflow); --paper-font-display3_-_text-overflow:  var(--paper-font-common-nowrap_-_text-overflow); --paper-font-display3_-_font-size:  56px; --paper-font-display3_-_font-weight:  400; --paper-font-display3_-_letter-spacing:  -.026em; --paper-font-display3_-_line-height:  60px;;

      --paper-font-display2_-_font-family:  var(--paper-font-common-base_-_font-family); --paper-font-display2_-_-webkit-font-smoothing:  var(--paper-font-common-base_-_-webkit-font-smoothing); --paper-font-display2_-_font-size:  45px; --paper-font-display2_-_font-weight:  400; --paper-font-display2_-_letter-spacing:  -.018em; --paper-font-display2_-_line-height:  48px;;

      --paper-font-display1_-_font-family:  var(--paper-font-common-base_-_font-family); --paper-font-display1_-_-webkit-font-smoothing:  var(--paper-font-common-base_-_-webkit-font-smoothing); --paper-font-display1_-_font-size:  34px; --paper-font-display1_-_font-weight:  400; --paper-font-display1_-_letter-spacing:  -.01em; --paper-font-display1_-_line-height:  40px;;

      --paper-font-headline_-_font-family:  var(--paper-font-common-base_-_font-family); --paper-font-headline_-_-webkit-font-smoothing:  var(--paper-font-common-base_-_-webkit-font-smoothing); --paper-font-headline_-_font-size:  24px; --paper-font-headline_-_font-weight:  400; --paper-font-headline_-_letter-spacing:  -.012em; --paper-font-headline_-_line-height:  32px;;

      --paper-font-title_-_font-family:  var(--paper-font-common-base_-_font-family); --paper-font-title_-_-webkit-font-smoothing:  var(--paper-font-common-base_-_-webkit-font-smoothing); --paper-font-title_-_white-space:  var(--paper-font-common-nowrap_-_white-space); --paper-font-title_-_overflow:  var(--paper-font-common-nowrap_-_overflow); --paper-font-title_-_text-overflow:  var(--paper-font-common-nowrap_-_text-overflow); --paper-font-title_-_font-size:  20px; --paper-font-title_-_font-weight:  500; --paper-font-title_-_line-height:  28px;;

      --paper-font-subhead_-_font-family:  var(--paper-font-common-base_-_font-family); --paper-font-subhead_-_-webkit-font-smoothing:  var(--paper-font-common-base_-_-webkit-font-smoothing); --paper-font-subhead_-_font-size:  16px; --paper-font-subhead_-_font-weight:  400; --paper-font-subhead_-_line-height:  24px;;

      --paper-font-body2_-_font-family:  var(--paper-font-common-base_-_font-family); --paper-font-body2_-_-webkit-font-smoothing:  var(--paper-font-common-base_-_-webkit-font-smoothing); --paper-font-body2_-_font-size:  14px; --paper-font-body2_-_font-weight:  500; --paper-font-body2_-_line-height:  24px;;

      --paper-font-body1_-_font-family:  var(--paper-font-common-base_-_font-family); --paper-font-body1_-_-webkit-font-smoothing:  var(--paper-font-common-base_-_-webkit-font-smoothing); --paper-font-body1_-_font-size:  14px; --paper-font-body1_-_font-weight:  400; --paper-font-body1_-_line-height:  20px;;

      --paper-font-caption_-_font-family:  var(--paper-font-common-base_-_font-family); --paper-font-caption_-_-webkit-font-smoothing:  var(--paper-font-common-base_-_-webkit-font-smoothing); --paper-font-caption_-_white-space:  var(--paper-font-common-nowrap_-_white-space); --paper-font-caption_-_overflow:  var(--paper-font-common-nowrap_-_overflow); --paper-font-caption_-_text-overflow:  var(--paper-font-common-nowrap_-_text-overflow); --paper-font-caption_-_font-size:  12px; --paper-font-caption_-_font-weight:  400; --paper-font-caption_-_letter-spacing:  0.011em; --paper-font-caption_-_line-height:  20px;;

      --paper-font-menu_-_font-family:  var(--paper-font-common-base_-_font-family); --paper-font-menu_-_-webkit-font-smoothing:  var(--paper-font-common-base_-_-webkit-font-smoothing); --paper-font-menu_-_white-space:  var(--paper-font-common-nowrap_-_white-space); --paper-font-menu_-_overflow:  var(--paper-font-common-nowrap_-_overflow); --paper-font-menu_-_text-overflow:  var(--paper-font-common-nowrap_-_text-overflow); --paper-font-menu_-_font-size:  13px; --paper-font-menu_-_font-weight:  500; --paper-font-menu_-_line-height:  24px;;

      --paper-font-button_-_font-family:  var(--paper-font-common-base_-_font-family); --paper-font-button_-_-webkit-font-smoothing:  var(--paper-font-common-base_-_-webkit-font-smoothing); --paper-font-button_-_white-space:  var(--paper-font-common-nowrap_-_white-space); --paper-font-button_-_overflow:  var(--paper-font-common-nowrap_-_overflow); --paper-font-button_-_text-overflow:  var(--paper-font-common-nowrap_-_text-overflow); --paper-font-button_-_font-size:  14px; --paper-font-button_-_font-weight:  500; --paper-font-button_-_letter-spacing:  0.018em; --paper-font-button_-_line-height:  24px; --paper-font-button_-_text-transform:  uppercase;;

      --paper-font-code2_-_font-family:  var(--paper-font-common-code_-_font-family); --paper-font-code2_-_-webkit-font-smoothing:  var(--paper-font-common-code_-_-webkit-font-smoothing); --paper-font-code2_-_font-size:  14px; --paper-font-code2_-_font-weight:  700; --paper-font-code2_-_line-height:  20px;;

      --paper-font-code1_-_font-family:  var(--paper-font-common-code_-_font-family); --paper-font-code1_-_-webkit-font-smoothing:  var(--paper-font-common-code_-_-webkit-font-smoothing); --paper-font-code1_-_font-size:  14px; --paper-font-code1_-_font-weight:  500; --paper-font-code1_-_line-height:  20px;;
}

</style>
</custom-style><dom-module id="paper-item-shared-styles">
  <template></template>
</dom-module><iron-iconset-svg name="paper-tabs" size="24" style="display: none;">
<svg><defs>
<g id="chevron-left"><path d="M15.41 7.41L14 6l-6 6 6 6 1.41-1.41L10.83 12z"></path></g>
<g id="chevron-right"><path d="M10 6L8.59 7.41 13.17 12l-4.58 4.59L10 18l6-6z"></path></g>
</defs></svg>
</iron-iconset-svg><custom-style include="colab-styles"><style>body:not(.mobile) paper-listbox, body:not(.mobile) paper-item {
  white-space: nowrap;
}

paper-tabs {
  --paper-font-common-base_-_font-family:  var(--colab-google-sans-font-family); --paper-font-common-base_-_-webkit-font-smoothing: initial;
          --paper-tabs-selection-bar_-_z-index:  1;
}

paper-tab {
  --paper-tab-content-focused_-_background:  var(--colab-secondary-surface-color); --paper-tab-content-focused_-_font-weight:  700; --paper-tab-content-focused_-_background-color: initial;
}

colab-debugger paper-tab {
  --paper-tab-content-focused_-_background:  var(--colab-highlighted-surface-color); --paper-tab-content-focused_-_font-weight:  700; --paper-tab-content-focused_-_background-color: initial;
}

.tab-pane-header paper-tabs {
  position: relative;
          padding: 0 4px 0 8px;

          --paper-icon-buttons_-_background-color:  var(--google-blue-600); --paper-icon-buttons_-_border-radius:  50%; --paper-icon-buttons_-_color:  white; --paper-icon-buttons_-_height:  20px; --paper-icon-buttons_-_padding:  2px; --paper-icon-buttons_-_position:  absolute; --paper-icon-buttons_-_width:  20px;

          --paper-icon-button-left_-_left:  0; --paper-icon-button-left_-_z-index:  1;

          --paper-icon-button-right_-_right:  -3px;
}

.tab-pane-header paper-tab {
  --paper-tab-content-focused_-_background-color:  transparent; --paper-tab-content-focused_-_font-weight:  500; --paper-tab-content-focused_-_background: initial;
}

colab-tab-layout-container.flexible-tabs .tab-pane-header paper-tabs {
  --paper-tab-content-unselected {
            opacity: 1;
          }
}

.colab-open-dialog paper-tabs {
  --paper-icon-buttons_-_background-color:  var(--paper-orange-700); --paper-icon-buttons_-_border-radius:  50%; --paper-icon-buttons_-_color:  white; --paper-icon-buttons_-_height:  20px; --paper-icon-buttons_-_padding:  2px; --paper-icon-buttons_-_position:  absolute; --paper-icon-buttons_-_width:  20px;

          --paper-icon-button-left_-_left:  0; --paper-icon-button-left_-_z-index:  1;

          --paper-icon-button-right_-_right:  -3px;
}

</style></custom-style><custom-style include="colab-themes"><style></style></custom-style><custom-style>
    <style is="custom-style">html {
  --google-orange-600: #e8710a;
        --google-yellow-600: #f9ab00;
        
        --code-cell-background: #f7f7f7;
        --colab-anchor-color: #00e;
        --colab-border-color: #dadada;
        --colab-bold-border-color: #111;
        --colab-callout-color: var(--paper-blue-700);
        --colab-divider-color: var(--paper-grey-300);
        --colab-debugger-line-color: var(--paper-red-100);
        --colab-editor-focus-color: var(--paper-grey-200);
        --colab-highlighted-surface-color: var(--paper-grey-200);
        --colab-icon-color: var(--paper-grey-700);
        --colab-input-button-hover-background: #6161611a;
        --colab-secondary-icon-color: #93ADCF;
        --colab-input-placeholder-color: var(--colab-secondary-text-color);
        --colab-primary-surface-color: var(--paper-white);
        --colab-primary-text-color: var(--paper-grey-900);
        --colab-secondary-text-color: #616161;
        --colab-tertiary-text-color: var(--paper-grey-600);
        --colab-secondary-surface-color: #f7f7f7;
        --colab-scrollbar-color: rgba(0, 0, 0, 0.1);
        --colab-gutter-icon-color: #8c8c8c;
        --colab-active-execution-icon-color: var(--paper-grey-800);
        --colab-error-icon-color: var(--paper-red-a700);
        --colab-title-color: #000;
        --colab-form-field-underline-color: var(--paper-grey-400);
        --colab-editor-focus-border-thickness: 2px;
        --colab-diff-editor-background: #fff;
        --colab-local-diff-background: #eef;
        --colab-remote-diff-background: #feffe0;
        --colab-merged-diff-background: #d7fed8;
        --colab-status-okay: var(--google-green-700);
        --ansi-black: rgb(0, 0, 0);
        --ansi-red: rgb(139, 0, 0);
        --ansi-green: rgb(0, 100, 0);
        --ansi-yellow: rgb(205, 205, 0);
        --ansi-blue: rgb(0, 0, 238);
        --ansi-magenta: rgb(205, 0, 205);
        --ansi-cyan: rgb(70, 130, 180);
        --ansi-gray: rgb(229, 229, 229);
        --ansi-bright-black: rgb(127, 127, 127);
        --ansi-bright-red: rgb(255, 0, 0);
        --ansi-bright-green: rgb(0, 208, 0);
        --ansi-bright-yellow: rgb(255, 255, 0);
        --ansi-bright-blue: rgb(92, 92, 255);
        --ansi-bright-magenta: rgb(255, 0, 255);
        --ansi-bright-cyan: rgb(0, 255, 255);
        --ansi-bright-gray: rgb(255, 255, 255);
        --gcp-success-icon-color: var(--google-green-700);
        --colab-comment-anchor-color: var(--google-blue-600);
        --colab-filled-button-ripple-color: #000;
        --colab-comment-highlight-color: #ffe082; 
        
        --colab-input-border-color: #a9a9a9;
        --colab-logo-dark: var(--google-orange-600);
        --colab-logo-light: var(--google-yellow-600);
        --colab-status-error: #e51c23;
        --colab-status-warning: #f09300;
        --colab-chrome-font-family: 'Roboto', 'Noto', sans-serif;
        --colab-google-sans-font-family: 'Google Sans', 'Roboto', 'Noto', sans-serif;
        --colab-chrome-font-size: 14px;
        
        --colab-icon-hover-color: var(--colab-primary-text-color);
        --colab-fresh-execution-count-color: var(--colab-primary-text-color);
        --colab-stale-execution-count-color: var(--colab-input-placeholder-color);
        
        --primary-text-color: var(--colab-primary-text-color);
        --secondary-text-color: var(--colab-secondary-text-color);
        --primary-background-color: var(--colab-primary-surface-color);
        --paper-tabs-selection-bar-color: var(--google-blue-600);
        --error-color: #B3261E;
        --primary-color: var(--google-blue-700);
        --google-green-700: #188038;
        --google-grey-800: #3c4043;
        --google-blue-200: #AECBFA;
        --google-blue-300: #8AB4F8;
        --google-blue-700: #1967d2;
        --google-blue-900: #174ea6;
        --hairline-button-primary: var(--primary-color);
        --hairline-button-secondary: var(--google-blue-900);
        
        --hairline-button-overlay-hovered: #4285f40a;
        
        --hairline-button-disabled-label: var(--paper-grey-500);
        
        --hairline-button-disabled-container: var(--paper-grey-100);
        --mdc-theme-primary: var(--primary-color);
        --mdc-theme-on-primary: var(--colab-primary-surface-color);
        --md-sys-color-primary: var(--primary-color);
        --md-sys-color-on-primary: var(--colab-primary-surface-color);
}

html[theme=dark] {
  --colab-anchor-color: var(--paper-blue-300);
        --colab-callout-color: var(--google-blue-600);
        --code-cell-background: #1e1e1e;
        --colab-border-color: var(--paper-grey-700);
        --colab-bold-border-color: #eee;
        --colab-divider-color: var(--paper-grey-700);
        --colab-debugger-line-color: var(--paper-red-900);
        --colab-editor-focus-color: #282828;
        --colab-highlighted-surface-color: #525252;
        --colab-icon-color: var(--paper-grey-400);
        --colab-input-button-hover-background: #bdbdbd1a;
        --colab-input-placeholder-color: var(--colab-tertiary-text-color);
        --colab-primary-surface-color: #383838;
        --colab-primary-text-color: #d5d5d5;
        --colab-secondary-text-color: #f7f7f7;
        --colab-tertiary-text-color: #b3b3b3;
        --colab-secondary-surface-color: #454545;
        --colab-scrollbar-color: rgba(255, 255, 255, 0.2);
        --colab-gutter-icon-color: #858585;
        --colab-active-execution-icon-color: var(--colab-icon-color);
        --colab-error-icon-color: var(--paper-red-400);
        --colab-title-color: #fff;
        --colab-form-field-underline-color: var(--paper-grey-600);
        --colab-diff-editor-background: #000;
        --colab-local-diff-background: #292935;
        --colab-remote-diff-background: #2e2f08;
        --colab-merged-diff-background: #09380b;
        --colab-status-okay: #00c752;
        --ansi-black: rgb(127, 127, 127);
        --ansi-red: rgb(255, 122, 136);
        --ansi-green: rgb(87, 187, 138);
        --ansi-yellow: rgb(255, 255, 102);
        --ansi-blue: rgb(130, 177, 255);
        --ansi-magenta: rgb(205, 0, 205);
        --ansi-cyan: rgb(153, 187, 215);
        --ansi-gray: rgb(229, 229, 229);
        --ansi-bright-green: rgb(0, 255, 0);
        --gcp-success-icon-color: #81c995;
        --colab-comment-anchor-color: var(--paper-blue-300);
        --colab-filled-button-ripple-color: #fff;
        --colab-comment-highlight-color: #1a237e; 
        
        --error-color: var(--paper-deep-orange-a100);
        --primary-color: var(--google-blue-300);
        --hairline-button-primary: var(--primary-color);
        --hairline-button-secondary: var(--google-blue-200);
        
        --hairline-button-overlay-hovered: #42a5f50a;
        
        --hairline-button-disabled-label: #ffffff4d;
        --hairline-button-disabled-container: #ffffff1f;
}

@media (prefers-color-scheme: dark) {
html[theme=adaptive] {
  --colab-anchor-color: var(--paper-blue-400);
          --colab-callout-color: var(--paper-blue-900);
          --code-cell-background: #1e1e1e;
          --colab-border-color: var(--paper-grey-700);
          --colab-bold-border-color: #eee;
          --colab-divider-color: var(--paper-grey-700);
          --colab-debugger-line-color: var(--paper-red-900);
          --colab-editor-focus-color: #282828;
          --colab-highlighted-surface-color: #525252;
          --colab-icon-color: var(--paper-grey-100);
          --colab-input-button-hover-background: #bdbdbd1a;
          --colab-input-placeholder-color: var(--colab-tertiary-text-color);
          --colab-primary-surface-color: #383838;
          --colab-primary-text-color: #d5d5d5;
          --colab-secondary-text-color: #f7f7f7;
          --colab-tertiary-text-color: #b3b3b3;
          --colab-secondary-surface-color: #454545;
          --colab-scrollbar-color: rgba(255, 255, 255, 0.2);
          --colab-gutter-icon-color: #858585;
          --colab-execution-count: var(--colab-primary-text-color);
          --colab-active-execution-icon-color: var(--colab-icon-color);
          --colab-error-icon-color: var(--paper-red-400);
          --colab-title-color: #fff;
          --colab-form-field-underline-color: var(--paper-grey-600);
          --colab-diff-editor-background: #000;
          --colab-local-diff-background: #292935;
          --colab-remote-diff-background: #2e2f08;
          --colab-merged-diff-background: #09380b;
          --colab-status-okay: #00c752;
          --ansi-black: rgb(63, 63, 63);
          --ansi-red: rgb(255, 122, 136);
          --ansi-green: rgb(87, 187, 138);
          --ansi-yellow: rgb(255, 255, 102);
          --ansi-blue: rgb(130, 177, 255);
          --ansi-magenta: rgb(205, 0, 205);
          --ansi-cyan: rgb(153, 187, 215);
          --ansi-gray: rgb(229, 229, 229);
          --colab-filled-button-ripple-color: #fff;
          
          --error-color: var(--paper-deep-orange-a100);
          --primary-color: var(--google-blue-300);
          --hairline-button-primary: var(--primary-color);
          --hairline-button-secondary: var(--google-blue-200);
          
          --hairline-button-overlay-hovered: #42a5f50a;
          
          --hairline-button-disabled-label: #9e9e9e80;
          --hairline-button-disabled-container: #9e9e9e80;
}

}

html[editor="High Contrast Dark"] {
  --code-cell-background: #000;
        --colab-editor-focus-color: #f38518;
        --colab-editor-focus-border-thickness: 1px;
}

html[editor=Monokai] {
  --code-cell-background: #272822;
}

html[editor="All Hallows Eve"] {
  --code-cell-background: #000;
}

html[editor="Amy"] {
  --code-cell-background: #200020;
}

html[editor="Birds Of Paradise"] {
  --code-cell-background: #372725;
}

html[editor="Blackboard"] {
  --code-cell-background: #0c1021;
}

html[editor="Clouds Midnight"] {
  --code-cell-background: #191919;
}

html[editor="Dominion Day"] {
  --code-cell-background: #372725;
}

html[editor="Espresso Libre"] {
  --code-cell-background: #2a211c;
}

html[editor="Merbivore"] {
  --code-cell-background: #161616;
}

html[editor="Night Owl"] {
  --code-cell-background: #011627;
}

html[editor="Oceanic Next"] {
  --code-cell-background: #1b2b34;
}

html[editor="Pastels On Dark"] {
  --code-cell-background: #211e1e;
}

html[editor="Space Cadet"] {
  --code-cell-background: #0d0d0d;
}

html[editor="Sunburst"] {
  --code-cell-background: #000;
}

html[editor="Twilight"] {
  --code-cell-background: #141414;
}

html[editor="Vibrant Ink"] {
  --code-cell-background: #000;
}

html[editor="Zenburnesque"] {
  --code-cell-background: #404040;
}

html[editor="Idle Fingers"] {
  --code-cell-background: #323232;
}

html[editor="Mono Industrial"] {
  --code-cell-background: #222c28;
}

html[editor=Synthwave84] {
  --colab-primary-surface-color: #241b2f;
        --colab-secondary-surface-color: #49549539;
        --code-cell-background: #262335;
        --colab-highlighted-surface-color: #372d4b;
        --colab-border-color: #34294fb3;
        --colab-anchor-color: #f97e72;
        --ansi-red: #fe4450;
        --ansi-green: #72f1b8;
        --ansi-yellow: #f97e72;
        --ansi-blue: #03edf9;
        --ansi-magenta: #ff7edb;
        --ansi-cyan: #03edf9;
        --ansi-bright-red: #fe4450;
        --ansi-bright-green: #72f1b8;
        --ansi-bright-yellow: #fede5d;
        --ansi-bright-blue: #03edf9;
        --ansi-bright-magenta: #ff7edb;
        --ansi-bright-cyan: #03edf9;
}

</style>
  </custom-style><script async="" type="text/javascript" charset="UTF-8" src="./Sentiment Analysis on Amazon_Alexa_review_files/rs=AA2YrTuqK5zupohdywxEVdO08ckxPTTkAA" nonce=""></script><link type="text/css" rel="stylesheet" href="./Sentiment Analysis on Amazon_Alexa_review_files/rs=AA2YrTuYcFfJCynAX2YrQ8DsIOONT0X9WA"><style type="text/css">.MathJax_Hover_Frame {border-radius: .25em; -webkit-border-radius: .25em; -moz-border-radius: .25em; -khtml-border-radius: .25em; box-shadow: 0px 0px 15px #83A; -webkit-box-shadow: 0px 0px 15px #83A; -moz-box-shadow: 0px 0px 15px #83A; -khtml-box-shadow: 0px 0px 15px #83A; border: 1px solid #A6D ! important; display: inline-block; position: absolute}
.MathJax_Menu_Button .MathJax_Hover_Arrow {position: absolute; cursor: pointer; display: inline-block; border: 2px solid #AAA; border-radius: 4px; -webkit-border-radius: 4px; -moz-border-radius: 4px; -khtml-border-radius: 4px; font-family: 'Courier New',Courier; font-size: 9px; color: #F0F0F0}
.MathJax_Menu_Button .MathJax_Hover_Arrow span {display: block; background-color: #AAA; border: 1px solid; border-radius: 3px; line-height: 0; padding: 4px}
.MathJax_Hover_Arrow:hover {color: white!important; border: 2px solid #CCC!important}
.MathJax_Hover_Arrow:hover span {background-color: #CCC!important}
</style><style type="text/css">#MathJax_About {position: fixed; left: 50%; width: auto; text-align: center; border: 3px outset; padding: 1em 2em; background-color: #DDDDDD; color: black; cursor: default; font-family: message-box; font-size: 120%; font-style: normal; text-indent: 0; text-transform: none; line-height: normal; letter-spacing: normal; word-spacing: normal; word-wrap: normal; white-space: nowrap; float: none; z-index: 201; border-radius: 15px; -webkit-border-radius: 15px; -moz-border-radius: 15px; -khtml-border-radius: 15px; box-shadow: 0px 10px 20px #808080; -webkit-box-shadow: 0px 10px 20px #808080; -moz-box-shadow: 0px 10px 20px #808080; -khtml-box-shadow: 0px 10px 20px #808080; filter: progid:DXImageTransform.Microsoft.dropshadow(OffX=2, OffY=2, Color='gray', Positive='true')}
#MathJax_About.MathJax_MousePost {outline: none}
.MathJax_Menu {position: absolute; background-color: white; color: black; width: auto; padding: 2px; border: 1px solid #CCCCCC; margin: 0; cursor: default; font: menu; text-align: left; text-indent: 0; text-transform: none; line-height: normal; letter-spacing: normal; word-spacing: normal; word-wrap: normal; white-space: nowrap; float: none; z-index: 201; box-shadow: 0px 10px 20px #808080; -webkit-box-shadow: 0px 10px 20px #808080; -moz-box-shadow: 0px 10px 20px #808080; -khtml-box-shadow: 0px 10px 20px #808080; filter: progid:DXImageTransform.Microsoft.dropshadow(OffX=2, OffY=2, Color='gray', Positive='true')}
.MathJax_MenuItem {padding: 2px 2em; background: transparent}
.MathJax_MenuArrow {position: absolute; right: .5em; padding-top: .25em; color: #666666; font-size: .75em}
.MathJax_MenuActive .MathJax_MenuArrow {color: white}
.MathJax_MenuArrow.RTL {left: .5em; right: auto}
.MathJax_MenuCheck {position: absolute; left: .7em}
.MathJax_MenuCheck.RTL {right: .7em; left: auto}
.MathJax_MenuRadioCheck {position: absolute; left: 1em}
.MathJax_MenuRadioCheck.RTL {right: 1em; left: auto}
.MathJax_MenuLabel {padding: 2px 2em 4px 1.33em; font-style: italic}
.MathJax_MenuRule {border-top: 1px solid #CCCCCC; margin: 4px 1px 0px}
.MathJax_MenuDisabled {color: GrayText}
.MathJax_MenuActive {background-color: Highlight; color: HighlightText}
.MathJax_MenuDisabled:focus, .MathJax_MenuLabel:focus {background-color: #E8E8E8}
.MathJax_ContextMenu:focus {outline: none}
.MathJax_ContextMenu .MathJax_MenuItem:focus {outline: none}
#MathJax_AboutClose {top: .2em; right: .2em}
.MathJax_Menu .MathJax_MenuClose {top: -10px; left: -10px}
.MathJax_MenuClose {position: absolute; cursor: pointer; display: inline-block; border: 2px solid #AAA; border-radius: 18px; -webkit-border-radius: 18px; -moz-border-radius: 18px; -khtml-border-radius: 18px; font-family: 'Courier New',Courier; font-size: 24px; color: #F0F0F0}
.MathJax_MenuClose span {display: block; background-color: #AAA; border: 1.5px solid; border-radius: 18px; -webkit-border-radius: 18px; -moz-border-radius: 18px; -khtml-border-radius: 18px; line-height: 0; padding: 8px 0 6px}
.MathJax_MenuClose:hover {color: white!important; border: 2px solid #CCC!important}
.MathJax_MenuClose:hover span {background-color: #CCC!important}
.MathJax_MenuClose:hover:focus {outline: none}
</style><style type="text/css">.MJX_Assistive_MathML {position: absolute!important; top: 0; left: 0; clip: rect(1px, 1px, 1px, 1px); padding: 1px 0 0 0!important; border: 0!important; height: 1px!important; width: 1px!important; overflow: hidden!important; display: block!important; -webkit-touch-callout: none; -webkit-user-select: none; -khtml-user-select: none; -moz-user-select: none; -ms-user-select: none; user-select: none}
.MJX_Assistive_MathML.MJX_Assistive_MathML_Block {width: 100%!important}
</style><style type="text/css">#MathJax_Zoom {position: absolute; background-color: #F0F0F0; overflow: auto; display: block; z-index: 301; padding: .5em; border: 1px solid black; margin: 0; font-weight: normal; font-style: normal; text-align: left; text-indent: 0; text-transform: none; line-height: normal; letter-spacing: normal; word-spacing: normal; word-wrap: normal; white-space: nowrap; float: none; -webkit-box-sizing: content-box; -moz-box-sizing: content-box; box-sizing: content-box; box-shadow: 5px 5px 15px #AAAAAA; -webkit-box-shadow: 5px 5px 15px #AAAAAA; -moz-box-shadow: 5px 5px 15px #AAAAAA; -khtml-box-shadow: 5px 5px 15px #AAAAAA; filter: progid:DXImageTransform.Microsoft.dropshadow(OffX=2, OffY=2, Color='gray', Positive='true')}
#MathJax_ZoomOverlay {position: absolute; left: 0; top: 0; z-index: 300; display: inline-block; width: 100%; height: 100%; border: 0; padding: 0; margin: 0; background-color: white; opacity: 0; filter: alpha(opacity=0)}
#MathJax_ZoomFrame {position: relative; display: inline-block; height: 0; width: 0}
#MathJax_ZoomEventTrap {position: absolute; left: 0; top: 0; z-index: 302; display: inline-block; border: 0; padding: 0; margin: 0; background-color: white; opacity: 0; filter: alpha(opacity=0)}
</style><style type="text/css">.MathJax_Preview {color: #888}
#MathJax_Message {position: fixed; left: 1em; bottom: 1.5em; background-color: #E6E6E6; border: 1px solid #959595; margin: 0px; padding: 2px 8px; z-index: 102; color: black; font-size: 80%; width: auto; white-space: nowrap}
#MathJax_MSIE_Frame {position: absolute; top: 0; left: 0; width: 0px; z-index: 101; border: 0px; margin: 0px; padding: 0px}
.MathJax_Error {color: #CC0000; font-style: italic}
</style><style type="text/css">.MJXp-script {font-size: .8em}
.MJXp-right {-webkit-transform-origin: right; -moz-transform-origin: right; -ms-transform-origin: right; -o-transform-origin: right; transform-origin: right}
.MJXp-bold {font-weight: bold}
.MJXp-italic {font-style: italic}
.MJXp-scr {font-family: MathJax_Script,'Times New Roman',Times,STIXGeneral,serif}
.MJXp-frak {font-family: MathJax_Fraktur,'Times New Roman',Times,STIXGeneral,serif}
.MJXp-sf {font-family: MathJax_SansSerif,'Times New Roman',Times,STIXGeneral,serif}
.MJXp-cal {font-family: MathJax_Caligraphic,'Times New Roman',Times,STIXGeneral,serif}
.MJXp-mono {font-family: MathJax_Typewriter,'Times New Roman',Times,STIXGeneral,serif}
.MJXp-largeop {font-size: 150%}
.MJXp-largeop.MJXp-int {vertical-align: -.2em}
.MJXp-math {display: inline-block; line-height: 1.2; text-indent: 0; font-family: 'Times New Roman',Times,STIXGeneral,serif; white-space: nowrap; border-collapse: collapse}
.MJXp-display {display: block; text-align: center; margin: 1em 0}
.MJXp-math span {display: inline-block}
.MJXp-box {display: block!important; text-align: center}
.MJXp-box:after {content: " "}
.MJXp-rule {display: block!important; margin-top: .1em}
.MJXp-char {display: block!important}
.MJXp-mo {margin: 0 .15em}
.MJXp-mfrac {margin: 0 .125em; vertical-align: .25em}
.MJXp-denom {display: inline-table!important; width: 100%}
.MJXp-denom > * {display: table-row!important}
.MJXp-surd {vertical-align: top}
.MJXp-surd > * {display: block!important}
.MJXp-script-box > *  {display: table!important; height: 50%}
.MJXp-script-box > * > * {display: table-cell!important; vertical-align: top}
.MJXp-script-box > *:last-child > * {vertical-align: bottom}
.MJXp-script-box > * > * > * {display: block!important}
.MJXp-mphantom {visibility: hidden}
.MJXp-munderover, .MJXp-munder {display: inline-table!important}
.MJXp-over {display: inline-block!important; text-align: center}
.MJXp-over > * {display: block!important}
.MJXp-munderover > *, .MJXp-munder > * {display: table-row!important}
.MJXp-mtable {vertical-align: .25em; margin: 0 .125em}
.MJXp-mtable > * {display: inline-table!important; vertical-align: middle}
.MJXp-mtr {display: table-row!important}
.MJXp-mtd {display: table-cell!important; text-align: center; padding: .5em 0 0 .5em}
.MJXp-mtr > .MJXp-mtd:first-child {padding-left: 0}
.MJXp-mtr:first-child > .MJXp-mtd {padding-top: 0}
.MJXp-mlabeledtr {display: table-row!important}
.MJXp-mlabeledtr > .MJXp-mtd:first-child {padding-left: 0}
.MJXp-mlabeledtr:first-child > .MJXp-mtd {padding-top: 0}
.MJXp-merror {background-color: #FFFF88; color: #CC0000; border: 1px solid #CC0000; padding: 1px 3px; font-style: normal; font-size: 90%}
.MJXp-scale0 {-webkit-transform: scaleX(.0); -moz-transform: scaleX(.0); -ms-transform: scaleX(.0); -o-transform: scaleX(.0); transform: scaleX(.0)}
.MJXp-scale1 {-webkit-transform: scaleX(.1); -moz-transform: scaleX(.1); -ms-transform: scaleX(.1); -o-transform: scaleX(.1); transform: scaleX(.1)}
.MJXp-scale2 {-webkit-transform: scaleX(.2); -moz-transform: scaleX(.2); -ms-transform: scaleX(.2); -o-transform: scaleX(.2); transform: scaleX(.2)}
.MJXp-scale3 {-webkit-transform: scaleX(.3); -moz-transform: scaleX(.3); -ms-transform: scaleX(.3); -o-transform: scaleX(.3); transform: scaleX(.3)}
.MJXp-scale4 {-webkit-transform: scaleX(.4); -moz-transform: scaleX(.4); -ms-transform: scaleX(.4); -o-transform: scaleX(.4); transform: scaleX(.4)}
.MJXp-scale5 {-webkit-transform: scaleX(.5); -moz-transform: scaleX(.5); -ms-transform: scaleX(.5); -o-transform: scaleX(.5); transform: scaleX(.5)}
.MJXp-scale6 {-webkit-transform: scaleX(.6); -moz-transform: scaleX(.6); -ms-transform: scaleX(.6); -o-transform: scaleX(.6); transform: scaleX(.6)}
.MJXp-scale7 {-webkit-transform: scaleX(.7); -moz-transform: scaleX(.7); -ms-transform: scaleX(.7); -o-transform: scaleX(.7); transform: scaleX(.7)}
.MJXp-scale8 {-webkit-transform: scaleX(.8); -moz-transform: scaleX(.8); -ms-transform: scaleX(.8); -o-transform: scaleX(.8); transform: scaleX(.8)}
.MJXp-scale9 {-webkit-transform: scaleX(.9); -moz-transform: scaleX(.9); -ms-transform: scaleX(.9); -o-transform: scaleX(.9); transform: scaleX(.9)}
.MathJax_PHTML .noError {vertical-align: ; font-size: 90%; text-align: left; color: black; padding: 1px 3px; border: 1px solid}
</style><style type="text/css">.MathJax_Display {text-align: center; margin: 0; position: relative; display: block!important; text-indent: 0; max-width: none; max-height: none; min-width: 0; min-height: 0; width: 100%}
.MathJax .merror {background-color: #FFFF88; color: #CC0000; border: 1px solid #CC0000; padding: 1px 3px; font-style: normal; font-size: 90%}
.MathJax .MJX-monospace {font-family: monospace}
.MathJax .MJX-sans-serif {font-family: sans-serif}
#MathJax_Tooltip {background-color: InfoBackground; color: InfoText; border: 1px solid black; box-shadow: 2px 2px 5px #AAAAAA; -webkit-box-shadow: 2px 2px 5px #AAAAAA; -moz-box-shadow: 2px 2px 5px #AAAAAA; -khtml-box-shadow: 2px 2px 5px #AAAAAA; filter: progid:DXImageTransform.Microsoft.dropshadow(OffX=2, OffY=2, Color='gray', Positive='true'); padding: 3px 4px; z-index: 401; position: absolute; left: 0; top: 0; width: auto; height: auto; display: none}
.MathJax {display: inline; font-style: normal; font-weight: normal; line-height: normal; font-size: 100%; font-size-adjust: none; text-indent: 0; text-align: left; text-transform: none; letter-spacing: normal; word-spacing: normal; word-wrap: normal; white-space: nowrap; float: none; direction: ltr; max-width: none; max-height: none; min-width: 0; min-height: 0; border: 0; padding: 0; margin: 0}
.MathJax:focus, body :focus .MathJax {display: inline-table}
.MathJax.MathJax_FullWidth {text-align: center; display: table-cell!important; width: 10000em!important}
.MathJax img, .MathJax nobr, .MathJax a {border: 0; padding: 0; margin: 0; max-width: none; max-height: none; min-width: 0; min-height: 0; vertical-align: 0; line-height: normal; text-decoration: none}
img.MathJax_strut {border: 0!important; padding: 0!important; margin: 0!important; vertical-align: 0!important}
.MathJax span {display: inline; position: static; border: 0; padding: 0; margin: 0; vertical-align: 0; line-height: normal; text-decoration: none; box-sizing: content-box}
.MathJax nobr {white-space: nowrap!important}
.MathJax img {display: inline!important; float: none!important}
.MathJax * {transition: none; -webkit-transition: none; -moz-transition: none; -ms-transition: none; -o-transition: none}
.MathJax_Processing {visibility: hidden; position: fixed; width: 0; height: 0; overflow: hidden}
.MathJax_Processed {display: none!important}
.MathJax_test {font-style: normal; font-weight: normal; font-size: 100%; font-size-adjust: none; text-indent: 0; text-transform: none; letter-spacing: normal; word-spacing: normal; overflow: hidden; height: 1px}
.MathJax_test.mjx-test-display {display: table!important}
.MathJax_test.mjx-test-inline {display: inline!important; margin-right: -1px}
.MathJax_test.mjx-test-default {display: block!important; clear: both}
.MathJax_ex_box {display: inline-block!important; position: absolute; overflow: hidden; min-height: 0; max-height: none; padding: 0; border: 0; margin: 0; width: 1px; height: 60ex}
.MathJax_em_box {display: inline-block!important; position: absolute; overflow: hidden; min-height: 0; max-height: none; padding: 0; border: 0; margin: 0; width: 1px; height: 60em}
.mjx-test-inline .MathJax_left_box {display: inline-block; width: 0; float: left}
.mjx-test-inline .MathJax_right_box {display: inline-block; width: 0; float: right}
.mjx-test-display .MathJax_right_box {display: table-cell!important; width: 10000em!important; min-width: 0; max-width: none; padding: 0; border: 0; margin: 0}
.MathJax .MathJax_HitBox {cursor: text; background: white; opacity: 0; filter: alpha(opacity=0)}
.MathJax .MathJax_HitBox * {filter: none; opacity: 1; background: transparent}
#MathJax_Tooltip * {filter: none; opacity: 1; background: transparent}
@font-face {font-family: MathJax_Main; src: url('https://colab.research.google.com/static/mathjax/fonts/HTML-CSS/TeX/woff/MathJax_Main-Regular.woff?V=2.7.5') format('woff'), url('https://colab.research.google.com/static/mathjax/fonts/HTML-CSS/TeX/otf/MathJax_Main-Regular.otf?V=2.7.5') format('opentype')}
@font-face {font-family: MathJax_Main-bold; src: url('https://colab.research.google.com/static/mathjax/fonts/HTML-CSS/TeX/woff/MathJax_Main-Bold.woff?V=2.7.5') format('woff'), url('https://colab.research.google.com/static/mathjax/fonts/HTML-CSS/TeX/otf/MathJax_Main-Bold.otf?V=2.7.5') format('opentype')}
@font-face {font-family: MathJax_Main-italic; src: url('https://colab.research.google.com/static/mathjax/fonts/HTML-CSS/TeX/woff/MathJax_Main-Italic.woff?V=2.7.5') format('woff'), url('https://colab.research.google.com/static/mathjax/fonts/HTML-CSS/TeX/otf/MathJax_Main-Italic.otf?V=2.7.5') format('opentype')}
@font-face {font-family: MathJax_Math-italic; src: url('https://colab.research.google.com/static/mathjax/fonts/HTML-CSS/TeX/woff/MathJax_Math-Italic.woff?V=2.7.5') format('woff'), url('https://colab.research.google.com/static/mathjax/fonts/HTML-CSS/TeX/otf/MathJax_Math-Italic.otf?V=2.7.5') format('opentype')}
@font-face {font-family: MathJax_Caligraphic; src: url('https://colab.research.google.com/static/mathjax/fonts/HTML-CSS/TeX/woff/MathJax_Caligraphic-Regular.woff?V=2.7.5') format('woff'), url('https://colab.research.google.com/static/mathjax/fonts/HTML-CSS/TeX/otf/MathJax_Caligraphic-Regular.otf?V=2.7.5') format('opentype')}
@font-face {font-family: MathJax_Size1; src: url('https://colab.research.google.com/static/mathjax/fonts/HTML-CSS/TeX/woff/MathJax_Size1-Regular.woff?V=2.7.5') format('woff'), url('https://colab.research.google.com/static/mathjax/fonts/HTML-CSS/TeX/otf/MathJax_Size1-Regular.otf?V=2.7.5') format('opentype')}
@font-face {font-family: MathJax_Size2; src: url('https://colab.research.google.com/static/mathjax/fonts/HTML-CSS/TeX/woff/MathJax_Size2-Regular.woff?V=2.7.5') format('woff'), url('https://colab.research.google.com/static/mathjax/fonts/HTML-CSS/TeX/otf/MathJax_Size2-Regular.otf?V=2.7.5') format('opentype')}
@font-face {font-family: MathJax_Size3; src: url('https://colab.research.google.com/static/mathjax/fonts/HTML-CSS/TeX/woff/MathJax_Size3-Regular.woff?V=2.7.5') format('woff'), url('https://colab.research.google.com/static/mathjax/fonts/HTML-CSS/TeX/otf/MathJax_Size3-Regular.otf?V=2.7.5') format('opentype')}
@font-face {font-family: MathJax_Size4; src: url('https://colab.research.google.com/static/mathjax/fonts/HTML-CSS/TeX/woff/MathJax_Size4-Regular.woff?V=2.7.5') format('woff'), url('https://colab.research.google.com/static/mathjax/fonts/HTML-CSS/TeX/otf/MathJax_Size4-Regular.otf?V=2.7.5') format('opentype')}
.MathJax .noError {vertical-align: ; font-size: 90%; text-align: left; color: black; padding: 1px 3px; border: 1px solid}
</style><script async="async" type="text/javascript" src="./Sentiment Analysis on Amazon_Alexa_review_files/editor.main.js.download"></script><link rel="stylesheet" type="text/css" data-name="vs/editor/editor.main" href="./Sentiment Analysis on Amazon_Alexa_review_files/editor.main.css"><script async="async" type="text/javascript" src="./Sentiment Analysis on Amazon_Alexa_review_files/editor.main.nls.js.download"></script><script src="./Sentiment Analysis on Amazon_Alexa_review_files/api.js.download" nonce=""></script><script src="./Sentiment Analysis on Amazon_Alexa_review_files/api(1).js.download" nonce=""></script><style type="text/css" media="screen" class="monaco-colors">.codicon-add:before { content: '\ea60'; }
.codicon-plus:before { content: '\ea60'; }
.codicon-gist-new:before { content: '\ea60'; }
.codicon-repo-create:before { content: '\ea60'; }
.codicon-lightbulb:before { content: '\ea61'; }
.codicon-light-bulb:before { content: '\ea61'; }
.codicon-repo:before { content: '\ea62'; }
.codicon-repo-delete:before { content: '\ea62'; }
.codicon-gist-fork:before { content: '\ea63'; }
.codicon-repo-forked:before { content: '\ea63'; }
.codicon-git-pull-request:before { content: '\ea64'; }
.codicon-git-pull-request-abandoned:before { content: '\ea64'; }
.codicon-record-keys:before { content: '\ea65'; }
.codicon-keyboard:before { content: '\ea65'; }
.codicon-tag:before { content: '\ea66'; }
.codicon-tag-add:before { content: '\ea66'; }
.codicon-tag-remove:before { content: '\ea66'; }
.codicon-person:before { content: '\ea67'; }
.codicon-person-follow:before { content: '\ea67'; }
.codicon-person-outline:before { content: '\ea67'; }
.codicon-person-filled:before { content: '\ea67'; }
.codicon-git-branch:before { content: '\ea68'; }
.codicon-git-branch-create:before { content: '\ea68'; }
.codicon-git-branch-delete:before { content: '\ea68'; }
.codicon-source-control:before { content: '\ea68'; }
.codicon-mirror:before { content: '\ea69'; }
.codicon-mirror-public:before { content: '\ea69'; }
.codicon-star:before { content: '\ea6a'; }
.codicon-star-add:before { content: '\ea6a'; }
.codicon-star-delete:before { content: '\ea6a'; }
.codicon-star-empty:before { content: '\ea6a'; }
.codicon-comment:before { content: '\ea6b'; }
.codicon-comment-add:before { content: '\ea6b'; }
.codicon-alert:before { content: '\ea6c'; }
.codicon-warning:before { content: '\ea6c'; }
.codicon-search:before { content: '\ea6d'; }
.codicon-search-save:before { content: '\ea6d'; }
.codicon-log-out:before { content: '\ea6e'; }
.codicon-sign-out:before { content: '\ea6e'; }
.codicon-log-in:before { content: '\ea6f'; }
.codicon-sign-in:before { content: '\ea6f'; }
.codicon-eye:before { content: '\ea70'; }
.codicon-eye-unwatch:before { content: '\ea70'; }
.codicon-eye-watch:before { content: '\ea70'; }
.codicon-circle-filled:before { content: '\ea71'; }
.codicon-primitive-dot:before { content: '\ea71'; }
.codicon-close-dirty:before { content: '\ea71'; }
.codicon-debug-breakpoint:before { content: '\ea71'; }
.codicon-debug-breakpoint-disabled:before { content: '\ea71'; }
.codicon-debug-hint:before { content: '\ea71'; }
.codicon-primitive-square:before { content: '\ea72'; }
.codicon-edit:before { content: '\ea73'; }
.codicon-pencil:before { content: '\ea73'; }
.codicon-info:before { content: '\ea74'; }
.codicon-issue-opened:before { content: '\ea74'; }
.codicon-gist-private:before { content: '\ea75'; }
.codicon-git-fork-private:before { content: '\ea75'; }
.codicon-lock:before { content: '\ea75'; }
.codicon-mirror-private:before { content: '\ea75'; }
.codicon-close:before { content: '\ea76'; }
.codicon-remove-close:before { content: '\ea76'; }
.codicon-x:before { content: '\ea76'; }
.codicon-repo-sync:before { content: '\ea77'; }
.codicon-sync:before { content: '\ea77'; }
.codicon-clone:before { content: '\ea78'; }
.codicon-desktop-download:before { content: '\ea78'; }
.codicon-beaker:before { content: '\ea79'; }
.codicon-microscope:before { content: '\ea79'; }
.codicon-vm:before { content: '\ea7a'; }
.codicon-device-desktop:before { content: '\ea7a'; }
.codicon-file:before { content: '\ea7b'; }
.codicon-file-text:before { content: '\ea7b'; }
.codicon-more:before { content: '\ea7c'; }
.codicon-ellipsis:before { content: '\ea7c'; }
.codicon-kebab-horizontal:before { content: '\ea7c'; }
.codicon-mail-reply:before { content: '\ea7d'; }
.codicon-reply:before { content: '\ea7d'; }
.codicon-organization:before { content: '\ea7e'; }
.codicon-organization-filled:before { content: '\ea7e'; }
.codicon-organization-outline:before { content: '\ea7e'; }
.codicon-new-file:before { content: '\ea7f'; }
.codicon-file-add:before { content: '\ea7f'; }
.codicon-new-folder:before { content: '\ea80'; }
.codicon-file-directory-create:before { content: '\ea80'; }
.codicon-trash:before { content: '\ea81'; }
.codicon-trashcan:before { content: '\ea81'; }
.codicon-history:before { content: '\ea82'; }
.codicon-clock:before { content: '\ea82'; }
.codicon-folder:before { content: '\ea83'; }
.codicon-file-directory:before { content: '\ea83'; }
.codicon-symbol-folder:before { content: '\ea83'; }
.codicon-logo-github:before { content: '\ea84'; }
.codicon-mark-github:before { content: '\ea84'; }
.codicon-github:before { content: '\ea84'; }
.codicon-terminal:before { content: '\ea85'; }
.codicon-console:before { content: '\ea85'; }
.codicon-repl:before { content: '\ea85'; }
.codicon-zap:before { content: '\ea86'; }
.codicon-symbol-event:before { content: '\ea86'; }
.codicon-error:before { content: '\ea87'; }
.codicon-stop:before { content: '\ea87'; }
.codicon-variable:before { content: '\ea88'; }
.codicon-symbol-variable:before { content: '\ea88'; }
.codicon-array:before { content: '\ea8a'; }
.codicon-symbol-array:before { content: '\ea8a'; }
.codicon-symbol-module:before { content: '\ea8b'; }
.codicon-symbol-package:before { content: '\ea8b'; }
.codicon-symbol-namespace:before { content: '\ea8b'; }
.codicon-symbol-object:before { content: '\ea8b'; }
.codicon-symbol-method:before { content: '\ea8c'; }
.codicon-symbol-function:before { content: '\ea8c'; }
.codicon-symbol-constructor:before { content: '\ea8c'; }
.codicon-symbol-boolean:before { content: '\ea8f'; }
.codicon-symbol-null:before { content: '\ea8f'; }
.codicon-symbol-numeric:before { content: '\ea90'; }
.codicon-symbol-number:before { content: '\ea90'; }
.codicon-symbol-structure:before { content: '\ea91'; }
.codicon-symbol-struct:before { content: '\ea91'; }
.codicon-symbol-parameter:before { content: '\ea92'; }
.codicon-symbol-type-parameter:before { content: '\ea92'; }
.codicon-symbol-key:before { content: '\ea93'; }
.codicon-symbol-text:before { content: '\ea93'; }
.codicon-symbol-reference:before { content: '\ea94'; }
.codicon-go-to-file:before { content: '\ea94'; }
.codicon-symbol-enum:before { content: '\ea95'; }
.codicon-symbol-value:before { content: '\ea95'; }
.codicon-symbol-ruler:before { content: '\ea96'; }
.codicon-symbol-unit:before { content: '\ea96'; }
.codicon-activate-breakpoints:before { content: '\ea97'; }
.codicon-archive:before { content: '\ea98'; }
.codicon-arrow-both:before { content: '\ea99'; }
.codicon-arrow-down:before { content: '\ea9a'; }
.codicon-arrow-left:before { content: '\ea9b'; }
.codicon-arrow-right:before { content: '\ea9c'; }
.codicon-arrow-small-down:before { content: '\ea9d'; }
.codicon-arrow-small-left:before { content: '\ea9e'; }
.codicon-arrow-small-right:before { content: '\ea9f'; }
.codicon-arrow-small-up:before { content: '\eaa0'; }
.codicon-arrow-up:before { content: '\eaa1'; }
.codicon-bell:before { content: '\eaa2'; }
.codicon-bold:before { content: '\eaa3'; }
.codicon-book:before { content: '\eaa4'; }
.codicon-bookmark:before { content: '\eaa5'; }
.codicon-debug-breakpoint-conditional-unverified:before { content: '\eaa6'; }
.codicon-debug-breakpoint-conditional:before { content: '\eaa7'; }
.codicon-debug-breakpoint-conditional-disabled:before { content: '\eaa7'; }
.codicon-debug-breakpoint-data-unverified:before { content: '\eaa8'; }
.codicon-debug-breakpoint-data:before { content: '\eaa9'; }
.codicon-debug-breakpoint-data-disabled:before { content: '\eaa9'; }
.codicon-debug-breakpoint-log-unverified:before { content: '\eaaa'; }
.codicon-debug-breakpoint-log:before { content: '\eaab'; }
.codicon-debug-breakpoint-log-disabled:before { content: '\eaab'; }
.codicon-briefcase:before { content: '\eaac'; }
.codicon-broadcast:before { content: '\eaad'; }
.codicon-browser:before { content: '\eaae'; }
.codicon-bug:before { content: '\eaaf'; }
.codicon-calendar:before { content: '\eab0'; }
.codicon-case-sensitive:before { content: '\eab1'; }
.codicon-check:before { content: '\eab2'; }
.codicon-checklist:before { content: '\eab3'; }
.codicon-chevron-down:before { content: '\eab4'; }
.codicon-drop-down-button:before { content: '\eab4'; }
.codicon-chevron-left:before { content: '\eab5'; }
.codicon-chevron-right:before { content: '\eab6'; }
.codicon-chevron-up:before { content: '\eab7'; }
.codicon-chrome-close:before { content: '\eab8'; }
.codicon-chrome-maximize:before { content: '\eab9'; }
.codicon-chrome-minimize:before { content: '\eaba'; }
.codicon-chrome-restore:before { content: '\eabb'; }
.codicon-circle:before { content: '\eabc'; }
.codicon-circle-outline:before { content: '\eabc'; }
.codicon-debug-breakpoint-unverified:before { content: '\eabc'; }
.codicon-circle-slash:before { content: '\eabd'; }
.codicon-circuit-board:before { content: '\eabe'; }
.codicon-clear-all:before { content: '\eabf'; }
.codicon-clippy:before { content: '\eac0'; }
.codicon-close-all:before { content: '\eac1'; }
.codicon-cloud-download:before { content: '\eac2'; }
.codicon-cloud-upload:before { content: '\eac3'; }
.codicon-code:before { content: '\eac4'; }
.codicon-collapse-all:before { content: '\eac5'; }
.codicon-color-mode:before { content: '\eac6'; }
.codicon-comment-discussion:before { content: '\eac7'; }
.codicon-compare-changes:before { content: '\eafd'; }
.codicon-credit-card:before { content: '\eac9'; }
.codicon-dash:before { content: '\eacc'; }
.codicon-dashboard:before { content: '\eacd'; }
.codicon-database:before { content: '\eace'; }
.codicon-debug-continue:before { content: '\eacf'; }
.codicon-debug-disconnect:before { content: '\ead0'; }
.codicon-debug-pause:before { content: '\ead1'; }
.codicon-debug-restart:before { content: '\ead2'; }
.codicon-debug-start:before { content: '\ead3'; }
.codicon-debug-step-into:before { content: '\ead4'; }
.codicon-debug-step-out:before { content: '\ead5'; }
.codicon-debug-step-over:before { content: '\ead6'; }
.codicon-debug-stop:before { content: '\ead7'; }
.codicon-debug:before { content: '\ead8'; }
.codicon-device-camera-video:before { content: '\ead9'; }
.codicon-device-camera:before { content: '\eada'; }
.codicon-device-mobile:before { content: '\eadb'; }
.codicon-diff-added:before { content: '\eadc'; }
.codicon-diff-ignored:before { content: '\eadd'; }
.codicon-diff-modified:before { content: '\eade'; }
.codicon-diff-removed:before { content: '\eadf'; }
.codicon-diff-renamed:before { content: '\eae0'; }
.codicon-diff:before { content: '\eae1'; }
.codicon-discard:before { content: '\eae2'; }
.codicon-editor-layout:before { content: '\eae3'; }
.codicon-empty-window:before { content: '\eae4'; }
.codicon-exclude:before { content: '\eae5'; }
.codicon-extensions:before { content: '\eae6'; }
.codicon-eye-closed:before { content: '\eae7'; }
.codicon-file-binary:before { content: '\eae8'; }
.codicon-file-code:before { content: '\eae9'; }
.codicon-file-media:before { content: '\eaea'; }
.codicon-file-pdf:before { content: '\eaeb'; }
.codicon-file-submodule:before { content: '\eaec'; }
.codicon-file-symlink-directory:before { content: '\eaed'; }
.codicon-file-symlink-file:before { content: '\eaee'; }
.codicon-file-zip:before { content: '\eaef'; }
.codicon-files:before { content: '\eaf0'; }
.codicon-filter:before { content: '\eaf1'; }
.codicon-flame:before { content: '\eaf2'; }
.codicon-fold-down:before { content: '\eaf3'; }
.codicon-fold-up:before { content: '\eaf4'; }
.codicon-fold:before { content: '\eaf5'; }
.codicon-folder-active:before { content: '\eaf6'; }
.codicon-folder-opened:before { content: '\eaf7'; }
.codicon-gear:before { content: '\eaf8'; }
.codicon-gift:before { content: '\eaf9'; }
.codicon-gist-secret:before { content: '\eafa'; }
.codicon-gist:before { content: '\eafb'; }
.codicon-git-commit:before { content: '\eafc'; }
.codicon-git-compare:before { content: '\eafd'; }
.codicon-git-merge:before { content: '\eafe'; }
.codicon-github-action:before { content: '\eaff'; }
.codicon-github-alt:before { content: '\eb00'; }
.codicon-globe:before { content: '\eb01'; }
.codicon-grabber:before { content: '\eb02'; }
.codicon-graph:before { content: '\eb03'; }
.codicon-gripper:before { content: '\eb04'; }
.codicon-heart:before { content: '\eb05'; }
.codicon-home:before { content: '\eb06'; }
.codicon-horizontal-rule:before { content: '\eb07'; }
.codicon-hubot:before { content: '\eb08'; }
.codicon-inbox:before { content: '\eb09'; }
.codicon-issue-closed:before { content: '\eba4'; }
.codicon-issue-reopened:before { content: '\eb0b'; }
.codicon-issues:before { content: '\eb0c'; }
.codicon-italic:before { content: '\eb0d'; }
.codicon-jersey:before { content: '\eb0e'; }
.codicon-json:before { content: '\eb0f'; }
.codicon-bracket:before { content: '\eb0f'; }
.codicon-kebab-vertical:before { content: '\eb10'; }
.codicon-key:before { content: '\eb11'; }
.codicon-law:before { content: '\eb12'; }
.codicon-lightbulb-autofix:before { content: '\eb13'; }
.codicon-link-external:before { content: '\eb14'; }
.codicon-link:before { content: '\eb15'; }
.codicon-list-ordered:before { content: '\eb16'; }
.codicon-list-unordered:before { content: '\eb17'; }
.codicon-live-share:before { content: '\eb18'; }
.codicon-loading:before { content: '\eb19'; }
.codicon-location:before { content: '\eb1a'; }
.codicon-mail-read:before { content: '\eb1b'; }
.codicon-mail:before { content: '\eb1c'; }
.codicon-markdown:before { content: '\eb1d'; }
.codicon-megaphone:before { content: '\eb1e'; }
.codicon-mention:before { content: '\eb1f'; }
.codicon-milestone:before { content: '\eb20'; }
.codicon-mortar-board:before { content: '\eb21'; }
.codicon-move:before { content: '\eb22'; }
.codicon-multiple-windows:before { content: '\eb23'; }
.codicon-mute:before { content: '\eb24'; }
.codicon-no-newline:before { content: '\eb25'; }
.codicon-note:before { content: '\eb26'; }
.codicon-octoface:before { content: '\eb27'; }
.codicon-open-preview:before { content: '\eb28'; }
.codicon-package:before { content: '\eb29'; }
.codicon-paintcan:before { content: '\eb2a'; }
.codicon-pin:before { content: '\eb2b'; }
.codicon-play:before { content: '\eb2c'; }
.codicon-run:before { content: '\eb2c'; }
.codicon-plug:before { content: '\eb2d'; }
.codicon-preserve-case:before { content: '\eb2e'; }
.codicon-preview:before { content: '\eb2f'; }
.codicon-project:before { content: '\eb30'; }
.codicon-pulse:before { content: '\eb31'; }
.codicon-question:before { content: '\eb32'; }
.codicon-quote:before { content: '\eb33'; }
.codicon-radio-tower:before { content: '\eb34'; }
.codicon-reactions:before { content: '\eb35'; }
.codicon-references:before { content: '\eb36'; }
.codicon-refresh:before { content: '\eb37'; }
.codicon-regex:before { content: '\eb38'; }
.codicon-remote-explorer:before { content: '\eb39'; }
.codicon-remote:before { content: '\eb3a'; }
.codicon-remove:before { content: '\eb3b'; }
.codicon-replace-all:before { content: '\eb3c'; }
.codicon-replace:before { content: '\eb3d'; }
.codicon-repo-clone:before { content: '\eb3e'; }
.codicon-repo-force-push:before { content: '\eb3f'; }
.codicon-repo-pull:before { content: '\eb40'; }
.codicon-repo-push:before { content: '\eb41'; }
.codicon-report:before { content: '\eb42'; }
.codicon-request-changes:before { content: '\eb43'; }
.codicon-rocket:before { content: '\eb44'; }
.codicon-root-folder-opened:before { content: '\eb45'; }
.codicon-root-folder:before { content: '\eb46'; }
.codicon-rss:before { content: '\eb47'; }
.codicon-ruby:before { content: '\eb48'; }
.codicon-save-all:before { content: '\eb49'; }
.codicon-save-as:before { content: '\eb4a'; }
.codicon-save:before { content: '\eb4b'; }
.codicon-screen-full:before { content: '\eb4c'; }
.codicon-screen-normal:before { content: '\eb4d'; }
.codicon-search-stop:before { content: '\eb4e'; }
.codicon-server:before { content: '\eb50'; }
.codicon-settings-gear:before { content: '\eb51'; }
.codicon-settings:before { content: '\eb52'; }
.codicon-shield:before { content: '\eb53'; }
.codicon-smiley:before { content: '\eb54'; }
.codicon-sort-precedence:before { content: '\eb55'; }
.codicon-split-horizontal:before { content: '\eb56'; }
.codicon-split-vertical:before { content: '\eb57'; }
.codicon-squirrel:before { content: '\eb58'; }
.codicon-star-full:before { content: '\eb59'; }
.codicon-star-half:before { content: '\eb5a'; }
.codicon-symbol-class:before { content: '\eb5b'; }
.codicon-symbol-color:before { content: '\eb5c'; }
.codicon-symbol-customcolor:before { content: '\eb5c'; }
.codicon-symbol-constant:before { content: '\eb5d'; }
.codicon-symbol-enum-member:before { content: '\eb5e'; }
.codicon-symbol-field:before { content: '\eb5f'; }
.codicon-symbol-file:before { content: '\eb60'; }
.codicon-symbol-interface:before { content: '\eb61'; }
.codicon-symbol-keyword:before { content: '\eb62'; }
.codicon-symbol-misc:before { content: '\eb63'; }
.codicon-symbol-operator:before { content: '\eb64'; }
.codicon-symbol-property:before { content: '\eb65'; }
.codicon-wrench:before { content: '\eb65'; }
.codicon-wrench-subaction:before { content: '\eb65'; }
.codicon-symbol-snippet:before { content: '\eb66'; }
.codicon-tasklist:before { content: '\eb67'; }
.codicon-telescope:before { content: '\eb68'; }
.codicon-text-size:before { content: '\eb69'; }
.codicon-three-bars:before { content: '\eb6a'; }
.codicon-thumbsdown:before { content: '\eb6b'; }
.codicon-thumbsup:before { content: '\eb6c'; }
.codicon-tools:before { content: '\eb6d'; }
.codicon-triangle-down:before { content: '\eb6e'; }
.codicon-triangle-left:before { content: '\eb6f'; }
.codicon-triangle-right:before { content: '\eb70'; }
.codicon-triangle-up:before { content: '\eb71'; }
.codicon-twitter:before { content: '\eb72'; }
.codicon-unfold:before { content: '\eb73'; }
.codicon-unlock:before { content: '\eb74'; }
.codicon-unmute:before { content: '\eb75'; }
.codicon-unverified:before { content: '\eb76'; }
.codicon-verified:before { content: '\eb77'; }
.codicon-versions:before { content: '\eb78'; }
.codicon-vm-active:before { content: '\eb79'; }
.codicon-vm-outline:before { content: '\eb7a'; }
.codicon-vm-running:before { content: '\eb7b'; }
.codicon-watch:before { content: '\eb7c'; }
.codicon-whitespace:before { content: '\eb7d'; }
.codicon-whole-word:before { content: '\eb7e'; }
.codicon-window:before { content: '\eb7f'; }
.codicon-word-wrap:before { content: '\eb80'; }
.codicon-zoom-in:before { content: '\eb81'; }
.codicon-zoom-out:before { content: '\eb82'; }
.codicon-list-filter:before { content: '\eb83'; }
.codicon-list-flat:before { content: '\eb84'; }
.codicon-list-selection:before { content: '\eb85'; }
.codicon-selection:before { content: '\eb85'; }
.codicon-list-tree:before { content: '\eb86'; }
.codicon-debug-breakpoint-function-unverified:before { content: '\eb87'; }
.codicon-debug-breakpoint-function:before { content: '\eb88'; }
.codicon-debug-breakpoint-function-disabled:before { content: '\eb88'; }
.codicon-debug-stackframe-active:before { content: '\eb89'; }
.codicon-circle-small-filled:before { content: '\eb8a'; }
.codicon-debug-stackframe-dot:before { content: '\eb8a'; }
.codicon-debug-stackframe:before { content: '\eb8b'; }
.codicon-debug-stackframe-focused:before { content: '\eb8b'; }
.codicon-debug-breakpoint-unsupported:before { content: '\eb8c'; }
.codicon-symbol-string:before { content: '\eb8d'; }
.codicon-debug-reverse-continue:before { content: '\eb8e'; }
.codicon-debug-step-back:before { content: '\eb8f'; }
.codicon-debug-restart-frame:before { content: '\eb90'; }
.codicon-call-incoming:before { content: '\eb92'; }
.codicon-call-outgoing:before { content: '\eb93'; }
.codicon-menu:before { content: '\eb94'; }
.codicon-expand-all:before { content: '\eb95'; }
.codicon-feedback:before { content: '\eb96'; }
.codicon-group-by-ref-type:before { content: '\eb97'; }
.codicon-ungroup-by-ref-type:before { content: '\eb98'; }
.codicon-account:before { content: '\eb99'; }
.codicon-bell-dot:before { content: '\eb9a'; }
.codicon-debug-console:before { content: '\eb9b'; }
.codicon-library:before { content: '\eb9c'; }
.codicon-output:before { content: '\eb9d'; }
.codicon-run-all:before { content: '\eb9e'; }
.codicon-sync-ignored:before { content: '\eb9f'; }
.codicon-pinned:before { content: '\eba0'; }
.codicon-github-inverted:before { content: '\eba1'; }
.codicon-debug-alt:before { content: '\eb91'; }
.codicon-server-process:before { content: '\eba2'; }
.codicon-server-environment:before { content: '\eba3'; }
.codicon-pass:before { content: '\eba4'; }
.codicon-stop-circle:before { content: '\eba5'; }
.codicon-play-circle:before { content: '\eba6'; }
.codicon-record:before { content: '\eba7'; }
.codicon-debug-alt-small:before { content: '\eba8'; }
.codicon-vm-connect:before { content: '\eba9'; }
.codicon-cloud:before { content: '\ebaa'; }
.codicon-merge:before { content: '\ebab'; }
.codicon-export:before { content: '\ebac'; }
.codicon-graph-left:before { content: '\ebad'; }
.codicon-magnet:before { content: '\ebae'; }
.codicon-notebook:before { content: '\ebaf'; }
.codicon-redo:before { content: '\ebb0'; }
.codicon-check-all:before { content: '\ebb1'; }
.codicon-pinned-dirty:before { content: '\ebb2'; }
.codicon-pass-filled:before { content: '\ebb3'; }
.codicon-circle-large-filled:before { content: '\ebb4'; }
.codicon-circle-large:before { content: '\ebb5'; }
.codicon-circle-large-outline:before { content: '\ebb5'; }
.codicon-combine:before { content: '\ebb6'; }
.codicon-gather:before { content: '\ebb6'; }
.codicon-table:before { content: '\ebb7'; }
.codicon-variable-group:before { content: '\ebb8'; }
.codicon-type-hierarchy:before { content: '\ebb9'; }
.codicon-type-hierarchy-sub:before { content: '\ebba'; }
.codicon-type-hierarchy-super:before { content: '\ebbb'; }
.codicon-git-pull-request-create:before { content: '\ebbc'; }
.codicon-run-above:before { content: '\ebbd'; }
.codicon-run-below:before { content: '\ebbe'; }
.codicon-notebook-template:before { content: '\ebbf'; }
.codicon-debug-rerun:before { content: '\ebc0'; }
.codicon-workspace-trusted:before { content: '\ebc1'; }
.codicon-workspace-untrusted:before { content: '\ebc2'; }
.codicon-workspace-unspecified:before { content: '\ebc3'; }
.codicon-terminal-cmd:before { content: '\ebc4'; }
.codicon-terminal-debian:before { content: '\ebc5'; }
.codicon-terminal-linux:before { content: '\ebc6'; }
.codicon-terminal-powershell:before { content: '\ebc7'; }
.codicon-terminal-tmux:before { content: '\ebc8'; }
.codicon-terminal-ubuntu:before { content: '\ebc9'; }
.codicon-terminal-bash:before { content: '\ebca'; }
.codicon-arrow-swap:before { content: '\ebcb'; }
.codicon-copy:before { content: '\ebcc'; }
.codicon-person-add:before { content: '\ebcd'; }
.codicon-filter-filled:before { content: '\ebce'; }
.codicon-wand:before { content: '\ebcf'; }
.codicon-debug-line-by-line:before { content: '\ebd0'; }
.codicon-inspect:before { content: '\ebd1'; }
.codicon-layers:before { content: '\ebd2'; }
.codicon-layers-dot:before { content: '\ebd3'; }
.codicon-layers-active:before { content: '\ebd4'; }
.codicon-compass:before { content: '\ebd5'; }
.codicon-compass-dot:before { content: '\ebd6'; }
.codicon-compass-active:before { content: '\ebd7'; }
.codicon-azure:before { content: '\ebd8'; }
.codicon-issue-draft:before { content: '\ebd9'; }
.codicon-git-pull-request-closed:before { content: '\ebda'; }
.codicon-git-pull-request-draft:before { content: '\ebdb'; }
.codicon-debug-all:before { content: '\ebdc'; }
.codicon-debug-coverage:before { content: '\ebdd'; }
.codicon-run-errors:before { content: '\ebde'; }
.codicon-folder-library:before { content: '\ebdf'; }
.codicon-debug-continue-small:before { content: '\ebe0'; }
.codicon-beaker-stop:before { content: '\ebe1'; }
.codicon-graph-line:before { content: '\ebe2'; }
.codicon-graph-scatter:before { content: '\ebe3'; }
.codicon-pie-chart:before { content: '\ebe4'; }
.codicon-bracket-dot:before { content: '\ebe5'; }
.codicon-bracket-error:before { content: '\ebe6'; }
.codicon-lock-small:before { content: '\ebe7'; }
.codicon-azure-devops:before { content: '\ebe8'; }
.codicon-verified-filled:before { content: '\ebe9'; }
.codicon-newline:before { content: '\ebea'; }
.codicon-layout:before { content: '\ebeb'; }
.codicon-layout-activitybar-left:before { content: '\ebec'; }
.codicon-layout-activitybar-right:before { content: '\ebed'; }
.codicon-layout-panel-left:before { content: '\ebee'; }
.codicon-layout-panel-center:before { content: '\ebef'; }
.codicon-layout-panel-justify:before { content: '\ebf0'; }
.codicon-layout-panel-right:before { content: '\ebf1'; }
.codicon-layout-panel:before { content: '\ebf2'; }
.codicon-layout-sidebar-left:before { content: '\ebf3'; }
.codicon-layout-sidebar-right:before { content: '\ebf4'; }
.codicon-layout-statusbar:before { content: '\ebf5'; }
.codicon-layout-menubar:before { content: '\ebf6'; }
.codicon-layout-centered:before { content: '\ebf7'; }
.codicon-layout-sidebar-right-off:before { content: '\ec00'; }
.codicon-layout-panel-off:before { content: '\ec01'; }
.codicon-layout-sidebar-left-off:before { content: '\ec02'; }
.codicon-target:before { content: '\ebf8'; }
.codicon-indent:before { content: '\ebf9'; }
.codicon-record-small:before { content: '\ebfa'; }
.codicon-error-small:before { content: '\ebfb'; }
.codicon-arrow-circle-down:before { content: '\ebfc'; }
.codicon-arrow-circle-left:before { content: '\ebfd'; }
.codicon-arrow-circle-right:before { content: '\ebfe'; }
.codicon-arrow-circle-up:before { content: '\ebff'; }
.codicon-heart-filled:before { content: '\ec04'; }
.codicon-map:before { content: '\ec05'; }
.codicon-map-filled:before { content: '\ec06'; }
.codicon-circle-small:before { content: '\ec07'; }
.codicon-bell-slash:before { content: '\ec08'; }
.codicon-bell-slash-dot:before { content: '\ec09'; }
.codicon-comment-unresolved:before { content: '\ec0a'; }
.codicon-git-pull-request-go-to-changes:before { content: '\ec0b'; }
.codicon-git-pull-request-new-changes:before { content: '\ec0c'; }
.codicon-search-fuzzy:before { content: '\ec0d'; }
.codicon-comment-draft:before { content: '\ec0e'; }
.codicon-send:before { content: '\ec0f'; }
.codicon-sparkle:before { content: '\ec10'; }
.codicon-insert:before { content: '\ec11'; }
.codicon-dialog-error:before { content: '\ea87'; }
.codicon-dialog-warning:before { content: '\ea6c'; }
.codicon-dialog-info:before { content: '\ea74'; }
.codicon-dialog-close:before { content: '\ea76'; }
.codicon-tree-item-expanded:before { content: '\eab4'; }
.codicon-tree-filter-on-type-on:before { content: '\eb83'; }
.codicon-tree-filter-on-type-off:before { content: '\eb85'; }
.codicon-tree-filter-clear:before { content: '\ea76'; }
.codicon-tree-item-loading:before { content: '\eb19'; }
.codicon-menu-selection:before { content: '\eab2'; }
.codicon-menu-submenu:before { content: '\eab6'; }
.codicon-menubar-more:before { content: '\ea7c'; }
.codicon-scrollbar-button-left:before { content: '\eb6f'; }
.codicon-scrollbar-button-right:before { content: '\eb70'; }
.codicon-scrollbar-button-up:before { content: '\eb71'; }
.codicon-scrollbar-button-down:before { content: '\eb6e'; }
.codicon-toolbar-more:before { content: '\ea7c'; }
.codicon-quick-input-back:before { content: '\ea9b'; }
.codicon-widget-close:before { content: '\ea76'; }
.codicon-goto-previous-location:before { content: '\eaa1'; }
.codicon-goto-next-location:before { content: '\ea9a'; }
.codicon-diff-review-insert:before { content: '\ea60'; }
.codicon-diff-review-remove:before { content: '\eb3b'; }
.codicon-diff-review-close:before { content: '\ea76'; }
.codicon-parameter-hints-next:before { content: '\eab4'; }
.codicon-parameter-hints-previous:before { content: '\eab7'; }
.codicon-suggest-more-info:before { content: '\eab6'; }
.codicon-inline-suggestion-hints-next:before { content: '\eab6'; }
.codicon-inline-suggestion-hints-previous:before { content: '\eab5'; }
.codicon-diff-insert:before { content: '\ea60'; }
.codicon-diff-remove:before { content: '\eb3b'; }
.codicon-find-selection:before { content: '\eb85'; }
.codicon-find-collapsed:before { content: '\eab6'; }
.codicon-find-expanded:before { content: '\eab4'; }
.codicon-find-replace:before { content: '\eb3d'; }
.codicon-find-replace-all:before { content: '\eb3c'; }
.codicon-find-previous-match:before { content: '\eaa1'; }
.codicon-find-next-match:before { content: '\ea9a'; }
.codicon-folding-expanded:before { content: '\eab4'; }
.codicon-folding-collapsed:before { content: '\eab6'; }
.codicon-folding-manual-collapsed:before { content: '\eab6'; }
.codicon-folding-manual-expanded:before { content: '\eab4'; }
.codicon-marker-navigation-next:before { content: '\ea9a'; }
.codicon-marker-navigation-previous:before { content: '\eaa1'; }
.codicon-extensions-warning-message:before { content: '\ea6c'; }
.monaco-editor .inputarea.ime-input { background-color: #f7f7f7; }
.monaco-editor .view-overlays .current-line { border: 2px solid #eeeeee; }
.monaco-editor .margin-view-overlays .current-line-margin { border: 2px solid #eeeeee; }
.monaco-editor .bracket-indent-guide.lvl-0 { --guide-color: rgba(4, 49, 250, 0.3); --guide-color-active: #0431fa; }
.monaco-editor .bracket-indent-guide.lvl-1 { --guide-color: rgba(49, 147, 49, 0.3); --guide-color-active: #319331; }
.monaco-editor .bracket-indent-guide.lvl-2 { --guide-color: rgba(123, 56, 20, 0.3); --guide-color-active: #7b3814; }
.monaco-editor .bracket-indent-guide.lvl-3 { --guide-color: rgba(4, 49, 250, 0.3); --guide-color-active: #0431fa; }
.monaco-editor .bracket-indent-guide.lvl-4 { --guide-color: rgba(49, 147, 49, 0.3); --guide-color-active: #319331; }
.monaco-editor .bracket-indent-guide.lvl-5 { --guide-color: rgba(123, 56, 20, 0.3); --guide-color-active: #7b3814; }
.monaco-editor .bracket-indent-guide.lvl-6 { --guide-color: rgba(4, 49, 250, 0.3); --guide-color-active: #0431fa; }
.monaco-editor .bracket-indent-guide.lvl-7 { --guide-color: rgba(49, 147, 49, 0.3); --guide-color-active: #319331; }
.monaco-editor .bracket-indent-guide.lvl-8 { --guide-color: rgba(123, 56, 20, 0.3); --guide-color-active: #7b3814; }
.monaco-editor .bracket-indent-guide.lvl-9 { --guide-color: rgba(4, 49, 250, 0.3); --guide-color-active: #0431fa; }
.monaco-editor .bracket-indent-guide.lvl-10 { --guide-color: rgba(49, 147, 49, 0.3); --guide-color-active: #319331; }
.monaco-editor .bracket-indent-guide.lvl-11 { --guide-color: rgba(123, 56, 20, 0.3); --guide-color-active: #7b3814; }
.monaco-editor .bracket-indent-guide.lvl-12 { --guide-color: rgba(4, 49, 250, 0.3); --guide-color-active: #0431fa; }
.monaco-editor .bracket-indent-guide.lvl-13 { --guide-color: rgba(49, 147, 49, 0.3); --guide-color-active: #319331; }
.monaco-editor .bracket-indent-guide.lvl-14 { --guide-color: rgba(123, 56, 20, 0.3); --guide-color-active: #7b3814; }
.monaco-editor .bracket-indent-guide.lvl-15 { --guide-color: rgba(4, 49, 250, 0.3); --guide-color-active: #0431fa; }
.monaco-editor .bracket-indent-guide.lvl-16 { --guide-color: rgba(49, 147, 49, 0.3); --guide-color-active: #319331; }
.monaco-editor .bracket-indent-guide.lvl-17 { --guide-color: rgba(123, 56, 20, 0.3); --guide-color-active: #7b3814; }
.monaco-editor .bracket-indent-guide.lvl-18 { --guide-color: rgba(4, 49, 250, 0.3); --guide-color-active: #0431fa; }
.monaco-editor .bracket-indent-guide.lvl-19 { --guide-color: rgba(49, 147, 49, 0.3); --guide-color-active: #319331; }
.monaco-editor .bracket-indent-guide.lvl-20 { --guide-color: rgba(123, 56, 20, 0.3); --guide-color-active: #7b3814; }
.monaco-editor .bracket-indent-guide.lvl-21 { --guide-color: rgba(4, 49, 250, 0.3); --guide-color-active: #0431fa; }
.monaco-editor .bracket-indent-guide.lvl-22 { --guide-color: rgba(49, 147, 49, 0.3); --guide-color-active: #319331; }
.monaco-editor .bracket-indent-guide.lvl-23 { --guide-color: rgba(123, 56, 20, 0.3); --guide-color-active: #7b3814; }
.monaco-editor .bracket-indent-guide.lvl-24 { --guide-color: rgba(4, 49, 250, 0.3); --guide-color-active: #0431fa; }
.monaco-editor .bracket-indent-guide.lvl-25 { --guide-color: rgba(49, 147, 49, 0.3); --guide-color-active: #319331; }
.monaco-editor .bracket-indent-guide.lvl-26 { --guide-color: rgba(123, 56, 20, 0.3); --guide-color-active: #7b3814; }
.monaco-editor .bracket-indent-guide.lvl-27 { --guide-color: rgba(4, 49, 250, 0.3); --guide-color-active: #0431fa; }
.monaco-editor .bracket-indent-guide.lvl-28 { --guide-color: rgba(49, 147, 49, 0.3); --guide-color-active: #319331; }
.monaco-editor .bracket-indent-guide.lvl-29 { --guide-color: rgba(123, 56, 20, 0.3); --guide-color-active: #7b3814; }
.monaco-editor .vertical { box-shadow: 1px 0 0 0 var(--guide-color) inset; }
.monaco-editor .horizontal-top { border-top: 1px solid var(--guide-color); }
.monaco-editor .horizontal-bottom { border-bottom: 1px solid var(--guide-color); }
.monaco-editor .vertical.indent-active { box-shadow: 1px 0 0 0 var(--guide-color-active) inset; }
.monaco-editor .horizontal-top.indent-active { border-top: 1px solid var(--guide-color-active); }
.monaco-editor .horizontal-bottom.indent-active { border-bottom: 1px solid var(--guide-color-active); }
.monaco-editor .line-numbers.dimmed-line-number { color: rgba(153, 153, 153, 0.4); }
.monaco-editor .cursors-layer .cursor { background-color: #000000; border-color: #000000; color: #ffffff; }
.monaco-editor .unexpected-closing-bracket { color: rgba(255, 18, 18, 0.8); }
.monaco-editor .bracket-highlighting-0 { color: #0431fa; }
.monaco-editor .bracket-highlighting-1 { color: #319331; }
.monaco-editor .bracket-highlighting-2 { color: #7b3814; }
.monaco-editor .bracket-highlighting-3 { color: #0431fa; }
.monaco-editor .bracket-highlighting-4 { color: #319331; }
.monaco-editor .bracket-highlighting-5 { color: #7b3814; }
.monaco-editor .bracket-highlighting-6 { color: #0431fa; }
.monaco-editor .bracket-highlighting-7 { color: #319331; }
.monaco-editor .bracket-highlighting-8 { color: #7b3814; }
.monaco-editor .bracket-highlighting-9 { color: #0431fa; }
.monaco-editor .bracket-highlighting-10 { color: #319331; }
.monaco-editor .bracket-highlighting-11 { color: #7b3814; }
.monaco-editor .bracket-highlighting-12 { color: #0431fa; }
.monaco-editor .bracket-highlighting-13 { color: #319331; }
.monaco-editor .bracket-highlighting-14 { color: #7b3814; }
.monaco-editor .bracket-highlighting-15 { color: #0431fa; }
.monaco-editor .bracket-highlighting-16 { color: #319331; }
.monaco-editor .bracket-highlighting-17 { color: #7b3814; }
.monaco-editor .bracket-highlighting-18 { color: #0431fa; }
.monaco-editor .bracket-highlighting-19 { color: #319331; }
.monaco-editor .bracket-highlighting-20 { color: #7b3814; }
.monaco-editor .bracket-highlighting-21 { color: #0431fa; }
.monaco-editor .bracket-highlighting-22 { color: #319331; }
.monaco-editor .bracket-highlighting-23 { color: #7b3814; }
.monaco-editor .bracket-highlighting-24 { color: #0431fa; }
.monaco-editor .bracket-highlighting-25 { color: #319331; }
.monaco-editor .bracket-highlighting-26 { color: #7b3814; }
.monaco-editor .bracket-highlighting-27 { color: #0431fa; }
.monaco-editor .bracket-highlighting-28 { color: #319331; }
.monaco-editor .bracket-highlighting-29 { color: #7b3814; }
.monaco-editor .squiggly-error { background: url("data:image/svg+xml,%3Csvg%20xmlns%3D'http%3A%2F%2Fwww.w3.org%2F2000%2Fsvg'%20viewBox%3D'0%200%206%203'%20enable-background%3D'new%200%200%206%203'%20height%3D'3'%20width%3D'6'%3E%3Cg%20fill%3D'%23e51400'%3E%3Cpolygon%20points%3D'5.5%2C0%202.5%2C3%201.1%2C3%204.1%2C0'%2F%3E%3Cpolygon%20points%3D'4%2C0%206%2C2%206%2C0.6%205.4%2C0'%2F%3E%3Cpolygon%20points%3D'0%2C2%201%2C3%202.4%2C3%200%2C0.6'%2F%3E%3C%2Fg%3E%3C%2Fsvg%3E") repeat-x bottom left; }
.monaco-editor .squiggly-warning { background: url("data:image/svg+xml,%3Csvg%20xmlns%3D'http%3A%2F%2Fwww.w3.org%2F2000%2Fsvg'%20viewBox%3D'0%200%206%203'%20enable-background%3D'new%200%200%206%203'%20height%3D'3'%20width%3D'6'%3E%3Cg%20fill%3D'%23bf8803'%3E%3Cpolygon%20points%3D'5.5%2C0%202.5%2C3%201.1%2C3%204.1%2C0'%2F%3E%3Cpolygon%20points%3D'4%2C0%206%2C2%206%2C0.6%205.4%2C0'%2F%3E%3Cpolygon%20points%3D'0%2C2%201%2C3%202.4%2C3%200%2C0.6'%2F%3E%3C%2Fg%3E%3C%2Fsvg%3E") repeat-x bottom left; }
.monaco-editor .squiggly-info { background: url("data:image/svg+xml,%3Csvg%20xmlns%3D'http%3A%2F%2Fwww.w3.org%2F2000%2Fsvg'%20viewBox%3D'0%200%206%203'%20enable-background%3D'new%200%200%206%203'%20height%3D'3'%20width%3D'6'%3E%3Cg%20fill%3D'%231a85ff'%3E%3Cpolygon%20points%3D'5.5%2C0%202.5%2C3%201.1%2C3%204.1%2C0'%2F%3E%3Cpolygon%20points%3D'4%2C0%206%2C2%206%2C0.6%205.4%2C0'%2F%3E%3Cpolygon%20points%3D'0%2C2%201%2C3%202.4%2C3%200%2C0.6'%2F%3E%3C%2Fg%3E%3C%2Fsvg%3E") repeat-x bottom left; }
.monaco-editor .squiggly-hint { background: url("data:image/svg+xml,%3Csvg%20xmlns%3D%22http%3A%2F%2Fwww.w3.org%2F2000%2Fsvg%22%20height%3D%223%22%20width%3D%2212%22%3E%3Cg%20fill%3D%22%236c6c6c%22%3E%3Ccircle%20cx%3D%221%22%20cy%3D%221%22%20r%3D%221%22%2F%3E%3Ccircle%20cx%3D%225%22%20cy%3D%221%22%20r%3D%221%22%2F%3E%3Ccircle%20cx%3D%229%22%20cy%3D%221%22%20r%3D%221%22%2F%3E%3C%2Fg%3E%3C%2Fsvg%3E") no-repeat bottom left; }
.monaco-editor.showUnused .squiggly-inline-unnecessary { opacity: 0.467; }
.monaco-editor .selectionHighlight { background-color: rgba(173, 214, 255, 0.15); }

	.monaco-editor .diagonal-fill {
		background-image: linear-gradient(
			-45deg,
			rgba(34, 34, 34, 0.2) 12.5%,
			#0000 12.5%, #0000 50%,
			rgba(34, 34, 34, 0.2) 50%, rgba(34, 34, 34, 0.2) 62.5%,
			#0000 62.5%, #0000 100%
		);
		background-size: 8px 8px;
	}
	
.monaco-editor .findMatch { background-color: rgba(234, 92, 0, 0.33); }
.monaco-editor .currentFindMatch { background-color: #a8ac94; }
.monaco-editor .findScope { background-color: rgba(180, 180, 180, 0.3); }
.monaco-editor .find-widget { background-color: #f3f3f3; }
.monaco-editor .find-widget { box-shadow: 0 0 8px 2px rgba(0, 0, 0, 0.16); }
.monaco-editor .find-widget { color: #616161; }
.monaco-editor .find-widget.no-results .matchesCount { color: #a1260d; }
.monaco-editor .find-widget .monaco-sash { background-color: #c8c8c8; }

		.monaco-editor .find-widget .button:not(.disabled):hover,
		.monaco-editor .find-widget .codicon-find-selection:hover {
			background-color: rgba(184, 184, 184, 0.31) !important;
		}
	
.monaco-editor .find-widget .monaco-inputbox.synthetic-focus { outline-color: #0090f1; }
.monaco-editor .monaco-hover .hover-row:not(:first-child):not(:empty) { border-top: 1px solid rgba(200, 200, 200, 0.5); }
.monaco-editor .monaco-hover hr { border-top: 1px solid rgba(200, 200, 200, 0.5); }
.monaco-editor .monaco-hover hr { border-bottom: 0px solid rgba(200, 200, 200, 0.5); }
.monaco-editor { --vscode-foreground: #616161;
--vscode-disabledForeground: rgba(97, 97, 97, 0.5);
--vscode-errorForeground: #a1260d;
--vscode-descriptionForeground: #717171;
--vscode-icon-foreground: #424242;
--vscode-focusBorder: #0090f1;
--vscode-textSeparator-foreground: rgba(0, 0, 0, 0.18);
--vscode-textLink-foreground: #006ab1;
--vscode-textLink-activeForeground: #006ab1;
--vscode-textPreformat-foreground: #a31515;
--vscode-textBlockQuote-background: rgba(127, 127, 127, 0.1);
--vscode-textBlockQuote-border: rgba(0, 122, 204, 0.5);
--vscode-textCodeBlock-background: rgba(220, 220, 220, 0.4);
--vscode-widget-shadow: rgba(0, 0, 0, 0.16);
--vscode-input-background: #ffffff;
--vscode-input-foreground: #616161;
--vscode-inputOption-activeBorder: #007acc;
--vscode-inputOption-hoverBackground: rgba(184, 184, 184, 0.31);
--vscode-inputOption-activeBackground: rgba(0, 144, 241, 0.2);
--vscode-inputOption-activeForeground: #000000;
--vscode-input-placeholderForeground: rgba(97, 97, 97, 0.5);
--vscode-inputValidation-infoBackground: #d6ecf2;
--vscode-inputValidation-infoBorder: #007acc;
--vscode-inputValidation-warningBackground: #f6f5d2;
--vscode-inputValidation-warningBorder: #b89500;
--vscode-inputValidation-errorBackground: #f2dede;
--vscode-inputValidation-errorBorder: #be1100;
--vscode-dropdown-background: #ffffff;
--vscode-dropdown-foreground: #616161;
--vscode-dropdown-border: #cecece;
--vscode-button-foreground: #ffffff;
--vscode-button-separator: rgba(255, 255, 255, 0.4);
--vscode-button-background: #007acc;
--vscode-button-hoverBackground: #0062a3;
--vscode-button-secondaryForeground: #ffffff;
--vscode-button-secondaryBackground: #5f6a79;
--vscode-button-secondaryHoverBackground: #4c5561;
--vscode-badge-background: #c4c4c4;
--vscode-badge-foreground: #333333;
--vscode-scrollbar-shadow: #dddddd;
--vscode-scrollbarSlider-background: rgba(100, 100, 100, 0.4);
--vscode-scrollbarSlider-hoverBackground: rgba(100, 100, 100, 0.7);
--vscode-scrollbarSlider-activeBackground: rgba(0, 0, 0, 0.6);
--vscode-progressBar-background: #0e70c0;
--vscode-editorError-foreground: #e51400;
--vscode-editorWarning-foreground: #bf8803;
--vscode-editorInfo-foreground: #1a85ff;
--vscode-editorHint-foreground: #6c6c6c;
--vscode-sash-hoverBorder: #0090f1;
--vscode-editor-background: #f7f7f7;
--vscode-editor-foreground: #000000;
--vscode-editorStickyScroll-background: #f7f7f7;
--vscode-editorStickyScrollHover-background: #f0f0f0;
--vscode-editorWidget-background: #f3f3f3;
--vscode-editorWidget-foreground: #616161;
--vscode-editorWidget-border: #c8c8c8;
--vscode-quickInput-background: #f3f3f3;
--vscode-quickInput-foreground: #616161;
--vscode-quickInputTitle-background: rgba(0, 0, 0, 0.06);
--vscode-pickerGroup-foreground: #0066bf;
--vscode-pickerGroup-border: #cccedb;
--vscode-keybindingLabel-background: rgba(221, 221, 221, 0.4);
--vscode-keybindingLabel-foreground: #555555;
--vscode-keybindingLabel-border: rgba(204, 204, 204, 0.4);
--vscode-keybindingLabel-bottomBorder: rgba(187, 187, 187, 0.4);
--vscode-editor-selectionBackground: #add6ff;
--vscode-editor-inactiveSelectionBackground: #e5ebf1;
--vscode-editor-selectionHighlightBackground: rgba(173, 214, 255, 0.3);
--vscode-editor-findMatchBackground: #a8ac94;
--vscode-editor-findMatchHighlightBackground: rgba(234, 92, 0, 0.33);
--vscode-editor-findRangeHighlightBackground: rgba(180, 180, 180, 0.3);
--vscode-searchEditor-findMatchBackground: rgba(234, 92, 0, 0.22);
--vscode-search-resultsInfoForeground: #616161;
--vscode-editor-hoverHighlightBackground: rgba(173, 214, 255, 0.15);
--vscode-editorHoverWidget-background: #f3f3f3;
--vscode-editorHoverWidget-foreground: #616161;
--vscode-editorHoverWidget-border: #c8c8c8;
--vscode-editorHoverWidget-statusBarBackground: #e7e7e7;
--vscode-editorLink-activeForeground: #0000ff;
--vscode-editorInlayHint-foreground: #616161;
--vscode-editorInlayHint-background: rgba(196, 196, 196, 0.3);
--vscode-editorInlayHint-typeForeground: #616161;
--vscode-editorInlayHint-typeBackground: rgba(196, 196, 196, 0.3);
--vscode-editorInlayHint-parameterForeground: #616161;
--vscode-editorInlayHint-parameterBackground: rgba(196, 196, 196, 0.3);
--vscode-editorLightBulb-foreground: #ddb100;
--vscode-editorLightBulbAutoFix-foreground: #007acc;
--vscode-diffEditor-insertedTextBackground: rgba(155, 185, 85, 0.09);
--vscode-diffEditor-removedTextBackground: rgba(255, 0, 0, 0.03);
--vscode-diffEditor-insertedLineBackground: rgba(155, 185, 85, 0.09);
--vscode-diffEditor-removedLineBackground: rgba(255, 0, 0, 0.03);
--vscode-diffEditor-diagonalFill: rgba(34, 34, 34, 0.2);
--vscode-diffEditor-unchangedRegionBackground: #e4e4e4;
--vscode-diffEditor-unchangedRegionForeground: #4d4c4c;
--vscode-diffEditor-unchangedCodeBackground: rgba(184, 184, 184, 0.16);
--vscode-list-focusOutline: #0090f1;
--vscode-list-activeSelectionBackground: #d6ebff;
--vscode-list-activeSelectionForeground: #000000;
--vscode-list-inactiveSelectionBackground: #e4e6f1;
--vscode-list-hoverBackground: #f0f0f0;
--vscode-list-dropBackground: #d6ebff;
--vscode-list-highlightForeground: #0066bf;
--vscode-list-focusHighlightForeground: #0066bf;
--vscode-list-invalidItemForeground: #b89500;
--vscode-list-errorForeground: #b01011;
--vscode-list-warningForeground: #855f00;
--vscode-listFilterWidget-background: #f3f3f3;
--vscode-listFilterWidget-outline: rgba(0, 0, 0, 0);
--vscode-listFilterWidget-noMatchesOutline: #be1100;
--vscode-listFilterWidget-shadow: rgba(0, 0, 0, 0.16);
--vscode-list-filterMatchBackground: rgba(234, 92, 0, 0.33);
--vscode-tree-indentGuidesStroke: #a9a9a9;
--vscode-tree-inactiveIndentGuidesStroke: rgba(169, 169, 169, 0.4);
--vscode-tree-tableColumnsBorder: rgba(97, 97, 97, 0.13);
--vscode-tree-tableOddRowsBackground: rgba(97, 97, 97, 0.04);
--vscode-list-deemphasizedForeground: #8e8e90;
--vscode-checkbox-background: #ffffff;
--vscode-checkbox-selectBackground: #f3f3f3;
--vscode-checkbox-foreground: #616161;
--vscode-checkbox-border: #cecece;
--vscode-checkbox-selectBorder: #424242;
--vscode-quickInputList-focusForeground: #000000;
--vscode-quickInputList-focusBackground: #d6ebff;
--vscode-menu-foreground: #616161;
--vscode-menu-background: #ffffff;
--vscode-menu-selectionForeground: #000000;
--vscode-menu-selectionBackground: #d6ebff;
--vscode-menu-separatorBackground: #d4d4d4;
--vscode-toolbar-hoverBackground: rgba(184, 184, 184, 0.31);
--vscode-toolbar-activeBackground: rgba(166, 166, 166, 0.31);
--vscode-editor-snippetTabstopHighlightBackground: rgba(10, 50, 100, 0.2);
--vscode-editor-snippetFinalTabstopHighlightBorder: rgba(10, 50, 100, 0.5);
--vscode-breadcrumb-foreground: rgba(97, 97, 97, 0.8);
--vscode-breadcrumb-background: #f7f7f7;
--vscode-breadcrumb-focusForeground: #4e4e4e;
--vscode-breadcrumb-activeSelectionForeground: #4e4e4e;
--vscode-breadcrumbPicker-background: #f3f3f3;
--vscode-merge-currentHeaderBackground: rgba(64, 200, 174, 0.5);
--vscode-merge-currentContentBackground: rgba(64, 200, 174, 0.2);
--vscode-merge-incomingHeaderBackground: rgba(64, 166, 255, 0.5);
--vscode-merge-incomingContentBackground: rgba(64, 166, 255, 0.2);
--vscode-merge-commonHeaderBackground: rgba(96, 96, 96, 0.4);
--vscode-merge-commonContentBackground: rgba(96, 96, 96, 0.16);
--vscode-editorOverviewRuler-currentContentForeground: rgba(64, 200, 174, 0.5);
--vscode-editorOverviewRuler-incomingContentForeground: rgba(64, 166, 255, 0.5);
--vscode-editorOverviewRuler-commonContentForeground: rgba(96, 96, 96, 0.4);
--vscode-editorOverviewRuler-findMatchForeground: rgba(209, 134, 22, 0.49);
--vscode-editorOverviewRuler-selectionHighlightForeground: rgba(0, 0, 0, 0);
--vscode-minimap-findMatchHighlight: #d18616;
--vscode-minimap-selectionOccurrenceHighlight: #c9c9c9;
--vscode-minimap-selectionHighlight: #add6ff;
--vscode-minimap-errorHighlight: rgba(255, 18, 18, 0.7);
--vscode-minimap-warningHighlight: #bf8803;
--vscode-minimap-foregroundOpacity: #000000;
--vscode-minimapSlider-background: rgba(100, 100, 100, 0.2);
--vscode-minimapSlider-hoverBackground: rgba(100, 100, 100, 0.35);
--vscode-minimapSlider-activeBackground: rgba(0, 0, 0, 0.3);
--vscode-problemsErrorIcon-foreground: #e51400;
--vscode-problemsWarningIcon-foreground: #bf8803;
--vscode-problemsInfoIcon-foreground: #1a85ff;
--vscode-charts-foreground: #616161;
--vscode-charts-lines: rgba(97, 97, 97, 0.5);
--vscode-charts-red: #e51400;
--vscode-charts-blue: #1a85ff;
--vscode-charts-yellow: #bf8803;
--vscode-charts-orange: #d18616;
--vscode-charts-green: #388a34;
--vscode-charts-purple: #652d90;
--vscode-symbolIcon-arrayForeground: #616161;
--vscode-symbolIcon-booleanForeground: #616161;
--vscode-symbolIcon-classForeground: #d67e00;
--vscode-symbolIcon-colorForeground: #616161;
--vscode-symbolIcon-constantForeground: #616161;
--vscode-symbolIcon-constructorForeground: #652d90;
--vscode-symbolIcon-enumeratorForeground: #d67e00;
--vscode-symbolIcon-enumeratorMemberForeground: #007acc;
--vscode-symbolIcon-eventForeground: #d67e00;
--vscode-symbolIcon-fieldForeground: #007acc;
--vscode-symbolIcon-fileForeground: #616161;
--vscode-symbolIcon-folderForeground: #616161;
--vscode-symbolIcon-functionForeground: #652d90;
--vscode-symbolIcon-interfaceForeground: #007acc;
--vscode-symbolIcon-keyForeground: #616161;
--vscode-symbolIcon-keywordForeground: #616161;
--vscode-symbolIcon-methodForeground: #652d90;
--vscode-symbolIcon-moduleForeground: #616161;
--vscode-symbolIcon-namespaceForeground: #616161;
--vscode-symbolIcon-nullForeground: #616161;
--vscode-symbolIcon-numberForeground: #616161;
--vscode-symbolIcon-objectForeground: #616161;
--vscode-symbolIcon-operatorForeground: #616161;
--vscode-symbolIcon-packageForeground: #616161;
--vscode-symbolIcon-propertyForeground: #616161;
--vscode-symbolIcon-referenceForeground: #616161;
--vscode-symbolIcon-snippetForeground: #616161;
--vscode-symbolIcon-stringForeground: #616161;
--vscode-symbolIcon-structForeground: #616161;
--vscode-symbolIcon-textForeground: #616161;
--vscode-symbolIcon-typeParameterForeground: #616161;
--vscode-symbolIcon-unitForeground: #616161;
--vscode-symbolIcon-variableForeground: #007acc;
--vscode-editor-lineHighlightBorder: #eeeeee;
--vscode-editor-rangeHighlightBackground: rgba(253, 255, 0, 0.2);
--vscode-editor-symbolHighlightBackground: rgba(234, 92, 0, 0.33);
--vscode-editorCursor-foreground: #000000;
--vscode-editorWhitespace-foreground: rgba(51, 51, 51, 0.2);
--vscode-editorIndentGuide-background: #d3d3d3;
--vscode-editorIndentGuide-activeBackground: #939393;
--vscode-editorLineNumber-foreground: #999999;
--vscode-editorActiveLineNumber-foreground: #0b216f;
--vscode-editorLineNumber-activeForeground: #0b216f;
--vscode-editorRuler-foreground: #d3d3d3;
--vscode-editorCodeLens-foreground: #919191;
--vscode-editorBracketMatch-background: rgba(0, 100, 0, 0.1);
--vscode-editorBracketMatch-border: #b9b9b9;
--vscode-editorOverviewRuler-border: rgba(127, 127, 127, 0.3);
--vscode-editorGutter-background: #f7f7f7;
--vscode-editorUnnecessaryCode-opacity: rgba(0, 0, 0, 0.47);
--vscode-editorGhostText-foreground: rgba(0, 0, 0, 0.47);
--vscode-editorOverviewRuler-rangeHighlightForeground: rgba(0, 122, 204, 0.6);
--vscode-editorOverviewRuler-errorForeground: rgba(255, 18, 18, 0.7);
--vscode-editorOverviewRuler-warningForeground: #bf8803;
--vscode-editorOverviewRuler-infoForeground: #1a85ff;
--vscode-editorBracketHighlight-foreground1: #0431fa;
--vscode-editorBracketHighlight-foreground2: #319331;
--vscode-editorBracketHighlight-foreground3: #7b3814;
--vscode-editorBracketHighlight-foreground4: rgba(0, 0, 0, 0);
--vscode-editorBracketHighlight-foreground5: rgba(0, 0, 0, 0);
--vscode-editorBracketHighlight-foreground6: rgba(0, 0, 0, 0);
--vscode-editorBracketHighlight-unexpectedBracket-foreground: rgba(255, 18, 18, 0.8);
--vscode-editorBracketPairGuide-background1: rgba(0, 0, 0, 0);
--vscode-editorBracketPairGuide-background2: rgba(0, 0, 0, 0);
--vscode-editorBracketPairGuide-background3: rgba(0, 0, 0, 0);
--vscode-editorBracketPairGuide-background4: rgba(0, 0, 0, 0);
--vscode-editorBracketPairGuide-background5: rgba(0, 0, 0, 0);
--vscode-editorBracketPairGuide-background6: rgba(0, 0, 0, 0);
--vscode-editorBracketPairGuide-activeBackground1: rgba(0, 0, 0, 0);
--vscode-editorBracketPairGuide-activeBackground2: rgba(0, 0, 0, 0);
--vscode-editorBracketPairGuide-activeBackground3: rgba(0, 0, 0, 0);
--vscode-editorBracketPairGuide-activeBackground4: rgba(0, 0, 0, 0);
--vscode-editorBracketPairGuide-activeBackground5: rgba(0, 0, 0, 0);
--vscode-editorBracketPairGuide-activeBackground6: rgba(0, 0, 0, 0);
--vscode-editorUnicodeHighlight-border: #cea33d;
--vscode-editorUnicodeHighlight-background: rgba(206, 163, 61, 0.08);
--vscode-editorOverviewRuler-bracketMatchForeground: #a0a0a0;
--vscode-editor-linkedEditingBackground: rgba(255, 0, 0, 0.3);
--vscode-editor-wordHighlightBackground: rgba(87, 87, 87, 0.25);
--vscode-editor-wordHighlightStrongBackground: #d6ebff;
--vscode-editor-wordHighlightTextBackground: rgba(173, 214, 255, 0.45);
--vscode-editorOverviewRuler-wordHighlightForeground: rgba(160, 160, 160, 0.8);
--vscode-editorOverviewRuler-wordHighlightStrongForeground: rgba(192, 160, 192, 0.8);
--vscode-editorOverviewRuler-wordHighlightTextForeground: rgba(0, 0, 0, 0);
--vscode-peekViewTitle-background: #f3f3f3;
--vscode-peekViewTitleLabel-foreground: #000000;
--vscode-peekViewTitleDescription-foreground: #616161;
--vscode-peekView-border: #1a85ff;
--vscode-peekViewResult-background: #f3f3f3;
--vscode-peekViewResult-lineForeground: #646465;
--vscode-peekViewResult-fileForeground: #1e1e1e;
--vscode-peekViewResult-selectionBackground: rgba(51, 153, 255, 0.2);
--vscode-peekViewResult-selectionForeground: #6c6c6c;
--vscode-peekViewEditor-background: #f2f8fc;
--vscode-peekViewEditorGutter-background: #f2f8fc;
--vscode-peekViewEditorStickyScroll-background: #f2f8fc;
--vscode-peekViewResult-matchHighlightBackground: rgba(234, 92, 0, 0.3);
--vscode-peekViewEditor-matchHighlightBackground: rgba(245, 216, 2, 0.87);
--vscode-editorMarkerNavigationError-background: #e51400;
--vscode-editorMarkerNavigationError-headerBackground: rgba(229, 20, 0, 0.1);
--vscode-editorMarkerNavigationWarning-background: #bf8803;
--vscode-editorMarkerNavigationWarning-headerBackground: rgba(191, 136, 3, 0.1);
--vscode-editorMarkerNavigationInfo-background: #1a85ff;
--vscode-editorMarkerNavigationInfo-headerBackground: rgba(26, 133, 255, 0.1);
--vscode-editorMarkerNavigation-background: #f7f7f7;
--vscode-editorHoverWidget-highlightForeground: #0066bf;
--vscode-editorSuggestWidget-background: #f3f3f3;
--vscode-editorSuggestWidget-border: #c8c8c8;
--vscode-editorSuggestWidget-foreground: #000000;
--vscode-editorSuggestWidget-selectedForeground: #000000;
--vscode-editorSuggestWidget-selectedBackground: #d6ebff;
--vscode-editorSuggestWidget-highlightForeground: #0066bf;
--vscode-editorSuggestWidget-focusHighlightForeground: #0066bf;
--vscode-editorSuggestWidgetStatus-foreground: rgba(0, 0, 0, 0.5);
--vscode-editor-foldBackground: rgba(173, 214, 255, 0.3);
--vscode-editorGutter-foldingControlForeground: #424242; }

.mtk1 { color: #000000; }
.mtk2 { color: #f7f7f7; }
.mtk3 { color: #808080; }
.mtk4 { color: #ff0000; }
.mtk5 { color: #0451a5; }
.mtk6 { color: #0000ff; }
.mtk7 { color: #098658; }
.mtk8 { color: #008000; }
.mtk9 { color: #dd0000; }
.mtk10 { color: #811f3f; }
.mtk11 { color: #e00000; }
.mtk12 { color: #116644; }
.mtk13 { color: #383838; }
.mtk14 { color: #257693; }
.mtk15 { color: #795e26; }
.mtk16 { color: #001080; }
.mtk17 { color: #cd3131; }
.mtk18 { color: #863b00; }
.mtk19 { color: #af00db; }
.mtk20 { color: #c43b3b; }
.mtk21 { color: #800000; }
.mtk22 { color: #3030c0; }
.mtk23 { color: #666666; }
.mtk24 { color: #778899; }
.mtk25 { color: #c700c7; }
.mtk26 { color: #a31515; }
.mtk27 { color: #4f76ac; }
.mtk28 { color: #008080; }
.mtk29 { color: #001188; }
.mtk30 { color: #4864aa; }
.mtki { font-style: italic; }
.mtkb { font-weight: bold; }
.mtku { text-decoration: underline; text-underline-position: under; }
.mtks { text-decoration: line-through; }
.mtks.mtku { text-decoration: underline line-through; text-underline-position: under; }</style></head><body class="" data-new-gr-c-s-check-loaded="14.1162.0" data-gr-ext-installed="" data-new-gr-c-s-loaded="14.1162.0" style="overscroll-behavior: contain;"><iframe tabindex="-1" aria-hidden="true" style="position: absolute; width: 9em; height: 9em; top: -99em;" src="./Sentiment Analysis on Amazon_Alexa_review_files/saved_resource.html"></iframe><div style="visibility: hidden; overflow: hidden; position: absolute; top: 0px; height: 1px; width: auto; padding: 0px; border: 0px; margin: 0px; text-align: left; text-indent: 0px; text-transform: none; line-height: normal; letter-spacing: normal; word-spacing: normal;"><div id="MathJax_Hidden"></div></div><div id="MathJax_Message" style="display: none;"></div><div class="scripts"><script nonce="">window.performance.mark('external_scripts_start');</script><script src="./Sentiment Analysis on Amazon_Alexa_review_files/gapi_loader.js.download" nonce=""></script><script src="./Sentiment Analysis on Amazon_Alexa_review_files/socketio_binary.js.download" nonce=""></script><script src="./Sentiment Analysis on Amazon_Alexa_review_files/analytics_binary.js.download" nonce=""></script><script src="./Sentiment Analysis on Amazon_Alexa_review_files/MathJax.js.download" nonce=""></script><script src="./Sentiment Analysis on Amazon_Alexa_review_files/js_monaco_editor_vs_loader.js.download" nonce=""></script><script nonce="">window.performance.mark('external_scripts_end'); window.performance.measure('external_scripts', 'external_scripts_start', 'external_scripts_end'); window.performance.mark('colab_load_start');
          window.Polymer = {
            'legacyOptimizations': true,
          };
          </script><script src="./Sentiment Analysis on Amazon_Alexa_review_files/external_polymer_binary.js.download" nonce=""></script><script nonce="">
          window.performance.mark('colab_load_end');
          window.performance.measure('colab_load', 'colab_load_start', 'colab_load_end');
        </script></div><paper-toast text="" id="message-area" class="message-area" style="outline: none; position: fixed; box-sizing: border-box; left: 0px; top: 683.2px; max-width: 288px; max-height: 48.8px; display: none;" aria-hidden="true"><template shadowrootmode="open"><style scope="paper-toast">:host {
  display: block;
        position: fixed;
        background-color: var(--paper-toast-background-color, #323232);
        color: var(--paper-toast-color, #f1f1f1);
        min-height: 48px;
        min-width: 288px;
        padding: 16px 24px;
        box-sizing: border-box;
        box-shadow: 0 2px 5px 0 rgba(0, 0, 0, 0.26);
        border-radius: 2px;
        margin: 12px;
        font-size: 14px;
        cursor: default;
        -webkit-transition: -webkit-transform 0.3s, opacity 0.3s;
        transition: transform 0.3s, opacity 0.3s;
        opacity: 0;
        -webkit-transform: translateY(100px);
        transform: translateY(100px);
        font-family: var(--paper-font-common-base_-_font-family); -webkit-font-smoothing: var(--paper-font-common-base_-_-webkit-font-smoothing);
}

:host(.capsule) {
  border-radius: 24px;
}

:host(.fit-bottom) {
  width: 100%;
        min-width: 0;
        border-radius: 0;
        margin: 0;
}

:host(.paper-toast-open) {
  opacity: 1;
        -webkit-transform: translateY(0px);
        transform: translateY(0px);
}</style>
    

    <span id="label">Runtime disconnected</span>
    <slot></slot>
</template>
      <span class="paper-toast-extra"></span>
      <md-icon-button class="close" title="Close" aria-label="Close" role="presentation" value=""><template shadowrootmode="open" shadowrootdelegatesfocus><!----><button id="button" class="icon-button  standard " aria-label="Close">
        <!--?lit$568155653$--><md-focus-ring part="focus-ring" for="button" aria-hidden="true"><template shadowrootmode="open"><!----></template></md-focus-ring>
        <!--?lit$568155653$--><md-ripple aria-hidden="true"><template shadowrootmode="open"><!----><div class="surface"></div></template></md-ripple>
        <!--?lit$568155653$--><span class="icon"><slot></slot></span>
        <!--?lit$568155653$-->
        <!--?lit$568155653$--><span class="touch"></span>
        <!--?lit$568155653$-->
  </button></template>
        <md-icon aria-hidden="true"><template shadowrootmode="open"><!----><slot></slot></template>close</md-icon>
      </md-icon-button>
    </paper-toast><iron-a11y-announcer><template shadowrootmode="open"><style scope="iron-a11y-announcer">:host {
  display: inline-block;
        position: fixed;
        clip: rect(0px,0px,0px,0px);
}</style>
    
    <div aria-live="polite">Mounting Google Drive...</div>
</template></iron-a11y-announcer><paper-toast text="" id="message-area-secondary" class="message-area" style="outline: none; position: fixed; box-sizing: border-box; left: 0px; top: 683.2px; max-width: 288px; max-height: 48.8px; display: none;" aria-hidden="true"><template shadowrootmode="open"><style scope="paper-toast">:host {
  display: block;
        position: fixed;
        background-color: var(--paper-toast-background-color, #323232);
        color: var(--paper-toast-color, #f1f1f1);
        min-height: 48px;
        min-width: 288px;
        padding: 16px 24px;
        box-sizing: border-box;
        box-shadow: 0 2px 5px 0 rgba(0, 0, 0, 0.26);
        border-radius: 2px;
        margin: 12px;
        font-size: 14px;
        cursor: default;
        -webkit-transition: -webkit-transform 0.3s, opacity 0.3s;
        transition: transform 0.3s, opacity 0.3s;
        opacity: 0;
        -webkit-transform: translateY(100px);
        transform: translateY(100px);
        font-family: var(--paper-font-common-base_-_font-family); -webkit-font-smoothing: var(--paper-font-common-base_-_-webkit-font-smoothing);
}

:host(.capsule) {
  border-radius: 24px;
}

:host(.fit-bottom) {
  width: 100%;
        min-width: 0;
        border-radius: 0;
        margin: 0;
}

:host(.paper-toast-open) {
  opacity: 1;
        -webkit-transform: translateY(0px);
        transform: translateY(0px);
}</style>
    

    <span id="label">Mounting Google Drive...</span>
    <slot></slot>
</template>
      <span class="paper-toast-extra"></span>
      <md-icon-button class="close" title="Close" aria-label="Close" role="presentation" value=""><template shadowrootmode="open" shadowrootdelegatesfocus><!----><button id="button" class="icon-button  standard " aria-label="Close">
        <!--?lit$568155653$--><md-focus-ring part="focus-ring" for="button" aria-hidden="true"><template shadowrootmode="open"><!----></template></md-focus-ring>
        <!--?lit$568155653$--><md-ripple aria-hidden="true"><template shadowrootmode="open"><!----><div class="surface   "></div></template></md-ripple>
        <!--?lit$568155653$--><span class="icon"><slot></slot></span>
        <!--?lit$568155653$-->
        <!--?lit$568155653$--><span class="touch"></span>
        <!--?lit$568155653$-->
  </button></template>
        <md-icon aria-hidden="true"><template shadowrootmode="open"><!----><slot></slot></template>close</md-icon>
      </md-icon-button>
    </paper-toast><div ng-non-bindable=""></div><div class="gb_q" ng-non-bindable=""><div class="gb_Ec"><div>Google Account</div><div class="gb_Eb">BHIMRAO PAWAR</div><div>bhimrao.pawar.07@gmail.com</div></div></div><script nonce="">this.gbar_=this.gbar_||{};(function(_){var window=this;
try{
var sd;_.pd=function(a){var b=typeof a;return"object"==b&&null!=a||"function"==b};_.qd=function(a,b){if(void 0!==a.i||void 0!==a.j)throw Error("u");a.j=b;_.Mc(a)};_.rd=class extends _.Q{constructor(a){super(a)}};sd=class extends _.$c{};_.td=function(a,b){if(b in a.i)return a.i[b];throw new sd;};_.ud=function(a){return _.td(_.Xc.i(),a)};
}catch(e){_._DumpException(e)}
try{
/*

 SPDX-License-Identifier: Apache-2.0
*/
var yd,Hd,Jd;_.vd=function(a){if(null==a)return a;if("string"===typeof a){if(!a)return;a=+a}if("number"===typeof a)return Number.isFinite(a)?a|0:void 0};_.wd=function(a){const b=a.length;if(0<b){const c=Array(b);for(let d=0;d<b;d++)c[d]=a[d];return c}return[]};yd=function(a){return new _.xd(b=>b.substr(0,a.length+1).toLowerCase()===a+":")};_.Ad=function(a){if(zd.test(a))return a};_.Dd=function(a){return a instanceof _.Bd?_.Cd(a):_.Ad(a)};
_.Ed=function(a,b){var c=Array.prototype.slice.call(arguments,1);return function(){var d=c.slice();d.push.apply(d,arguments);return a.apply(this,d)}};_.Fd=function(a,b,c){return void 0!==_.jb(a,b,c,!1)};_.Gd=function(a,b){return _.vd(_.rc(a,b))};_.R=function(a,b){a=_.rc(a,b);return null==a?a:Number.isFinite(a)?a|0:void 0};_.S=function(a,b,c=0){return _.kb(_.Gd(a,b),c)};Hd=0;_.Id=function(a){return Object.prototype.hasOwnProperty.call(a,_.wb)&&a[_.wb]||(a[_.wb]=++Hd)};Jd=function(a){return a};
_.Kd=function(a){var b=null,c=_.q.trustedTypes;if(!c||!c.createPolicy)return b;try{b=c.createPolicy(a,{createHTML:Jd,createScript:Jd,createScriptURL:Jd})}catch(d){_.q.console&&_.q.console.error(d.message)}return b};_.Ld=function(a,b){return 0==a.lastIndexOf(b,0)};_.Md=function(a,b){return Array.prototype.some.call(a,b,void 0)};try{(new self.OffscreenCanvas(0,0)).getContext("2d")}catch(a){};var Nd;_.Od=function(){void 0===Nd&&(Nd=_.Kd("ogb-qtm#html"));return Nd};var Rd;_.Pd=class{constructor(a){this.i=a}toString(){return this.i+""}};_.Qd=function(a){return a instanceof _.Pd&&a.constructor===_.Pd?a.i:"type_error:TrustedResourceUrl"};Rd={};_.Sd=function(a){const b=_.Od();a=b?b.createScriptURL(a):a;return new _.Pd(a,Rd)};var Td;_.Bd=class{constructor(a){this.i=a}toString(){return this.i.toString()}};_.Cd=function(a){return a instanceof _.Bd&&a.constructor===_.Bd?a.i:"type_error:SafeUrl"};Td={};_.Ud=function(a){return new _.Bd(a,Td)};_.Vd=_.Ud("about:invalid#zClosurez");_.Wd={};_.Xd=class{constructor(a){this.i=a}toString(){return this.i.toString()}};_.Yd=new _.Xd("",_.Wd);_.Zd=RegExp("^[-+,.\"'%_!#/ a-zA-Z0-9\\[\\]]+$");_.$d=RegExp("\\b(url\\([ \t\n]*)('[ -&(-\\[\\]-~]*'|\"[ !#-\\[\\]-~]*\"|[!#-&*-\\[\\]-~]*)([ \t\n]*\\))","g");_.ae=RegExp("\\b(calc|cubic-bezier|fit-content|hsl|hsla|linear-gradient|matrix|minmax|radial-gradient|repeat|rgb|rgba|(rotate|scale|translate)(X|Y|Z|3d)?|steps|var)\\([-+*/0-9a-zA-Z.%#\\[\\], ]+\\)","g");var be;be={};_.de=function(a){return a instanceof _.ce&&a.constructor===_.ce?a.i:"type_error:SafeHtml"};_.ee=function(a){const b=_.Od();a=b?b.createHTML(a):a;return new _.ce(a,be)};_.ce=class{constructor(a){this.i=a}toString(){return this.i.toString()}};_.fe=new _.ce(_.q.trustedTypes&&_.q.trustedTypes.emptyHTML||"",be);_.ge=_.ee("<br>");_.he=_.Ud("about:invalid#zClosurez");var zd;_.xd=class{constructor(a){this.lh=a}};_.ie=[yd("data"),yd("http"),yd("https"),yd("mailto"),yd("ftp"),new _.xd(a=>/^[^:]*([/?#]|$)/.test(a))];zd=/^\s*(?!javascript:)(?:[a-z0-9+.-]+:|[^:\/?#]*(?:[\/?#]|$))/i;var ke;_.je=function(a){let b=!1,c;return function(){b||(c=a(),b=!0);return c}}(function(){var a=document.createElement("div"),b=document.createElement("div");b.appendChild(document.createElement("div"));a.appendChild(b);b=a.firstChild.firstChild;a.innerHTML=_.de(_.fe);return!b.parentElement});ke=/^[\w+/_-]+[=]{0,2}$/;
_.le=function(a){a=(a||_.q).document;return a.querySelector?(a=a.querySelector('style[nonce],link[rel="stylesheet"][nonce]'))&&(a=a.nonce||a.getAttribute("nonce"))&&ke.test(a)?a:"":""};_.me=function(a,b){this.width=a;this.height=b};_.m=_.me.prototype;_.m.aspectRatio=function(){return this.width/this.height};_.m.Jb=function(){return!(this.width*this.height)};_.m.ceil=function(){this.width=Math.ceil(this.width);this.height=Math.ceil(this.height);return this};_.m.floor=function(){this.width=Math.floor(this.width);this.height=Math.floor(this.height);return this};_.m.round=function(){this.width=Math.round(this.width);this.height=Math.round(this.height);return this};_.T=function(a,b){var c=b||document;if(c.getElementsByClassName)a=c.getElementsByClassName(a)[0];else{c=document;var d=b||c;a=d.querySelectorAll&&d.querySelector&&a?d.querySelector(a?"."+a:""):_.ne(c,a,b)[0]||null}return a||null};
_.ne=function(a,b,c){var d;a=c||a;if(a.querySelectorAll&&a.querySelector&&b)return a.querySelectorAll(b?"."+b:"");if(b&&a.getElementsByClassName){var e=a.getElementsByClassName(b);return e}e=a.getElementsByTagName("*");if(b){var f={};for(c=d=0;a=e[c];c++){var g=a.className;"function"==typeof g.split&&_.ta(g.split(/\s+/),b)&&(f[d++]=a)}f.length=d;return f}return e};_.pe=function(a){return _.oe(document,a)};
_.oe=function(a,b){b=String(b);"application/xhtml+xml"===a.contentType&&(b=b.toLowerCase());return a.createElement(b)};_.qe=function(a){for(var b;b=a.firstChild;)a.removeChild(b)};_.re=function(a){return 9==a.nodeType?a:a.ownerDocument||a.document};
}catch(e){_._DumpException(e)}
try{
_.pj=function(a){var b;let c;const d=null==(c=(b=(a.ownerDocument&&a.ownerDocument.defaultView||window).document).querySelector)?void 0:c.call(b,"script[nonce]");(b=d?d.nonce||d.getAttribute("nonce")||"":"")&&a.setAttribute("nonce",b)};_.qj=function(a){if(!a)return null;a=_.G(a,4);var b;null===a||void 0===a?b=null:b=_.Sd(a);return b};_.rj=class extends _.Q{constructor(a){super(a)}};_.sj=function(a,b){return(b||document).getElementsByTagName(String(a))};
}catch(e){_._DumpException(e)}
try{
var uj=function(a,b,c){a<b?tj(a+1,b):_.Fc.log(Error("W`"+a+"`"+b),{url:c})},tj=function(a,b){if(vj){const c=_.pe("SCRIPT");c.async=!0;c.type="text/javascript";c.charset="UTF-8";c.src=_.Qd(vj);_.pj(c);c.onerror=_.Ed(uj,a,b,c.src);_.sj("HEAD")[0].appendChild(c)}},wj=class extends _.Q{constructor(a){super(a)}};var xj=_.E(_.Rc,wj,17)||new wj,yj,vj=(yj=_.E(xj,_.rj,1))?_.qj(yj):null,zj,Aj=(zj=_.E(xj,_.rj,2))?_.qj(zj):null,Bj=function(){tj(1,2);if(Aj){const b=_.pe("LINK");b.setAttribute("type","text/css");b.rel="stylesheet";b.href=_.Qd(Aj).toString();var a=_.le(b.ownerDocument&&b.ownerDocument.defaultView);a&&b.setAttribute("nonce",a);(a=_.le())&&b.setAttribute("nonce",a);_.sj("HEAD")[0].appendChild(b)}};(function(){const a=_.Sc();if(_.C(a,18))Bj();else{const b=_.Gd(a,19)||0;window.addEventListener("load",()=>{window.setTimeout(Bj,b)})}})();
}catch(e){_._DumpException(e)}
})(this.gbar_);
// Google Inc.
</script><div style="position: absolute; width: 0px; height: 0px; overflow: hidden; padding: 0px; border: 0px; margin: 0px;"><div id="MathJax_Font_Test" style="position: absolute; visibility: hidden; top: 0px; left: 0px; width: auto; min-width: 0px; max-width: none; padding: 0px; border: 0px; margin: 0px; white-space: nowrap; text-align: left; text-indent: 0px; text-transform: none; line-height: normal; letter-spacing: normal; word-spacing: normal; font-size: 40px; font-weight: normal; font-style: normal; font-family: MathJax_Size1, monospace;"></div></div><iframe id="hfcr" src="./Sentiment Analysis on Amazon_Alexa_review_files/RotateCookiesPage.html" style="display: none;"></iframe><div class="notebook-vertical" style="position: relative;">
      <div class="top-floater"><div role="banner">
    <colab-header-skip-button><template shadowrootmode="open"><!----><a id="skiplink" class="skip-link" href="https://colab.research.google.com/drive/1gUxaP4tzRrFzcouV6qd9DYmCT9M1TwLX?authuser=0#top-toolbar"><!--?lit$568155653$-->Skip to main content</a></template></colab-header-skip-button>
    <!--?lit$568155653$-->
    <!--?lit$568155653$-->
    <!--?lit$568155653$-->
          <div id="private-outputs-warning" class="header-warning private-outputs-warning hidden">
            <!--?lit$568155653$-->This notebook is open with private outputs. Outputs will not be saved. You can disable this in <a href="https://colab.research.google.com/drive/1gUxaP4tzRrFzcouV6qd9DYmCT9M1TwLX?authuser=0#" id="private-outputs-notebook-info-link" command="notebook-settings" aria-describedby="private-outputs-notebook-info-link-tooltip">Notebook settings</a><colab-tooltip-trigger aria-hidden="true" for="private-outputs-notebook-info-link" id="private-outputs-notebook-info-link-tooltip"><template shadowrootmode="open"><!----><!--?lit$568155653$--><!----><div><!--?lit$568155653$-->Open notebook settings</div><!----><!--?--></template>
        </colab-tooltip-trigger>.
          <mwc-icon-button class="close" icon="close" title="Close"><template shadowrootmode="open"><!----><button class="mdc-icon-button mdc-icon-button--display-flex" aria-label="Close"><!--?lit$568155653$-->
    <!--?lit$568155653$--><i class="material-icons"><!--?lit$568155653$-->close</i>
    <span><slot></slot></span>
  </button></template></mwc-icon-button></div>
        

    <div id="header" class="horizontal layout" style="display: none;">
      <div id="header-background"><div></div></div>
      <div id="header-content">
        <!--?lit$568155653$-->
        <!--?lit$568155653$--><div id="header-logo">
              <!--?lit$568155653$--> <!--?lit$568155653$--><a href="https://drive.google.com/drive/search?q=owner%3Ame%20(type%3Aapplication%2Fvnd.google.colaboratory%20%7C%7C%20type%3Aapplication%2Fvnd.google.colab)&amp;authuser=0" aria-label="View in Google Drive">
        <!--?lit$568155653$--><md-icon class="colab-large-icon" aria-hidden="true"><template shadowrootmode="open"><!----><slot></slot></template><!--?lit$568155653$--><svg viewBox="0 0 24 24"><!--?lit$568155653$-->
      <g id="colab-logo">
        <path d="M4.54,9.46,2.19,7.1a6.93,6.93,0,0,0,0,9.79l2.36-2.36A3.59,3.59,0,0,1,4.54,9.46Z" style="fill:var(--colab-logo-dark)"></path>
        <path d="M2.19,7.1,4.54,9.46a3.59,3.59,0,0,1,5.08,0l1.71-2.93h0l-.1-.08h0A6.93,6.93,0,0,0,2.19,7.1Z" style="fill:var(--colab-logo-light)"></path>
        <path d="M11.34,17.46h0L9.62,14.54a3.59,3.59,0,0,1-5.08,0L2.19,16.9a6.93,6.93,0,0,0,9,.65l.11-.09" style="fill:var(--colab-logo-light)"></path>
        <path d="M12,7.1a6.93,6.93,0,0,0,0,9.79l2.36-2.36a3.59,3.59,0,1,1,5.08-5.08L21.81,7.1A6.93,6.93,0,0,0,12,7.1Z" style="fill:var(--colab-logo-light)"></path>
        <path d="M21.81,7.1,19.46,9.46a3.59,3.59,0,0,1-5.08,5.08L12,16.9A6.93,6.93,0,0,0,21.81,7.1Z" style="fill:var(--colab-logo-dark)"></path>
      </g></svg></md-icon>
      </a><!--?-->
            </div>
        <div id="header-doc-toolbar" class="flex">
          <div id="document-info">
            <!--?lit$568155653$--> <!--?lit$568155653$--><md-icon class="file-location-icon" id="file-type" aria-hidden="true" title="Notebook stored in Google Drive"><template shadowrootmode="open"><!----><slot></slot></template><!--?lit$568155653$-->
      <svg viewBox="0 0 192 192">
        <path d="M128.33,122l7.59,26.17l19.89,21.42c0,0,0,0,0,0v0c2.69-1.55,4.98-3.8,6.59-6.59l18.48-32 c1.61-2.78,2.41-5.89,2.41-9l-28.38-5.5L128.33,122z" fill="#EA4335"></path>
        <path d="M123.48,18.41c-2.69-1.55-5.78-2.41-9-2.41H77.53c-3.2,0-6.32,0.88-9,2.41l0,0l7.96,26.81l19.44,20.64 L96,66l0,0l19.58-20.89L123.48,18.41C123.48,18.41,123.48,18.41,123.48,18.41C123.48,18.41,123.48,18.41,123.48,18.41z" fill="#188038"></path>
        <path d="M63.67,122l-28.33-6.5L8.72,122c0,3.1,0.8,6.2,2.4,8.99L29.6,163c1.61,2.78,3.9,5.03,6.59,6.59 l19.59-20.18L63.67,122L63.67,122z" fill="#1967D2"></path>
        <path d="M155.47,69l-25.4-44c-1.61-2.79-3.9-5.04-6.59-6.59L96,66l32.33,56h54.95c0-3.11-0.8-6.21-2.41-9 L155.47,69z" fill="#FBBC04"></path><path d="M128.33,122H63.67l-27.48,47.59c2.69,1.55,5.78,2.41,9,2.41h101.61c3.22,0,6.31-0.86,9-2.41L128.33,122z" fill="#4285F4"></path>
        <path d="M96,66L68.53,18.41c-2.69,1.55-4.97,3.79-6.58,6.57l-50.83,88.05c-1.6,2.78-2.4,5.88-2.4,8.97h54.95L96,66 z" fill="#34A853"></path>
      </svg></md-icon>
    <input id="doc-name" class="doc-name" maxlength="259" autocomplete="off" aria-label="Notebook name" command="rename" aria-describedby="doc-name-tooltip" style="width: auto;"><colab-tooltip-trigger aria-hidden="true" for="doc-name" id="doc-name-tooltip"><template shadowrootmode="open"><!----><!--?lit$568155653$--><!----><div><!--?lit$568155653$-->Rename notebook</div><!----><!--?--></template>
        </colab-tooltip-trigger><colab-input-sizer aria-hidden="true" style="left: -1000%; position: absolute; font-family: &quot;Google Sans&quot;, Roboto, Noto, sans-serif; font-size: 18px; font-weight: 400; letter-spacing: normal; padding-left: 3px; padding-right: 4px; white-space: pre;">Untitled24.ipynb_</colab-input-sizer>
            <!--?lit$568155653$-->
                  <div class="screenreader-only" id="star-status" aria-live="polite">Notebook unstarred</div>
                  <md-icon-button id="star-icon" command="toggle-star" aria-label="Star" role="presentation" aria-describedby="star-icon-tooltip" value=""><template shadowrootmode="open" shadowrootdelegatesfocus><!----><button id="button" class="icon-button  standard " aria-label="Star">
        <!--?lit$568155653$--><md-focus-ring part="focus-ring" for="button" aria-hidden="true"><template shadowrootmode="open"><!----></template></md-focus-ring>
        <!--?lit$568155653$--><md-ripple aria-hidden="true"><template shadowrootmode="open"><!----><div class="surface   "></div></template></md-ripple>
        <!--?lit$568155653$--><span class="icon"><slot></slot></span>
        <!--?lit$568155653$-->
        <!--?lit$568155653$--><span class="touch"></span>
        <!--?lit$568155653$-->
  </button></template>
                    <md-icon aria-hidden="true"><template shadowrootmode="open"><!----><slot></slot></template>star</md-icon>
                  </md-icon-button><colab-tooltip-trigger aria-hidden="true" for="star-icon" id="star-icon-tooltip"><template shadowrootmode="open"><!----><!--?lit$568155653$--><!----><div><!--?lit$568155653$-->Star notebook in Google Drive</div><!----><!--?--></template>
        </colab-tooltip-trigger>
                
          </div>
        <div class="menubar-wrapper"><div><!----><div id="top-menubar" class="goog-menubar format-lightborder" role="menubar" style="user-select: none;" tabindex="0"><!--?lit$568155653$--><div class="goog-menu-button goog-inline-block" id="file-menu-button" role="button" aria-expanded="false" aria-haspopup="true" style="user-select: none;"><div class="goog-inline-block goog-menu-button-outer-box" style="user-select: none;"><div class="goog-inline-block goog-menu-button-inner-box" style="user-select: none;"><div class="goog-inline-block goog-menu-button-caption" style="user-select: none;"><!--?lit$568155653$-->File</div><div class="goog-inline-block goog-menu-button-dropdown" style="user-select: none;">&nbsp;</div></div></div></div><div class="goog-menu-button goog-inline-block" id="edit-menu-button" role="button" aria-expanded="false" aria-haspopup="true" style="user-select: none;"><div class="goog-inline-block goog-menu-button-outer-box" style="user-select: none;"><div class="goog-inline-block goog-menu-button-inner-box" style="user-select: none;"><div class="goog-inline-block goog-menu-button-caption" style="user-select: none;"><!--?lit$568155653$-->Edit</div><div class="goog-inline-block goog-menu-button-dropdown" style="user-select: none;">&nbsp;</div></div></div></div><div class="goog-menu-button goog-inline-block" id="view-menu-button" role="button" aria-expanded="false" aria-haspopup="true" style="user-select: none;"><div class="goog-inline-block goog-menu-button-outer-box" style="user-select: none;"><div class="goog-inline-block goog-menu-button-inner-box" style="user-select: none;"><div class="goog-inline-block goog-menu-button-caption" style="user-select: none;"><!--?lit$568155653$-->View</div><div class="goog-inline-block goog-menu-button-dropdown" style="user-select: none;">&nbsp;</div></div></div></div><div class="goog-menu-button goog-inline-block" id="insert-menu-button" role="button" aria-expanded="false" aria-haspopup="true" style="user-select: none;"><div class="goog-inline-block goog-menu-button-outer-box" style="user-select: none;"><div class="goog-inline-block goog-menu-button-inner-box" style="user-select: none;"><div class="goog-inline-block goog-menu-button-caption" style="user-select: none;"><!--?lit$568155653$-->Insert</div><div class="goog-inline-block goog-menu-button-dropdown" style="user-select: none;">&nbsp;</div></div></div></div><div class="goog-menu-button goog-inline-block" id="runtime-menu-button" role="button" aria-expanded="false" aria-haspopup="true" style="user-select: none;"><div class="goog-inline-block goog-menu-button-outer-box" style="user-select: none;"><div class="goog-inline-block goog-menu-button-inner-box" style="user-select: none;"><div class="goog-inline-block goog-menu-button-caption" style="user-select: none;"><!--?lit$568155653$-->Runtime</div><div class="goog-inline-block goog-menu-button-dropdown" style="user-select: none;">&nbsp;</div></div></div></div><div class="goog-menu-button goog-inline-block" id="tools-menu-button" role="button" aria-expanded="false" aria-haspopup="true" style="user-select: none;"><div class="goog-inline-block goog-menu-button-outer-box" style="user-select: none;"><div class="goog-inline-block goog-menu-button-inner-box" style="user-select: none;"><div class="goog-inline-block goog-menu-button-caption" style="user-select: none;"><!--?lit$568155653$-->Tools</div><div class="goog-inline-block goog-menu-button-dropdown" style="user-select: none;">&nbsp;</div></div></div></div><div class="goog-menu-button goog-inline-block" id="help-menu-button" role="button" aria-expanded="false" aria-haspopup="true" style="user-select: none;"><div class="goog-inline-block goog-menu-button-outer-box" style="user-select: none;"><div class="goog-inline-block goog-menu-button-inner-box" style="user-select: none;"><div class="goog-inline-block goog-menu-button-caption" style="user-select: none;"><!--?lit$568155653$-->Help</div><div class="goog-inline-block goog-menu-button-dropdown" style="user-select: none;">&nbsp;</div></div></div></div></div>
    <div id="colab-menu-cover" style="display: none;"> </div></div><!----><colab-last-saved-indicator aria-live="polite" aria-atomic="true" title=""><template shadowrootmode="open"><!----><button class=" save-message "><!--?lit$568155653$-->All changes saved</button></template></colab-last-saved-indicator></div></div>
        <div id="header-right">
          <!--?lit$568155653$-->
    <colab-collaborator-bar id="collaborator-bar"><template shadowrootmode="open"><!----> <div class="collaborator-bar">
      <!--?lit$568155653$-->
      <!--?lit$568155653$-->
    </div></template></colab-collaborator-bar>
  
          <!--?lit$568155653$--> <md-text-button id="comments" command="open-comments-thread" role="presentation" aria-describedby="comments-tooltip" value="" has-icon=""><template shadowrootmode="open" shadowrootdelegatesfocus><!---->
      <!--?lit$568155653$-->
      <div class="background"></div>
      <md-focus-ring part="focus-ring" for="button" aria-hidden="true"><template shadowrootmode="open"><!----></template></md-focus-ring>
      <md-ripple for="button" aria-hidden="true"><template shadowrootmode="open"><!----><div class="surface   "></div></template></md-ripple>
      <!--?lit$568155653$--><button id="button" class="button">
      <!--?lit$568155653$-->
      <span class="touch"></span>
      <!--?lit$568155653$--><slot name="icon"></slot>
      <span class="label"><slot></slot></span>
      <!--?lit$568155653$-->
    
    </button>
    </template>
                <md-icon slot="icon" aria-hidden="true"><template shadowrootmode="open"><!----><slot></slot></template>comment</md-icon>
                <!--?lit$568155653$-->Comment
              </md-text-button><colab-tooltip-trigger aria-hidden="true" for="comments" id="comments-tooltip"><template shadowrootmode="open"><!----><!--?lit$568155653$--><!----><div><!--?lit$568155653$-->Open comments pane</div><!----><!--?--></template>
        </colab-tooltip-trigger>
          <!--?lit$568155653$--> <md-text-button id="share-toolbar-button" command="share" role="presentation" aria-describedby="share-toolbar-button-tooltip" value="" has-icon=""><template shadowrootmode="open" shadowrootdelegatesfocus><!---->
      <!--?lit$568155653$-->
      <div class="background"></div>
      <md-focus-ring part="focus-ring" for="button" aria-hidden="true"><template shadowrootmode="open"><!----></template></md-focus-ring>
      <md-ripple for="button" aria-hidden="true"><template shadowrootmode="open"><!----><div class="surface   "></div></template></md-ripple>
      <!--?lit$568155653$--><button id="button" class="button">
      <!--?lit$568155653$-->
      <span class="touch"></span>
      <!--?lit$568155653$--><slot name="icon"></slot>
      <span class="label"><slot></slot></span>
      <!--?lit$568155653$-->
    
    </button>
    </template>
                <md-icon slot="icon" aria-hidden="true"><template shadowrootmode="open"><!----><slot></slot></template><!--?lit$568155653$-->people</md-icon>
                <!--?lit$568155653$-->Share
              </md-text-button><colab-tooltip-trigger aria-hidden="true" for="share-toolbar-button" id="share-toolbar-button-tooltip"><template shadowrootmode="open"><!----><!--?lit$568155653$--><!----><div><!--?lit$568155653$-->Share notebook</div><!----><!--?--></template>
        </colab-tooltip-trigger>
          <!--?lit$568155653$--> <md-icon-button id="settings-cog" command="preferences" title="Open settings" aria-label="Open settings" role="presentation" value=""><template shadowrootmode="open" shadowrootdelegatesfocus><!----><button id="button" class="icon-button  standard " aria-label="Open settings">
        <!--?lit$568155653$--><md-focus-ring part="focus-ring" for="button" aria-hidden="true"><template shadowrootmode="open"><!----></template></md-focus-ring>
        <!--?lit$568155653$--><md-ripple aria-hidden="true"><template shadowrootmode="open"><!----><div class="surface   "></div></template></md-ripple>
        <!--?lit$568155653$--><span class="icon"><slot></slot></span>
        <!--?lit$568155653$-->
        <!--?lit$568155653$--><span class="touch"></span>
        <!--?lit$568155653$-->
  </button></template>
                <md-icon aria-hidden="true"><template shadowrootmode="open"><!----><slot></slot></template>settings</md-icon>
              </md-icon-button>
          <div class="header-onegoogle-container"><div class="onegoogle"><div class="gb_Pa gb_ld gb_gb gb_0c" id="gb"><div class="gb_Bd gb_eb gb_qd" ng-non-bindable="" data-ogsr-up="" style="padding:0;height:auto;display:block"><div class="gb_Ud" style="display:block"><div class="gb_6c"></div><div class="gb_b gb_w gb_3f gb_J"><div class="gb_f gb_db gb_3f gb_J"><a class="gb_d gb_Fa gb_J" aria-label="Google Account: BHIMRAO PAWAR  
(bhimrao.pawar.07@gmail.com)" href="https://accounts.google.com/SignOutOptions?hl=en&amp;continue=https://colab.research.google.com/%3Fauthuser%3D0&amp;ec=GBRAqQM" tabindex="0" role="button"><img class="gb_n gbii" src="./Sentiment Analysis on Amazon_Alexa_review_files/unnamed.jpg" srcset="https://lh3.googleusercontent.com/ogw/AF2bZyii9qbgr4ZQQ5MdPc5Gb12-JYxGFppw9F7I-wKwDA=s32-c-mo 1x, https://lh3.googleusercontent.com/ogw/AF2bZyii9qbgr4ZQQ5MdPc5Gb12-JYxGFppw9F7I-wKwDA=s64-c-mo 2x " alt="" aria-hidden="true" data-noaft=""></a></div></div></div><div style="overflow: hidden; position: absolute; top: 0px; visibility: hidden; width: 436px; z-index: 991; height: 0px; margin-top: 57px; right: 0px; margin-right: 4px;"></div></div></div><script nonce="">this.gbar_=this.gbar_||{};(function(_){var window=this;
try{
_.ld=function(a,b,c){if(!a.j)if(c instanceof Array)for(var d of c)_.ld(a,b,d);else{d=(0,_.y)(a.B,a,b);const e=a.v+c;a.v++;b.dataset.eqid=e;a.C[e]=d;b&&b.addEventListener?b.addEventListener(c,d,!1):b&&b.attachEvent?b.attachEvent("on"+c,d):a.o.log(Error("s`"+b))}};
}catch(e){_._DumpException(e)}
try{
_.md=function(){if(!_.q.addEventListener||!Object.defineProperty)return!1;var a=!1,b=Object.defineProperty({},"passive",{get:function(){a=!0}});try{const c=()=>{};_.q.addEventListener("test",c,b);_.q.removeEventListener("test",c,b)}catch(c){}return a}();
}catch(e){_._DumpException(e)}
try{
var nd=document.querySelector(".gb_k .gb_d"),od=document.querySelector("#gb.gb_Wc");nd&&!od&&_.ld(_.Wc,nd,"click");
}catch(e){_._DumpException(e)}
try{
_.xh=function(a){const b=[];let c=0;for(const d in a)b[c++]=a[d];return b};_.yh=function(a){if(a.o)return a.o;for(const b in a.i)if(a.i[b].ua()&&a.i[b].C())return a.i[b];return null};_.zh=function(a,b){a.i[b.K()]=b};var Ah=new class extends _.Dc{constructor(){var a=_.Fc;super();this.C=a;this.o=null;this.j={};this.B={};this.i={};this.v=null}A(a){this.i[a]&&(_.yh(this)&&_.yh(this).K()==a||this.i[a].O(!0))}Za(a){this.v=a;for(const b in this.i)this.i[b].ua()&&this.i[b].Za(a)}wc(a){return a in this.i?this.i[a]:null}};_.Zc("dd",Ah);
}catch(e){_._DumpException(e)}
try{
_.jj=function(a,b){return _.K(a,36,b)};
}catch(e){_._DumpException(e)}
try{
var kj=document.querySelector(".gb_b .gb_d"),lj=document.querySelector("#gb.gb_Wc");kj&&!lj&&_.ld(_.Wc,kj,"click");
}catch(e){_._DumpException(e)}
})(this.gbar_);
// Google Inc.
</script></div></div>
        </div>
      </div>
    </div>
  </div></div><div class="notebook-horizontal">
        <!--?lit$568155653$--><colab-left-pane role="complementary" aria-label="left pane" class=""><!----><div class="colab-left-pane-nib layout vertical" role="toolbar" aria-orientation="vertical">
        <div class="left-pane-top"><!----><div class="left-pane-button">
        <!--?lit$568155653$--><md-icon-button toggle="" command="show-toc-pane" aria-label="Table of contents" title="Table of contents" role="presentation" value=""><template shadowrootmode="open" shadowrootdelegatesfocus><!----><button id="button" class="icon-button standard" aria-label="Table of contents" aria-pressed="false">
        <!--?lit$568155653$--><md-focus-ring part="focus-ring" for="button" aria-hidden="true"><template shadowrootmode="open"><!----></template></md-focus-ring>
        <!--?lit$568155653$--><md-ripple aria-hidden="true"><template shadowrootmode="open"><!----><div class="surface"></div></template></md-ripple>
        <!--?lit$568155653$--><span class="icon"><slot></slot></span>
        <!--?lit$568155653$-->
        <!--?lit$568155653$--><span class="touch"></span>
        <!--?lit$568155653$-->
  </button></template>
          <md-icon aria-hidden="true"><template shadowrootmode="open"><!----><slot></slot></template><!--?lit$568155653$-->format_list_bulleted</md-icon>
        </md-icon-button> <!--?lit$568155653$-->
      </div><!----><div class="left-pane-button">
        <!--?lit$568155653$--><md-icon-button toggle="" command="find" aria-label="Find and replace" title="Find and replace" role="presentation" value=""><template shadowrootmode="open" shadowrootdelegatesfocus><!----><button id="button" class="icon-button  standard " aria-label="Find and replace" aria-pressed="false">
        <!--?lit$568155653$--><md-focus-ring part="focus-ring" for="button" aria-hidden="true"><template shadowrootmode="open"><!----></template></md-focus-ring>
        <!--?lit$568155653$--><md-ripple aria-hidden="true"><template shadowrootmode="open"><!----><div class="surface"></div></template></md-ripple>
        <!--?lit$568155653$--><span class="icon"><slot></slot></span>
        <!--?lit$568155653$-->
        <!--?lit$568155653$--><span class="touch"></span>
        <!--?lit$568155653$-->
  </button></template>
          <md-icon aria-hidden="true"><template shadowrootmode="open"><!----><slot></slot></template><!--?lit$568155653$-->search</md-icon>
        </md-icon-button> <!--?lit$568155653$-->
      </div><!----><div class="left-pane-button">
        <!--?lit$568155653$--><md-icon-button toggle="" command="show-variables" aria-label="Variables" title="Variables" role="presentation" value=""><template shadowrootmode="open" shadowrootdelegatesfocus><!----><button id="button" class="icon-button  standard " aria-label="Variables" aria-pressed="false">
        <!--?lit$568155653$--><md-focus-ring part="focus-ring" for="button" aria-hidden="true"><template shadowrootmode="open"><!----></template></md-focus-ring>
        <!--?lit$568155653$--><md-ripple aria-hidden="true"><template shadowrootmode="open"><!----><div class="surface"></div></template></md-ripple>
        <!--?lit$568155653$--><span class="icon"><slot></slot></span>
        <!--?lit$568155653$-->
        <!--?lit$568155653$--><span class="touch"></span>
        <!--?lit$568155653$-->
  </button></template>
          <md-icon aria-hidden="true"><template shadowrootmode="open"><!----><slot></slot></template><!--?lit$568155653$--><svg viewBox="0 0 24 24"><!--?lit$568155653$-->
      <path d="M4.51,9.44V6.08c0-1.34.37-1.85,1.6-2.17l.22-.06V3.13l-.27,0-.44,0a4.46,4.46,0,0,0-2.2.59,2.78,2.78,0,0,0-1,2.51V9.74c0,1.26-.26,1.61-1.49,2L0,12l.94.29c1.21.38,1.49.75,1.49,2v3.5a2.94,2.94,0,0,0,1,2.6,4.39,4.39,0,0,0,2.14.56l.46,0,.27,0v-.72l-.22-.06c-1.24-.32-1.6-.81-1.6-2.17V14.58c0-1.43-.3-2.13-1.25-2.57C4.2,11.57,4.51,10.87,4.51,9.44Z"></path>
      <path d="M23.06,11.71c-1.22-.36-1.49-.71-1.49-2l0-3.5a3,3,0,0,0-1-2.6,4.38,4.38,0,0,0-2.14-.56l-.46,0-.27,0v.72l.22.06c1.24.32,1.6.81,1.6,2.17V9.44c0,1.44.3,2.13,1.25,2.57-1,.44-1.25,1.14-1.25,2.57v3.36c0,1.34-.37,1.85-1.6,2.17l-.22.06v.72l.27,0,.44,0a4.47,4.47,0,0,0,2.2-.59,2.82,2.82,0,0,0,1-2.51V14.28c0-1.26.26-1.61,1.49-2L24,12Z"></path>
      <path d="M15.16,8.22a.88.88,0,0,1,.46.16,1.25,1.25,0,0,0,.69.2h0A1,1,0,0,0,17,8.23a1.06,1.06,0,0,0,.24-.8,1.1,1.1,0,0,0-1.15-1h0c-1,0-1.73.64-3,2.57l-.12-.51c-.28-1.36-.56-2-1.39-2h0A8,8,0,0,0,9,7.08l-.47.16.16.91L9.41,8a3.22,3.22,0,0,1,.73-.14c.34,0,.43,0,.71,1.2l.56,2.47L9.76,13.82a3.6,3.6,0,0,1-.8.88.9.9,0,0,1-.38-.13,1.83,1.83,0,0,0-.88-.28,1,1,0,0,0-1,1.06A1.15,1.15,0,0,0,8,16.53c.85,0,1.35-.35,2.24-1.55l1.49-2,.46,1.88c.23,1,.46,1.66,1.53,1.66s1.66-.75,2.81-2.53l.17-.26-.81-.48-.16.2-.25.34-.19.25c-.45.57-.62.73-.76.73s-.28-.4-.34-.63l-.67-2.83a4.2,4.2,0,0,1-.15-.79C13.84,9.78,14.74,8.22,15.16,8.22Z"></path></svg></md-icon>
        </md-icon-button> <!--?lit$568155653$-->
      </div><!----><div class="left-pane-button">
        <!--?lit$568155653$--><md-icon-button toggle="" command="open-user-secrets" aria-label="Secrets" title="Secrets" role="presentation" value=""><template shadowrootmode="open" shadowrootdelegatesfocus><!----><button id="button" class="icon-button  standard " aria-label="Secrets" aria-pressed="false">
        <!--?lit$568155653$--><md-focus-ring part="focus-ring" for="button" aria-hidden="true"><template shadowrootmode="open"><!----></template></md-focus-ring>
        <!--?lit$568155653$--><md-ripple aria-hidden="true"><template shadowrootmode="open"><!----><div class="surface"></div></template></md-ripple>
        <!--?lit$568155653$--><span class="icon"><slot></slot></span>
        <!--?lit$568155653$-->
        <!--?lit$568155653$--><span class="touch"></span>
        <!--?lit$568155653$-->
  </button></template>
          <md-icon aria-hidden="true"><template shadowrootmode="open"><!----><slot></slot></template><!--?lit$568155653$-->vpn_key</md-icon>
        </md-icon-button> <!--?lit$568155653$-->
      </div><!----><div class="left-pane-button">
        <!--?lit$568155653$--><md-icon-button toggle="" command="show-files" aria-label="Files" title="Files" role="presentation" value=""><template shadowrootmode="open" shadowrootdelegatesfocus><!----><button id="button" class="icon-button standard" aria-label="Files" aria-pressed="false">
        <!--?lit$568155653$--><md-focus-ring part="focus-ring" for="button" aria-hidden="true"><template shadowrootmode="open"><!----></template></md-focus-ring>
        <!--?lit$568155653$--><md-ripple aria-hidden="true"><template shadowrootmode="open"><!----><div class="surface"></div></template></md-ripple>
        <!--?lit$568155653$--><span class="icon"><slot></slot></span>
        <!--?lit$568155653$-->
        <!--?lit$568155653$--><span class="touch"></span>
        <!--?lit$568155653$-->
  </button></template>
          <md-icon aria-hidden="true"><template shadowrootmode="open"><!----><slot></slot></template><!--?lit$568155653$-->folder</md-icon>
        </md-icon-button> <!--?lit$568155653$-->
      </div></div>
        <div class="left-pane-bottom"><!----><div class="left-pane-button">
        <!--?lit$568155653$--><md-icon-button command="snippets" aria-label="Code snippets" title="Code snippets" role="presentation" value=""><template shadowrootmode="open" shadowrootdelegatesfocus><!----><button id="button" class="icon-button  standard " aria-label="Code snippets">
        <!--?lit$568155653$--><md-focus-ring part="focus-ring" for="button" aria-hidden="true"><template shadowrootmode="open"><!----></template></md-focus-ring>
        <!--?lit$568155653$--><md-ripple aria-hidden="true"><template shadowrootmode="open"><!----><div class="surface"></div></template></md-ripple>
        <!--?lit$568155653$--><span class="icon"><slot></slot></span>
        <!--?lit$568155653$-->
        <!--?lit$568155653$--><span class="touch"></span>
        <!--?lit$568155653$-->
  </button></template>
          <md-icon aria-hidden="true"><template shadowrootmode="open"><!----><slot></slot></template><!--?lit$568155653$-->code</md-icon>
        </md-icon-button> <!--?lit$568155653$-->
      </div><!----><div class="left-pane-button">
        <!--?lit$568155653$--><md-icon-button command="show-command-palette" aria-label="Command palette" title="Command palette" role="presentation" value=""><template shadowrootmode="open" shadowrootdelegatesfocus><!----><button id="button" class="icon-button  standard " aria-label="Command palette">
        <!--?lit$568155653$--><md-focus-ring part="focus-ring" for="button" aria-hidden="true"><template shadowrootmode="open"><!----></template></md-focus-ring>
        <!--?lit$568155653$--><md-ripple aria-hidden="true"><template shadowrootmode="open"><!----><div class="surface"></div></template></md-ripple>
        <!--?lit$568155653$--><span class="icon"><slot></slot></span>
        <!--?lit$568155653$-->
        <!--?lit$568155653$--><span class="touch"></span>
        <!--?lit$568155653$-->
  </button></template>
          <md-icon aria-hidden="true"><template shadowrootmode="open"><!----><slot></slot></template><!--?lit$568155653$--><svg viewBox="0 0 24 24"><!--?lit$568155653$-->
      <path d="M21,3H3A2,2,0,0,0,1,5V17a2,2,0,0,0,2,2H21a2,2,0,0,0,2-2V5A2,2,0,0,0,21,3Zm0,2V17H3V5"></path>
      <rect x="5" y="12" width="11" height="2"></rect>
      <rect x="5" y="8" width="11" height="2"></rect>
      <rect x="17" y="8" width="2" height="2"></rect>
      <rect x="17" y="12" width="2" height="2"></rect></svg></md-icon>
        </md-icon-button> <!--?lit$568155653$-->
      </div><!----><div class="left-pane-button">
        <!--?lit$568155653$--><md-icon-button command="show-terminal" aria-label="Terminal" title="Terminal" role="presentation" value=""><template shadowrootmode="open" shadowrootdelegatesfocus><!----><button id="button" class="icon-button  standard " aria-label="Terminal">
        <!--?lit$568155653$--><md-focus-ring part="focus-ring" for="button" aria-hidden="true"><template shadowrootmode="open"><!----></template></md-focus-ring>
        <!--?lit$568155653$--><md-ripple aria-hidden="true"><template shadowrootmode="open"><!----><div class="surface"></div></template></md-ripple>
        <!--?lit$568155653$--><span class="icon"><slot></slot></span>
        <!--?lit$568155653$-->
        <!--?lit$568155653$--><span class="touch"></span>
        <!--?lit$568155653$-->
  </button></template>
          <md-icon aria-hidden="true"><template shadowrootmode="open"><!----><slot></slot></template><!--?lit$568155653$-->terminal</md-icon>
        </md-icon-button> <!--?lit$568155653$-->
      </div></div>
      </div></colab-left-pane>
        <div class="layout vertical grow">
          <colab-notebook-toolbar id="top-toolbar" class="horizontal layout center noshrink collapsed"><!----> <!--?lit$568155653$-->
          <colab-toolbar-button command="insert-cell-below" icon="add" id="toolbar-add-code"><template shadowrootmode="open"><!----><md-text-button id="button" aria-disabled="false" role="presentation" value="" has-icon=""><template shadowrootmode="open" shadowrootdelegatesfocus><!---->
      <!--?lit$568155653$-->
      <div class="background"></div>
      <md-focus-ring part="focus-ring" for="button" aria-hidden="true"><template shadowrootmode="open"><!----></template></md-focus-ring>
      <md-ripple for="button" aria-hidden="true"><template shadowrootmode="open"><!----><div class="surface"></div></template></md-ripple>
      <!--?lit$568155653$--><button id="button" class="button">
      <!--?lit$568155653$-->
      <span class="touch"></span>
      <!--?lit$568155653$--><slot name="icon"></slot>
      <span class="label"><slot></slot></span>
      <!--?lit$568155653$-->
    
    </button>
    </template>
        <!--?lit$568155653$--><md-icon slot="icon" aria-hidden="true"><template shadowrootmode="open"><!----><slot></slot></template><!--?lit$568155653$-->add</md-icon>
        <span class="button-content"><slot></slot></span>
        <!--?lit$568155653$--><span class="screenreader-only"><!--?lit$568155653$-->Insert code cell below <!--?lit$568155653$-->Ctrl+M B</span>
      </md-text-button>
      <!--?lit$568155653$--> <colab-tooltip-trigger for="button" aria-hidden="true" id="tooltip" message="Insert code cell below" shortcut="Ctrl+M B"><template shadowrootmode="open"><!----><!--?lit$568155653$--><!----><div><!--?lit$568155653$-->Insert code cell below</div><!----><!--?--></template>
          </colab-tooltip-trigger><!--?--></template>
            <!--?lit$568155653$-->Code
          </colab-toolbar-button>
          <colab-toolbar-button command="add-text" icon="add" id="toolbar-add-text"><template shadowrootmode="open"><!----><md-text-button id="button" aria-disabled="false" role="presentation" value="" has-icon=""><template shadowrootmode="open" shadowrootdelegatesfocus><!---->
      <!--?lit$568155653$-->
      <div class="background"></div>
      <md-focus-ring part="focus-ring" for="button" aria-hidden="true"><template shadowrootmode="open"><!----></template></md-focus-ring>
      <md-ripple for="button" aria-hidden="true"><template shadowrootmode="open"><!----><div class="surface"></div></template></md-ripple>
      <!--?lit$568155653$--><button id="button" class="button">
      <!--?lit$568155653$-->
      <span class="touch"></span>
      <!--?lit$568155653$--><slot name="icon"></slot>
      <span class="label"><slot></slot></span>
      <!--?lit$568155653$-->
    
    </button>
    </template>
        <!--?lit$568155653$--><md-icon slot="icon" aria-hidden="true"><template shadowrootmode="open"><!----><slot></slot></template><!--?lit$568155653$-->add</md-icon>
        <span class="button-content"><slot></slot></span>
        <!--?lit$568155653$--><span class="screenreader-only"><!--?lit$568155653$-->Add text cell <!--?lit$568155653$--></span>
      </md-text-button>
      <!--?lit$568155653$--> <colab-tooltip-trigger for="button" aria-hidden="true" id="tooltip" message="Add text cell" shortcut=""><template shadowrootmode="open"><!----><!--?lit$568155653$--><!----><div><!--?lit$568155653$-->Add text cell</div><!----><!--?--></template>
          </colab-tooltip-trigger><!--?--></template>
            <!--?lit$568155653$-->Text
          </colab-toolbar-button>
          <!--?lit$568155653$-->
        
    <!--?lit$568155653$-->
    <!--?lit$568155653$-->
    <!--?lit$568155653$-->
    <!--?lit$568155653$--> <span class="collapsed-options">
          <colab-last-saved-indicator aria-live="polite" aria-atomic="true" title=""><template shadowrootmode="open"><!----><button class=" save-message "><!--?lit$568155653$-->All changes saved</button></template></colab-last-saved-indicator>
        </span>

    <span class="flex"></span>
    <!--?lit$568155653$--><colab-connect-warning-button><template shadowrootmode="open"><!----><!--?lit$568155653$--><!--?--><!--?--></template></colab-connect-warning-button>
    <!--?lit$568155653$--><!--?lit$568155653$--><colab-connect-button><template shadowrootmode="open"><!----> <!--?lit$568155653$--><md-icon-button id="connect-icon" class="big-icon icon-okay" aria-label="Focus the last run cell" role="presentation" value=""><template shadowrootmode="open" shadowrootdelegatesfocus><!----><button id="button" class="icon-button  standard " aria-label="Focus the last run cell">
        <!--?lit$568155653$--><md-focus-ring part="focus-ring" for="button" aria-hidden="true"><template shadowrootmode="open"><!----></template></md-focus-ring>
        <!--?lit$568155653$--><md-ripple aria-hidden="true"><template shadowrootmode="open"><!----><div class="surface"></div></template></md-ripple>
        <!--?lit$568155653$--><span class="icon"><slot></slot></span>
        <!--?lit$568155653$-->
        <!--?lit$568155653$--><span class="touch"></span>
        <!--?lit$568155653$-->
  </button></template>
            <md-icon aria-hidden="true"><template shadowrootmode="open"><!----><slot></slot></template><!--?lit$568155653$-->done</md-icon>
          </md-icon-button>
          <colab-tooltip-trigger for="connect-icon" id="connect-icon-tooltip" aria-hidden="true" message="Focus the last run cell"><template shadowrootmode="open"><!----><!--?lit$568155653$--><!----><div><!--?lit$568155653$-->Focus the last run cell</div><!----><!--?--></template>
          </colab-tooltip-trigger>
      <colab-toolbar-button id="connect" tooltipid="colab-connect-tooltip" tooltiptext="Connected to

          Python 3 Google Compute Engine backend

          

RAM: 2.11 GB/12.67 GB
Disk: 24.40 GB/107.72 GB"><template shadowrootmode="open"><!----><md-text-button id="button" aria-disabled="false" role="presentation" value=""><template shadowrootmode="open" shadowrootdelegatesfocus><!---->
      <!--?lit$568155653$-->
      <div class="background"></div>
      <md-focus-ring part="focus-ring" for="button" aria-hidden="true"><template shadowrootmode="open"><!----></template></md-focus-ring>
      <md-ripple for="button" aria-hidden="true"><template shadowrootmode="open"><!----><div class="surface"></div></template></md-ripple>
      <!--?lit$568155653$--><button id="button" class="button">
      <!--?lit$568155653$-->
      <span class="touch"></span>
      <!--?lit$568155653$--><slot name="icon"></slot>
      <span class="label"><slot></slot></span>
      <!--?lit$568155653$-->
    
    </button>
    </template>
        <!--?lit$568155653$-->
        <span class="button-content"><slot></slot></span>
        <!--?lit$568155653$--><span class="screenreader-only"><!--?lit$568155653$-->Connected to

          Python 3 Google Compute Engine backend

          

RAM: 2.11 GB/12.67 GB
Disk: 24.40 GB/107.72 GB <!--?lit$568155653$--></span>
      </md-text-button>
      <!--?lit$568155653$--> <colab-tooltip-trigger for="button" aria-hidden="true" id="colab-connect-tooltip" message="Connected to

          Python 3 Google Compute Engine backend

          

RAM: 2.11 GB/12.67 GB
Disk: 24.40 GB/107.72 GB" shortcut=""><template shadowrootmode="open"><!----><!--?lit$568155653$--><!----><div><!--?lit$568155653$-->Connected to</div><!----><!----><div><!--?lit$568155653$--></div><!----><!----><div><!--?lit$568155653$-->          Python 3 Google Compute Engine backend</div><!----><!----><div><!--?lit$568155653$--></div><!----><!----><div><!--?lit$568155653$-->          </div><!----><!----><div><!--?lit$568155653$--></div><!----><!----><div><!--?lit$568155653$-->RAM: 2.11 GB/12.67 GB</div><!----><!----><div><!--?lit$568155653$-->Disk: 24.40 GB/107.72 GB</div><!----><!--?--></template>
          </colab-tooltip-trigger><!--?--></template>
        <!--?lit$568155653$--> <div id="connect-button-resource-display">
        <!--?lit$568155653$--><colab-usage-sparkline class="ram" label="RAM"><template shadowrootmode="open"><!---->
      <div class="label"><!--?lit$568155653$-->RAM</div>
      <!--?lit$568155653$-->
      <canvas height="14" width="20"></canvas>
    </template></colab-usage-sparkline>
        <!--?lit$568155653$--><colab-usage-sparkline class="disk" label="Disk"><template shadowrootmode="open"><!---->
      <div class="label"><!--?lit$568155653$-->Disk</div>
      <!--?lit$568155653$-->
      <canvas height="14" width="20"></canvas>
    </template></colab-usage-sparkline>
      </div>
      </colab-toolbar-button>
      <!--?lit$568155653$--> <md-icon-button id="connect-dropdown" aria-label="Additional connection options" role="presentation" value=""><template shadowrootmode="open" shadowrootdelegatesfocus><!----><button id="button" class="icon-button  standard " aria-label="Additional connection options">
        <!--?lit$568155653$--><md-focus-ring part="focus-ring" for="button" aria-hidden="true"><template shadowrootmode="open"><!----></template></md-focus-ring>
        <!--?lit$568155653$--><md-ripple aria-hidden="true"><template shadowrootmode="open"><!----><div class="surface"></div></template></md-ripple>
        <!--?lit$568155653$--><span class="icon"><slot></slot></span>
        <!--?lit$568155653$-->
        <!--?lit$568155653$--><span class="touch"></span>
        <!--?lit$568155653$-->
  </button></template>
        <md-icon aria-hidden="true"><template shadowrootmode="open"><!----><slot></slot></template>arrow_drop_down</md-icon>
      </md-icon-button>
      <colab-tooltip-trigger for="connect-dropdown" id="connect-dropdown-tooltip" aria-hidden="true" message="Additional connection options"><template shadowrootmode="open"><!----><!--?lit$568155653$--><!----><div><!--?lit$568155653$-->Additional connection options</div><!----><!--?--></template>
      </colab-tooltip-trigger><!--?--></template></colab-connect-button><!--?-->
    <!--?lit$568155653$-->
    <!--?lit$568155653$-->
    <span class="collapsed-options">
      <!--?lit$568155653$--><span class="colab-separator"></span>
      <!--?lit$568155653$--> <md-icon-button command="share" title="Share notebook" aria-label="Share notebook" role="presentation" value=""><template shadowrootmode="open" shadowrootdelegatesfocus><!----><button id="button" class="icon-button  standard " aria-label="Share notebook">
        <!--?lit$568155653$--><md-focus-ring part="focus-ring" for="button" aria-hidden="true"><template shadowrootmode="open"><!----></template></md-focus-ring>
        <!--?lit$568155653$--><md-ripple aria-hidden="true"><template shadowrootmode="open"><!----><div class="surface"></div></template></md-ripple>
        <!--?lit$568155653$--><span class="icon"><slot></slot></span>
        <!--?lit$568155653$-->
        <!--?lit$568155653$--><span class="touch"></span>
        <!--?lit$568155653$-->
  </button></template>
            <md-icon filled="" aria-hidden="true"><template shadowrootmode="open"><!----><slot></slot></template><!--?lit$568155653$-->people</md-icon>
          </md-icon-button><md-icon-button command="preferences" aria-label="Open settings" title="Open settings" role="presentation" value=""><template shadowrootmode="open" shadowrootdelegatesfocus><!----><button id="button" class="icon-button  standard " aria-label="Open settings">
        <!--?lit$568155653$--><md-focus-ring part="focus-ring" for="button" aria-hidden="true"><template shadowrootmode="open"><!----></template></md-focus-ring>
        <!--?lit$568155653$--><md-ripple aria-hidden="true"><template shadowrootmode="open"><!----><div class="surface   "></div></template></md-ripple>
        <!--?lit$568155653$--><span class="icon"><slot></slot></span>
        <!--?lit$568155653$-->
        <!--?lit$568155653$--><span class="touch"></span>
        <!--?lit$568155653$-->
  </button></template>
        <md-icon filled="" aria-hidden="true"><template shadowrootmode="open"><!----><slot></slot></template>settings</md-icon>
      </md-icon-button>
    </span>
    <span class="colab-separator"></span>
    <!--?lit$568155653$--><md-icon-button toggle="" command="toggle-header" id="toggle-header-button" aria-label="Toggle header visibility" role="presentation" aria-describedby="toggle-header-button-tooltip" selected="" value=""><template shadowrootmode="open" shadowrootdelegatesfocus><!----><button id="button" class="icon-button  selected standard " aria-label="Toggle header visibility" aria-pressed="true">
        <!--?lit$568155653$--><md-focus-ring part="focus-ring" for="button" aria-hidden="true"><template shadowrootmode="open"><!----></template></md-focus-ring>
        <!--?lit$568155653$--><md-ripple aria-hidden="true"><template shadowrootmode="open"><!----><div class="surface"></div></template></md-ripple>
        <!--?lit$568155653$-->
        <!--?lit$568155653$--><span class="icon icon--selected"><slot name="selected"><slot></slot></slot></span>
        <!--?lit$568155653$--><span class="touch"></span>
        <!--?lit$568155653$-->
  </button></template>
    <md-icon aria-hidden="true"><template shadowrootmode="open"><!----><slot></slot></template>expand_less</md-icon>
    <md-icon slot="selected" aria-hidden="true"><template shadowrootmode="open"><!----><slot></slot></template>expand_more</md-icon>
  </md-icon-button><colab-tooltip-trigger aria-hidden="true" for="toggle-header-button" id="toggle-header-button-tooltip"><template shadowrootmode="open"><!----><!--?lit$568155653$--><!----><div><!--?lit$568155653$-->Toggle header visibility</div><!----><!--?--></template>
        </colab-tooltip-trigger><!--?--></colab-notebook-toolbar><colab-tab-layout-container class="layout horizontal grow flexible-tabs"><!----> <div class="layout horizontal tab-pane-parent">
      <!--?lit$568155653$--> <div class="layout vertical tab-pane-parent">
      <!--?lit$568155653$--><colab-tab-pane class="layout vertical grow no-header focused" align="horizontal"><!----> <div class="layout vertical grow">
    <div class="tab-pane-header layout horizontal noshrink">
      <paper-tabs selected="0" noink="" class="layout grow" scrollable="" role="tablist" dir="null" tabindex="0"><template shadowrootmode="open"><style scope="paper-tabs">:host {
  display: var(--layout_-_display);
        -ms-flex-align: var(--layout-center_-_-ms-flex-align); -webkit-align-items: var(--layout-center_-_-webkit-align-items); align-items: var(--layout-center_-_align-items);

        height: 48px;
        font-size: 14px;
        font-weight: 500;
        overflow: hidden;
        -moz-user-select: none;
        -ms-user-select: none;
        -webkit-user-select: none;
        user-select: none;

        
        -webkit-tap-highlight-color: rgba(0, 0, 0, 0);
        -webkit-tap-highlight-color: transparent;

        ;
}

:host([dir="rtl"]) {
  display: var(--layout-horizontal-reverse_-_display); -ms-flex-direction: var(--layout-horizontal-reverse_-_-ms-flex-direction); -webkit-flex-direction: var(--layout-horizontal-reverse_-_-webkit-flex-direction); flex-direction: var(--layout-horizontal-reverse_-_flex-direction);
}

#tabsContainer {
  position: relative;
        height: 100%;
        white-space: nowrap;
        overflow: hidden;
        -ms-flex: var(--layout-flex-auto_-_-ms-flex); -webkit-flex: var(--layout-flex-auto_-_-webkit-flex); flex: var(--layout-flex-auto_-_flex);
        ;
}

#tabsContent {
  height: 100%;
        -moz-flex-basis: auto;
        -ms-flex-basis: auto;
        flex-basis: auto;
        ;
}

#tabsContent.scrollable {
  position: absolute;
        white-space: nowrap;
}

#tabsContent:not(.scrollable), #tabsContent.scrollable.fit-container {
  display: var(--layout-horizontal_-_display); -ms-flex-direction: var(--layout-horizontal_-_-ms-flex-direction); -webkit-flex-direction: var(--layout-horizontal_-_-webkit-flex-direction); flex-direction: var(--layout-horizontal_-_flex-direction);
}

#tabsContent.scrollable.fit-container {
  min-width: 100%;
}

#tabsContent.scrollable.fit-container > ::slotted(*) {
  -ms-flex: 1 0 auto;
        -webkit-flex: 1 0 auto;
        flex: 1 0 auto;
}

.hidden {
  display: none;
}

.not-visible {
  opacity: 0;
        cursor: default;
}

paper-icon-button {
  width: 48px;
        height: 48px;
        padding: 12px;
        margin: 0 4px;
        background-color: var(--paper-icon-buttons_-_background-color); border-radius: var(--paper-icon-buttons_-_border-radius); color: var(--paper-icon-buttons_-_color); height: var(--paper-icon-buttons_-_height, 48px); padding: var(--paper-icon-buttons_-_padding, 12px); position: var(--paper-icon-buttons_-_position); width: var(--paper-icon-buttons_-_width, 48px)
}

paper-icon-button#left {
  left: var(--paper-icon-button-left_-_left); z-index: var(--paper-icon-button-left_-_z-index)
}

paper-icon-button#right {
  right: var(--paper-icon-button-right_-_right)
}

#selectionBar {
  position: absolute;
        height: 0;
        bottom: 0;
        left: 0;
        right: 0;
        border-bottom: 2px solid var(--paper-tabs-selection-bar-color, var(--paper-yellow-a100));
          -webkit-transform: scale(0);
        transform: scale(0);
          -webkit-transform-origin: left center;
        transform-origin: left center;
          transition: -webkit-transform;
        transition: transform;

        z-index: var(--paper-tabs-selection-bar_-_z-index);
}

#selectionBar.align-bottom {
  top: 0;
        bottom: auto;
}

#selectionBar.expand {
  transition-duration: 0.15s;
        transition-timing-function: cubic-bezier(0.4, 0.0, 1, 1);
}

#selectionBar.contract {
  transition-duration: 0.18s;
        transition-timing-function: cubic-bezier(0.0, 0.0, 0.2, 1);
}

#tabsContent > ::slotted(:not(#selectionBar)) {
  height: 100%;
}</style>
    

    <paper-icon-button id="left" icon="paper-tabs:chevron-left" class="not-visible" aria-hidden="true" role="button" aria-disabled="true" aria-label="" disabled="" style="pointer-events: none;" tabindex="-1"><template shadowrootmode="open"><style scope="paper-icon-button">:host {
  display: inline-block;
        position: relative;
        padding: 8px;
        outline: none;
        -webkit-user-select: none;
        -moz-user-select: none;
        -ms-user-select: none;
        user-select: none;
        cursor: pointer;
        z-index: 0;
        line-height: 1;

        width: 40px;
        height: 40px;

        
        -webkit-tap-highlight-color: rgba(0, 0, 0, 0);
        -webkit-tap-highlight-color: transparent;

        
        box-sizing: border-box !important;

        ;
}

:host #ink {
  color: var(--paper-icon-button-ink-color, var(--primary-text-color));
        opacity: 0.6;
}

:host([disabled]) {
  color: var(--paper-icon-button-disabled-text, var(--disabled-text-color));
        pointer-events: none;
        cursor: auto;

        ;
}

:host([hidden]) {
  display: none !important;
}

:host(:hover) {
  ;
}

iron-icon {
  --iron-icon-width: 100%;
        --iron-icon-height: 100%;
}</style><iron-icon id="icon" alt=""><template shadowrootmode="open"><svg viewBox="0 0 24 24" preserveAspectRatio="xMidYMid meet" focusable="false" style="pointer-events: none; display: block; width: 100%; height: 100%;"><g><path d="M15.41 7.41L14 6l-6 6 6 6 1.41-1.41L10.83 12z"></path></g></svg><style scope="iron-icon">:host {
  display: var(--layout-inline_-_display);
        -ms-flex-align: var(--layout-center-center_-_-ms-flex-align); -webkit-align-items: var(--layout-center-center_-_-webkit-align-items); align-items: var(--layout-center-center_-_align-items); -ms-flex-pack: var(--layout-center-center_-_-ms-flex-pack); -webkit-justify-content: var(--layout-center-center_-_-webkit-justify-content); justify-content: var(--layout-center-center_-_justify-content);
        position: relative;

        vertical-align: middle;

        fill: var(--iron-icon-fill-color, currentcolor);
        stroke: var(--iron-icon-stroke-color, none);

        width: var(--iron-icon-width, 24px);
        height: var(--iron-icon-height, 24px);
        ;
}

:host([hidden]) {
  display: none;
}</style>
    
</template></iron-icon></template></paper-icon-button>

    <div id="tabsContainer" style="touch-action: pan-y;">
      <div id="tabsContent" class="scrollable">
        <div id="selectionBar" class="" style="transform: translateX(0%) scaleX(0);"></div>
        <slot></slot>
      </div>
    </div>

    <paper-icon-button id="right" icon="paper-tabs:chevron-right" class="not-visible" aria-hidden="true" role="button" aria-disabled="true" aria-label="" disabled="" style="pointer-events: none;" tabindex="-1"><template shadowrootmode="open"><style scope="paper-icon-button">:host {
  display: inline-block;
        position: relative;
        padding: 8px;
        outline: none;
        -webkit-user-select: none;
        -moz-user-select: none;
        -ms-user-select: none;
        user-select: none;
        cursor: pointer;
        z-index: 0;
        line-height: 1;

        width: 40px;
        height: 40px;

        
        -webkit-tap-highlight-color: rgba(0, 0, 0, 0);
        -webkit-tap-highlight-color: transparent;

        
        box-sizing: border-box !important;

        ;
}

:host #ink {
  color: var(--paper-icon-button-ink-color, var(--primary-text-color));
        opacity: 0.6;
}

:host([disabled]) {
  color: var(--paper-icon-button-disabled-text, var(--disabled-text-color));
        pointer-events: none;
        cursor: auto;

        ;
}

:host([hidden]) {
  display: none !important;
}

:host(:hover) {
  ;
}

iron-icon {
  --iron-icon-width: 100%;
        --iron-icon-height: 100%;
}</style><iron-icon id="icon" alt=""><template shadowrootmode="open"><svg viewBox="0 0 24 24" preserveAspectRatio="xMidYMid meet" focusable="false" style="pointer-events: none; display: block; width: 100%; height: 100%;"><g><path d="M10 6L8.59 7.41 13.17 12l-4.58 4.59L10 18l6-6z"></path></g></svg><style scope="iron-icon">:host {
  display: var(--layout-inline_-_display);
        -ms-flex-align: var(--layout-center-center_-_-ms-flex-align); -webkit-align-items: var(--layout-center-center_-_-webkit-align-items); align-items: var(--layout-center-center_-_align-items); -ms-flex-pack: var(--layout-center-center_-_-ms-flex-pack); -webkit-justify-content: var(--layout-center-center_-_-webkit-justify-content); justify-content: var(--layout-center-center_-_justify-content);
        position: relative;

        vertical-align: middle;

        fill: var(--iron-icon-fill-color, currentcolor);
        stroke: var(--iron-icon-stroke-color, none);

        width: var(--iron-icon-width, 24px);
        height: var(--iron-icon-height, 24px);
        ;
}

:host([hidden]) {
  display: none;
}</style>
    
</template></iron-icon></template></paper-icon-button>
</template>
      <paper-tab noink="" title="" aria-labelledby="tab-title-iwN2PDSOiq_R" class="iron-selected" role="tab" aria-disabled="false" aria-selected="true" tabindex="0"><template shadowrootmode="open"><style scope="paper-tab">:host {
  display: var(--layout-inline_-_display);
        -ms-flex-align: var(--layout-center_-_-ms-flex-align); -webkit-align-items: var(--layout-center_-_-webkit-align-items); align-items: var(--layout-center_-_align-items);
        -ms-flex-pack: var(--layout-center-justified_-_-ms-flex-pack); -webkit-justify-content: var(--layout-center-justified_-_-webkit-justify-content); justify-content: var(--layout-center-justified_-_justify-content);
        -ms-flex: var(--layout-flex-auto_-_-ms-flex); -webkit-flex: var(--layout-flex-auto_-_-webkit-flex); flex: var(--layout-flex-auto_-_flex);

        position: relative;
        padding: 0 12px;
        overflow: hidden;
        cursor: pointer;
        vertical-align: middle;

        font-family: var(--paper-font-common-base_-_font-family); -webkit-font-smoothing: var(--paper-font-common-base_-_-webkit-font-smoothing);
        ;
}

:host(:focus) {
  outline: none;
}

:host([link]) {
  padding: 0;
}

.tab-content {
  height: 100%;
        transform: translateZ(0);
          -webkit-transform: translateZ(0);
        transition: opacity 0.1s cubic-bezier(0.4, 0.0, 1, 1);
        display: var(--layout-horizontal_-_display); -ms-flex-direction: var(--layout-horizontal_-_-ms-flex-direction); -webkit-flex-direction: var(--layout-horizontal_-_-webkit-flex-direction); flex-direction: var(--layout-horizontal_-_flex-direction);
        -ms-flex-align: var(--layout-center-center_-_-ms-flex-align); -webkit-align-items: var(--layout-center-center_-_-webkit-align-items); align-items: var(--layout-center-center_-_align-items); -ms-flex-pack: var(--layout-center-center_-_-ms-flex-pack); -webkit-justify-content: var(--layout-center-center_-_-webkit-justify-content); justify-content: var(--layout-center-center_-_justify-content);
        -ms-flex: var(--layout-flex-auto_-_-ms-flex); -webkit-flex: var(--layout-flex-auto_-_-webkit-flex); flex: var(--layout-flex-auto_-_flex);
        ;
}

:host(:not(.iron-selected)) > .tab-content {
  opacity: 0.8;

        ;
}

:host(:focus) .tab-content {
  opacity: 1;
        font-weight: 700;

        background-color: var(--paper-tab-content-focused_-_background-color); font-weight: var(--paper-tab-content-focused_-_font-weight, 700); background: var(--paper-tab-content-focused_-_background);
}

paper-ripple {
  color: var(--paper-tab-ink, var(--paper-yellow-a100));
}

.tab-content > ::slotted(a) {
  -ms-flex: var(--layout-flex-auto_-_-ms-flex); -webkit-flex: var(--layout-flex-auto_-_-webkit-flex); flex: var(--layout-flex-auto_-_flex);

        height: 100%;
}</style>
    

    <div class="tab-content">
      <slot></slot>
    </div>
</template>
          <div class="colab-tab-header">
            <span class="colab-tab-title" id="tab-title-iwN2PDSOiq_R"><!--?lit$568155653$--><!--?lit$568155653$-->Notebook<!--?--></span>
            <!--?lit$568155653$-->
          </div>
        </paper-tab></paper-tabs>
      <!--?lit$568155653$--> <md-icon-button title="Show more" aria-label="Show more" role="presentation" value=""><template shadowrootmode="open" shadowrootdelegatesfocus><!----><button id="button" class="icon-button  standard " aria-label="Show more">
        <!--?lit$568155653$--><md-focus-ring part="focus-ring" for="button" aria-hidden="true"><template shadowrootmode="open"><!----></template></md-focus-ring>
        <!--?lit$568155653$--><md-ripple aria-hidden="true"><template shadowrootmode="open"><!----><div class="surface   "></div></template></md-ripple>
        <!--?lit$568155653$--><span class="icon"><slot></slot></span>
        <!--?lit$568155653$-->
        <!--?lit$568155653$--><span class="touch"></span>
        <!--?lit$568155653$-->
  </button></template>
    <md-icon aria-hidden="true"><template shadowrootmode="open"><!----><slot></slot></template>more_horiz</md-icon>
  </md-icon-button>
    </div>
    <div class="layout vertical grow tab-pane-container"> <colab-tab class="layout vertical grow notebook-tab-content iron-selected"><!----> <div class="overflow-flexbox-workaround">
      <colab-shaded-scroller ignore-dom-changes="" role="main" class="notebook-container" aria-label="Notebook" tabindex="-1">
        <div class="notebook-scrolling-horizontal-container">
          <div class="notebook-scrolling-horizontal">
            <div class="notebook-content-background">
              <!--?lit$568155653$-->
              <div class="notebook-content ">
                <!--?lit$568155653$--><div class="add-cell">
      <div class="add-cell-buttons">
        <md-outlined-button class="add-code add-button" aria-label="Add code cell
Ctrl+M B" title="Add code cell
Ctrl+M B" role="presentation" value="" has-icon=""><template shadowrootmode="open" shadowrootdelegatesfocus><!---->
      <!--?lit$568155653$--><div class="outline"></div>
      <div class="background"></div>
      <md-focus-ring part="focus-ring" for="button" aria-hidden="true"><template shadowrootmode="open"><!----></template></md-focus-ring>
      <md-ripple for="button" aria-hidden="true"><template shadowrootmode="open"><!----><div class="surface"></div></template></md-ripple>
      <!--?lit$568155653$--><button id="button" class="button" aria-label="Add code cell
Ctrl+M B">
      <!--?lit$568155653$-->
      <span class="touch"></span>
      <!--?lit$568155653$--><slot name="icon"></slot>
      <span class="label"><slot></slot></span>
      <!--?lit$568155653$-->
    
    </button>
    </template>
          <md-icon slot="icon" aria-hidden="true"><template shadowrootmode="open"><!----><slot></slot></template>add</md-icon>
          <!--?lit$568155653$-->Code
        </md-outlined-button>
        <md-outlined-button class="add-text add-button" aria-label="Add text cell" title="Add text cell" role="presentation" value="" has-icon=""><template shadowrootmode="open" shadowrootdelegatesfocus><!---->
      <!--?lit$568155653$--><div class="outline"></div>
      <div class="background"></div>
      <md-focus-ring part="focus-ring" for="button" aria-hidden="true"><template shadowrootmode="open"><!----></template></md-focus-ring>
      <md-ripple for="button" aria-hidden="true"><template shadowrootmode="open"><!----><div class="surface"></div></template></md-ripple>
      <!--?lit$568155653$--><button id="button" class="button" aria-label="Add text cell">
      <!--?lit$568155653$-->
      <span class="touch"></span>
      <!--?lit$568155653$--><slot name="icon"></slot>
      <span class="label"><slot></slot></span>
      <!--?lit$568155653$-->
    
    </button>
    </template>
          <md-icon slot="icon" aria-hidden="true"><template shadowrootmode="open"><!----><slot></slot></template>add</md-icon>
          <!--?lit$568155653$-->Text
        </md-outlined-button>
        <!--?lit$568155653$-->
      </div><hr>
    </div>
                <div class="notebook-cell-list"><div class="cell code icon-scrolling focused" id="cell-3v9tRpNSiq-6" role="region" aria-label="Cell 0: Code cell: " style="" tabindex="-1"><div class="cell-tag-editor sticky"></div><div class="cell-toolbar sticky"><colab-cell-toolbar><template shadowrootmode="open"><!----><!--?lit$568155653$--><!----> <md-icon-button class="colab-icon" title="Move cell up
Ctrl+M K" aria-label="Move cell up
Ctrl+M K" command="move-cell-up" role="presentation" disabled="" value=""><template shadowrootmode="open" shadowrootdelegatesfocus><!----><button id="button" class="icon-button  standard " aria-label="Move cell up
Ctrl+M K" disabled="">
        <!--?lit$568155653$--><md-focus-ring part="focus-ring" for="button" aria-hidden="true"><template shadowrootmode="open"><!----></template></md-focus-ring>
        <!--?lit$568155653$--><md-ripple disabled="" aria-hidden="true"><template shadowrootmode="open"><!----><div class="surface   "></div></template></md-ripple>
        <!--?lit$568155653$--><span class="icon"><slot></slot></span>
        <!--?lit$568155653$-->
        <!--?lit$568155653$--><span class="touch"></span>
        <!--?lit$568155653$-->
  </button></template>
          <md-icon aria-hidden="true"><template shadowrootmode="open"><!----><slot></slot></template><!--?lit$568155653$-->arrow_upward</md-icon>
          <!--?lit$568155653$-->
        </md-icon-button><!----><!----> <md-icon-button class="colab-icon" title="Move cell down
Ctrl+M J" aria-label="Move cell down
Ctrl+M J" command="move-cell-down" role="presentation" value=""><template shadowrootmode="open" shadowrootdelegatesfocus><!----><button id="button" class="icon-button  standard " aria-label="Move cell down
Ctrl+M J">
        <!--?lit$568155653$--><md-focus-ring part="focus-ring" for="button" aria-hidden="true"><template shadowrootmode="open"><!----></template></md-focus-ring>
        <!--?lit$568155653$--><md-ripple aria-hidden="true"><template shadowrootmode="open"><!----><div class="surface   "></div></template></md-ripple>
        <!--?lit$568155653$--><span class="icon"><slot></slot></span>
        <!--?lit$568155653$-->
        <!--?lit$568155653$--><span class="touch"></span>
        <!--?lit$568155653$-->
  </button></template>
          <md-icon aria-hidden="true"><template shadowrootmode="open"><!----><slot></slot></template><!--?lit$568155653$-->arrow_downward</md-icon>
          <!--?lit$568155653$-->
        </md-icon-button><!----><!----> <md-icon-button class="colab-icon" title="Copy link to cell" aria-label="Copy link to cell" command="copy-link-to-cell" role="presentation" value=""><template shadowrootmode="open" shadowrootdelegatesfocus><!----><button id="button" class="icon-button  standard " aria-label="Copy link to cell">
        <!--?lit$568155653$--><md-focus-ring part="focus-ring" for="button" aria-hidden="true"><template shadowrootmode="open"><!----></template></md-focus-ring>
        <!--?lit$568155653$--><md-ripple aria-hidden="true"><template shadowrootmode="open"><!----><div class="surface   "></div></template></md-ripple>
        <!--?lit$568155653$--><span class="icon"><slot></slot></span>
        <!--?lit$568155653$-->
        <!--?lit$568155653$--><span class="touch"></span>
        <!--?lit$568155653$-->
  </button></template>
          <md-icon aria-hidden="true"><template shadowrootmode="open"><!----><slot></slot></template><!--?lit$568155653$-->link</md-icon>
          <!--?lit$568155653$-->
        </md-icon-button><!----><!----> <md-icon-button class="colab-icon" title="Add a comment
Ctrl+Alt+M" aria-label="Add a comment
Ctrl+Alt+M" command="add-comment" role="presentation" value=""><template shadowrootmode="open" shadowrootdelegatesfocus><!----><button id="button" class="icon-button  standard " aria-label="Add a comment
Ctrl+Alt+M">
        <!--?lit$568155653$--><md-focus-ring part="focus-ring" for="button" aria-hidden="true"><template shadowrootmode="open"><!----></template></md-focus-ring>
        <!--?lit$568155653$--><md-ripple aria-hidden="true"><template shadowrootmode="open"><!----><div class="surface"></div></template></md-ripple>
        <!--?lit$568155653$--><span class="icon"><slot></slot></span>
        <!--?lit$568155653$-->
        <!--?lit$568155653$--><span class="touch"></span>
        <!--?lit$568155653$-->
  </button></template>
          <md-icon aria-hidden="true"><template shadowrootmode="open"><!----><slot></slot></template><!--?lit$568155653$-->comment</md-icon>
          <!--?lit$568155653$-->
        </md-icon-button><!----><!----> <md-icon-button class="colab-icon" title="Open editor settings" aria-label="Open editor settings" command="editor-preferences" role="presentation" value=""><template shadowrootmode="open" shadowrootdelegatesfocus><!----><button id="button" class="icon-button  standard " aria-label="Open editor settings">
        <!--?lit$568155653$--><md-focus-ring part="focus-ring" for="button" aria-hidden="true"><template shadowrootmode="open"><!----></template></md-focus-ring>
        <!--?lit$568155653$--><md-ripple aria-hidden="true"><template shadowrootmode="open"><!----><div class="surface   "></div></template></md-ripple>
        <!--?lit$568155653$--><span class="icon"><slot></slot></span>
        <!--?lit$568155653$-->
        <!--?lit$568155653$--><span class="touch"></span>
        <!--?lit$568155653$-->
  </button></template>
          <md-icon filled="" aria-hidden="true"><template shadowrootmode="open"><!----><slot></slot></template><!--?lit$568155653$-->settings</md-icon>
          <!--?lit$568155653$-->
        </md-icon-button><!----><!----> <md-icon-button class="colab-icon" title="Edit" aria-label="Edit" command="toggle-edit-markdown" toggle="" role="presentation" value="" style="display: none;"><template shadowrootmode="open" shadowrootdelegatesfocus><!----><button id="button" class="icon-button  standard " aria-label="Edit" aria-pressed="false">
        <!--?lit$568155653$--><md-focus-ring part="focus-ring" for="button" aria-hidden="true"><template shadowrootmode="open"><!----></template></md-focus-ring>
        <!--?lit$568155653$--><md-ripple aria-hidden="true"><template shadowrootmode="open"><!----><div class="surface   "></div></template></md-ripple>
        <!--?lit$568155653$--><span class="icon"><slot></slot></span>
        <!--?lit$568155653$-->
        <!--?lit$568155653$--><span class="touch"></span>
        <!--?lit$568155653$-->
  </button></template>
          <md-icon aria-hidden="true"><template shadowrootmode="open"><!----><slot></slot></template><!--?lit$568155653$-->edit</md-icon>
          <!--?lit$568155653$--><md-icon slot="selected" aria-hidden="true"><template shadowrootmode="open"><!----><slot></slot></template><!--?lit$568155653$-->edit_off</md-icon>
        </md-icon-button><!----><!----> <md-icon-button class="colab-icon" title="Mirror cell in tab" aria-label="Mirror cell in tab" command="mirror-cell-in-tab" role="presentation" value=""><template shadowrootmode="open" shadowrootdelegatesfocus><!----><button id="button" class="icon-button  standard " aria-label="Mirror cell in tab">
        <!--?lit$568155653$--><md-focus-ring part="focus-ring" for="button" aria-hidden="true"><template shadowrootmode="open"><!----></template></md-focus-ring>
        <!--?lit$568155653$--><md-ripple aria-hidden="true"><template shadowrootmode="open"><!----><div class="surface   "></div></template></md-ripple>
        <!--?lit$568155653$--><span class="icon"><slot></slot></span>
        <!--?lit$568155653$-->
        <!--?lit$568155653$--><span class="touch"></span>
        <!--?lit$568155653$-->
  </button></template>
          <md-icon aria-hidden="true"><template shadowrootmode="open"><!----><slot></slot></template><!--?lit$568155653$--><svg viewBox="0 0 24 24"><!--?lit$568155653$-->
      <g id="mirror-cell">
        <path d="M4,21V7H2V21a2,2,0,0,0,2,2H18V21Z"></path>
        <path d="M6,13v2H8.6L5,18.6,6.4,20,10,16.4V19h2V13Z"></path>
        <path d="M19,1H8A2,2,0,0,0,6,3v8H8V3H19V17H14v2h5a2,2,0,0,0,2-2V3A2,2,0,0,0,19,1Z"></path>
      </g></svg></md-icon>
          <!--?lit$568155653$-->
        </md-icon-button><!----><!----> <md-icon-button class="colab-icon" title="Delete cell
Ctrl+M D" aria-label="Delete cell
Ctrl+M D" command="delete-cell-or-selection" role="presentation" value=""><template shadowrootmode="open" shadowrootdelegatesfocus><!----><button id="button" class="icon-button  standard " aria-label="Delete cell
Ctrl+M D">
        <!--?lit$568155653$--><md-focus-ring part="focus-ring" for="button" aria-hidden="true"><template shadowrootmode="open"><!----></template></md-focus-ring>
        <!--?lit$568155653$--><md-ripple aria-hidden="true"><template shadowrootmode="open"><!----><div class="surface"></div></template></md-ripple>
        <!--?lit$568155653$--><span class="icon"><slot></slot></span>
        <!--?lit$568155653$-->
        <!--?lit$568155653$--><span class="touch"></span>
        <!--?lit$568155653$-->
  </button></template>
          <md-icon aria-hidden="true"><template shadowrootmode="open"><!----><slot></slot></template><!--?lit$568155653$-->delete</md-icon>
          <!--?lit$568155653$-->
        </md-icon-button><!----><!--?lit$568155653$--><md-icon-button title="More cell actions" aria-label="More cell actions" class="colab-icon cell-toolbar-more" role="presentation" value=""><template shadowrootmode="open" shadowrootdelegatesfocus><!----><button id="button" class="icon-button  standard " aria-label="More cell actions">
        <!--?lit$568155653$--><md-focus-ring part="focus-ring" for="button" aria-hidden="true"><template shadowrootmode="open"><!----></template></md-focus-ring>
        <!--?lit$568155653$--><md-ripple aria-hidden="true"><template shadowrootmode="open"><!----><div class="surface   "></div></template></md-ripple>
        <!--?lit$568155653$--><span class="icon"><slot></slot></span>
        <!--?lit$568155653$-->
        <!--?lit$568155653$--><span class="touch"></span>
        <!--?lit$568155653$-->
  </button></template><md-icon aria-hidden="true"><template shadowrootmode="open"><!----><slot></slot></template>more_vert</md-icon>
    </md-icon-button><!--?--></template></colab-cell-toolbar></div><div class="main-content" elevation="2"><div class="cell-contents"><div class="cell-mask"></div><span class="imported-info-area"></span><div class="codecell-input-output">
      <div class="inputarea horizontal layout code">
        <div class="cell-gutter">
          <!-- Bounding range for vertical scrolling of icons -->
          <div class="cell-execution-container">
            <colab-run-button title="Run cell (Ctrl+Enter)
cell executed since last change" role="button" aria-label="Run cell"><template shadowrootmode="open"><!----> <div class="cell-execution focused">
      <div class="execution-count"><!--?lit$568155653$-->[1]</div>
      <div class="cell-execution-indicator"> <!--?lit$568155653$-->
<svg xmlns="http://www.w3.org/2000/svg" viewBox="0 0 24 24">
  <!--?lit$568155653$-->
  <mask id="playSymbolMask">
    <rect width="100%" height="100%" fill="white"></rect>
    <polygon points="10,8 17,12 10,16" fill="black"></polygon>
  </mask>
  <circle cx="12" cy="12" r="7.8" mask="url(#playSymbolMask)" id="filledCircle"></circle>
</svg> </div>
      <!--?lit$568155653$--><div id="status">
      <md-icon aria-hidden="true"><template shadowrootmode="open"><!----><slot></slot></template><!--?lit$568155653$--><svg viewBox="0 0 24 24"><!--?lit$568155653$--><path d="M9 16.17L4.83 12l-1.42 1.41L9 19 21 7l-1.41-1.41z"></path></svg></md-icon>
      <div><!--?lit$568155653$--></div>
    </div>
    </div></template></colab-run-button>
          </div>
        </div>
      <div class="editor flex lazy-editor" style=""><div class="editor flex monaco" data-keybinding-context="232" data-mode-id="notebook-python" style="height: 447px; --vscode-editorCodeLens-lineHeight: 16px; --vscode-editorCodeLens-fontSize: 12px; --vscode-editorCodeLens-fontFeatureSettings: &quot;liga&quot; on, &quot;calt&quot; on;"><div class="monaco-editor no-user-select  showUnused showDeprecated vs" role="code" data-uri="inmemory://model/3" style="width: 1411px; height: 447px;"><div data-mprt="3" class="overflow-guard" style="width: 1411px; height: 447px;"><div class="margin" role="presentation" aria-hidden="true" style="position: absolute; contain: strict; will-change: unset; top: 0px; height: 447px; width: 6px;"><div class="glyph-margin" style="left: 0px; width: 0px; height: 447px;"></div><div class="margin-view-zones" role="presentation" aria-hidden="true" style="position: absolute;"></div><div class="margin-view-overlays" role="presentation" aria-hidden="true" style="position: absolute; font-family: monospace, Consolas, &quot;Courier New&quot;, monospace; font-weight: normal; font-size: 14px; font-feature-settings: &quot;liga&quot;, &quot;calt&quot;; font-variation-settings: normal; line-height: 19px; letter-spacing: 0px; width: 6px; height: 447px;"><div style="position:absolute;top:0px;width:100%;height:19px;"><div class="current-line current-line-margin-both" style="width:6px; height:19px;"></div></div><div style="position:absolute;top:19px;width:100%;height:19px;"></div><div style="position:absolute;top:38px;width:100%;height:19px;"></div><div style="position:absolute;top:57px;width:100%;height:19px;"></div><div style="position:absolute;top:76px;width:100%;height:19px;"></div><div style="position:absolute;top:95px;width:100%;height:19px;"></div><div style="position:absolute;top:114px;width:100%;height:19px;"></div><div style="position:absolute;top:133px;width:100%;height:19px;"></div><div style="position:absolute;top:152px;width:100%;height:19px;"></div><div style="position:absolute;top:171px;width:100%;height:19px;"></div><div style="position:absolute;top:190px;width:100%;height:19px;"></div><div style="position:absolute;top:209px;width:100%;height:19px;"></div><div style="position:absolute;top:228px;width:100%;height:19px;"></div><div style="position:absolute;top:247px;width:100%;height:19px;"></div><div style="position:absolute;top:266px;width:100%;height:19px;"></div><div style="position:absolute;top:285px;width:100%;height:19px;"></div><div style="position:absolute;top:304px;width:100%;height:19px;"></div><div style="position:absolute;top:323px;width:100%;height:19px;"></div><div style="position:absolute;top:342px;width:100%;height:19px;"></div><div style="position:absolute;top:361px;width:100%;height:19px;"></div><div style="position:absolute;top:380px;width:100%;height:19px;"></div><div style="position:absolute;top:399px;width:100%;height:19px;"></div><div style="position:absolute;top:418px;width:100%;height:19px;"></div></div><div class="glyph-margin-widgets" style="position: absolute; top: 0px;"></div></div><div class="monaco-scrollable-element editor-scrollable vs" role="presentation" data-mprt="5" style="position: absolute; overflow: hidden; left: 6px; width: 1405px; height: 447px;"><div class="lines-content monaco-editor-background" style="position: absolute; overflow: hidden; width: 1e+06px; height: 447px; contain: strict; will-change: unset; top: 0px; left: 0px;"><div class="view-overlays" role="presentation" aria-hidden="true" style="position: absolute; font-family: monospace, Consolas, &quot;Courier New&quot;, monospace; font-weight: normal; font-size: 14px; font-feature-settings: &quot;liga&quot;, &quot;calt&quot;; font-variation-settings: normal; line-height: 19px; letter-spacing: 0px; height: 0px; width: 1405px;"><div style="position:absolute;top:0px;width:100%;height:19px;"><div class="current-line" style="width:1405px; height:19px;"></div></div><div style="position:absolute;top:19px;width:100%;height:19px;"></div><div style="position:absolute;top:38px;width:100%;height:19px;"></div><div style="position:absolute;top:57px;width:100%;height:19px;"></div><div style="position:absolute;top:76px;width:100%;height:19px;"></div><div style="position:absolute;top:95px;width:100%;height:19px;"></div><div style="position:absolute;top:114px;width:100%;height:19px;"></div><div style="position:absolute;top:133px;width:100%;height:19px;"></div><div style="position:absolute;top:152px;width:100%;height:19px;"></div><div style="position:absolute;top:171px;width:100%;height:19px;"></div><div style="position:absolute;top:190px;width:100%;height:19px;"></div><div style="position:absolute;top:209px;width:100%;height:19px;"></div><div style="position:absolute;top:228px;width:100%;height:19px;"></div><div style="position:absolute;top:247px;width:100%;height:19px;"></div><div style="position:absolute;top:266px;width:100%;height:19px;"><div class="cdr squiggly-warning" style="left:38px;width:270px;height:19px;"></div></div><div style="position:absolute;top:285px;width:100%;height:19px;"></div><div style="position:absolute;top:304px;width:100%;height:19px;"></div><div style="position:absolute;top:323px;width:100%;height:19px;"></div><div style="position:absolute;top:342px;width:100%;height:19px;"></div><div style="position:absolute;top:361px;width:100%;height:19px;"></div><div style="position:absolute;top:380px;width:100%;height:19px;"></div><div style="position:absolute;top:399px;width:100%;height:19px;"></div><div style="position:absolute;top:418px;width:100%;height:19px;"></div></div><div role="presentation" aria-hidden="true" class="view-rulers"><div class="view-ruler" style="width: 2px; height: 447px; left: 615.938px;"></div></div><div class="view-zones" role="presentation" aria-hidden="true" style="position: absolute;"></div><div class="view-lines monaco-mouse-cursor-text" role="presentation" aria-hidden="true" data-mprt="7" style="position: absolute; font-family: monospace, Consolas, &quot;Courier New&quot;, monospace; font-weight: normal; font-size: 14px; font-feature-settings: &quot;liga&quot;, &quot;calt&quot;; font-variation-settings: normal; line-height: 19px; letter-spacing: 0px; width: 1405px; height: 447px;"><div style="top:0px;height:19px;" class="view-line"><span><span class="mtk8">#&nbsp;Importing&nbsp;all&nbsp;requirements&nbsp;and&nbsp;libraries&nbsp;</span></span></div><div style="top:19px;height:19px;" class="view-line"><span><span class="mtk6">!</span><span class="mtk1">pip&nbsp;install&nbsp;wordcloud</span></span></div><div style="top:38px;height:19px;" class="view-line"><span><span class="mtk6">!</span><span class="mtk1">pip&nbsp;install&nbsp;textblob</span></span></div><div style="top:57px;height:19px;" class="view-line"><span><span class="mtk6">!</span><span class="mtk1">pip&nbsp;install&nbsp;tensorflow</span></span></div><div style="top:76px;height:19px;" class="view-line"><span><span></span></span></div><div style="top:95px;height:19px;" class="view-line"><span><span class="mtk19">import</span><span class="mtk1">&nbsp;nltk</span></span></div><div style="top:114px;height:19px;" class="view-line"><span><span class="mtk19">import</span><span class="mtk1">&nbsp;pandas&nbsp;</span><span class="mtk19">as</span><span class="mtk1">&nbsp;pd</span></span></div><div style="top:133px;height:19px;" class="view-line"><span><span class="mtk19">from</span><span class="mtk1">&nbsp;nltk.corpus&nbsp;</span><span class="mtk19">import</span><span class="mtk1">&nbsp;stopwords</span></span></div><div style="top:152px;height:19px;" class="view-line"><span><span class="mtk19">from</span><span class="mtk1">&nbsp;textblob&nbsp;</span><span class="mtk19">import</span><span class="mtk1">&nbsp;Word</span></span></div><div style="top:171px;height:19px;" class="view-line"><span><span class="mtk19">from</span><span class="mtk1">&nbsp;sklearn.preprocessing&nbsp;</span><span class="mtk19">import</span><span class="mtk1">&nbsp;LabelEncoder</span></span></div><div style="top:190px;height:19px;" class="view-line"><span><span class="mtk19">from</span><span class="mtk1">&nbsp;collections&nbsp;</span><span class="mtk19">import</span><span class="mtk1">&nbsp;Counter</span></span></div><div style="top:209px;height:19px;" class="view-line"><span><span class="mtk19">from</span><span class="mtk1">&nbsp;wordcloud&nbsp;</span><span class="mtk19">import</span><span class="mtk1">&nbsp;WordCloud</span></span></div><div style="top:228px;height:19px;" class="view-line"><span><span class="mtk19">from</span><span class="mtk1">&nbsp;sklearn.metrics&nbsp;</span><span class="mtk19">import</span><span class="mtk1">&nbsp;classification_report,&nbsp;confusion_matrix,&nbsp;</span><span class="mtk1">accuracy_score</span></span></div><div style="top:247px;height:19px;" class="view-line"><span><span class="mtk19">from</span><span class="mtk1">&nbsp;keras.models&nbsp;</span><span class="mtk19">import</span><span class="mtk1">&nbsp;Sequential</span></span></div><div style="top:266px;height:19px;" class="view-line"><span><span class="mtk19">from</span><span class="mtk1">&nbsp;tensorflow.keras.preprocessing.text&nbsp;</span><span class="mtk19">import</span><span class="mtk1">&nbsp;Tokenizer</span></span></div><div style="top:285px;height:19px;" class="view-line"><span><span class="mtk19">from</span><span class="mtk1">&nbsp;keras.preprocessing.sequence&nbsp;</span><span class="mtk19">import</span><span class="mtk1">&nbsp;pad_sequences</span></span></div><div style="top:304px;height:19px;" class="view-line"><span><span class="mtk19">from</span><span class="mtk1">&nbsp;keras.layers&nbsp;</span><span class="mtk19">import</span><span class="mtk1">&nbsp;Dense,&nbsp;Embedding,&nbsp;LSTM,&nbsp;SpatialDropout1D</span></span></div><div style="top:323px;height:19px;" class="view-line"><span><span class="mtk19">from</span><span class="mtk1">&nbsp;sklearn.model_selection&nbsp;</span><span class="mtk19">import</span><span class="mtk1">&nbsp;train_test_split</span></span></div><div style="top:342px;height:19px;" class="view-line"><span><span class="mtk19">import</span><span class="mtk1">&nbsp;matplotlib.pyplot&nbsp;</span><span class="mtk19">as</span><span class="mtk1">&nbsp;plt</span></span></div><div style="top:361px;height:19px;" class="view-line"><span><span class="mtk19">import</span><span class="mtk1">&nbsp;numpy&nbsp;</span><span class="mtk19">as</span><span class="mtk1">&nbsp;np</span></span></div><div style="top:380px;height:19px;" class="view-line"><span><span></span></span></div><div style="top:399px;height:19px;" class="view-line"><span><span class="mtk19">import</span><span class="mtk1">&nbsp;warnings</span></span></div><div style="top:418px;height:19px;" class="view-line"><span><span class="mtk1">warnings.filterwarnings</span><span class="mtk1 bracket-highlighting-0">(</span><span class="mtk26">'ignore'</span><span class="mtk1 bracket-highlighting-0">)</span></span></div></div><div data-mprt="1" class="contentWidgets" style="position: absolute; top: 0px;"><div class="lightBulbWidget codicon codicon-light-bulb" widgetid="LightBulbWidget" title="Show Code Actions (Ctrl+.)" style="position: absolute; display: none; visibility: hidden; max-width: 1405px;"></div></div><div role="presentation" aria-hidden="true" class="cursors-layer cursor-line-style cursor-solid"><div class="cursor monaco-mouse-cursor-text " style="height: 19px; top: 0px; left: 0px; font-family: monospace, Consolas, &quot;Courier New&quot;, monospace; font-weight: normal; font-size: 14px; font-feature-settings: &quot;liga&quot;, &quot;calt&quot;; font-variation-settings: normal; line-height: 19px; letter-spacing: 0px; display: block; visibility: hidden; padding-left: 0px; width: 1.6px;"></div></div></div><div role="presentation" aria-hidden="true" class="invisible scrollbar horizontal" style="position: absolute; width: 1391px; height: 10px; left: 0px; bottom: 0px;"><div class="slider" style="position: absolute; top: 0px; left: 0px; height: 10px; transform: translate3d(0px, 0px, 0px); contain: strict; will-change: unset; width: 1391px;"></div></div><canvas class="decorationsOverviewRuler" aria-hidden="true" width="17" height="558" style="position: absolute; transform: translate3d(0px, 0px, 0px); contain: strict; top: 0px; right: 0px; width: 14px; height: 447px; will-change: unset; display: block;"></canvas><div role="presentation" aria-hidden="true" class="invisible scrollbar vertical" style="position: absolute; width: 14px; height: 447px; right: 0px; top: 0px;"><div class="slider" style="position: absolute; top: 0px; left: 0px; width: 14px; transform: translate3d(0px, 0px, 0px); contain: strict; will-change: unset; height: 447px;"></div></div></div><div role="presentation" aria-hidden="true" style="width: 1411px;"></div><textarea data-mprt="6" class="inputarea monaco-mouse-cursor-text" wrap="on" autocorrect="off" autocapitalize="off" autocomplete="off" spellcheck="false" aria-label="Editor content;Press Alt+F1 for Accessibility Options." tabindex="0" role="textbox" aria-roledescription="editor" aria-multiline="true" aria-haspopup="false" aria-autocomplete="both" style="tab-size: 15.3984px; font-family: monospace, Consolas, &quot;Courier New&quot;, monospace; font-weight: normal; font-size: 14px; font-feature-settings: &quot;liga&quot;, &quot;calt&quot;; font-variation-settings: normal; line-height: 19px; letter-spacing: 0px; top: 0px; left: 6px; width: 1411px; height: 1px;"></textarea><div class="monaco-editor-background textAreaCover" style="position: absolute; top: 0px; left: 0px; width: 0px; height: 0px;"></div><div data-mprt="4" class="overlayWidgets" style="width: 1411px;"><div widgetid="editor.contrib.quickInputWidget" style="position: absolute; top: 0px; right: 50%;"></div></div><div data-mprt="8" class="minimap slider-mouseover" role="presentation" aria-hidden="true" style="position: absolute; left: 0px; width: 0px; height: 447px;"><div class="minimap-shadow-hidden" style="height: 447px;"></div><canvas width="0" height="558" style="position: absolute; left: 0px; width: 0px; height: 447px;"></canvas><canvas class="minimap-decorations-layer" width="0" height="558" style="position: absolute; left: 0px; width: 0px; height: 447px;"></canvas><div class="minimap-slider" style="position: absolute; transform: translate3d(0px, 0px, 0px); contain: strict; width: 0px; will-change: unset;"><div class="minimap-slider-horizontal" style="position: absolute; width: 0px; height: 0px;"></div></div></div><div role="presentation" aria-hidden="true" class="blockDecorations-container"></div></div><div data-mprt="2" class="overflowingContentWidgets"><div widgetid="editor.contrib.resizableContentHoverWidget" style="position: fixed; height: 10px; width: 10px; z-index: 50; display: none; visibility: hidden; max-width: 1536px;"><div class="monaco-sash vertical" style="left: 8px;"></div><div class="monaco-sash vertical" style="left: -2px;"></div><div class="monaco-sash orthogonal-edge-north horizontal" style="top: -2px;"><div class="orthogonal-drag-handle start"></div><div class="orthogonal-drag-handle end"></div></div><div class="monaco-sash orthogonal-edge-south horizontal" style="top: 8px;"><div class="orthogonal-drag-handle start"></div><div class="orthogonal-drag-handle end"></div></div><div class="monaco-hover hidden" role="tooltip" tabindex="0"><div class="monaco-scrollable-element " role="presentation" style="position: relative; overflow: hidden;"><div class="monaco-hover-content" style="overflow: hidden; font-size: 14px; line-height: 1.35714; max-width: 931.26px; max-height: 250px;"></div><div role="presentation" aria-hidden="true" class="invisible scrollbar horizontal" style="position: absolute;"><div class="slider" style="position: absolute; top: 0px; left: 0px; height: 10px; transform: translate3d(0px, 0px, 0px); contain: strict;"></div></div><div role="presentation" aria-hidden="true" class="invisible scrollbar vertical" style="position: absolute;"><div class="slider" style="position: absolute; top: 0px; left: 0px; width: 10px; transform: translate3d(0px, 0px, 0px); contain: strict;"></div></div><div class="shadow"></div><div class="shadow"></div><div class="shadow"></div></div></div></div></div><div class=".in-cell-overflowing"></div></div></div></div><colab-form class="formview vertical layout flex"><div class="widget-area vertical layout"></div></colab-form></div>
    <div class="output"><!----> <div class="output-header"> </div>
        <div class="output-content" style="display: none;">
          <div class="output-info"></div>
          <div class="output-iframe-container">
            <div class="output-iframe-sizer" style="min-height: 0px;"> <div><div></div></div></div>
          </div>
        </div></div></div><colab-cell-next-steps><template shadowrootmode="open"><!----></template></colab-cell-next-steps></div></div><div class="add-cell">
      <div class="add-cell-buttons">
        <md-outlined-button class="add-code add-button" aria-label="Add code cell
Ctrl+M B" title="Add code cell
Ctrl+M B" role="presentation" value="" has-icon=""><template shadowrootmode="open" shadowrootdelegatesfocus><!---->
      <!--?lit$568155653$--><div class="outline"></div>
      <div class="background"></div>
      <md-focus-ring part="focus-ring" for="button" aria-hidden="true"><template shadowrootmode="open"><!----></template></md-focus-ring>
      <md-ripple for="button" aria-hidden="true"><template shadowrootmode="open"><!----><div class="surface   "></div></template></md-ripple>
      <!--?lit$568155653$--><button id="button" class="button" aria-label="Add code cell
Ctrl+M B">
      <!--?lit$568155653$-->
      <span class="touch"></span>
      <!--?lit$568155653$--><slot name="icon"></slot>
      <span class="label"><slot></slot></span>
      <!--?lit$568155653$-->
    
    </button>
    </template>
          <md-icon slot="icon" aria-hidden="true"><template shadowrootmode="open"><!----><slot></slot></template>add</md-icon>
          <!--?lit$568155653$-->Code
        </md-outlined-button>
        <md-outlined-button class="add-text add-button" aria-label="Add text cell" title="Add text cell" role="presentation" value="" has-icon=""><template shadowrootmode="open" shadowrootdelegatesfocus><!---->
      <!--?lit$568155653$--><div class="outline"></div>
      <div class="background"></div>
      <md-focus-ring part="focus-ring" for="button" aria-hidden="true"><template shadowrootmode="open"><!----></template></md-focus-ring>
      <md-ripple for="button" aria-hidden="true"><template shadowrootmode="open"><!----><div class="surface   "></div></template></md-ripple>
      <!--?lit$568155653$--><button id="button" class="button" aria-label="Add text cell">
      <!--?lit$568155653$-->
      <span class="touch"></span>
      <!--?lit$568155653$--><slot name="icon"></slot>
      <span class="label"><slot></slot></span>
      <!--?lit$568155653$-->
    
    </button>
    </template>
          <md-icon slot="icon" aria-hidden="true"><template shadowrootmode="open"><!----><slot></slot></template>add</md-icon>
          <!--?lit$568155653$-->Text
        </md-outlined-button>
        <!--?lit$568155653$-->
      </div><hr>
    </div></div><div class="cell code icon-scrolling" id="cell-_Vj0-Rmwixnr" role="region" aria-label="Cell 1: Code cell: " style="opacity: 1;" tabindex="-1"><div class="cell-tag-editor sticky"></div><div class="cell-toolbar sticky"></div><div class="main-content" elevation="0"><div class="cell-contents"><div class="cell-mask"></div><span class="imported-info-area"></span><div class="codecell-input-output">
      <div class="inputarea horizontal layout code">
        <div class="cell-gutter">
          <!-- Bounding range for vertical scrolling of icons -->
          <div class="cell-execution-container">
            <colab-run-button title="Run cell (Ctrl+Enter)
cell executed since last change

executed by BHIMRAO PAWAR
2:42 PM (37 minutes ago)
executed in 0.011s" role="button" aria-label="Run cell"><template shadowrootmode="open"><!----> <div class="cell-execution">
      <div class="execution-count"><!--?lit$568155653$-->[2]</div>
      <div class="cell-execution-indicator"> <!--?lit$568155653$-->
<svg xmlns="http://www.w3.org/2000/svg" viewBox="0 0 24 24">
  <!--?lit$568155653$-->
  <mask id="playSymbolMask">
    <rect width="100%" height="100%" fill="white"></rect>
    <polygon points="10,8 17,12 10,16" fill="black"></polygon>
  </mask>
  <circle cx="12" cy="12" r="7.8" mask="url(#playSymbolMask)" id="filledCircle"></circle>
</svg> </div>
      <!--?lit$568155653$--><div id="status">
      <md-icon aria-hidden="true"><template shadowrootmode="open"><!----><slot></slot></template><!--?lit$568155653$--><svg viewBox="0 0 24 24"><!--?lit$568155653$--><path d="M9 16.17L4.83 12l-1.42 1.41L9 19 21 7l-1.41-1.41z"></path></svg></md-icon>
      <div><!--?lit$568155653$-->0s</div>
    </div>
    </div></template></colab-run-button>
          </div>
        </div>
      <div class="editor flex lazy-editor" style=""><div class="editor flex monaco" data-keybinding-context="240" data-mode-id="notebook-python" style="height: 105px; --vscode-editorCodeLens-lineHeight: 16px; --vscode-editorCodeLens-fontSize: 12px; --vscode-editorCodeLens-fontFeatureSettings: &quot;liga&quot; on, &quot;calt&quot; on;"><div class="monaco-editor no-user-select  showUnused showDeprecated vs" role="code" data-uri="inmemory://model/4" style="width: 1411px; height: 105px;"><div data-mprt="3" class="overflow-guard" style="width: 1411px; height: 105px;"><div class="margin" role="presentation" aria-hidden="true" style="position: absolute; contain: strict; will-change: unset; top: 0px; height: 105px; width: 6px;"><div class="glyph-margin" style="left: 0px; width: 0px; height: 105px;"></div><div class="margin-view-zones" role="presentation" aria-hidden="true" style="position: absolute;"></div><div class="margin-view-overlays" role="presentation" aria-hidden="true" style="position: absolute; font-family: monospace, Consolas, &quot;Courier New&quot;, monospace; font-weight: normal; font-size: 14px; font-feature-settings: &quot;liga&quot;, &quot;calt&quot;; font-variation-settings: normal; line-height: 19px; letter-spacing: 0px; width: 6px; height: 105px;"><div style="position:absolute;top:0px;width:100%;height:19px;"><div class="current-line current-line-margin-both" style="width:6px; height:19px;"></div></div><div style="position:absolute;top:19px;width:100%;height:19px;"></div><div style="position:absolute;top:38px;width:100%;height:19px;"></div><div style="position:absolute;top:57px;width:100%;height:19px;"></div><div style="position:absolute;top:76px;width:100%;height:19px;"></div></div><div class="glyph-margin-widgets" style="position: absolute; top: 0px;"></div></div><div class="monaco-scrollable-element editor-scrollable vs" role="presentation" data-mprt="5" style="position: absolute; overflow: hidden; left: 6px; width: 1405px; height: 105px;"><div class="lines-content monaco-editor-background" style="position: absolute; overflow: hidden; width: 1e+06px; height: 105px; contain: strict; will-change: unset; top: 0px; left: 0px;"><div class="view-overlays" role="presentation" aria-hidden="true" style="position: absolute; font-family: monospace, Consolas, &quot;Courier New&quot;, monospace; font-weight: normal; font-size: 14px; font-feature-settings: &quot;liga&quot;, &quot;calt&quot;; font-variation-settings: normal; line-height: 19px; letter-spacing: 0px; height: 0px; width: 1405px;"><div style="position:absolute;top:0px;width:100%;height:19px;"><div class="current-line" style="width:1405px; height:19px;"></div></div><div style="position:absolute;top:19px;width:100%;height:19px;"></div><div style="position:absolute;top:38px;width:100%;height:19px;"></div><div style="position:absolute;top:57px;width:100%;height:19px;"></div><div style="position:absolute;top:76px;width:100%;height:19px;"></div></div><div role="presentation" aria-hidden="true" class="view-rulers"><div class="view-ruler" style="width: 2px; height: 105px; left: 615.938px;"></div></div><div class="view-zones" role="presentation" aria-hidden="true" style="position: absolute;"></div><div class="view-lines monaco-mouse-cursor-text" role="presentation" aria-hidden="true" data-mprt="7" style="position: absolute; font-family: monospace, Consolas, &quot;Courier New&quot;, monospace; font-weight: normal; font-size: 14px; font-feature-settings: &quot;liga&quot;, &quot;calt&quot;; font-variation-settings: normal; line-height: 19px; letter-spacing: 0px; width: 1405px; height: 105px;"><div style="top:0px;height:19px;" class="view-line"><span><span class="mtk8">#&nbsp;loading&nbsp;the&nbsp;dataset&nbsp;</span></span></div><div style="top:19px;height:19px;" class="view-line"><span><span></span></span></div><div style="top:38px;height:19px;" class="view-line"><span><span class="mtk8">#&nbsp;Read&nbsp;the&nbsp;dataset&nbsp;from&nbsp;the&nbsp;corrected&nbsp;URL</span></span></div><div style="top:57px;height:19px;" class="view-line"><span><span class="mtk1">url&nbsp;=&nbsp;</span><span class="mtk26">"</span><span class="mtk26 detected-link">https://raw.githubusercontent.com/sharmaroshan/Amazon-Alexa-Reviews/master/amazon_alexa.tsv</span><span class="mtk26">"</span></span></div><div style="top:76px;height:19px;" class="view-line"><span><span class="mtk1">data&nbsp;=&nbsp;pd.read_csv</span><span class="mtk1 bracket-highlighting-0">(</span><span class="mtk1">url,&nbsp;delimiter=</span><span class="mtk26">'\t'</span><span class="mtk1 bracket-highlighting-0">)</span></span></div></div><div data-mprt="1" class="contentWidgets" style="position: absolute; top: 0px;"></div><div role="presentation" aria-hidden="true" class="cursors-layer cursor-line-style cursor-solid"><div class="cursor monaco-mouse-cursor-text " style="height: 19px; top: 0px; left: 0px; font-family: monospace, Consolas, &quot;Courier New&quot;, monospace; font-weight: normal; font-size: 14px; font-feature-settings: &quot;liga&quot;, &quot;calt&quot;; font-variation-settings: normal; line-height: 19px; letter-spacing: 0px; display: block; visibility: hidden; padding-left: 0px; width: 1.6px;"></div></div></div><div role="presentation" aria-hidden="true" class="invisible scrollbar horizontal" style="position: absolute; width: 1391px; height: 10px; left: 0px; bottom: 0px;"><div class="slider" style="position: absolute; top: 0px; left: 0px; height: 10px; transform: translate3d(0px, 0px, 0px); contain: strict; will-change: unset; width: 1391px;"></div></div><canvas class="decorationsOverviewRuler" aria-hidden="true" width="17" height="131" style="position: absolute; transform: translate3d(0px, 0px, 0px); contain: strict; top: 0px; right: 0px; width: 14px; height: 105px; will-change: unset; display: block;"></canvas><div role="presentation" aria-hidden="true" class="invisible scrollbar vertical" style="position: absolute; width: 14px; height: 105px; right: 0px; top: 0px;"><div class="slider" style="position: absolute; top: 0px; left: 0px; width: 14px; transform: translate3d(0px, 0px, 0px); contain: strict; will-change: unset; height: 105px;"></div></div></div><div role="presentation" aria-hidden="true" style="width: 1411px;"></div><textarea data-mprt="6" class="inputarea monaco-mouse-cursor-text" wrap="on" autocorrect="off" autocapitalize="off" autocomplete="off" spellcheck="false" aria-label="Editor content;Press Alt+F1 for Accessibility Options." tabindex="0" role="textbox" aria-roledescription="editor" aria-multiline="true" aria-haspopup="false" aria-autocomplete="both" style="tab-size: 15.3984px; font-family: monospace, Consolas, &quot;Courier New&quot;, monospace; font-weight: normal; font-size: 14px; font-feature-settings: &quot;liga&quot;, &quot;calt&quot;; font-variation-settings: normal; line-height: 19px; letter-spacing: 0px; top: 0px; left: 6px; width: 1411px; height: 1px;"></textarea><div class="monaco-editor-background textAreaCover" style="position: absolute; top: 0px; left: 0px; width: 0px; height: 0px;"></div><div data-mprt="4" class="overlayWidgets" style="width: 1411px;"><div widgetid="editor.contrib.quickInputWidget" style="position: absolute; top: 0px; right: 50%;"></div></div><div data-mprt="8" class="minimap slider-mouseover" role="presentation" aria-hidden="true" style="position: absolute; left: 0px; width: 0px; height: 105px;"><div class="minimap-shadow-hidden" style="height: 105px;"></div><canvas width="0" height="131" style="position: absolute; left: 0px; width: 0px; height: 105px;"></canvas><canvas class="minimap-decorations-layer" width="0" height="131" style="position: absolute; left: 0px; width: 0px; height: 105px;"></canvas><div class="minimap-slider" style="position: absolute; transform: translate3d(0px, 0px, 0px); contain: strict; width: 0px; will-change: unset;"><div class="minimap-slider-horizontal" style="position: absolute; width: 0px; height: 0px;"></div></div></div><div role="presentation" aria-hidden="true" class="blockDecorations-container"></div></div><div data-mprt="2" class="overflowingContentWidgets"><div widgetid="editor.contrib.resizableContentHoverWidget" style="position: fixed; height: 10px; width: 10px; z-index: 50; display: none; visibility: hidden; max-width: 1536px;"><div class="monaco-sash vertical" style="left: 8px;"></div><div class="monaco-sash vertical" style="left: -2px;"></div><div class="monaco-sash orthogonal-edge-north horizontal" style="top: -2px;"><div class="orthogonal-drag-handle start"></div><div class="orthogonal-drag-handle end"></div></div><div class="monaco-sash orthogonal-edge-south horizontal" style="top: 8px;"><div class="orthogonal-drag-handle start"></div><div class="orthogonal-drag-handle end"></div></div><div class="monaco-hover hidden" role="tooltip" tabindex="0"><div class="monaco-scrollable-element " role="presentation" style="position: relative; overflow: hidden;"><div class="monaco-hover-content" style="overflow: hidden; font-size: 14px; line-height: 1.35714; max-width: 931.26px; max-height: 250px;"></div><div role="presentation" aria-hidden="true" class="invisible scrollbar horizontal" style="position: absolute;"><div class="slider" style="position: absolute; top: 0px; left: 0px; height: 10px; transform: translate3d(0px, 0px, 0px); contain: strict;"></div></div><div role="presentation" aria-hidden="true" class="invisible scrollbar vertical" style="position: absolute;"><div class="slider" style="position: absolute; top: 0px; left: 0px; width: 10px; transform: translate3d(0px, 0px, 0px); contain: strict;"></div></div><div class="shadow"></div><div class="shadow"></div><div class="shadow"></div></div></div></div></div><div class=".in-cell-overflowing"></div></div></div></div><colab-form class="formview vertical layout flex"><div class="widget-area vertical layout"></div></colab-form></div>
    <div class="output"><!----> <div class="output-header"> </div>
        <div class="output-content" style="display: none;">
          <div class="output-info"><colab-output-info title="Clear output

executed by BHIMRAO PAWAR
2:42 PM (0 minutes ago)
executed in 0.011s" hovering=""><template shadowrootmode="open"><!----> <md-icon class="collaborator output" alt="Execution output" aria-hidden="true"><template shadowrootmode="open"><!----><slot></slot></template><!--?lit$568155653$-->output</md-icon>
      <!--?lit$568155653$--> <mwc-icon-button icon="cancel" command="clear-focused-or-selected-outputs" alt="Clear output"><template shadowrootmode="open"><!----><button class="mdc-icon-button mdc-icon-button--display-flex" aria-label="cancel"><!--?lit$568155653$-->
    <!--?lit$568155653$--><i class="material-icons"><!--?lit$568155653$-->cancel</i>
    <span><slot></slot></span>
  </button></template>
          </mwc-icon-button><!--?--></template></colab-output-info></div>
          <div class="output-iframe-container">
            <div class="output-iframe-sizer" style="min-height: 0px;"> <div><div><colab-static-output-renderer role="group" tabindex="0"><div></div><div></div></colab-static-output-renderer></div></div></div>
          </div>
        </div></div></div><colab-cell-next-steps><template shadowrootmode="open"><!----></template></colab-cell-next-steps></div></div><div class="add-cell">
      <div class="add-cell-buttons">
        <md-outlined-button class="add-code add-button" aria-label="Add code cell
Ctrl+M B" title="Add code cell
Ctrl+M B" role="presentation" value="" has-icon=""><template shadowrootmode="open" shadowrootdelegatesfocus><!---->
      <!--?lit$568155653$--><div class="outline"></div>
      <div class="background"></div>
      <md-focus-ring part="focus-ring" for="button" aria-hidden="true"><template shadowrootmode="open"><!----></template></md-focus-ring>
      <md-ripple for="button" aria-hidden="true"><template shadowrootmode="open"><!----><div class="surface   "></div></template></md-ripple>
      <!--?lit$568155653$--><button id="button" class="button" aria-label="Add code cell
Ctrl+M B">
      <!--?lit$568155653$-->
      <span class="touch"></span>
      <!--?lit$568155653$--><slot name="icon"></slot>
      <span class="label"><slot></slot></span>
      <!--?lit$568155653$-->
    
    </button>
    </template>
          <md-icon slot="icon" aria-hidden="true"><template shadowrootmode="open"><!----><slot></slot></template>add</md-icon>
          <!--?lit$568155653$-->Code
        </md-outlined-button>
        <md-outlined-button class="add-text add-button" aria-label="Add text cell" title="Add text cell" role="presentation" value="" has-icon=""><template shadowrootmode="open" shadowrootdelegatesfocus><!---->
      <!--?lit$568155653$--><div class="outline"></div>
      <div class="background"></div>
      <md-focus-ring part="focus-ring" for="button" aria-hidden="true"><template shadowrootmode="open"><!----></template></md-focus-ring>
      <md-ripple for="button" aria-hidden="true"><template shadowrootmode="open"><!----><div class="surface   "></div></template></md-ripple>
      <!--?lit$568155653$--><button id="button" class="button" aria-label="Add text cell">
      <!--?lit$568155653$-->
      <span class="touch"></span>
      <!--?lit$568155653$--><slot name="icon"></slot>
      <span class="label"><slot></slot></span>
      <!--?lit$568155653$-->
    
    </button>
    </template>
          <md-icon slot="icon" aria-hidden="true"><template shadowrootmode="open"><!----><slot></slot></template>add</md-icon>
          <!--?lit$568155653$-->Text
        </md-outlined-button>
        <!--?lit$568155653$-->
      </div><hr>
    </div></div><div class="cell code icon-scrolling" id="cell-TF_k35Gkixxa" role="region" aria-label="Cell 2: Code cell: " style="opacity: 1;" tabindex="-1"><div class="cell-tag-editor sticky"></div><div class="cell-toolbar sticky"></div><div class="main-content" elevation="0"><div class="cell-contents"><div class="cell-mask"></div><span class="imported-info-area"></span><div class="codecell-input-output">
      <div class="inputarea horizontal layout code">
        <div class="cell-gutter">
          <!-- Bounding range for vertical scrolling of icons -->
          <div class="cell-execution-container">
            <colab-run-button title="Run cell (Ctrl+Enter)
cell executed since last change

executed by BHIMRAO PAWAR
2:42 PM (37 minutes ago)
executed in 0.01s" role="button" aria-label="Run cell"><template shadowrootmode="open"><!----> <div class="cell-execution">
      <div class="execution-count"><!--?lit$568155653$-->[3]</div>
      <div class="cell-execution-indicator"> <!--?lit$568155653$-->
<svg xmlns="http://www.w3.org/2000/svg" viewBox="0 0 24 24">
  <!--?lit$568155653$-->
  <mask id="playSymbolMask">
    <rect width="100%" height="100%" fill="white"></rect>
    <polygon points="10,8 17,12 10,16" fill="black"></polygon>
  </mask>
  <circle cx="12" cy="12" r="7.8" mask="url(#playSymbolMask)" id="filledCircle"></circle>
</svg> </div>
      <!--?lit$568155653$--><div id="status">
      <md-icon aria-hidden="true"><template shadowrootmode="open"><!----><slot></slot></template><!--?lit$568155653$--><svg viewBox="0 0 24 24"><!--?lit$568155653$--><path d="M9 16.17L4.83 12l-1.42 1.41L9 19 21 7l-1.41-1.41z"></path></svg></md-icon>
      <div><!--?lit$568155653$-->0s</div>
    </div>
    </div></template></colab-run-button>
          </div>
        </div>
      <div class="editor flex lazy-editor" style=""><div class="editor flex monaco" data-keybinding-context="239" data-mode-id="notebook-python" style="height: 162px; --vscode-editorCodeLens-lineHeight: 16px; --vscode-editorCodeLens-fontSize: 12px; --vscode-editorCodeLens-fontFeatureSettings: &quot;liga&quot; on, &quot;calt&quot; on;"><div class="monaco-editor no-user-select  showUnused showDeprecated vs" role="code" data-uri="inmemory://model/5" style="width: 1411px; height: 162px;"><div data-mprt="3" class="overflow-guard" style="width: 1411px; height: 162px;"><div class="margin" role="presentation" aria-hidden="true" style="position: absolute; contain: strict; will-change: unset; top: 0px; height: 162px; width: 6px;"><div class="glyph-margin" style="left: 0px; width: 0px; height: 162px;"></div><div class="margin-view-zones" role="presentation" aria-hidden="true" style="position: absolute;"></div><div class="margin-view-overlays" role="presentation" aria-hidden="true" style="position: absolute; font-family: monospace, Consolas, &quot;Courier New&quot;, monospace; font-weight: normal; font-size: 14px; font-feature-settings: &quot;liga&quot;, &quot;calt&quot;; font-variation-settings: normal; line-height: 19px; letter-spacing: 0px; width: 6px; height: 162px;"><div style="position:absolute;top:0px;width:100%;height:19px;"><div class="current-line current-line-margin-both" style="width:6px; height:19px;"></div></div><div style="position:absolute;top:19px;width:100%;height:19px;"></div><div style="position:absolute;top:38px;width:100%;height:19px;"></div><div style="position:absolute;top:57px;width:100%;height:19px;"></div><div style="position:absolute;top:76px;width:100%;height:19px;"></div><div style="position:absolute;top:95px;width:100%;height:19px;"></div><div style="position:absolute;top:114px;width:100%;height:19px;"></div><div style="position:absolute;top:133px;width:100%;height:19px;"></div></div><div class="glyph-margin-widgets" style="position: absolute; top: 0px;"></div></div><div class="monaco-scrollable-element editor-scrollable vs" role="presentation" data-mprt="5" style="position: absolute; overflow: hidden; left: 6px; width: 1405px; height: 162px;"><div class="lines-content monaco-editor-background" style="position: absolute; overflow: hidden; width: 1e+06px; height: 162px; contain: strict; will-change: unset; top: 0px; left: 0px;"><div class="view-overlays" role="presentation" aria-hidden="true" style="position: absolute; font-family: monospace, Consolas, &quot;Courier New&quot;, monospace; font-weight: normal; font-size: 14px; font-feature-settings: &quot;liga&quot;, &quot;calt&quot;; font-variation-settings: normal; line-height: 19px; letter-spacing: 0px; height: 0px; width: 1405px;"><div style="position:absolute;top:0px;width:100%;height:19px;"><div class="current-line" style="width:1405px; height:19px;"></div></div><div style="position:absolute;top:19px;width:100%;height:19px;"></div><div style="position:absolute;top:38px;width:100%;height:19px;"></div><div style="position:absolute;top:57px;width:100%;height:19px;"></div><div style="position:absolute;top:76px;width:100%;height:19px;"></div><div style="position:absolute;top:95px;width:100%;height:19px;"></div><div style="position:absolute;top:114px;width:100%;height:19px;"></div><div style="position:absolute;top:133px;width:100%;height:19px;"></div></div><div role="presentation" aria-hidden="true" class="view-rulers"></div><div class="view-zones" role="presentation" aria-hidden="true" style="position: absolute;"></div><div class="view-lines monaco-mouse-cursor-text" role="presentation" aria-hidden="true" data-mprt="7" style="position: absolute; font-family: monospace, Consolas, &quot;Courier New&quot;, monospace; font-weight: normal; font-size: 14px; font-feature-settings: &quot;liga&quot;, &quot;calt&quot;; font-variation-settings: normal; line-height: 19px; letter-spacing: 0px; width: 1405px; height: 162px;"><div style="top:0px;height:19px;" class="view-line"><span><span class="mtk8">#&nbsp;Creating&nbsp;a&nbsp;new&nbsp;column&nbsp;sentiment&nbsp;based&nbsp;on&nbsp;overall&nbsp;</span><span class="mtk8">ratings</span></span></div><div style="top:19px;height:19px;" class="view-line"><span><span class="mtk6">def</span><span class="mtk1">&nbsp;</span><span class="mtk15">sentiments</span><span class="mtk1 bracket-highlighting-0">(</span><span class="mtk16">df</span><span class="mtk1 bracket-highlighting-0">)</span><span class="mtk1">:</span></span></div><div style="top:38px;height:19px;" class="view-line"><span><span class="mtk1">&nbsp;&nbsp;&nbsp;&nbsp;</span><span class="mtk19">if</span><span class="mtk1">&nbsp;df</span><span class="mtk1 bracket-highlighting-0">[</span><span class="mtk26">'rating'</span><span class="mtk1 bracket-highlighting-0">]</span><span class="mtk1">&nbsp;&gt;&nbsp;</span><span class="mtk12">3.0</span><span class="mtk1">:</span></span></div><div style="top:57px;height:19px;" class="view-line"><span><span class="mtk1">&nbsp;&nbsp;&nbsp;&nbsp;&nbsp;&nbsp;&nbsp;&nbsp;</span><span class="mtk19">return</span><span class="mtk1">&nbsp;</span><span class="mtk26">'Positive'</span></span></div><div style="top:76px;height:19px;" class="view-line"><span><span class="mtk1">&nbsp;&nbsp;&nbsp;&nbsp;</span><span class="mtk19">elif</span><span class="mtk1">&nbsp;df&nbsp;</span><span class="mtk1 bracket-highlighting-0">[</span><span class="mtk26">'rating'</span><span class="mtk1 bracket-highlighting-0">]</span><span class="mtk1">&nbsp;&lt;=&nbsp;</span><span class="mtk12">3.0</span><span class="mtk1">:</span></span></div><div style="top:95px;height:19px;" class="view-line"><span><span class="mtk1">&nbsp;&nbsp;&nbsp;&nbsp;&nbsp;&nbsp;&nbsp;&nbsp;</span><span class="mtk19">return</span><span class="mtk1">&nbsp;</span><span class="mtk26">'Negative'</span></span></div><div style="top:114px;height:19px;" class="view-line"><span><span></span></span></div><div style="top:133px;height:19px;" class="view-line"><span><span class="mtk1">data</span><span class="mtk1 bracket-highlighting-0">[</span><span class="mtk26">'sentiment'</span><span class="mtk1 bracket-highlighting-0">]</span><span class="mtk1">&nbsp;=&nbsp;data.apply&nbsp;</span><span class="mtk1 bracket-highlighting-0">(</span><span class="mtk1">sentiments,axis=</span><span class="mtk12">1</span><span class="mtk1 bracket-highlighting-0">)</span></span></div></div><div data-mprt="1" class="contentWidgets" style="position: absolute; top: 0px;"></div><div role="presentation" aria-hidden="true" class="cursors-layer cursor-line-style cursor-solid"><div class="cursor monaco-mouse-cursor-text " style="height: 19px; top: 0px; left: 0px; font-family: monospace, Consolas, &quot;Courier New&quot;, monospace; font-weight: normal; font-size: 14px; font-feature-settings: &quot;liga&quot;, &quot;calt&quot;; font-variation-settings: normal; line-height: 19px; letter-spacing: 0px; display: block; visibility: hidden; padding-left: 0px; width: 1.6px;"></div></div></div><div role="presentation" aria-hidden="true" class="invisible scrollbar horizontal" style="position: absolute; width: 1391px; height: 10px; left: 0px; bottom: 0px;"><div class="slider" style="position: absolute; top: 0px; left: 0px; height: 10px; transform: translate3d(0px, 0px, 0px); contain: strict; will-change: unset; width: 1391px;"></div></div><canvas class="decorationsOverviewRuler" aria-hidden="true" width="17" height="202" style="position: absolute; transform: translate3d(0px, 0px, 0px); contain: strict; top: 0px; right: 0px; width: 14px; height: 162px; will-change: unset; display: block;"></canvas><div role="presentation" aria-hidden="true" class="invisible scrollbar vertical" style="position: absolute; width: 14px; height: 162px; right: 0px; top: 0px;"><div class="slider" style="position: absolute; top: 0px; left: 0px; width: 14px; transform: translate3d(0px, 0px, 0px); contain: strict; will-change: unset; height: 162px;"></div></div></div><div role="presentation" aria-hidden="true" style="width: 1411px;"></div><textarea data-mprt="6" class="inputarea monaco-mouse-cursor-text" wrap="on" autocorrect="off" autocapitalize="off" autocomplete="off" spellcheck="false" aria-label="Editor content;Press Alt+F1 for Accessibility Options." tabindex="0" role="textbox" aria-roledescription="editor" aria-multiline="true" aria-haspopup="false" aria-autocomplete="both" style="tab-size: 15.3984px; font-family: monospace, Consolas, &quot;Courier New&quot;, monospace; font-weight: normal; font-size: 14px; font-feature-settings: &quot;liga&quot;, &quot;calt&quot;; font-variation-settings: normal; line-height: 19px; letter-spacing: 0px; top: 0px; left: 6px; width: 1411px; height: 1px;"></textarea><div class="monaco-editor-background textAreaCover" style="position: absolute; top: 0px; left: 0px; width: 0px; height: 0px;"></div><div data-mprt="4" class="overlayWidgets" style="width: 1411px;"><div widgetid="editor.contrib.quickInputWidget" style="position: absolute; top: 0px; right: 50%;"></div></div><div data-mprt="8" class="minimap slider-mouseover" role="presentation" aria-hidden="true" style="position: absolute; left: 0px; width: 0px; height: 162px;"><div class="minimap-shadow-hidden" style="height: 162px;"></div><canvas width="0" height="202" style="position: absolute; left: 0px; width: 0px; height: 162px;"></canvas><canvas class="minimap-decorations-layer" width="0" height="202" style="position: absolute; left: 0px; width: 0px; height: 162px;"></canvas><div class="minimap-slider" style="position: absolute; transform: translate3d(0px, 0px, 0px); contain: strict; width: 0px; will-change: unset;"><div class="minimap-slider-horizontal" style="position: absolute; width: 0px; height: 0px;"></div></div></div><div role="presentation" aria-hidden="true" class="blockDecorations-container"></div></div><div data-mprt="2" class="overflowingContentWidgets"><div widgetid="editor.contrib.resizableContentHoverWidget" style="position: fixed; height: 10px; width: 10px; z-index: 50; display: none; visibility: hidden; max-width: 1536px;"><div class="monaco-sash vertical" style="left: 8px;"></div><div class="monaco-sash vertical" style="left: -2px;"></div><div class="monaco-sash orthogonal-edge-north horizontal" style="top: -2px;"><div class="orthogonal-drag-handle start"></div><div class="orthogonal-drag-handle end"></div></div><div class="monaco-sash orthogonal-edge-south horizontal" style="top: 8px;"><div class="orthogonal-drag-handle start"></div><div class="orthogonal-drag-handle end"></div></div><div class="monaco-hover hidden" role="tooltip" tabindex="0"><div class="monaco-scrollable-element " role="presentation" style="position: relative; overflow: hidden;"><div class="monaco-hover-content" style="overflow: hidden; font-size: 14px; line-height: 1.35714; max-width: 931.26px; max-height: 250px;"></div><div role="presentation" aria-hidden="true" class="invisible scrollbar horizontal" style="position: absolute;"><div class="slider" style="position: absolute; top: 0px; left: 0px; height: 10px; transform: translate3d(0px, 0px, 0px); contain: strict;"></div></div><div role="presentation" aria-hidden="true" class="invisible scrollbar vertical" style="position: absolute;"><div class="slider" style="position: absolute; top: 0px; left: 0px; width: 10px; transform: translate3d(0px, 0px, 0px); contain: strict;"></div></div><div class="shadow"></div><div class="shadow"></div><div class="shadow"></div></div></div></div></div><div class=".in-cell-overflowing"></div></div></div></div><colab-form class="formview vertical layout flex"><div class="widget-area vertical layout"></div></colab-form></div>
    <div class="output"><!----> <div class="output-header"> </div>
        <div class="output-content" style="display: none;">
          <div class="output-info"><colab-output-info title="Clear output

executed by BHIMRAO PAWAR
2:42 PM (0 minutes ago)
executed in 0.01s" hovering=""><template shadowrootmode="open"><!----> <md-icon class="collaborator output" alt="Execution output" aria-hidden="true"><template shadowrootmode="open"><!----><slot></slot></template><!--?lit$568155653$-->output</md-icon>
      <!--?lit$568155653$--> <mwc-icon-button icon="cancel" command="clear-focused-or-selected-outputs" alt="Clear output"><template shadowrootmode="open"><!----><button class="mdc-icon-button mdc-icon-button--display-flex" aria-label="cancel"><!--?lit$568155653$-->
    <!--?lit$568155653$--><i class="material-icons"><!--?lit$568155653$-->cancel</i>
    <span><slot></slot></span>
  </button></template>
          </mwc-icon-button><!--?--></template></colab-output-info></div>
          <div class="output-iframe-container">
            <div class="output-iframe-sizer" style="min-height: 0px;"> <div><div><colab-static-output-renderer role="group" tabindex="0"><div></div><div></div></colab-static-output-renderer></div></div></div>
          </div>
        </div></div></div><colab-cell-next-steps><template shadowrootmode="open"><!----></template></colab-cell-next-steps></div></div><div class="add-cell">
      <div class="add-cell-buttons">
        <md-outlined-button class="add-code add-button" aria-label="Add code cell
Ctrl+M B" title="Add code cell
Ctrl+M B" role="presentation" value="" has-icon=""><template shadowrootmode="open" shadowrootdelegatesfocus><!---->
      <!--?lit$568155653$--><div class="outline"></div>
      <div class="background"></div>
      <md-focus-ring part="focus-ring" for="button" aria-hidden="true"><template shadowrootmode="open"><!----></template></md-focus-ring>
      <md-ripple for="button" aria-hidden="true"><template shadowrootmode="open"><!----><div class="surface   "></div></template></md-ripple>
      <!--?lit$568155653$--><button id="button" class="button" aria-label="Add code cell
Ctrl+M B">
      <!--?lit$568155653$-->
      <span class="touch"></span>
      <!--?lit$568155653$--><slot name="icon"></slot>
      <span class="label"><slot></slot></span>
      <!--?lit$568155653$-->
    
    </button>
    </template>
          <md-icon slot="icon" aria-hidden="true"><template shadowrootmode="open"><!----><slot></slot></template>add</md-icon>
          <!--?lit$568155653$-->Code
        </md-outlined-button>
        <md-outlined-button class="add-text add-button" aria-label="Add text cell" title="Add text cell" role="presentation" value="" has-icon=""><template shadowrootmode="open" shadowrootdelegatesfocus><!---->
      <!--?lit$568155653$--><div class="outline"></div>
      <div class="background"></div>
      <md-focus-ring part="focus-ring" for="button" aria-hidden="true"><template shadowrootmode="open"><!----></template></md-focus-ring>
      <md-ripple for="button" aria-hidden="true"><template shadowrootmode="open"><!----><div class="surface   "></div></template></md-ripple>
      <!--?lit$568155653$--><button id="button" class="button" aria-label="Add text cell">
      <!--?lit$568155653$-->
      <span class="touch"></span>
      <!--?lit$568155653$--><slot name="icon"></slot>
      <span class="label"><slot></slot></span>
      <!--?lit$568155653$-->
    
    </button>
    </template>
          <md-icon slot="icon" aria-hidden="true"><template shadowrootmode="open"><!----><slot></slot></template>add</md-icon>
          <!--?lit$568155653$-->Text
        </md-outlined-button>
        <!--?lit$568155653$-->
      </div><hr>
    </div></div><div class="cell code icon-scrolling code-has-output" id="cell-bX_eI8MTix0r" role="region" aria-label="Cell 3: Code cell: " style="opacity: 1;" tabindex="-1"><div class="cell-tag-editor sticky"></div><div class="cell-toolbar sticky"></div><div class="main-content" elevation="0"><div class="cell-contents"><div class="cell-mask"></div><span class="imported-info-area"></span><div class="codecell-input-output">
      <div class="inputarea horizontal layout code">
        <div class="cell-gutter">
          <!-- Bounding range for vertical scrolling of icons -->
          <div class="cell-execution-container">
            <colab-run-button title="Run cell (Ctrl+Enter)
cell executed since last change

executed by BHIMRAO PAWAR
2:42 PM (37 minutes ago)
executed in 0.011s" role="button" aria-label="Run cell"><template shadowrootmode="open"><!----> <div class="cell-execution">
      <div class="execution-count"><!--?lit$568155653$-->[4]</div>
      <div class="cell-execution-indicator"> <!--?lit$568155653$-->
<svg xmlns="http://www.w3.org/2000/svg" viewBox="0 0 24 24">
  <!--?lit$568155653$-->
  <mask id="playSymbolMask">
    <rect width="100%" height="100%" fill="white"></rect>
    <polygon points="10,8 17,12 10,16" fill="black"></polygon>
  </mask>
  <circle cx="12" cy="12" r="7.8" mask="url(#playSymbolMask)" id="filledCircle"></circle>
</svg> </div>
      <!--?lit$568155653$--><div id="status">
      <md-icon aria-hidden="true"><template shadowrootmode="open"><!----><slot></slot></template><!--?lit$568155653$--><svg viewBox="0 0 24 24"><!--?lit$568155653$--><path d="M9 16.17L4.83 12l-1.42 1.41L9 19 21 7l-1.41-1.41z"></path></svg></md-icon>
      <div><!--?lit$568155653$-->0s</div>
    </div>
    </div></template></colab-run-button>
          </div>
        </div>
      <div class="editor flex lazy-editor" style=""><pre class="lazy-virtualized" style="font-size: 14px; line-height: 19px;"><pre class="lazy-gutter"></pre><pre class="monaco-colorized colab colab colab colab colab colab colab colab colab colab colab colab colab colab colab colab colab colab colab colab colab" data-lang="notebook-python"><span><span class="mtk1">data.head()</span></span><br></pre><colab-read-only-cell-placeholder style="display: none;"><template shadowrootmode="open"><!----><div><!--?lit$568155653$-->Start coding or <span role="button" class="link" tabindex="0">generate</span> with AI.</div></template></colab-read-only-cell-placeholder></pre></div><colab-form class="formview vertical layout flex"><div class="widget-area vertical layout"></div></colab-form></div>
    <div class="output"><!----> <div class="output-header"> </div>
        <div class="output-content" style="">
          <div class="output-info"><colab-output-info title="Clear output

executed by BHIMRAO PAWAR
2:42 PM (0 minutes ago)
executed in 0.011s" hovering=""><template shadowrootmode="open"><!----> <md-icon class="collaborator output" alt="Execution output" aria-hidden="true"><template shadowrootmode="open"><!----><slot></slot></template><!--?lit$568155653$-->output</md-icon>
      <!--?lit$568155653$--> <mwc-icon-button icon="cancel" command="clear-focused-or-selected-outputs" alt="Clear output"><template shadowrootmode="open"><!----><button class="mdc-icon-button mdc-icon-button--display-flex" aria-label="cancel"><!--?lit$568155653$-->
    <!--?lit$568155653$--><i class="material-icons"><!--?lit$568155653$-->cancel</i>
    <span><slot></slot></span>
  </button></template>
          </mwc-icon-button><!--?--></template></colab-output-info></div>
          <div class="output-iframe-container">
            <div class="output-iframe-sizer" style="min-height: 0px;"> <div><div class="outputview" style="height: 206px;"><colab-dom-lifecycle-events style="display: none;"></colab-dom-lifecycle-events><iframe allow="accelerometer; autoplay; camera; gyroscope; magnetometer; microphone; serial; usb; xr-spatial-tracking; clipboard-write" sandbox="allow-downloads allow-forms allow-pointer-lock allow-popups allow-same-origin allow-scripts allow-storage-access-by-user-activation allow-modals allow-popups-to-escape-sandbox" src="./Sentiment Analysis on Amazon_Alexa_review_files/outputframe.html" class="" style="height: 206px;"></iframe></div></div></div>
          </div>
        </div></div></div><colab-cell-next-steps hascontent=""><template shadowrootmode="open"><!----> <div class="root">
        <span class="next-steps-title">
          <!--?lit$568155653$-->Next steps: </span><!--?lit$568155653$--><!----> <mwc-button outlined="" dense="" class="plots"><template shadowrootmode="open"><!---->
      <button id="button" class="mdc-button  mdc-button--outlined mdc-button--dense " aria-label="">
        <!--?lit$568155653$--><!--?-->
        <!--?lit$568155653$--><mwc-ripple class="ripple"><template shadowrootmode="open"><!---->
        <div class="mdc-ripple-surface mdc-ripple-upgraded mdc-ripple-surface--primary"></div></template></mwc-ripple>
        <span class="leading-icon">
          <slot name="icon">
            <!--?lit$568155653$-->
          </slot>
        </span>
        <span class="mdc-button__label"><!--?lit$568155653$--></span>
        <span class="slot-container   ">
          <slot></slot>
        </span>
        <span class="trailing-icon">
          <slot name="trailingIcon">
            <!--?lit$568155653$-->
          </slot>
        </span>
      </button></template>
            <md-icon aria-hidden="true"><template shadowrootmode="open"><!----><slot></slot></template> <!--?lit$568155653$-->toggle_off </md-icon>
            View recommended plots
          </mwc-button><!---->
      </div>
      <div class="content"><!--?lit$568155653$--></div></template></colab-cell-next-steps></div></div><div class="add-cell">
      <div class="add-cell-buttons">
        <md-outlined-button class="add-code add-button" aria-label="Add code cell
Ctrl+M B" title="Add code cell
Ctrl+M B" role="presentation" value="" has-icon=""><template shadowrootmode="open" shadowrootdelegatesfocus><!---->
      <!--?lit$568155653$--><div class="outline"></div>
      <div class="background"></div>
      <md-focus-ring part="focus-ring" for="button" aria-hidden="true"><template shadowrootmode="open"><!----></template></md-focus-ring>
      <md-ripple for="button" aria-hidden="true"><template shadowrootmode="open"><!----><div class="surface   "></div></template></md-ripple>
      <!--?lit$568155653$--><button id="button" class="button" aria-label="Add code cell
Ctrl+M B">
      <!--?lit$568155653$-->
      <span class="touch"></span>
      <!--?lit$568155653$--><slot name="icon"></slot>
      <span class="label"><slot></slot></span>
      <!--?lit$568155653$-->
    
    </button>
    </template>
          <md-icon slot="icon" aria-hidden="true"><template shadowrootmode="open"><!----><slot></slot></template>add</md-icon>
          <!--?lit$568155653$-->Code
        </md-outlined-button>
        <md-outlined-button class="add-text add-button" aria-label="Add text cell" title="Add text cell" role="presentation" value="" has-icon=""><template shadowrootmode="open" shadowrootdelegatesfocus><!---->
      <!--?lit$568155653$--><div class="outline"></div>
      <div class="background"></div>
      <md-focus-ring part="focus-ring" for="button" aria-hidden="true"><template shadowrootmode="open"><!----></template></md-focus-ring>
      <md-ripple for="button" aria-hidden="true"><template shadowrootmode="open"><!----><div class="surface   "></div></template></md-ripple>
      <!--?lit$568155653$--><button id="button" class="button" aria-label="Add text cell">
      <!--?lit$568155653$-->
      <span class="touch"></span>
      <!--?lit$568155653$--><slot name="icon"></slot>
      <span class="label"><slot></slot></span>
      <!--?lit$568155653$-->
    
    </button>
    </template>
          <md-icon slot="icon" aria-hidden="true"><template shadowrootmode="open"><!----><slot></slot></template>add</md-icon>
          <!--?lit$568155653$-->Text
        </md-outlined-button>
        <!--?lit$568155653$-->
      </div><hr>
    </div></div><div class="cell code icon-scrolling code-has-output" id="cell-kOXJ8omjix4l" role="region" aria-label="Cell 4: Code cell: " style="opacity: 1;" tabindex="-1"><div class="cell-tag-editor sticky"></div><div class="cell-toolbar sticky"></div><div class="main-content" elevation="0"><div class="cell-contents"><div class="cell-mask"></div><span class="imported-info-area"></span><div class="codecell-input-output">
      <div class="inputarea horizontal layout code">
        <div class="cell-gutter">
          <!-- Bounding range for vertical scrolling of icons -->
          <div class="cell-execution-container">
            <colab-run-button title="Run cell (Ctrl+Enter)
cell executed since last change

executed by BHIMRAO PAWAR
2:42 PM (37 minutes ago)
executed in 0.009s" role="button" aria-label="Run cell"><template shadowrootmode="open"><!----> <div class="cell-execution">
      <div class="execution-count"><!--?lit$568155653$-->[5]</div>
      <div class="cell-execution-indicator"> <!--?lit$568155653$-->
<svg xmlns="http://www.w3.org/2000/svg" viewBox="0 0 24 24">
  <!--?lit$568155653$-->
  <mask id="playSymbolMask">
    <rect width="100%" height="100%" fill="white"></rect>
    <polygon points="10,8 17,12 10,16" fill="black"></polygon>
  </mask>
  <circle cx="12" cy="12" r="7.8" mask="url(#playSymbolMask)" id="filledCircle"></circle>
</svg> </div>
      <!--?lit$568155653$--><div id="status">
      <md-icon aria-hidden="true"><template shadowrootmode="open"><!----><slot></slot></template><!--?lit$568155653$--><svg viewBox="0 0 24 24"><!--?lit$568155653$--><path d="M9 16.17L4.83 12l-1.42 1.41L9 19 21 7l-1.41-1.41z"></path></svg></md-icon>
      <div><!--?lit$568155653$-->0s</div>
    </div>
    </div></template></colab-run-button>
          </div>
        </div>
      <div class="editor flex lazy-editor" style=""><pre class="lazy-virtualized" style="font-size: 14px; line-height: 19px;"><pre class="lazy-gutter"></pre><pre class="monaco-colorized colab colab colab colab colab colab colab colab colab colab colab colab colab colab colab colab colab colab colab colab colab" data-lang="notebook-python"><span><span class="mtk8">#&nbsp;Check&nbsp;If&nbsp;three&nbsp;are&nbsp;null&nbsp;value&nbsp;</span></span><br><span><span class="mtk1">data_v1&nbsp;=&nbsp;data[[</span><span class="mtk26">'verified_reviews'</span><span class="mtk1">,</span><span class="mtk26">'sentiment'</span><span class="mtk1">]]</span></span><br><span><span class="mtk1">data_v1.isnull().</span><span class="mtk15">sum</span><span class="mtk1">()</span></span><br></pre><colab-read-only-cell-placeholder style="display: none;"><template shadowrootmode="open"><!----><div><!--?lit$568155653$-->Start coding or <span role="button" class="link" tabindex="0">generate</span> with AI.</div></template></colab-read-only-cell-placeholder></pre></div><colab-form class="formview vertical layout flex"><div class="widget-area vertical layout"></div></colab-form></div>
    <div class="output"><!----> <div class="output-header"> </div>
        <div class="output-content" style="">
          <div class="output-info"><colab-output-info title="Clear output

executed by BHIMRAO PAWAR
2:42 PM (0 minutes ago)
executed in 0.009s" hovering=""><template shadowrootmode="open"><!----> <md-icon class="collaborator output" alt="Execution output" aria-hidden="true"><template shadowrootmode="open"><!----><slot></slot></template><!--?lit$568155653$-->output</md-icon>
      <!--?lit$568155653$--> <mwc-icon-button icon="cancel" command="clear-focused-or-selected-outputs" alt="Clear output"><template shadowrootmode="open"><!----><button class="mdc-icon-button mdc-icon-button--display-flex" aria-label="cancel"><!--?lit$568155653$-->
    <!--?lit$568155653$--><i class="material-icons"><!--?lit$568155653$-->cancel</i>
    <span><slot></slot></span>
  </button></template>
          </mwc-icon-button><!--?--></template></colab-output-info></div>
          <div class="output-iframe-container">
            <div class="output-iframe-sizer" style="min-height: 0px;"> <div><div><colab-static-output-renderer role="group" tabindex="0"><div><div class="execute_result output-id-1 output_text"><pre>verified_reviews    0
sentiment           0
dtype: int64</pre></div></div><div></div></colab-static-output-renderer></div></div></div>
          </div>
        </div></div></div><colab-cell-next-steps><template shadowrootmode="open"><!----></template></colab-cell-next-steps></div></div><div class="add-cell">
      <div class="add-cell-buttons">
        <md-outlined-button class="add-code add-button" aria-label="Add code cell
Ctrl+M B" title="Add code cell
Ctrl+M B" role="presentation" value="" has-icon=""><template shadowrootmode="open" shadowrootdelegatesfocus><!---->
      <!--?lit$568155653$--><div class="outline"></div>
      <div class="background"></div>
      <md-focus-ring part="focus-ring" for="button" aria-hidden="true"><template shadowrootmode="open"><!----></template></md-focus-ring>
      <md-ripple for="button" aria-hidden="true"><template shadowrootmode="open"><!----><div class="surface"></div></template></md-ripple>
      <!--?lit$568155653$--><button id="button" class="button" aria-label="Add code cell
Ctrl+M B">
      <!--?lit$568155653$-->
      <span class="touch"></span>
      <!--?lit$568155653$--><slot name="icon"></slot>
      <span class="label"><slot></slot></span>
      <!--?lit$568155653$-->
    
    </button>
    </template>
          <md-icon slot="icon" aria-hidden="true"><template shadowrootmode="open"><!----><slot></slot></template>add</md-icon>
          <!--?lit$568155653$-->Code
        </md-outlined-button>
        <md-outlined-button class="add-text add-button" aria-label="Add text cell" title="Add text cell" role="presentation" value="" has-icon=""><template shadowrootmode="open" shadowrootdelegatesfocus><!---->
      <!--?lit$568155653$--><div class="outline"></div>
      <div class="background"></div>
      <md-focus-ring part="focus-ring" for="button" aria-hidden="true"><template shadowrootmode="open"><!----></template></md-focus-ring>
      <md-ripple for="button" aria-hidden="true"><template shadowrootmode="open"><!----><div class="surface"></div></template></md-ripple>
      <!--?lit$568155653$--><button id="button" class="button" aria-label="Add text cell">
      <!--?lit$568155653$-->
      <span class="touch"></span>
      <!--?lit$568155653$--><slot name="icon"></slot>
      <span class="label"><slot></slot></span>
      <!--?lit$568155653$-->
    
    </button>
    </template>
          <md-icon slot="icon" aria-hidden="true"><template shadowrootmode="open"><!----><slot></slot></template>add</md-icon>
          <!--?lit$568155653$-->Text
        </md-outlined-button>
        <!--?lit$568155653$-->
      </div><hr>
    </div></div><div class="cell code icon-scrolling code-has-output" id="cell-XkLdWRIti5IH" role="region" aria-label="Cell 5: Code cell: " style="opacity: 1;" tabindex="-1"><div class="cell-tag-editor sticky"></div><div class="cell-toolbar sticky"></div><div class="main-content" elevation="0"><div class="cell-contents"><div class="cell-mask"></div><span class="imported-info-area"></span><div class="codecell-input-output">
      <div class="inputarea horizontal layout code">
        <div class="cell-gutter">
          <!-- Bounding range for vertical scrolling of icons -->
          <div class="cell-execution-container">
            <colab-run-button title="Run cell (Ctrl+Enter)
cell executed since last change

executed by BHIMRAO PAWAR
2:42 PM (37 minutes ago)
executed in 0.52s" role="button" aria-label="Run cell"><template shadowrootmode="open"><!----> <div class="cell-execution">
      <div class="execution-count"><!--?lit$568155653$-->[6]</div>
      <div class="cell-execution-indicator"> <!--?lit$568155653$-->
<svg xmlns="http://www.w3.org/2000/svg" viewBox="0 0 24 24">
  <!--?lit$568155653$-->
  <mask id="playSymbolMask">
    <rect width="100%" height="100%" fill="white"></rect>
    <polygon points="10,8 17,12 10,16" fill="black"></polygon>
  </mask>
  <circle cx="12" cy="12" r="7.8" mask="url(#playSymbolMask)" id="filledCircle"></circle>
</svg> </div>
      <!--?lit$568155653$--><div id="status">
      <md-icon aria-hidden="true"><template shadowrootmode="open"><!----><slot></slot></template><!--?lit$568155653$--><svg viewBox="0 0 24 24"><!--?lit$568155653$--><path d="M9 16.17L4.83 12l-1.42 1.41L9 19 21 7l-1.41-1.41z"></path></svg></md-icon>
      <div><!--?lit$568155653$-->0s</div>
    </div>
    </div></template></colab-run-button>
          </div>
        </div>
      <div class="editor flex lazy-editor" style=""><pre class="lazy-virtualized" style="font-size: 14px; line-height: 19px;"><pre class="lazy-gutter"></pre><pre class="monaco-colorized colab colab colab colab colab colab colab colab colab colab colab colab colab colab colab colab colab colab" data-lang="notebook-python"><span><span class="mtk19">import</span><span class="mtk1">&nbsp;nltk</span></span><br><span><span class="mtk1">nltk.download(</span><span class="mtk26">'stopwords'</span><span class="mtk1">)</span></span><br><span><span class="mtk1">nltk.download(</span><span class="mtk26">'wordnet'</span><span class="mtk1">)</span></span><br></pre><colab-read-only-cell-placeholder style="display: none;"><template shadowrootmode="open"><!----><div><!--?lit$568155653$-->Start coding or <span role="button" class="link" tabindex="0">generate</span> with AI.</div></template></colab-read-only-cell-placeholder></pre></div><colab-form class="formview vertical layout flex"><div class="widget-area vertical layout"></div></colab-form></div>
    <div class="output"><!----> <div class="output-header"> </div>
        <div class="output-content" style="">
          <div class="output-info"><colab-output-info title="Clear output

executed by BHIMRAO PAWAR
2:42 PM (0 minutes ago)
executed in 0.52s" hovering=""><template shadowrootmode="open"><!----> <md-icon class="collaborator output" alt="Execution output" aria-hidden="true"><template shadowrootmode="open"><!----><slot></slot></template><!--?lit$568155653$-->output</md-icon>
      <!--?lit$568155653$--> <mwc-icon-button icon="cancel" command="clear-focused-or-selected-outputs" alt="Clear output"><template shadowrootmode="open"><!----><button class="mdc-icon-button mdc-icon-button--display-flex" aria-label="cancel"><!--?lit$568155653$-->
    <!--?lit$568155653$--><i class="material-icons"><!--?lit$568155653$-->cancel</i>
    <span><slot></slot></span>
  </button></template>
          </mwc-icon-button><!--?--></template></colab-output-info></div>
          <div class="output-iframe-container">
            <div class="output-iframe-sizer" style="min-height: 0px;"> <div><div><colab-static-output-renderer role="group" tabindex="0"><div><div class="stream output-id-1 output_text"><pre>[nltk_data] Downloading package stopwords to /root/nltk_data...
[nltk_data]   Unzipping corpora/stopwords.zip.
[nltk_data] Downloading package wordnet to /root/nltk_data...
</pre></div><div class="execute_result output-id-2 output_text"><pre>True</pre></div></div><div></div></colab-static-output-renderer></div></div></div>
          </div>
        </div></div></div><colab-cell-next-steps><template shadowrootmode="open"><!----></template></colab-cell-next-steps></div></div><div class="add-cell">
      <div class="add-cell-buttons">
        <md-outlined-button class="add-code add-button" aria-label="Add code cell
Ctrl+M B" title="Add code cell
Ctrl+M B" role="presentation" value="" has-icon=""><template shadowrootmode="open" shadowrootdelegatesfocus><!---->
      <!--?lit$568155653$--><div class="outline"></div>
      <div class="background"></div>
      <md-focus-ring part="focus-ring" for="button" aria-hidden="true"><template shadowrootmode="open"><!----></template></md-focus-ring>
      <md-ripple for="button" aria-hidden="true"><template shadowrootmode="open"><!----><div class="surface   "></div></template></md-ripple>
      <!--?lit$568155653$--><button id="button" class="button" aria-label="Add code cell
Ctrl+M B">
      <!--?lit$568155653$-->
      <span class="touch"></span>
      <!--?lit$568155653$--><slot name="icon"></slot>
      <span class="label"><slot></slot></span>
      <!--?lit$568155653$-->
    
    </button>
    </template>
          <md-icon slot="icon" aria-hidden="true"><template shadowrootmode="open"><!----><slot></slot></template>add</md-icon>
          <!--?lit$568155653$-->Code
        </md-outlined-button>
        <md-outlined-button class="add-text add-button" aria-label="Add text cell" title="Add text cell" role="presentation" value="" has-icon=""><template shadowrootmode="open" shadowrootdelegatesfocus><!---->
      <!--?lit$568155653$--><div class="outline"></div>
      <div class="background"></div>
      <md-focus-ring part="focus-ring" for="button" aria-hidden="true"><template shadowrootmode="open"><!----></template></md-focus-ring>
      <md-ripple for="button" aria-hidden="true"><template shadowrootmode="open"><!----><div class="surface   "></div></template></md-ripple>
      <!--?lit$568155653$--><button id="button" class="button" aria-label="Add text cell">
      <!--?lit$568155653$-->
      <span class="touch"></span>
      <!--?lit$568155653$--><slot name="icon"></slot>
      <span class="label"><slot></slot></span>
      <!--?lit$568155653$-->
    
    </button>
    </template>
          <md-icon slot="icon" aria-hidden="true"><template shadowrootmode="open"><!----><slot></slot></template>add</md-icon>
          <!--?lit$568155653$-->Text
        </md-outlined-button>
        <!--?lit$568155653$-->
      </div><hr>
    </div></div><div class="cell code icon-scrolling" id="cell-cyaq5W6Ci5L8" role="region" aria-label="Cell 6: Code cell: " style="opacity: 1;" tabindex="-1"><div class="cell-tag-editor sticky"></div><div class="cell-toolbar sticky"></div><div class="main-content" elevation="0"><div class="cell-contents"><div class="cell-mask"></div><span class="imported-info-area"></span><div class="codecell-input-output">
      <div class="inputarea horizontal layout code">
        <div class="cell-gutter">
          <!-- Bounding range for vertical scrolling of icons -->
          <div class="cell-execution-container">
            <colab-run-button title="Run cell (Ctrl+Enter)
cell executed since last change

executed by BHIMRAO PAWAR
2:42 PM (37 minutes ago)
executed in 4.176s" role="button" aria-label="Run cell"><template shadowrootmode="open"><!----> <div class="cell-execution">
      <div class="execution-count"><!--?lit$568155653$-->[7]</div>
      <div class="cell-execution-indicator"> <!--?lit$568155653$-->
<svg xmlns="http://www.w3.org/2000/svg" viewBox="0 0 24 24">
  <!--?lit$568155653$-->
  <mask id="playSymbolMask">
    <rect width="100%" height="100%" fill="white"></rect>
    <polygon points="10,8 17,12 10,16" fill="black"></polygon>
  </mask>
  <circle cx="12" cy="12" r="7.8" mask="url(#playSymbolMask)" id="filledCircle"></circle>
</svg> </div>
      <!--?lit$568155653$--><div id="status">
      <md-icon aria-hidden="true"><template shadowrootmode="open"><!----><slot></slot></template><!--?lit$568155653$--><svg viewBox="0 0 24 24"><!--?lit$568155653$--><path d="M9 16.17L4.83 12l-1.42 1.41L9 19 21 7l-1.41-1.41z"></path></svg></md-icon>
      <div><!--?lit$568155653$-->4s</div>
    </div>
    </div></template></colab-run-button>
          </div>
        </div>
      <div class="editor flex lazy-editor" style=""><pre class="lazy-virtualized" style="font-size: 14px; line-height: 19px;"><pre class="lazy-gutter"></pre><pre class="monaco-colorized colab colab colab colab colab colab colab colab colab colab colab colab colab colab colab colab colab colab" data-lang="notebook-python"><span><span class="mtk8">#&nbsp;Cleaning&nbsp;Dataset&nbsp;</span></span><br><span><span class="mtk6">def</span><span class="mtk1">&nbsp;</span><span class="mtk15">cleaning</span><span class="mtk1">(</span><span class="mtk16">df</span><span class="mtk1">,&nbsp;</span><span class="mtk16">stop_words</span><span class="mtk1">):</span></span><br><span><span class="mtk1">&nbsp;&nbsp;&nbsp;&nbsp;df[</span><span class="mtk26">'verified_reviews'</span><span class="mtk1">]=df[</span><span class="mtk26">'verified_reviews'</span><span class="mtk1">].apply(</span><span class="mtk6">lambda</span><span class="mtk1">&nbsp;x:</span><span class="mtk26">'&nbsp;'</span><span class="mtk1">.join(x.lower()&nbsp;</span><span class="mtk19">for</span><span class="mtk1">&nbsp;x&nbsp;</span><span class="mtk6">in</span><span class="mtk1">&nbsp;x.split()))</span></span><br><span><span class="mtk1">&nbsp;&nbsp;&nbsp;&nbsp;</span></span><br><span><span class="mtk1">&nbsp;&nbsp;&nbsp;&nbsp;</span><span class="mtk8">#Replacing&nbsp;the&nbsp;spacial&nbsp;digits/number</span></span><br><span><span class="mtk1">&nbsp;&nbsp;&nbsp;&nbsp;</span></span><br><span><span class="mtk1">&nbsp;&nbsp;&nbsp;&nbsp;df[</span><span class="mtk26">'verified_reviews'</span><span class="mtk1">]&nbsp;=&nbsp;df&nbsp;[</span><span class="mtk26">'verified_reviews'</span><span class="mtk1">].</span><span class="mtk14">str</span><span class="mtk1">.replace(</span><span class="mtk26">'d'</span><span class="mtk1">,</span><span class="mtk26">''</span><span class="mtk1">)</span></span><br><span><span class="mtk1">&nbsp;&nbsp;&nbsp;&nbsp;</span></span><br><span><span class="mtk1">&nbsp;&nbsp;&nbsp;&nbsp;</span><span class="mtk8">#Removing&nbsp;the&nbsp;stop&nbsp;word</span></span><br><span><span class="mtk1">&nbsp;&nbsp;&nbsp;&nbsp;df[</span><span class="mtk26">'verified_reviews'</span><span class="mtk1">]&nbsp;=&nbsp;df[</span><span class="mtk26">'verified_reviews'</span><span class="mtk1">].apply(</span><span class="mtk6">lambda</span><span class="mtk1">&nbsp;x:</span><span class="mtk26">'&nbsp;'</span><span class="mtk1">.join(x&nbsp;</span><span class="mtk19">for</span><span class="mtk1">&nbsp;x&nbsp;</span><span class="mtk6">in</span><span class="mtk1">&nbsp;x.split()</span><span class="mtk19">if</span><span class="mtk1">&nbsp;x&nbsp;</span><span class="mtk6">not</span><span class="mtk1">&nbsp;</span><span class="mtk6">in</span><span class="mtk1">&nbsp;stop_words))</span></span><br><span><span class="mtk1">&nbsp;&nbsp;&nbsp;&nbsp;</span></span><br><span><span class="mtk1">&nbsp;&nbsp;&nbsp;&nbsp;</span><span class="mtk8">#&nbsp;Lemmatization&nbsp;</span></span><br><span><span class="mtk1">&nbsp;&nbsp;&nbsp;&nbsp;df[</span><span class="mtk26">'verified_reviews'</span><span class="mtk1">]&nbsp;=&nbsp;df[</span><span class="mtk26">'verified_reviews'</span><span class="mtk1">].apply(</span><span class="mtk6">lambda</span><span class="mtk1">&nbsp;x:</span><span class="mtk26">'&nbsp;'</span><span class="mtk1">.join([Word(x).lemmatize()&nbsp;</span><span class="mtk19">for</span><span class="mtk1">&nbsp;x&nbsp;</span><span class="mtk6">in</span><span class="mtk1">&nbsp;x.split()]))</span></span><br><span><span class="mtk1">&nbsp;&nbsp;&nbsp;&nbsp;</span></span><br><span><span class="mtk1">&nbsp;&nbsp;&nbsp;&nbsp;</span><span class="mtk19">return</span><span class="mtk1">&nbsp;df</span></span><br><span><span></span></span><br><span><span class="mtk1">stop_words&nbsp;=&nbsp;stopwords.words(</span><span class="mtk26">'english'</span><span class="mtk1">)</span></span><br><span><span></span></span><br><span><span class="mtk1">data_v1&nbsp;=&nbsp;cleaning(data_v1,&nbsp;stop_words)</span></span><br></pre><colab-read-only-cell-placeholder style="display: none;"><template shadowrootmode="open"><!----><div><!--?lit$568155653$-->Start coding or <span role="button" class="link" tabindex="0">generate</span> with AI.</div></template></colab-read-only-cell-placeholder></pre></div><colab-form class="formview vertical layout flex"><div class="widget-area vertical layout"></div></colab-form></div>
    <div class="output"><!----> <div class="output-header"> </div>
        <div class="output-content" style="display: none;">
          <div class="output-info"><colab-output-info title="Clear output

executed by BHIMRAO PAWAR
2:42 PM (0 minutes ago)
executed in 4.176s" hovering=""><template shadowrootmode="open"><!----> <md-icon class="collaborator output" alt="Execution output" aria-hidden="true"><template shadowrootmode="open"><!----><slot></slot></template><!--?lit$568155653$-->output</md-icon>
      <!--?lit$568155653$--> <mwc-icon-button icon="cancel" command="clear-focused-or-selected-outputs" alt="Clear output"><template shadowrootmode="open"><!----><button class="mdc-icon-button mdc-icon-button--display-flex" aria-label="cancel"><!--?lit$568155653$-->
    <!--?lit$568155653$--><i class="material-icons"><!--?lit$568155653$-->cancel</i>
    <span><slot></slot></span>
  </button></template>
          </mwc-icon-button><!--?--></template></colab-output-info></div>
          <div class="output-iframe-container">
            <div class="output-iframe-sizer" style="min-height: 0px;"> <div><div><colab-static-output-renderer role="group" tabindex="0"><div></div><div></div></colab-static-output-renderer></div></div></div>
          </div>
        </div></div></div><colab-cell-next-steps><template shadowrootmode="open"><!----></template></colab-cell-next-steps></div></div><div class="add-cell">
      <div class="add-cell-buttons">
        <md-outlined-button class="add-code add-button" aria-label="Add code cell
Ctrl+M B" title="Add code cell
Ctrl+M B" role="presentation" value="" has-icon=""><template shadowrootmode="open" shadowrootdelegatesfocus><!---->
      <!--?lit$568155653$--><div class="outline"></div>
      <div class="background"></div>
      <md-focus-ring part="focus-ring" for="button" aria-hidden="true"><template shadowrootmode="open"><!----></template></md-focus-ring>
      <md-ripple for="button" aria-hidden="true"><template shadowrootmode="open"><!----><div class="surface   "></div></template></md-ripple>
      <!--?lit$568155653$--><button id="button" class="button" aria-label="Add code cell
Ctrl+M B">
      <!--?lit$568155653$-->
      <span class="touch"></span>
      <!--?lit$568155653$--><slot name="icon"></slot>
      <span class="label"><slot></slot></span>
      <!--?lit$568155653$-->
    
    </button>
    </template>
          <md-icon slot="icon" aria-hidden="true"><template shadowrootmode="open"><!----><slot></slot></template>add</md-icon>
          <!--?lit$568155653$-->Code
        </md-outlined-button>
        <md-outlined-button class="add-text add-button" aria-label="Add text cell" title="Add text cell" role="presentation" value="" has-icon=""><template shadowrootmode="open" shadowrootdelegatesfocus><!---->
      <!--?lit$568155653$--><div class="outline"></div>
      <div class="background"></div>
      <md-focus-ring part="focus-ring" for="button" aria-hidden="true"><template shadowrootmode="open"><!----></template></md-focus-ring>
      <md-ripple for="button" aria-hidden="true"><template shadowrootmode="open"><!----><div class="surface"></div></template></md-ripple>
      <!--?lit$568155653$--><button id="button" class="button" aria-label="Add text cell">
      <!--?lit$568155653$-->
      <span class="touch"></span>
      <!--?lit$568155653$--><slot name="icon"></slot>
      <span class="label"><slot></slot></span>
      <!--?lit$568155653$-->
    
    </button>
    </template>
          <md-icon slot="icon" aria-hidden="true"><template shadowrootmode="open"><!----><slot></slot></template>add</md-icon>
          <!--?lit$568155653$-->Text
        </md-outlined-button>
        <!--?lit$568155653$-->
      </div><hr>
    </div></div><div class="cell code icon-scrolling code-has-output" id="cell-A7d4HPWKi5Pb" role="region" aria-label="Cell 7: Code cell: " style="opacity: 1;" tabindex="-1"><div class="cell-tag-editor sticky"></div><div class="cell-toolbar sticky"></div><div class="main-content" elevation="0"><div class="cell-contents"><div class="cell-mask"></div><span class="imported-info-area"></span><div class="codecell-input-output">
      <div class="inputarea horizontal layout code">
        <div class="cell-gutter">
          <!-- Bounding range for vertical scrolling of icons -->
          <div class="cell-execution-container">
            <colab-run-button title="Run cell (Ctrl+Enter)
cell executed since last change

executed by BHIMRAO PAWAR
2:42 PM (37 minutes ago)
executed in 0.006s" role="button" aria-label="Run cell"><template shadowrootmode="open"><!----> <div class="cell-execution">
      <div class="execution-count"><!--?lit$568155653$-->[8]</div>
      <div class="cell-execution-indicator"> <!--?lit$568155653$-->
<svg xmlns="http://www.w3.org/2000/svg" viewBox="0 0 24 24">
  <!--?lit$568155653$-->
  <mask id="playSymbolMask">
    <rect width="100%" height="100%" fill="white"></rect>
    <polygon points="10,8 17,12 10,16" fill="black"></polygon>
  </mask>
  <circle cx="12" cy="12" r="7.8" mask="url(#playSymbolMask)" id="filledCircle"></circle>
</svg> </div>
      <!--?lit$568155653$--><div id="status">
      <md-icon aria-hidden="true"><template shadowrootmode="open"><!----><slot></slot></template><!--?lit$568155653$--><svg viewBox="0 0 24 24"><!--?lit$568155653$--><path d="M9 16.17L4.83 12l-1.42 1.41L9 19 21 7l-1.41-1.41z"></path></svg></md-icon>
      <div><!--?lit$568155653$-->0s</div>
    </div>
    </div></template></colab-run-button>
          </div>
        </div>
      <div class="editor flex lazy-editor" style=""><pre class="lazy-virtualized" style="font-size: 14px; line-height: 19px;"><pre class="lazy-gutter"></pre><pre class="monaco-colorized colab colab colab colab colab colab colab colab colab colab colab colab colab colab colab colab colab" data-lang="notebook-python"><span><span class="mtk1">data_v1.head()</span></span><br></pre><colab-read-only-cell-placeholder style="display: none;"><template shadowrootmode="open"><!----><div><!--?lit$568155653$-->Start coding or <span role="button" class="link" tabindex="0">generate</span> with AI.</div></template></colab-read-only-cell-placeholder></pre></div><colab-form class="formview vertical layout flex"><div class="widget-area vertical layout"></div></colab-form></div>
    <div class="output"><!----> <div class="output-header"> </div>
        <div class="output-content" style="">
          <div class="output-info"><colab-output-info title="Clear output

executed by BHIMRAO PAWAR
2:42 PM (0 minutes ago)
executed in 0.006s" hovering=""><template shadowrootmode="open"><!----> <md-icon class="collaborator output" alt="Execution output" aria-hidden="true"><template shadowrootmode="open"><!----><slot></slot></template><!--?lit$568155653$-->output</md-icon>
      <!--?lit$568155653$--> <mwc-icon-button icon="cancel" command="clear-focused-or-selected-outputs" alt="Clear output"><template shadowrootmode="open"><!----><button class="mdc-icon-button mdc-icon-button--display-flex" aria-label="cancel"><!--?lit$568155653$-->
    <!--?lit$568155653$--><i class="material-icons"><!--?lit$568155653$-->cancel</i>
    <span><slot></slot></span>
  </button></template>
          </mwc-icon-button><!--?--></template></colab-output-info></div>
          <div class="output-iframe-container">
            <div class="output-iframe-sizer" style="min-height: 0px;"> <div><div class="outputview" style="height: 206px;"><colab-dom-lifecycle-events style="display: none;"></colab-dom-lifecycle-events><iframe allow="accelerometer; autoplay; camera; gyroscope; magnetometer; microphone; serial; usb; xr-spatial-tracking; clipboard-write" sandbox="allow-downloads allow-forms allow-pointer-lock allow-popups allow-same-origin allow-scripts allow-storage-access-by-user-activation allow-modals allow-popups-to-escape-sandbox" src="./Sentiment Analysis on Amazon_Alexa_review_files/outputframe(1).html" class="" style="height: 206px;"></iframe></div></div></div>
          </div>
        </div></div></div><colab-cell-next-steps hascontent=""><template shadowrootmode="open"><!----> <div class="root">
        <span class="next-steps-title">
          <!--?lit$568155653$-->Next steps: </span><!--?lit$568155653$--><!----> <mwc-button outlined="" dense="" class="plots"><template shadowrootmode="open"><!---->
      <button id="button" class="mdc-button  mdc-button--outlined mdc-button--dense " aria-label="">
        <!--?lit$568155653$--><!--?-->
        <!--?lit$568155653$-->
        <span class="leading-icon">
          <slot name="icon">
            <!--?lit$568155653$-->
          </slot>
        </span>
        <span class="mdc-button__label"><!--?lit$568155653$--></span>
        <span class="slot-container   ">
          <slot></slot>
        </span>
        <span class="trailing-icon">
          <slot name="trailingIcon">
            <!--?lit$568155653$-->
          </slot>
        </span>
      </button></template>
            <md-icon aria-hidden="true"><template shadowrootmode="open"><!----><slot></slot></template> <!--?lit$568155653$-->toggle_off </md-icon>
            View recommended plots
          </mwc-button><!---->
      </div>
      <div class="content"><!--?lit$568155653$--></div></template></colab-cell-next-steps></div></div><div class="add-cell">
      <div class="add-cell-buttons">
        <md-outlined-button class="add-code add-button" aria-label="Add code cell
Ctrl+M B" title="Add code cell
Ctrl+M B" role="presentation" value="" has-icon=""><template shadowrootmode="open" shadowrootdelegatesfocus><!---->
      <!--?lit$568155653$--><div class="outline"></div>
      <div class="background"></div>
      <md-focus-ring part="focus-ring" for="button" aria-hidden="true"><template shadowrootmode="open"><!----></template></md-focus-ring>
      <md-ripple for="button" aria-hidden="true"><template shadowrootmode="open"><!----><div class="surface   "></div></template></md-ripple>
      <!--?lit$568155653$--><button id="button" class="button" aria-label="Add code cell
Ctrl+M B">
      <!--?lit$568155653$-->
      <span class="touch"></span>
      <!--?lit$568155653$--><slot name="icon"></slot>
      <span class="label"><slot></slot></span>
      <!--?lit$568155653$-->
    
    </button>
    </template>
          <md-icon slot="icon" aria-hidden="true"><template shadowrootmode="open"><!----><slot></slot></template>add</md-icon>
          <!--?lit$568155653$-->Code
        </md-outlined-button>
        <md-outlined-button class="add-text add-button" aria-label="Add text cell" title="Add text cell" role="presentation" value="" has-icon=""><template shadowrootmode="open" shadowrootdelegatesfocus><!---->
      <!--?lit$568155653$--><div class="outline"></div>
      <div class="background"></div>
      <md-focus-ring part="focus-ring" for="button" aria-hidden="true"><template shadowrootmode="open"><!----></template></md-focus-ring>
      <md-ripple for="button" aria-hidden="true"><template shadowrootmode="open"><!----><div class="surface   "></div></template></md-ripple>
      <!--?lit$568155653$--><button id="button" class="button" aria-label="Add text cell">
      <!--?lit$568155653$-->
      <span class="touch"></span>
      <!--?lit$568155653$--><slot name="icon"></slot>
      <span class="label"><slot></slot></span>
      <!--?lit$568155653$-->
    
    </button>
    </template>
          <md-icon slot="icon" aria-hidden="true"><template shadowrootmode="open"><!----><slot></slot></template>add</md-icon>
          <!--?lit$568155653$-->Text
        </md-outlined-button>
        <!--?lit$568155653$-->
      </div><hr>
    </div></div><div class="cell code icon-scrolling code-has-output" id="cell-5nJfwOnPjDCR" role="region" aria-label="Cell 8: Code cell: " style="opacity: 1;" tabindex="-1"><div class="cell-tag-editor sticky"></div><div class="cell-toolbar sticky"></div><div class="main-content" elevation="0"><div class="cell-contents"><div class="cell-mask"></div><span class="imported-info-area"></span><div class="codecell-input-output">
      <div class="inputarea horizontal layout code">
        <div class="cell-gutter">
          <!-- Bounding range for vertical scrolling of icons -->
          <div class="cell-execution-container">
            <colab-run-button title="Run cell (Ctrl+Enter)
cell executed since last change

executed by BHIMRAO PAWAR
2:42 PM (37 minutes ago)
executed in 2.409s" role="button" aria-label="Run cell"><template shadowrootmode="open"><!----> <div class="cell-execution">
      <div class="execution-count"><!--?lit$568155653$-->[9]</div>
      <div class="cell-execution-indicator"> <!--?lit$568155653$-->
<svg xmlns="http://www.w3.org/2000/svg" viewBox="0 0 24 24">
  <!--?lit$568155653$-->
  <mask id="playSymbolMask">
    <rect width="100%" height="100%" fill="white"></rect>
    <polygon points="10,8 17,12 10,16" fill="black"></polygon>
  </mask>
  <circle cx="12" cy="12" r="7.8" mask="url(#playSymbolMask)" id="filledCircle"></circle>
</svg> </div>
      <!--?lit$568155653$--><div id="status">
      <md-icon aria-hidden="true"><template shadowrootmode="open"><!----><slot></slot></template><!--?lit$568155653$--><svg viewBox="0 0 24 24"><!--?lit$568155653$--><path d="M9 16.17L4.83 12l-1.42 1.41L9 19 21 7l-1.41-1.41z"></path></svg></md-icon>
      <div><!--?lit$568155653$-->2s</div>
    </div>
    </div></template></colab-run-button>
          </div>
        </div>
      <div class="editor flex lazy-editor" style=""><pre class="lazy-virtualized" style="font-size: 14px; line-height: 19px;"><pre class="lazy-gutter"></pre><pre class="monaco-colorized colab colab colab colab colab colab colab colab colab colab colab colab colab colab colab colab" data-lang="notebook-python"><span><span class="mtk8">#&nbsp;Visualization&nbsp;common&nbsp;words&nbsp;</span></span><br><span><span class="mtk1">common_words&nbsp;=&nbsp;</span><span class="mtk26">''</span></span><br><span><span class="mtk19">for</span><span class="mtk1">&nbsp;i&nbsp;</span><span class="mtk6">in</span><span class="mtk1">&nbsp;data_v1.verified_reviews:</span></span><br><span><span class="mtk1">&nbsp;&nbsp;&nbsp;&nbsp;i&nbsp;=&nbsp;</span><span class="mtk14">str</span><span class="mtk1">(i)</span></span><br><span><span class="mtk1">&nbsp;&nbsp;&nbsp;&nbsp;tokens&nbsp;=&nbsp;i.split()</span></span><br><span><span class="mtk1">&nbsp;&nbsp;&nbsp;&nbsp;common_words&nbsp;+=&nbsp;</span><span class="mtk26">"&nbsp;"</span><span class="mtk1">.join(tokens)&nbsp;+&nbsp;</span><span class="mtk26">"&nbsp;"</span></span><br><span><span></span></span><br><span><span class="mtk1">wordcloud&nbsp;=&nbsp;WordCloud().generate(common_words)&nbsp;&nbsp;</span><span class="mtk8">#&nbsp;Corrected&nbsp;'world'&nbsp;to&nbsp;'WordCloud'</span></span><br><span><span class="mtk1">plt.imshow(wordcloud,&nbsp;interpolation=</span><span class="mtk26">'bilinear'</span><span class="mtk1">)&nbsp;&nbsp;</span><span class="mtk8">#&nbsp;Corrected&nbsp;'bilnear'&nbsp;to&nbsp;'bilinear'</span></span><br><span><span class="mtk1">plt.axis(</span><span class="mtk26">'off'</span><span class="mtk1">)</span></span><br><span><span class="mtk1">plt.show()&nbsp;&nbsp;</span><span class="mtk8">#&nbsp;Corrected&nbsp;'plt.shaow()'&nbsp;to&nbsp;'plt.show()'</span></span><br></pre><colab-read-only-cell-placeholder style="display: none;"><template shadowrootmode="open"><!----><div><!--?lit$568155653$-->Start coding or <span role="button" class="link" tabindex="0">generate</span> with AI.</div></template></colab-read-only-cell-placeholder></pre></div><colab-form class="formview vertical layout flex"><div class="widget-area vertical layout"></div></colab-form></div>
    <div class="output"><!----> <div class="output-header"> </div>
        <div class="output-content" style="">
          <div class="output-info"><colab-output-info title="Clear output

executed by BHIMRAO PAWAR
2:42 PM (0 minutes ago)
executed in 2.409s" hovering=""><template shadowrootmode="open"><!----> <md-icon class="collaborator output" alt="Execution output" aria-hidden="true"><template shadowrootmode="open"><!----><slot></slot></template><!--?lit$568155653$-->output</md-icon>
      <!--?lit$568155653$--> <mwc-icon-button icon="cancel" command="clear-focused-or-selected-outputs" alt="Clear output"><template shadowrootmode="open"><!----><button class="mdc-icon-button mdc-icon-button--display-flex" aria-label="cancel"><!--?lit$568155653$-->
    <!--?lit$568155653$--><i class="material-icons"><!--?lit$568155653$-->cancel</i>
    <span><slot></slot></span>
  </button></template>
          </mwc-icon-button><!--?--></template></colab-output-info></div>
          <div class="output-iframe-container">
            <div class="output-iframe-sizer" style="min-height: 0px;"> <div><div class="outputview" style="height: 285px;"><colab-dom-lifecycle-events style="display: none;"></colab-dom-lifecycle-events><iframe allow="accelerometer; autoplay; camera; gyroscope; magnetometer; microphone; serial; usb; xr-spatial-tracking; clipboard-write" sandbox="allow-downloads allow-forms allow-pointer-lock allow-popups allow-same-origin allow-scripts allow-storage-access-by-user-activation allow-modals allow-popups-to-escape-sandbox" src="./Sentiment Analysis on Amazon_Alexa_review_files/outputframe(2).html" class="" style="height: 285px;"></iframe></div></div></div>
          </div>
        </div></div></div><colab-cell-next-steps><template shadowrootmode="open"><!----></template></colab-cell-next-steps></div></div><div class="add-cell">
      <div class="add-cell-buttons">
        <md-outlined-button class="add-code add-button" aria-label="Add code cell
Ctrl+M B" title="Add code cell
Ctrl+M B" role="presentation" value="" has-icon=""><template shadowrootmode="open" shadowrootdelegatesfocus><!---->
      <!--?lit$568155653$--><div class="outline"></div>
      <div class="background"></div>
      <md-focus-ring part="focus-ring" for="button" aria-hidden="true"><template shadowrootmode="open"><!----></template></md-focus-ring>
      <md-ripple for="button" aria-hidden="true"><template shadowrootmode="open"><!----><div class="surface   "></div></template></md-ripple>
      <!--?lit$568155653$--><button id="button" class="button" aria-label="Add code cell
Ctrl+M B">
      <!--?lit$568155653$-->
      <span class="touch"></span>
      <!--?lit$568155653$--><slot name="icon"></slot>
      <span class="label"><slot></slot></span>
      <!--?lit$568155653$-->
    
    </button>
    </template>
          <md-icon slot="icon" aria-hidden="true"><template shadowrootmode="open"><!----><slot></slot></template>add</md-icon>
          <!--?lit$568155653$-->Code
        </md-outlined-button>
        <md-outlined-button class="add-text add-button" aria-label="Add text cell" title="Add text cell" role="presentation" value="" has-icon=""><template shadowrootmode="open" shadowrootdelegatesfocus><!---->
      <!--?lit$568155653$--><div class="outline"></div>
      <div class="background"></div>
      <md-focus-ring part="focus-ring" for="button" aria-hidden="true"><template shadowrootmode="open"><!----></template></md-focus-ring>
      <md-ripple for="button" aria-hidden="true"><template shadowrootmode="open"><!----><div class="surface   "></div></template></md-ripple>
      <!--?lit$568155653$--><button id="button" class="button" aria-label="Add text cell">
      <!--?lit$568155653$-->
      <span class="touch"></span>
      <!--?lit$568155653$--><slot name="icon"></slot>
      <span class="label"><slot></slot></span>
      <!--?lit$568155653$-->
    
    </button>
    </template>
          <md-icon slot="icon" aria-hidden="true"><template shadowrootmode="open"><!----><slot></slot></template>add</md-icon>
          <!--?lit$568155653$-->Text
        </md-outlined-button>
        <!--?lit$568155653$-->
      </div><hr>
    </div></div><div class="cell code icon-scrolling" id="cell-Q98xX3BajEh4" role="region" aria-label="Cell 9: Code cell: " style="opacity: 1;" tabindex="-1"><div class="cell-tag-editor sticky"></div><div class="cell-toolbar sticky"></div><div class="main-content" elevation="0"><div class="cell-contents"><div class="cell-mask"></div><span class="imported-info-area"></span><div class="codecell-input-output">
      <div class="inputarea horizontal layout code">
        <div class="cell-gutter">
          <!-- Bounding range for vertical scrolling of icons -->
          <div class="cell-execution-container">
            <colab-run-button title="Run cell (Ctrl+Enter)
cell executed since last change

executed by BHIMRAO PAWAR
2:42 PM (37 minutes ago)
executed in 0.017s" role="button" aria-label="Run cell"><template shadowrootmode="open"><!----> <div class="cell-execution">
      <div class="execution-count"><!--?lit$568155653$-->[10]</div>
      <div class="cell-execution-indicator"> <!--?lit$568155653$-->
<svg xmlns="http://www.w3.org/2000/svg" viewBox="0 0 24 24">
  <!--?lit$568155653$-->
  <mask id="playSymbolMask">
    <rect width="100%" height="100%" fill="white"></rect>
    <polygon points="10,8 17,12 10,16" fill="black"></polygon>
  </mask>
  <circle cx="12" cy="12" r="7.8" mask="url(#playSymbolMask)" id="filledCircle"></circle>
</svg> </div>
      <!--?lit$568155653$--><div id="status">
      <md-icon aria-hidden="true"><template shadowrootmode="open"><!----><slot></slot></template><!--?lit$568155653$--><svg viewBox="0 0 24 24"><!--?lit$568155653$--><path d="M9 16.17L4.83 12l-1.42 1.41L9 19 21 7l-1.41-1.41z"></path></svg></md-icon>
      <div><!--?lit$568155653$-->0s</div>
    </div>
    </div></template></colab-run-button>
          </div>
        </div>
      <div class="editor flex lazy-editor" style=""><pre class="lazy-virtualized" style="font-size: 14px; line-height: 19px;"><pre class="lazy-gutter"></pre><pre class="monaco-colorized colab colab colab colab colab colab colab colab colab colab colab colab colab colab colab colab colab" data-lang="notebook-python"><span><span class="mtk8">#&nbsp;Encode&nbsp;the&nbsp;target&nbsp;column</span></span><br><span><span class="mtk1">lb=LabelEncoder()</span></span><br><span><span class="mtk1">data_v1[</span><span class="mtk26">'sentiment'</span><span class="mtk1">]&nbsp;=&nbsp;lb.fit_transform(data_v1[</span><span class="mtk26">'sentiment'</span><span class="mtk1">])</span></span><br></pre><colab-read-only-cell-placeholder style="display: none;"><template shadowrootmode="open"><!----><div><!--?lit$568155653$-->Start coding or <span role="button" class="link" tabindex="0">generate</span> with AI.</div></template></colab-read-only-cell-placeholder></pre></div><colab-form class="formview vertical layout flex"><div class="widget-area vertical layout"></div></colab-form></div>
    <div class="output"><!----> <div class="output-header"> </div>
        <div class="output-content" style="display: none;">
          <div class="output-info"><colab-output-info title="Clear output

executed by BHIMRAO PAWAR
2:42 PM (0 minutes ago)
executed in 0.017s" hovering=""><template shadowrootmode="open"><!----> <md-icon class="collaborator output" alt="Execution output" aria-hidden="true"><template shadowrootmode="open"><!----><slot></slot></template><!--?lit$568155653$-->output</md-icon>
      <!--?lit$568155653$--> <mwc-icon-button icon="cancel" command="clear-focused-or-selected-outputs" alt="Clear output"><template shadowrootmode="open"><!----><button class="mdc-icon-button mdc-icon-button--display-flex" aria-label="cancel"><!--?lit$568155653$-->
    <!--?lit$568155653$--><i class="material-icons"><!--?lit$568155653$-->cancel</i>
    <span><slot></slot></span>
  </button></template>
          </mwc-icon-button><!--?--></template></colab-output-info></div>
          <div class="output-iframe-container">
            <div class="output-iframe-sizer" style="min-height: 0px;"> <div><div><colab-static-output-renderer role="group" tabindex="0"><div></div><div></div></colab-static-output-renderer></div></div></div>
          </div>
        </div></div></div><colab-cell-next-steps><template shadowrootmode="open"><!----></template></colab-cell-next-steps></div></div><div class="add-cell">
      <div class="add-cell-buttons">
        <md-outlined-button class="add-code add-button" aria-label="Add code cell
Ctrl+M B" title="Add code cell
Ctrl+M B" role="presentation" value="" has-icon=""><template shadowrootmode="open" shadowrootdelegatesfocus><!---->
      <!--?lit$568155653$--><div class="outline"></div>
      <div class="background"></div>
      <md-focus-ring part="focus-ring" for="button" aria-hidden="true"><template shadowrootmode="open"><!----></template></md-focus-ring>
      <md-ripple for="button" aria-hidden="true"><template shadowrootmode="open"><!----><div class="surface   "></div></template></md-ripple>
      <!--?lit$568155653$--><button id="button" class="button" aria-label="Add code cell
Ctrl+M B">
      <!--?lit$568155653$-->
      <span class="touch"></span>
      <!--?lit$568155653$--><slot name="icon"></slot>
      <span class="label"><slot></slot></span>
      <!--?lit$568155653$-->
    
    </button>
    </template>
          <md-icon slot="icon" aria-hidden="true"><template shadowrootmode="open"><!----><slot></slot></template>add</md-icon>
          <!--?lit$568155653$-->Code
        </md-outlined-button>
        <md-outlined-button class="add-text add-button" aria-label="Add text cell" title="Add text cell" role="presentation" value="" has-icon=""><template shadowrootmode="open" shadowrootdelegatesfocus><!---->
      <!--?lit$568155653$--><div class="outline"></div>
      <div class="background"></div>
      <md-focus-ring part="focus-ring" for="button" aria-hidden="true"><template shadowrootmode="open"><!----></template></md-focus-ring>
      <md-ripple for="button" aria-hidden="true"><template shadowrootmode="open"><!----><div class="surface   "></div></template></md-ripple>
      <!--?lit$568155653$--><button id="button" class="button" aria-label="Add text cell">
      <!--?lit$568155653$-->
      <span class="touch"></span>
      <!--?lit$568155653$--><slot name="icon"></slot>
      <span class="label"><slot></slot></span>
      <!--?lit$568155653$-->
    
    </button>
    </template>
          <md-icon slot="icon" aria-hidden="true"><template shadowrootmode="open"><!----><slot></slot></template>add</md-icon>
          <!--?lit$568155653$-->Text
        </md-outlined-button>
        <!--?lit$568155653$-->
      </div><hr>
    </div></div><div class="cell code icon-scrolling code-has-output" id="cell-l1t3XwqXjE0E" role="region" aria-label="Cell 10: Code cell: " style="opacity: 1;" tabindex="-1"><div class="cell-tag-editor sticky"></div><div class="cell-toolbar sticky"></div><div class="main-content" elevation="0"><div class="cell-contents"><div class="cell-mask"></div><span class="imported-info-area"></span><div class="codecell-input-output">
      <div class="inputarea horizontal layout code">
        <div class="cell-gutter">
          <!-- Bounding range for vertical scrolling of icons -->
          <div class="cell-execution-container">
            <colab-run-button title="Run cell (Ctrl+Enter)
cell executed since last change

executed by BHIMRAO PAWAR
2:42 PM (37 minutes ago)
executed in 0.016s" role="button" aria-label="Run cell"><template shadowrootmode="open"><!----> <div class="cell-execution">
      <div class="execution-count"><!--?lit$568155653$-->[11]</div>
      <div class="cell-execution-indicator"> <!--?lit$568155653$-->
<svg xmlns="http://www.w3.org/2000/svg" viewBox="0 0 24 24">
  <!--?lit$568155653$-->
  <mask id="playSymbolMask">
    <rect width="100%" height="100%" fill="white"></rect>
    <polygon points="10,8 17,12 10,16" fill="black"></polygon>
  </mask>
  <circle cx="12" cy="12" r="7.8" mask="url(#playSymbolMask)" id="filledCircle"></circle>
</svg> </div>
      <!--?lit$568155653$--><div id="status">
      <md-icon aria-hidden="true"><template shadowrootmode="open"><!----><slot></slot></template><!--?lit$568155653$--><svg viewBox="0 0 24 24"><!--?lit$568155653$--><path d="M9 16.17L4.83 12l-1.42 1.41L9 19 21 7l-1.41-1.41z"></path></svg></md-icon>
      <div><!--?lit$568155653$-->0s</div>
    </div>
    </div></template></colab-run-button>
          </div>
        </div>
      <div class="editor flex lazy-editor" style=""><pre class="lazy-virtualized" style="font-size: 14px; line-height: 19px;"><pre class="lazy-gutter"></pre><pre class="monaco-colorized colab colab colab colab colab colab colab colab colab colab colab colab colab colab colab" data-lang="notebook-python"><span><span class="mtk1">data_v1.head(</span><span class="mtk12">10</span><span class="mtk1">)</span></span><br></pre><colab-read-only-cell-placeholder style="display: none;"><template shadowrootmode="open"><!----><div><!--?lit$568155653$-->Start coding or <span role="button" class="link" tabindex="0">generate</span> with AI.</div></template></colab-read-only-cell-placeholder></pre></div><colab-form class="formview vertical layout flex"><div class="widget-area vertical layout"></div></colab-form></div>
    <div class="output"><!----> <div class="output-header"> </div>
        <div class="output-content" style="">
          <div class="output-info"><colab-output-info title="Clear output

executed by BHIMRAO PAWAR
2:42 PM (0 minutes ago)
executed in 0.016s" hovering=""><template shadowrootmode="open"><!----> <md-icon class="collaborator output" alt="Execution output" aria-hidden="true"><template shadowrootmode="open"><!----><slot></slot></template><!--?lit$568155653$-->output</md-icon>
      <!--?lit$568155653$--> <mwc-icon-button icon="cancel" command="clear-focused-or-selected-outputs" alt="Clear output"><template shadowrootmode="open"><!----><button class="mdc-icon-button mdc-icon-button--display-flex" aria-label="cancel"><!--?lit$568155653$-->
    <!--?lit$568155653$--><i class="material-icons"><!--?lit$568155653$-->cancel</i>
    <span><slot></slot></span>
  </button></template>
          </mwc-icon-button><!--?--></template></colab-output-info></div>
          <div class="output-iframe-container">
            <div class="output-iframe-sizer" style="min-height: 0px;"> <div><div class="outputview" style="height: 363px;"><colab-dom-lifecycle-events style="display: none;"></colab-dom-lifecycle-events><iframe allow="accelerometer; autoplay; camera; gyroscope; magnetometer; microphone; serial; usb; xr-spatial-tracking; clipboard-write" sandbox="allow-downloads allow-forms allow-pointer-lock allow-popups allow-same-origin allow-scripts allow-storage-access-by-user-activation allow-modals allow-popups-to-escape-sandbox" src="./Sentiment Analysis on Amazon_Alexa_review_files/outputframe(3).html" class="" style="height: 363px;"></iframe></div></div></div>
          </div>
        </div></div></div><colab-cell-next-steps hascontent=""><template shadowrootmode="open"><!----> <div class="root">
        <span class="next-steps-title">
          <!--?lit$568155653$-->Next steps: </span><!--?lit$568155653$--><!----> <mwc-button outlined="" dense="" class="plots"><template shadowrootmode="open"><!---->
      <button id="button" class="mdc-button  mdc-button--outlined mdc-button--dense " aria-label="">
        <!--?lit$568155653$--><!--?-->
        <!--?lit$568155653$-->
        <span class="leading-icon">
          <slot name="icon">
            <!--?lit$568155653$-->
          </slot>
        </span>
        <span class="mdc-button__label"><!--?lit$568155653$--></span>
        <span class="slot-container   ">
          <slot></slot>
        </span>
        <span class="trailing-icon">
          <slot name="trailingIcon">
            <!--?lit$568155653$-->
          </slot>
        </span>
      </button></template>
            <md-icon aria-hidden="true"><template shadowrootmode="open"><!----><slot></slot></template> <!--?lit$568155653$-->toggle_off </md-icon>
            View recommended plots
          </mwc-button><!---->
      </div>
      <div class="content"><!--?lit$568155653$--></div></template></colab-cell-next-steps></div></div><div class="add-cell">
      <div class="add-cell-buttons">
        <md-outlined-button class="add-code add-button" aria-label="Add code cell
Ctrl+M B" title="Add code cell
Ctrl+M B" role="presentation" value="" has-icon=""><template shadowrootmode="open" shadowrootdelegatesfocus><!---->
      <!--?lit$568155653$--><div class="outline"></div>
      <div class="background"></div>
      <md-focus-ring part="focus-ring" for="button" aria-hidden="true"><template shadowrootmode="open"><!----></template></md-focus-ring>
      <md-ripple for="button" aria-hidden="true"><template shadowrootmode="open"><!----><div class="surface   "></div></template></md-ripple>
      <!--?lit$568155653$--><button id="button" class="button" aria-label="Add code cell
Ctrl+M B">
      <!--?lit$568155653$-->
      <span class="touch"></span>
      <!--?lit$568155653$--><slot name="icon"></slot>
      <span class="label"><slot></slot></span>
      <!--?lit$568155653$-->
    
    </button>
    </template>
          <md-icon slot="icon" aria-hidden="true"><template shadowrootmode="open"><!----><slot></slot></template>add</md-icon>
          <!--?lit$568155653$-->Code
        </md-outlined-button>
        <md-outlined-button class="add-text add-button" aria-label="Add text cell" title="Add text cell" role="presentation" value="" has-icon=""><template shadowrootmode="open" shadowrootdelegatesfocus><!---->
      <!--?lit$568155653$--><div class="outline"></div>
      <div class="background"></div>
      <md-focus-ring part="focus-ring" for="button" aria-hidden="true"><template shadowrootmode="open"><!----></template></md-focus-ring>
      <md-ripple for="button" aria-hidden="true"><template shadowrootmode="open"><!----><div class="surface   "></div></template></md-ripple>
      <!--?lit$568155653$--><button id="button" class="button" aria-label="Add text cell">
      <!--?lit$568155653$-->
      <span class="touch"></span>
      <!--?lit$568155653$--><slot name="icon"></slot>
      <span class="label"><slot></slot></span>
      <!--?lit$568155653$-->
    
    </button>
    </template>
          <md-icon slot="icon" aria-hidden="true"><template shadowrootmode="open"><!----><slot></slot></template>add</md-icon>
          <!--?lit$568155653$-->Text
        </md-outlined-button>
        <!--?lit$568155653$-->
      </div><hr>
    </div></div><div class="cell code icon-scrolling code-has-output" id="cell-TqqEUD5CjIH9" role="region" aria-label="Cell 11: Code cell: " style="opacity: 1;" tabindex="-1"><div class="cell-tag-editor sticky"></div><div class="cell-toolbar sticky"></div><div class="main-content" elevation="0"><div class="cell-contents"><div class="cell-mask"></div><span class="imported-info-area"></span><div class="codecell-input-output">
      <div class="inputarea horizontal layout code">
        <div class="cell-gutter">
          <!-- Bounding range for vertical scrolling of icons -->
          <div class="cell-execution-container">
            <colab-run-button title="Run cell (Ctrl+Enter)
cell executed since last change

executed by BHIMRAO PAWAR
2:42 PM (37 minutes ago)
executed in 0.015s" role="button" aria-label="Run cell"><template shadowrootmode="open"><!----> <div class="cell-execution">
      <div class="execution-count"><!--?lit$568155653$-->[12]</div>
      <div class="cell-execution-indicator"> <!--?lit$568155653$-->
<svg xmlns="http://www.w3.org/2000/svg" viewBox="0 0 24 24">
  <!--?lit$568155653$-->
  <mask id="playSymbolMask">
    <rect width="100%" height="100%" fill="white"></rect>
    <polygon points="10,8 17,12 10,16" fill="black"></polygon>
  </mask>
  <circle cx="12" cy="12" r="7.8" mask="url(#playSymbolMask)" id="filledCircle"></circle>
</svg> </div>
      <!--?lit$568155653$--><div id="status">
      <md-icon aria-hidden="true"><template shadowrootmode="open"><!----><slot></slot></template><!--?lit$568155653$--><svg viewBox="0 0 24 24"><!--?lit$568155653$--><path d="M9 16.17L4.83 12l-1.42 1.41L9 19 21 7l-1.41-1.41z"></path></svg></md-icon>
      <div><!--?lit$568155653$-->0s</div>
    </div>
    </div></template></colab-run-button>
          </div>
        </div>
      <div class="editor flex lazy-editor" style=""><pre class="lazy-virtualized" style="font-size: 14px; line-height: 19px;"><pre class="lazy-gutter"></pre><pre class="monaco-colorized colab colab colab colab colab colab colab colab colab colab colab colab colab colab colab colab colab colab colab" data-lang="notebook-python"><span><span class="mtk1">tokenizer&nbsp;=&nbsp;Tokenizer(num_words=</span><span class="mtk12">500</span><span class="mtk1">,&nbsp;split=</span><span class="mtk26">'&nbsp;'</span><span class="mtk1">)&nbsp;</span></span><br><span><span class="mtk1">tokenizer.fit_on_texts(data_v1[</span><span class="mtk26">'verified_reviews'</span><span class="mtk1">].values)</span></span><br><span><span class="mtk1">X&nbsp;=&nbsp;tokenizer.texts_to_sequences(data[</span><span class="mtk26">'verified_reviews'</span><span class="mtk1">].values)</span></span><br><span><span class="mtk1">X&nbsp;=&nbsp;pad_sequences(X)</span></span><br><span><span class="mtk1">X</span></span><br></pre><colab-read-only-cell-placeholder style="display: none;"><template shadowrootmode="open"><!----><div><!--?lit$568155653$-->Start coding or <span role="button" class="link" tabindex="0">generate</span> with AI.</div></template></colab-read-only-cell-placeholder></pre></div><colab-form class="formview vertical layout flex"><div class="widget-area vertical layout"></div></colab-form></div>
    <div class="output"><!----> <div class="output-header"> </div>
        <div class="output-content" style="">
          <div class="output-info"><colab-output-info title="Clear output

executed by BHIMRAO PAWAR
2:42 PM (0 minutes ago)
executed in 0.015s" hovering=""><template shadowrootmode="open"><!----> <md-icon class="collaborator output" alt="Execution output" aria-hidden="true"><template shadowrootmode="open"><!----><slot></slot></template><!--?lit$568155653$-->output</md-icon>
      <!--?lit$568155653$--> <mwc-icon-button icon="cancel" command="clear-focused-or-selected-outputs" alt="Clear output"><template shadowrootmode="open"><!----><button class="mdc-icon-button mdc-icon-button--display-flex" aria-label="cancel"><!--?lit$568155653$-->
    <!--?lit$568155653$--><i class="material-icons"><!--?lit$568155653$-->cancel</i>
    <span><slot></slot></span>
  </button></template>
          </mwc-icon-button><!--?--></template></colab-output-info></div>
          <div class="output-iframe-container">
            <div class="output-iframe-sizer" style="min-height: 0px;"> <div><div><colab-static-output-renderer role="group" tabindex="0"><div><div class="execute_result output-id-1 output_text"><pre>array([[  0,   0,   0, ...,   0,   1,   2],
       [  0,   0,   0, ...,   0,   0,   5],
       [  0,   0,   0, ..., 263, 276,  24],
       ...,
       [  0,   0,   0, ...,  89, 326,  32],
       [  0,   0,   0, ..., 217,  58, 290],
       [  0,   0,   0, ...,   0,   0,   0]], dtype=int32)</pre></div></div><div></div></colab-static-output-renderer></div></div></div>
          </div>
        </div></div></div><colab-cell-next-steps><template shadowrootmode="open"><!----></template></colab-cell-next-steps></div></div><div class="add-cell">
      <div class="add-cell-buttons">
        <md-outlined-button class="add-code add-button" aria-label="Add code cell
Ctrl+M B" title="Add code cell
Ctrl+M B" role="presentation" value="" has-icon=""><template shadowrootmode="open" shadowrootdelegatesfocus><!---->
      <!--?lit$568155653$--><div class="outline"></div>
      <div class="background"></div>
      <md-focus-ring part="focus-ring" for="button" aria-hidden="true"><template shadowrootmode="open"><!----></template></md-focus-ring>
      <md-ripple for="button" aria-hidden="true"><template shadowrootmode="open"><!----><div class="surface   "></div></template></md-ripple>
      <!--?lit$568155653$--><button id="button" class="button" aria-label="Add code cell
Ctrl+M B">
      <!--?lit$568155653$-->
      <span class="touch"></span>
      <!--?lit$568155653$--><slot name="icon"></slot>
      <span class="label"><slot></slot></span>
      <!--?lit$568155653$-->
    
    </button>
    </template>
          <md-icon slot="icon" aria-hidden="true"><template shadowrootmode="open"><!----><slot></slot></template>add</md-icon>
          <!--?lit$568155653$-->Code
        </md-outlined-button>
        <md-outlined-button class="add-text add-button" aria-label="Add text cell" title="Add text cell" role="presentation" value="" has-icon=""><template shadowrootmode="open" shadowrootdelegatesfocus><!---->
      <!--?lit$568155653$--><div class="outline"></div>
      <div class="background"></div>
      <md-focus-ring part="focus-ring" for="button" aria-hidden="true"><template shadowrootmode="open"><!----></template></md-focus-ring>
      <md-ripple for="button" aria-hidden="true"><template shadowrootmode="open"><!----><div class="surface   "></div></template></md-ripple>
      <!--?lit$568155653$--><button id="button" class="button" aria-label="Add text cell">
      <!--?lit$568155653$-->
      <span class="touch"></span>
      <!--?lit$568155653$--><slot name="icon"></slot>
      <span class="label"><slot></slot></span>
      <!--?lit$568155653$-->
    
    </button>
    </template>
          <md-icon slot="icon" aria-hidden="true"><template shadowrootmode="open"><!----><slot></slot></template>add</md-icon>
          <!--?lit$568155653$-->Text
        </md-outlined-button>
        <!--?lit$568155653$-->
      </div><hr>
    </div></div><div class="cell code icon-scrolling code-has-output" id="cell-oz_WYToBjISm" role="region" aria-label="Cell 12: Code cell: " style="opacity: 1;" tabindex="-1"><div class="cell-tag-editor sticky"></div><div class="cell-toolbar sticky"></div><div class="main-content" elevation="0"><div class="cell-contents"><div class="cell-mask"></div><span class="imported-info-area"></span><div class="codecell-input-output">
      <div class="inputarea horizontal layout code">
        <div class="cell-gutter">
          <!-- Bounding range for vertical scrolling of icons -->
          <div class="cell-execution-container">
            <colab-run-button title="Run cell (Ctrl+Enter)
cell executed since last change

executed by BHIMRAO PAWAR
2:42 PM (37 minutes ago)
executed in 0.766s" role="button" aria-label="Run cell"><template shadowrootmode="open"><!----> <div class="cell-execution">
      <div class="execution-count"><!--?lit$568155653$-->[13]</div>
      <div class="cell-execution-indicator"> <!--?lit$568155653$-->
<svg xmlns="http://www.w3.org/2000/svg" viewBox="0 0 24 24">
  <!--?lit$568155653$-->
  <mask id="playSymbolMask">
    <rect width="100%" height="100%" fill="white"></rect>
    <polygon points="10,8 17,12 10,16" fill="black"></polygon>
  </mask>
  <circle cx="12" cy="12" r="7.8" mask="url(#playSymbolMask)" id="filledCircle"></circle>
</svg> </div>
      <!--?lit$568155653$--><div id="status">
      <md-icon aria-hidden="true"><template shadowrootmode="open"><!----><slot></slot></template><!--?lit$568155653$--><svg viewBox="0 0 24 24"><!--?lit$568155653$--><path d="M9 16.17L4.83 12l-1.42 1.41L9 19 21 7l-1.41-1.41z"></path></svg></md-icon>
      <div><!--?lit$568155653$-->0s</div>
    </div>
    </div></template></colab-run-button>
          </div>
        </div>
      <div class="editor flex lazy-editor" style=""><pre class="lazy-virtualized" style="font-size: 14px; line-height: 19px;"><pre class="lazy-gutter"></pre><pre class="monaco-colorized colab colab colab colab colab colab colab colab colab colab colab colab colab colab colab" data-lang="notebook-python"><span><span class="mtk1">model&nbsp;=&nbsp;Sequential()</span></span><br><span><span class="mtk1">model.add(Embedding(</span><span class="mtk12">500</span><span class="mtk1">,&nbsp;</span><span class="mtk12">120</span><span class="mtk1">&nbsp;,&nbsp;input_length&nbsp;=&nbsp;X.shape[</span><span class="mtk12">1</span><span class="mtk1">]))</span></span><br><span><span class="mtk1">model.add(SpatialDropout1D(</span><span class="mtk12">0.4</span><span class="mtk1">))</span></span><br><span><span class="mtk1">model.add(LSTM(</span><span class="mtk12">176</span><span class="mtk1">,&nbsp;dropout=</span><span class="mtk12">0.2</span><span class="mtk1">,&nbsp;recurrent_dropout=</span><span class="mtk12">0.2</span><span class="mtk1">))</span></span><br><span><span class="mtk1">model.add(Dense(</span><span class="mtk12">2</span><span class="mtk1">,activation=</span><span class="mtk26">'softmax'</span><span class="mtk1">))</span></span><br><span><span class="mtk1">model.</span><span class="mtk15">compile</span><span class="mtk1">(loss&nbsp;=&nbsp;</span><span class="mtk26">'categorical_crossentropy'</span><span class="mtk1">,&nbsp;optimizer=</span><span class="mtk26">'adam'</span><span class="mtk1">,&nbsp;metrics&nbsp;=&nbsp;[</span><span class="mtk26">'accuracy'</span><span class="mtk1">])</span></span><br><span><span class="mtk15">print</span><span class="mtk1">(model.summary())</span></span><br><span><span></span></span><br></pre><colab-read-only-cell-placeholder style="display: none;"><template shadowrootmode="open"><!----><div><!--?lit$568155653$-->Start coding or <span role="button" class="link" tabindex="0">generate</span> with AI.</div></template></colab-read-only-cell-placeholder></pre></div><colab-form class="formview vertical layout flex"><div class="widget-area vertical layout"></div></colab-form></div>
    <div class="output"><!----> <div class="output-header"> </div>
        <div class="output-content" style="">
          <div class="output-info"><colab-output-info title="Clear output

executed by BHIMRAO PAWAR
2:42 PM (0 minutes ago)
executed in 0.766s" hovering=""><template shadowrootmode="open"><!----> <md-icon class="collaborator output" alt="Execution output" aria-hidden="true"><template shadowrootmode="open"><!----><slot></slot></template><!--?lit$568155653$-->output</md-icon>
      <!--?lit$568155653$--> <mwc-icon-button icon="cancel" command="clear-focused-or-selected-outputs" alt="Clear output"><template shadowrootmode="open"><!----><button class="mdc-icon-button mdc-icon-button--display-flex" aria-label="cancel"><!--?lit$568155653$-->
    <!--?lit$568155653$--><i class="material-icons"><!--?lit$568155653$-->cancel</i>
    <span><slot></slot></span>
  </button></template>
          </mwc-icon-button><!--?--></template></colab-output-info></div>
          <div class="output-iframe-container">
            <div class="output-iframe-sizer" style="min-height: 0px;"> <div><div><colab-static-output-renderer role="group" tabindex="0"><div><div class="stream output-id-19 output_text"><pre>Model: "sequential"
_________________________________________________________________
 Layer (type)                Output Shape              Param #   
=================================================================
 embedding (Embedding)       (None, 319, 120)          60000     
                                                                 
 spatial_dropout1d (Spatial  (None, 319, 120)          0         
 Dropout1D)                                                      
                                                                 
 lstm (LSTM)                 (None, 176)               209088    
                                                                 
 dense (Dense)               (None, 2)                 354       
                                                                 
=================================================================
Total params: 269442 (1.03 MB)
Trainable params: 269442 (1.03 MB)
Non-trainable params: 0 (0.00 Byte)
_________________________________________________________________
None
</pre></div></div><div></div></colab-static-output-renderer></div></div></div>
          </div>
        </div></div></div><colab-cell-next-steps><template shadowrootmode="open"><!----></template></colab-cell-next-steps></div></div><div class="add-cell">
      <div class="add-cell-buttons">
        <md-outlined-button class="add-code add-button" aria-label="Add code cell
Ctrl+M B" title="Add code cell
Ctrl+M B" role="presentation" value="" has-icon=""><template shadowrootmode="open" shadowrootdelegatesfocus><!---->
      <!--?lit$568155653$--><div class="outline"></div>
      <div class="background"></div>
      <md-focus-ring part="focus-ring" for="button" aria-hidden="true"><template shadowrootmode="open"><!----></template></md-focus-ring>
      <md-ripple for="button" aria-hidden="true"><template shadowrootmode="open"><!----><div class="surface"></div></template></md-ripple>
      <!--?lit$568155653$--><button id="button" class="button" aria-label="Add code cell
Ctrl+M B">
      <!--?lit$568155653$-->
      <span class="touch"></span>
      <!--?lit$568155653$--><slot name="icon"></slot>
      <span class="label"><slot></slot></span>
      <!--?lit$568155653$-->
    
    </button>
    </template>
          <md-icon slot="icon" aria-hidden="true"><template shadowrootmode="open"><!----><slot></slot></template>add</md-icon>
          <!--?lit$568155653$-->Code
        </md-outlined-button>
        <md-outlined-button class="add-text add-button" aria-label="Add text cell" title="Add text cell" role="presentation" value="" has-icon=""><template shadowrootmode="open" shadowrootdelegatesfocus><!---->
      <!--?lit$568155653$--><div class="outline"></div>
      <div class="background"></div>
      <md-focus-ring part="focus-ring" for="button" aria-hidden="true"><template shadowrootmode="open"><!----></template></md-focus-ring>
      <md-ripple for="button" aria-hidden="true"><template shadowrootmode="open"><!----><div class="surface"></div></template></md-ripple>
      <!--?lit$568155653$--><button id="button" class="button" aria-label="Add text cell">
      <!--?lit$568155653$-->
      <span class="touch"></span>
      <!--?lit$568155653$--><slot name="icon"></slot>
      <span class="label"><slot></slot></span>
      <!--?lit$568155653$-->
    
    </button>
    </template>
          <md-icon slot="icon" aria-hidden="true"><template shadowrootmode="open"><!----><slot></slot></template>add</md-icon>
          <!--?lit$568155653$-->Text
        </md-outlined-button>
        <!--?lit$568155653$-->
      </div><hr>
    </div></div><div class="cell code icon-scrolling" id="cell-IGvI-Hd4jIcW" role="region" aria-label="Cell 13: Code cell: " style="opacity: 1;" tabindex="-1"><div class="cell-tag-editor sticky"></div><div class="cell-toolbar sticky"></div><div class="main-content" elevation="0"><div class="cell-contents"><div class="cell-mask"></div><span class="imported-info-area"></span><div class="codecell-input-output">
      <div class="inputarea horizontal layout code">
        <div class="cell-gutter">
          <!-- Bounding range for vertical scrolling of icons -->
          <div class="cell-execution-container">
            <colab-run-button title="Run cell (Ctrl+Enter)
cell executed since last change

executed by BHIMRAO PAWAR
2:42 PM (37 minutes ago)
executed in 0.01s" role="button" aria-label="Run cell"><template shadowrootmode="open"><!----> <div class="cell-execution">
      <div class="execution-count"><!--?lit$568155653$-->[14]</div>
      <div class="cell-execution-indicator"> <!--?lit$568155653$-->
<svg xmlns="http://www.w3.org/2000/svg" viewBox="0 0 24 24">
  <!--?lit$568155653$-->
  <mask id="playSymbolMask">
    <rect width="100%" height="100%" fill="white"></rect>
    <polygon points="10,8 17,12 10,16" fill="black"></polygon>
  </mask>
  <circle cx="12" cy="12" r="7.8" mask="url(#playSymbolMask)" id="filledCircle"></circle>
</svg> </div>
      <!--?lit$568155653$--><div id="status">
      <md-icon aria-hidden="true"><template shadowrootmode="open"><!----><slot></slot></template><!--?lit$568155653$--><svg viewBox="0 0 24 24"><!--?lit$568155653$--><path d="M9 16.17L4.83 12l-1.42 1.41L9 19 21 7l-1.41-1.41z"></path></svg></md-icon>
      <div><!--?lit$568155653$-->0s</div>
    </div>
    </div></template></colab-run-button>
          </div>
        </div>
      <div class="editor flex lazy-editor" style=""><pre class="lazy-virtualized" style="font-size: 14px; line-height: 19px;"><pre class="lazy-gutter"></pre><pre class="monaco-colorized colab colab colab colab colab colab colab colab colab colab colab colab colab colab colab colab colab" data-lang="notebook-python"><span><span class="mtk8">#&nbsp;Split&nbsp;data&nbsp;into&nbsp;Training&nbsp;and&nbsp;testing</span></span><br><span><span class="mtk1">y=pd.get_dummies(data_v1[</span><span class="mtk26">'sentiment'</span><span class="mtk1">])</span></span><br><span><span class="mtk1">X_train,&nbsp;X_test,&nbsp;y_train,&nbsp;y_test&nbsp;=&nbsp;train_test_spli</span><span class="mtk1">t(X,&nbsp;y,&nbsp;test_size=</span><span class="mtk12">0.3</span><span class="mtk1">,random_state=</span><span class="mtk12">42</span><span class="mtk1">)</span></span><br><span><span></span></span><br></pre><colab-read-only-cell-placeholder style="display: none;"><template shadowrootmode="open"><!----><div><!--?lit$568155653$-->Start coding or <span role="button" class="link" tabindex="0">generate</span> with AI.</div></template></colab-read-only-cell-placeholder></pre></div><colab-form class="formview vertical layout flex"><div class="widget-area vertical layout"></div></colab-form></div>
    <div class="output"><!----> <div class="output-header"> </div>
        <div class="output-content" style="display: none;">
          <div class="output-info"><colab-output-info title="Clear output

executed by BHIMRAO PAWAR
2:42 PM (0 minutes ago)
executed in 0.01s" hovering=""><template shadowrootmode="open"><!----> <md-icon class="collaborator output" alt="Execution output" aria-hidden="true"><template shadowrootmode="open"><!----><slot></slot></template><!--?lit$568155653$-->output</md-icon>
      <!--?lit$568155653$--> <mwc-icon-button icon="cancel" command="clear-focused-or-selected-outputs" alt="Clear output"><template shadowrootmode="open"><!----><button class="mdc-icon-button mdc-icon-button--display-flex" aria-label="cancel"><!--?lit$568155653$-->
    <!--?lit$568155653$--><i class="material-icons"><!--?lit$568155653$-->cancel</i>
    <span><slot></slot></span>
  </button></template>
          </mwc-icon-button><!--?--></template></colab-output-info></div>
          <div class="output-iframe-container">
            <div class="output-iframe-sizer" style="min-height: 0px;"> <div><div><colab-static-output-renderer role="group" tabindex="0"><div></div><div></div></colab-static-output-renderer></div></div></div>
          </div>
        </div></div></div><colab-cell-next-steps><template shadowrootmode="open"><!----></template></colab-cell-next-steps></div></div><div class="add-cell">
      <div class="add-cell-buttons">
        <md-outlined-button class="add-code add-button" aria-label="Add code cell
Ctrl+M B" title="Add code cell
Ctrl+M B" role="presentation" value="" has-icon=""><template shadowrootmode="open" shadowrootdelegatesfocus><!---->
      <!--?lit$568155653$--><div class="outline"></div>
      <div class="background"></div>
      <md-focus-ring part="focus-ring" for="button" aria-hidden="true"><template shadowrootmode="open"><!----></template></md-focus-ring>
      <md-ripple for="button" aria-hidden="true"><template shadowrootmode="open"><!----><div class="surface   "></div></template></md-ripple>
      <!--?lit$568155653$--><button id="button" class="button" aria-label="Add code cell
Ctrl+M B">
      <!--?lit$568155653$-->
      <span class="touch"></span>
      <!--?lit$568155653$--><slot name="icon"></slot>
      <span class="label"><slot></slot></span>
      <!--?lit$568155653$-->
    
    </button>
    </template>
          <md-icon slot="icon" aria-hidden="true"><template shadowrootmode="open"><!----><slot></slot></template>add</md-icon>
          <!--?lit$568155653$-->Code
        </md-outlined-button>
        <md-outlined-button class="add-text add-button" aria-label="Add text cell" title="Add text cell" role="presentation" value="" has-icon=""><template shadowrootmode="open" shadowrootdelegatesfocus><!---->
      <!--?lit$568155653$--><div class="outline"></div>
      <div class="background"></div>
      <md-focus-ring part="focus-ring" for="button" aria-hidden="true"><template shadowrootmode="open"><!----></template></md-focus-ring>
      <md-ripple for="button" aria-hidden="true"><template shadowrootmode="open"><!----><div class="surface   "></div></template></md-ripple>
      <!--?lit$568155653$--><button id="button" class="button" aria-label="Add text cell">
      <!--?lit$568155653$-->
      <span class="touch"></span>
      <!--?lit$568155653$--><slot name="icon"></slot>
      <span class="label"><slot></slot></span>
      <!--?lit$568155653$-->
    
    </button>
    </template>
          <md-icon slot="icon" aria-hidden="true"><template shadowrootmode="open"><!----><slot></slot></template>add</md-icon>
          <!--?lit$568155653$-->Text
        </md-outlined-button>
        <!--?lit$568155653$-->
      </div><hr>
    </div></div><div class="cell code icon-scrolling" id="cell-IPpkmmMplHTy" role="region" aria-label="Cell 14: Code cell: " style="opacity: 1;" tabindex="-1"><div class="cell-tag-editor sticky"></div><div class="cell-toolbar sticky"></div><div class="main-content" elevation="0"><div class="cell-contents"><div class="cell-mask"></div><span class="imported-info-area"></span><div class="codecell-input-output">
      <div class="inputarea horizontal layout code">
        <div class="cell-gutter">
          <!-- Bounding range for vertical scrolling of icons -->
          <div class="cell-execution-container">
            <colab-run-button title="Run cell (Ctrl+Enter)
cell executed since last change

executed by BHIMRAO PAWAR
2:42 PM (37 minutes ago)
executed in 0.009s" role="button" aria-label="Run cell"><template shadowrootmode="open"><!----> <div class="cell-execution">
      <div class="execution-count"><!--?lit$568155653$-->[15]</div>
      <div class="cell-execution-indicator"> <!--?lit$568155653$-->
<svg xmlns="http://www.w3.org/2000/svg" viewBox="0 0 24 24">
  <!--?lit$568155653$-->
  <mask id="playSymbolMask">
    <rect width="100%" height="100%" fill="white"></rect>
    <polygon points="10,8 17,12 10,16" fill="black"></polygon>
  </mask>
  <circle cx="12" cy="12" r="7.8" mask="url(#playSymbolMask)" id="filledCircle"></circle>
</svg> </div>
      <!--?lit$568155653$--><div id="status">
      <md-icon aria-hidden="true"><template shadowrootmode="open"><!----><slot></slot></template><!--?lit$568155653$--><svg viewBox="0 0 24 24"><!--?lit$568155653$--><path d="M9 16.17L4.83 12l-1.42 1.41L9 19 21 7l-1.41-1.41z"></path></svg></md-icon>
      <div><!--?lit$568155653$-->0s</div>
    </div>
    </div></template></colab-run-button>
          </div>
        </div>
      <div class="editor flex lazy-editor" style=""><pre class="lazy-virtualized" style="font-size: 14px; line-height: 19px;"><pre class="lazy-gutter"></pre><pre class="monaco-colorized colab colab colab colab colab colab colab colab colab colab" data-lang="notebook-python"><span><span class="mtk1">X_train&nbsp;=&nbsp;np.array(X_train)</span></span><br><span><span class="mtk1">X_test&nbsp;=&nbsp;np.array(X_test)</span></span><br><span><span class="mtk1">y_train&nbsp;=&nbsp;np.array(y_train)</span></span><br><span><span class="mtk1">y_test&nbsp;=&nbsp;np.array(y_test)</span></span><br></pre><colab-read-only-cell-placeholder style="display: none;"><template shadowrootmode="open"><!----><div><!--?lit$568155653$-->Start coding or <span role="button" class="link" tabindex="0">generate</span> with AI.</div></template></colab-read-only-cell-placeholder></pre></div><colab-form class="formview vertical layout flex"><div class="widget-area vertical layout"></div></colab-form></div>
    <div class="output"><!----> <div class="output-header"> </div>
        <div class="output-content" style="display: none;">
          <div class="output-info"><colab-output-info title="Clear output

executed by BHIMRAO PAWAR
2:42 PM (0 minutes ago)
executed in 0.009s" hovering=""><template shadowrootmode="open"><!----> <md-icon class="collaborator output" alt="Execution output" aria-hidden="true"><template shadowrootmode="open"><!----><slot></slot></template><!--?lit$568155653$-->output</md-icon>
      <!--?lit$568155653$--> <mwc-icon-button icon="cancel" command="clear-focused-or-selected-outputs" alt="Clear output"><template shadowrootmode="open"><!----><button class="mdc-icon-button mdc-icon-button--display-flex" aria-label="cancel"><!--?lit$568155653$-->
    <!--?lit$568155653$--><i class="material-icons"><!--?lit$568155653$-->cancel</i>
    <span><slot></slot></span>
  </button></template>
          </mwc-icon-button><!--?--></template></colab-output-info></div>
          <div class="output-iframe-container">
            <div class="output-iframe-sizer" style="min-height: 0px;"> <div><div><colab-static-output-renderer role="group" tabindex="0"><div></div><div></div></colab-static-output-renderer></div></div></div>
          </div>
        </div></div></div><colab-cell-next-steps><template shadowrootmode="open"><!----></template></colab-cell-next-steps></div></div><div class="add-cell">
      <div class="add-cell-buttons">
        <md-outlined-button class="add-code add-button" aria-label="Add code cell
Ctrl+M B" title="Add code cell
Ctrl+M B" role="presentation" value="" has-icon=""><template shadowrootmode="open" shadowrootdelegatesfocus><!---->
      <!--?lit$568155653$--><div class="outline"></div>
      <div class="background"></div>
      <md-focus-ring part="focus-ring" for="button" aria-hidden="true"><template shadowrootmode="open"><!----></template></md-focus-ring>
      <md-ripple for="button" aria-hidden="true"><template shadowrootmode="open"><!----><div class="surface"></div></template></md-ripple>
      <!--?lit$568155653$--><button id="button" class="button" aria-label="Add code cell
Ctrl+M B">
      <!--?lit$568155653$-->
      <span class="touch"></span>
      <!--?lit$568155653$--><slot name="icon"></slot>
      <span class="label"><slot></slot></span>
      <!--?lit$568155653$-->
    
    </button>
    </template>
          <md-icon slot="icon" aria-hidden="true"><template shadowrootmode="open"><!----><slot></slot></template>add</md-icon>
          <!--?lit$568155653$-->Code
        </md-outlined-button>
        <md-outlined-button class="add-text add-button" aria-label="Add text cell" title="Add text cell" role="presentation" value="" has-icon=""><template shadowrootmode="open" shadowrootdelegatesfocus><!---->
      <!--?lit$568155653$--><div class="outline"></div>
      <div class="background"></div>
      <md-focus-ring part="focus-ring" for="button" aria-hidden="true"><template shadowrootmode="open"><!----></template></md-focus-ring>
      <md-ripple for="button" aria-hidden="true"><template shadowrootmode="open"><!----><div class="surface   "></div></template></md-ripple>
      <!--?lit$568155653$--><button id="button" class="button" aria-label="Add text cell">
      <!--?lit$568155653$-->
      <span class="touch"></span>
      <!--?lit$568155653$--><slot name="icon"></slot>
      <span class="label"><slot></slot></span>
      <!--?lit$568155653$-->
    
    </button>
    </template>
          <md-icon slot="icon" aria-hidden="true"><template shadowrootmode="open"><!----><slot></slot></template>add</md-icon>
          <!--?lit$568155653$-->Text
        </md-outlined-button>
        <!--?lit$568155653$-->
      </div><hr>
    </div></div><div class="cell code icon-scrolling code-has-output" id="cell-EJrOmaLGlrDA" role="region" aria-label="Cell 15: Code cell: " style="opacity: 1;" tabindex="-1"><div class="cell-tag-editor sticky"></div><div class="cell-toolbar sticky"></div><div class="main-content" elevation="0"><div class="cell-contents"><div class="cell-mask"></div><span class="imported-info-area"></span><div class="codecell-input-output">
      <div class="inputarea horizontal layout code">
        <div class="cell-gutter">
          <!-- Bounding range for vertical scrolling of icons -->
          <div class="cell-execution-container">
            <colab-run-button title="Run cell (Ctrl+Enter)
cell executed since last change

executed by BHIMRAO PAWAR
2:51 PM (27 minutes ago)
executed in 564.799s" role="button" aria-label="Run cell"><template shadowrootmode="open"><!----> <div class="cell-execution">
      <div class="execution-count"><!--?lit$568155653$-->[16]</div>
      <div class="cell-execution-indicator"> <!--?lit$568155653$-->
<svg xmlns="http://www.w3.org/2000/svg" viewBox="0 0 24 24">
  <!--?lit$568155653$-->
  <mask id="playSymbolMask">
    <rect width="100%" height="100%" fill="white"></rect>
    <polygon points="10,8 17,12 10,16" fill="black"></polygon>
  </mask>
  <circle cx="12" cy="12" r="7.8" mask="url(#playSymbolMask)" id="filledCircle"></circle>
</svg> </div>
      <!--?lit$568155653$--><div id="status">
      <md-icon aria-hidden="true"><template shadowrootmode="open"><!----><slot></slot></template><!--?lit$568155653$--><svg viewBox="0 0 24 24"><!--?lit$568155653$--><path d="M9 16.17L4.83 12l-1.42 1.41L9 19 21 7l-1.41-1.41z"></path></svg></md-icon>
      <div><!--?lit$568155653$-->9m</div>
    </div>
    </div></template></colab-run-button>
          </div>
        </div>
      <div class="editor flex lazy-editor" style=""><pre class="lazy-virtualized" style="font-size: 14px; line-height: 19px;"><pre class="lazy-gutter"></pre><pre class="monaco-colorized colab colab colab colab colab colab colab colab colab" data-lang="notebook-python"><span><span class="mtk1">batch_size=</span><span class="mtk12">32</span></span><br><span><span class="mtk1">model.fit(X_train,&nbsp;y_train,&nbsp;epochs=</span><span class="mtk12">5</span><span class="mtk1">,&nbsp;batch_size=batch_size,&nbsp;verbose&nbsp;=</span><span class="mtk12">1</span><span class="mtk1">)</span></span><br></pre><colab-read-only-cell-placeholder style="display: none;"><template shadowrootmode="open"><!----><div><!--?lit$568155653$-->Start coding or <span role="button" class="link" tabindex="0">generate</span> with AI.</div></template></colab-read-only-cell-placeholder></pre></div><colab-form class="formview vertical layout flex"><div class="widget-area vertical layout"></div></colab-form></div>
    <div class="output"><!----> <div class="output-header"> </div>
        <div class="output-content" style="">
          <div class="output-info"><colab-output-info title="Clear output

executed by BHIMRAO PAWAR
2:51 PM (0 minutes ago)
executed in 564.799s" hovering=""><template shadowrootmode="open"><!----> <md-icon class="collaborator output" alt="Execution output" aria-hidden="true"><template shadowrootmode="open"><!----><slot></slot></template><!--?lit$568155653$-->output</md-icon>
      <!--?lit$568155653$--> <mwc-icon-button icon="cancel" command="clear-focused-or-selected-outputs" alt="Clear output"><template shadowrootmode="open"><!----><button class="mdc-icon-button mdc-icon-button--display-flex" aria-label="cancel"><!--?lit$568155653$-->
    <!--?lit$568155653$--><i class="material-icons"><!--?lit$568155653$-->cancel</i>
    <span><slot></slot></span>
  </button></template>
          </mwc-icon-button><!--?--></template></colab-output-info></div>
          <div class="output-iframe-container">
            <div class="output-iframe-sizer" style="min-height: 0px;"> <div><div><colab-static-output-renderer role="group" tabindex="0"><div><div class="stream output-id-355 output_text"><pre>Epoch 1/5
69/69 [==============================] - 127s 2s/step - loss: 0.3870 - accuracy: 0.8667
Epoch 2/5
69/69 [==============================] - 101s 1s/step - loss: 0.3020 - accuracy: 0.8830
Epoch 3/5
69/69 [==============================] - 98s 1s/step - loss: 0.2266 - accuracy: 0.9048
Epoch 4/5
69/69 [==============================] - 101s 1s/step - loss: 0.2096 - accuracy: 0.9156
Epoch 5/5
69/69 [==============================] - 99s 1s/step - loss: 0.1970 - accuracy: 0.9229
</pre></div><div class="execute_result output-id-356 output_text"><pre>&lt;keras.src.callbacks.History at 0x79b275fb4a90&gt;</pre></div></div><div></div></colab-static-output-renderer></div></div></div>
          </div>
        </div></div></div><colab-cell-next-steps><template shadowrootmode="open"><!----></template></colab-cell-next-steps></div></div><div class="add-cell">
      <div class="add-cell-buttons">
        <md-outlined-button class="add-code add-button" aria-label="Add code cell
Ctrl+M B" title="Add code cell
Ctrl+M B" role="presentation" value="" has-icon=""><template shadowrootmode="open" shadowrootdelegatesfocus><!---->
      <!--?lit$568155653$--><div class="outline"></div>
      <div class="background"></div>
      <md-focus-ring part="focus-ring" for="button" aria-hidden="true"><template shadowrootmode="open"><!----></template></md-focus-ring>
      <md-ripple for="button" aria-hidden="true"><template shadowrootmode="open"><!----><div class="surface"></div></template></md-ripple>
      <!--?lit$568155653$--><button id="button" class="button" aria-label="Add code cell
Ctrl+M B">
      <!--?lit$568155653$-->
      <span class="touch"></span>
      <!--?lit$568155653$--><slot name="icon"></slot>
      <span class="label"><slot></slot></span>
      <!--?lit$568155653$-->
    
    </button>
    </template>
          <md-icon slot="icon" aria-hidden="true"><template shadowrootmode="open"><!----><slot></slot></template>add</md-icon>
          <!--?lit$568155653$-->Code
        </md-outlined-button>
        <md-outlined-button class="add-text add-button" aria-label="Add text cell" title="Add text cell" role="presentation" value="" has-icon=""><template shadowrootmode="open" shadowrootdelegatesfocus><!---->
      <!--?lit$568155653$--><div class="outline"></div>
      <div class="background"></div>
      <md-focus-ring part="focus-ring" for="button" aria-hidden="true"><template shadowrootmode="open"><!----></template></md-focus-ring>
      <md-ripple for="button" aria-hidden="true"><template shadowrootmode="open"><!----><div class="surface   "></div></template></md-ripple>
      <!--?lit$568155653$--><button id="button" class="button" aria-label="Add text cell">
      <!--?lit$568155653$-->
      <span class="touch"></span>
      <!--?lit$568155653$--><slot name="icon"></slot>
      <span class="label"><slot></slot></span>
      <!--?lit$568155653$-->
    
    </button>
    </template>
          <md-icon slot="icon" aria-hidden="true"><template shadowrootmode="open"><!----><slot></slot></template>add</md-icon>
          <!--?lit$568155653$-->Text
        </md-outlined-button>
        <!--?lit$568155653$-->
      </div><hr>
    </div></div><div class="cell code icon-scrolling code-has-output" id="cell-vcZ66gZOYRKJ" role="region" aria-label="Cell 16: Code cell: " style="opacity: 1;" tabindex="-1"><div class="cell-tag-editor sticky"></div><div class="cell-toolbar sticky"></div><div class="main-content" elevation="0"><div class="cell-contents"><div class="cell-mask"></div><span class="imported-info-area"></span><div class="codecell-input-output">
      <div class="inputarea horizontal layout code">
        <div class="cell-gutter">
          <!-- Bounding range for vertical scrolling of icons -->
          <div class="cell-execution-container">
            <colab-run-button title="Run cell (Ctrl+Enter)
cell executed since last change

executed by BHIMRAO PAWAR
3:17 PM (2 minutes ago)
executed in 6.107s" role="button" aria-label="Run cell"><template shadowrootmode="open"><!----> <div class="cell-execution">
      <div class="execution-count"><!--?lit$568155653$-->[22]</div>
      <div class="cell-execution-indicator"> <!--?lit$568155653$-->
<svg xmlns="http://www.w3.org/2000/svg" viewBox="0 0 24 24">
  <!--?lit$568155653$-->
  <mask id="playSymbolMask">
    <rect width="100%" height="100%" fill="white"></rect>
    <polygon points="10,8 17,12 10,16" fill="black"></polygon>
  </mask>
  <circle cx="12" cy="12" r="7.8" mask="url(#playSymbolMask)" id="filledCircle"></circle>
</svg> </div>
      <!--?lit$568155653$--><div id="status">
      <md-icon aria-hidden="true"><template shadowrootmode="open"><!----><slot></slot></template><!--?lit$568155653$--><svg viewBox="0 0 24 24"><!--?lit$568155653$--><path d="M9 16.17L4.83 12l-1.42 1.41L9 19 21 7l-1.41-1.41z"></path></svg></md-icon>
      <div><!--?lit$568155653$-->6s</div>
    </div>
    </div></template></colab-run-button>
          </div>
        </div>
      <div class="editor flex lazy-editor" style=""><div class="editor flex monaco" data-keybinding-context="208" data-mode-id="notebook-python" style="height: 29px; --vscode-editorCodeLens-lineHeight: 16px; --vscode-editorCodeLens-fontSize: 12px; --vscode-editorCodeLens-fontFeatureSettings: &quot;liga&quot; on, &quot;calt&quot; on;"><div class="monaco-editor no-user-select  showUnused showDeprecated vs" role="code" data-uri="inmemory://model/26" style="width: 1411px; height: 29px;"><div data-mprt="3" class="overflow-guard" style="width: 1411px; height: 29px;"><div class="margin" role="presentation" aria-hidden="true" style="position: absolute; contain: strict; will-change: unset; top: 0px; height: 29px; width: 6px;"><div class="glyph-margin" style="left: 0px; width: 0px; height: 29px;"></div><div class="margin-view-zones" role="presentation" aria-hidden="true" style="position: absolute;"></div><div class="margin-view-overlays" role="presentation" aria-hidden="true" style="position: absolute; font-family: monospace, Consolas, &quot;Courier New&quot;, monospace; font-weight: normal; font-size: 14px; font-feature-settings: &quot;liga&quot;, &quot;calt&quot;; font-variation-settings: normal; line-height: 19px; letter-spacing: 0px; width: 6px; height: 29px;"><div style="position:absolute;top:0px;width:100%;height:19px;"><div class="current-line current-line-margin-both" style="width:6px; height:19px;"></div></div></div><div class="glyph-margin-widgets" style="position: absolute; top: 0px;"></div></div><div class="monaco-scrollable-element editor-scrollable vs" role="presentation" data-mprt="5" style="position: absolute; overflow: hidden; left: 6px; width: 1405px; height: 29px;"><div class="lines-content monaco-editor-background" style="position: absolute; overflow: hidden; width: 1e+06px; height: 29px; contain: strict; will-change: unset; top: 0px; left: 0px;"><div class="view-overlays" role="presentation" aria-hidden="true" style="position: absolute; font-family: monospace, Consolas, &quot;Courier New&quot;, monospace; font-weight: normal; font-size: 14px; font-feature-settings: &quot;liga&quot;, &quot;calt&quot;; font-variation-settings: normal; line-height: 19px; letter-spacing: 0px; height: 0px; width: 1405px;"><div style="position:absolute;top:0px;width:100%;height:19px;"><div class="current-line" style="width:1405px; height:19px;"></div></div></div><div role="presentation" aria-hidden="true" class="view-rulers"></div><div class="view-zones" role="presentation" aria-hidden="true" style="position: absolute;"></div><div class="view-lines monaco-mouse-cursor-text" role="presentation" aria-hidden="true" data-mprt="7" style="position: absolute; font-family: monospace, Consolas, &quot;Courier New&quot;, monospace; font-weight: normal; font-size: 14px; font-feature-settings: &quot;liga&quot;, &quot;calt&quot;; font-variation-settings: normal; line-height: 19px; letter-spacing: 0px; width: 1405px; height: 29px;"><div style="top:0px;height:19px;" class="view-line"><span><span class="mtk1">model.evaluate</span><span class="mtk1 bracket-highlighting-0">(</span><span class="mtk1">X_test,&nbsp;y_test</span><span class="mtk1 bracket-highlighting-0">)</span></span></div></div><div data-mprt="1" class="contentWidgets" style="position: absolute; top: 0px;"><div class="lightBulbWidget codicon codicon-light-bulb" widgetid="LightBulbWidget" title="Show Code Actions (Ctrl+.)" style="position: absolute; display: none; visibility: hidden; max-width: 1405px;"></div></div><div role="presentation" aria-hidden="true" class="cursors-layer cursor-line-style cursor-solid"><div class="cursor monaco-mouse-cursor-text " style="height: 19px; top: 0px; left: 108px; font-family: monospace, Consolas, &quot;Courier New&quot;, monospace; font-weight: normal; font-size: 14px; font-feature-settings: &quot;liga&quot;, &quot;calt&quot;; font-variation-settings: normal; line-height: 19px; letter-spacing: 0px; display: block; visibility: hidden; padding-left: 0px; width: 1.6px;"></div></div></div><div role="presentation" aria-hidden="true" class="invisible scrollbar horizontal" style="position: absolute; width: 1391px; height: 10px; left: 0px; bottom: 0px;"><div class="slider" style="position: absolute; top: 0px; left: 0px; height: 10px; transform: translate3d(0px, 0px, 0px); contain: strict; will-change: unset; width: 1391px;"></div></div><canvas class="decorationsOverviewRuler" aria-hidden="true" width="17" height="36" style="position: absolute; transform: translate3d(0px, 0px, 0px); contain: strict; top: 0px; right: 0px; width: 14px; height: 29px; will-change: unset; display: block;"></canvas><div role="presentation" aria-hidden="true" class="invisible scrollbar vertical" style="position: absolute; width: 14px; height: 29px; right: 0px; top: 0px;"><div class="slider" style="position: absolute; top: 0px; left: 0px; width: 14px; transform: translate3d(0px, 0px, 0px); contain: strict; will-change: unset; height: 29px;"></div></div></div><div role="presentation" aria-hidden="true" style="width: 1411px;"></div><textarea data-mprt="6" class="inputarea monaco-mouse-cursor-text" wrap="on" autocorrect="off" autocapitalize="off" autocomplete="off" spellcheck="false" aria-label="Editor content;Press Alt+F1 for Accessibility Options." tabindex="0" role="textbox" aria-roledescription="editor" aria-multiline="true" aria-haspopup="false" aria-autocomplete="both" style="tab-size: 15.3984px; font-family: monospace, Consolas, &quot;Courier New&quot;, monospace; font-weight: normal; font-size: 14px; font-feature-settings: &quot;liga&quot;, &quot;calt&quot;; font-variation-settings: normal; line-height: 19px; letter-spacing: 0px; top: 0px; left: 6px; width: 1411px; height: 1px;"></textarea><div class="monaco-editor-background textAreaCover" style="position: absolute; top: 0px; left: 0px; width: 0px; height: 0px;"></div><div data-mprt="4" class="overlayWidgets" style="width: 1411px;"></div><div data-mprt="8" class="minimap slider-mouseover" role="presentation" aria-hidden="true" style="position: absolute; left: 0px; width: 0px; height: 29px;"><div class="minimap-shadow-hidden" style="height: 29px;"></div><canvas width="0" height="36" style="position: absolute; left: 0px; width: 0px; height: 29px;"></canvas><canvas class="minimap-decorations-layer" width="0" height="36" style="position: absolute; left: 0px; width: 0px; height: 29px;"></canvas><div class="minimap-slider" style="position: absolute; transform: translate3d(0px, 0px, 0px); contain: strict; width: 0px; will-change: unset;"><div class="minimap-slider-horizontal" style="position: absolute; width: 0px; height: 0px;"></div></div></div><div role="presentation" aria-hidden="true" class="blockDecorations-container"></div></div><div data-mprt="2" class="overflowingContentWidgets" style="display: none;"><div widgetid="editor.contrib.resizableContentHoverWidget" style="position: fixed; height: 51px; width: 225px; z-index: 50; display: none; visibility: hidden; max-width: 1536px; top: 374px; left: 107.4px;"><div class="monaco-sash vertical" style="left: 223px;"></div><div class="monaco-sash vertical disabled" style="left: -2px;"></div><div class="monaco-sash orthogonal-edge-north horizontal" style="top: -2px;"><div class="orthogonal-drag-handle end"></div></div><div class="monaco-sash orthogonal-edge-south horizontal disabled" style="top: 49px;"><div class="orthogonal-drag-handle end"></div></div><div class="monaco-hover hidden" role="tooltip" style="width: 225px; height: 51px;" tabindex="0"><div class="monaco-scrollable-element " role="presentation" style="position: relative; overflow: hidden;"><div class="monaco-hover-content" style="overflow: hidden; font-size: 14px; line-height: 1.35714; max-width: 931.26px; max-height: 250px; width: 225px; height: 51px;"><div class="hover-row"><div class="marker hover-contents" style="font-family: monospace, Consolas, &quot;Courier New&quot;, monospace; font-weight: normal; font-size: 14px; font-feature-settings: &quot;liga&quot;, &quot;calt&quot;; font-variation-settings: normal; line-height: 19px; letter-spacing: 0px;"><span style="white-space: pre-wrap;">SyntaxError: invalid syntax</span></div></div><div class="hover-row status-bar"><div class="actions"><div class="action-container" tabindex="0"><a class="action" role="button"><span>View Problem (Alt+F8)</span></a></div><div>Checking for quick fixes...</div></div></div></div><div role="presentation" aria-hidden="true" class="invisible scrollbar horizontal" style="position: absolute; width: 215px; height: 10px; left: 0px; bottom: 0px;"><div class="slider" style="position: absolute; top: 0px; left: 0px; height: 10px; transform: translate3d(0px, 0px, 0px); contain: strict; width: 215px;"></div></div><div role="presentation" aria-hidden="true" class="invisible scrollbar vertical" style="position: absolute; width: 10px; height: 51px; right: 0px; top: 0px;"><div class="slider" style="position: absolute; top: 0px; left: 0px; width: 10px; transform: translate3d(0px, 0px, 0px); contain: strict; height: 51px;"></div></div><div class="shadow"></div><div class="shadow"></div><div class="shadow"></div></div></div></div><div class="editor-widget suggest-widget" widgetid="editor.widget.suggestWidget" style="position: fixed; display: none; visibility: hidden; max-width: 1536px; height: 21px; width: 430px; top: 683.6px; left: 276.4px;"><div class="monaco-sash vertical" style="left: 428px;"></div><div class="monaco-sash vertical disabled" style="left: -2px;"></div><div class="monaco-sash orthogonal-edge-north horizontal disabled" style="top: -2px;"><div class="orthogonal-drag-handle end"></div></div><div class="monaco-sash orthogonal-edge-south horizontal" style="top: 19px;"><div class="orthogonal-drag-handle end"></div></div><div class="message" aria-hidden="true" style="display: none;"></div><div class="tree" style="height: 21px; display: none;" aria-hidden="true"><div class="monaco-list list_id_139 selection-none" role="listbox" aria-label="Suggest" tabindex="0"><div class="monaco-scrollable-element " role="presentation" style="position: relative; overflow: hidden;"><div class="monaco-list-rows" style="transform: translate3d(0px, 0px, 0px); overflow: hidden; contain: strict; height: 0px; left: 0px; top: 0px;"></div><div role="presentation" aria-hidden="true" class="invisible scrollbar horizontal" style="position: absolute; width: 0px; height: 10px; left: 0px; bottom: 0px;"><div class="slider" style="position: absolute; top: 0px; left: 0px; height: 10px; transform: translate3d(0px, 0px, 0px); contain: strict; width: 0px;"></div></div><div role="presentation" aria-hidden="true" class="invisible scrollbar vertical" style="position: absolute; width: 10px; height: 21px; right: 0px; top: 0px;"><div class="slider" style="position: absolute; top: 0px; left: 0px; width: 10px; transform: translate3d(0px, 0px, 0px); contain: strict; height: 21px;"></div></div></div><style type="text/css" media="screen">.monaco-list.list_id_139:focus .monaco-list-row.focused { background-color: var(--vscode-list-focusBackground); }
.monaco-list.list_id_139:focus .monaco-list-row.focused:hover { background-color: var(--vscode-list-focusBackground); }
.monaco-list.list_id_139:focus .monaco-list-row.focused { color: var(--vscode-list-focusForeground); }
.monaco-list.list_id_139:focus .monaco-list-row.selected { background-color: var(--vscode-list-activeSelectionBackground); }
.monaco-list.list_id_139:focus .monaco-list-row.selected:hover { background-color: var(--vscode-list-activeSelectionBackground); }
.monaco-list.list_id_139:focus .monaco-list-row.selected { color: var(--vscode-list-activeSelectionForeground); }
.monaco-list.list_id_139:focus .monaco-list-row.selected .codicon { color: var(--vscode-list-activeSelectionIconForeground); }

				.monaco-drag-image,
				.monaco-list.list_id_139:focus .monaco-list-row.selected.focused { background-color: var(--vscode-list-activeSelectionBackground); }
			

				.monaco-drag-image,
				.monaco-list.list_id_139:focus .monaco-list-row.selected.focused { color: var(--vscode-list-activeSelectionForeground); }
			
.monaco-list.list_id_139 .monaco-list-row.focused .codicon { color:  var(--vscode-list-inactiveSelectionIconForeground); }
.monaco-list.list_id_139 .monaco-list-row.focused { background-color:  var(--vscode-editorSuggestWidget-selectedBackground); }
.monaco-list.list_id_139 .monaco-list-row.focused:hover { background-color:  var(--vscode-editorSuggestWidget-selectedBackground); }
.monaco-list.list_id_139 .monaco-list-row.selected { background-color:  var(--vscode-list-inactiveSelectionBackground); }
.monaco-list.list_id_139 .monaco-list-row.selected:hover { background-color:  var(--vscode-list-inactiveSelectionBackground); }
.monaco-list.list_id_139 .monaco-list-row.selected { color: var(--vscode-list-inactiveSelectionForeground); }
.monaco-list.list_id_139:not(.drop-target):not(.dragging) .monaco-list-row:hover:not(.selected):not(.focused) { background-color: var(--vscode-list-hoverBackground); }
.monaco-list.list_id_139:not(.drop-target):not(.dragging) .monaco-list-row:hover:not(.selected):not(.focused) { color:  var(--vscode-list-hoverForeground); }
.monaco-list.list_id_139:focus .monaco-list-row.focused.selected { outline: 1px solid var(--vscode-list-focusAndSelectionOutline, var(--vscode-contrastActiveBorder, var(--vscode-list-focusOutline))); outline-offset: -1px;}

				.monaco-drag-image,
				.monaco-list.list_id_139:focus .monaco-list-row.focused { outline: 1px solid var(--vscode-list-focusOutline); outline-offset: -1px; }
				.monaco-workbench.context-menu-visible .monaco-list.list_id_139.last-focused .monaco-list-row.focused { outline: 1px solid var(--vscode-list-focusOutline); outline-offset: -1px; }
			
.monaco-list.list_id_139 .monaco-list-row.focused.selected { outline: 1px dotted var(--vscode-contrastActiveBorder, var(--vscode-contrastActiveBorder)); outline-offset: -1px; }
.monaco-list.list_id_139 .monaco-list-row.selected { outline: 1px dotted var(--vscode-contrastActiveBorder); outline-offset: -1px; }
.monaco-list.list_id_139 .monaco-list-row.focused { outline: 1px dotted var(--vscode-contrastActiveBorder); outline-offset: -1px; }
.monaco-list.list_id_139 .monaco-list-row:hover { outline: 1px dashed var(--vscode-contrastActiveBorder); outline-offset: -1px; }

				.monaco-list.list_id_139.drop-target,
				.monaco-list.list_id_139 .monaco-list-rows.drop-target,
				.monaco-list.list_id_139 .monaco-list-row.drop-target { background-color: var(--vscode-list-dropBackground) !important; color: inherit !important; }
			

				.monaco-table > .monaco-split-view2,
				.monaco-table > .monaco-split-view2 .monaco-sash.vertical::before,
				.monaco-workbench:not(.reduce-motion) .monaco-table:hover > .monaco-split-view2,
				.monaco-workbench:not(.reduce-motion) .monaco-table:hover > .monaco-split-view2 .monaco-sash.vertical::before {
					border-color: var(--vscode-tree-tableColumnsBorder);
				}

				.monaco-workbench:not(.reduce-motion) .monaco-table > .monaco-split-view2,
				.monaco-workbench:not(.reduce-motion) .monaco-table > .monaco-split-view2 .monaco-sash.vertical::before {
					border-color: transparent;
				}
			

				.monaco-table .monaco-list-row[data-parity=odd]:not(.focused):not(.selected):not(:hover) .monaco-table-tr,
				.monaco-table .monaco-list:not(:focus) .monaco-list-row[data-parity=odd].focused:not(.selected):not(:hover) .monaco-table-tr,
				.monaco-table .monaco-list:not(.focused) .monaco-list-row[data-parity=odd].focused:not(.selected):not(:hover) .monaco-table-tr {
					background-color: var(--vscode-tree-tableOddRowsBackground);
				}
			</style></div></div><div class="suggest-status-bar" style="height: 19px; display: none;" aria-hidden="true"><div class="monaco-action-bar animated left"><ul class="actions-container" role="presentation"><li class="action-item menu-entry" role="presentation" title="Insert (Enter)"><a class="action-label" role="button" aria-label="Insert (Enter)" aria-checked="" tabindex="0">Insert (⏎)</a></li></ul></div><div class="monaco-action-bar animated right"><ul class="actions-container" role="presentation"><li class="action-item menu-entry" role="presentation" title="show more (Ctrl+Space)"><a class="action-label" role="button" aria-label="show more (Ctrl+Space)" aria-checked="" tabindex="0">show more (Ctrl+Space)</a></li></ul></div></div></div></div><div class=".in-cell-overflowing"><div widgetid="editor.contrib.quickInputWidget" style="position: absolute; top: 0px; right: 50%;"></div></div></div></div></div><colab-form class="formview vertical layout flex"><div class="widget-area vertical layout"></div></colab-form></div>
    <div class="output"><!----> <div class="output-header"> </div>
        <div class="output-content" style="">
          <div class="output-info"><colab-output-info title="Clear output

executed by BHIMRAO PAWAR
3:17 PM (0 minutes ago)
executed in 6.107s" hovering=""><template shadowrootmode="open"><!----> <md-icon class="collaborator output" alt="Execution output" aria-hidden="true"><template shadowrootmode="open"><!----><slot></slot></template><!--?lit$568155653$-->output</md-icon>
      <!--?lit$568155653$--> <mwc-icon-button icon="cancel" command="clear-focused-or-selected-outputs" alt="Clear output"><template shadowrootmode="open"><!----><button class="mdc-icon-button mdc-icon-button--display-flex" aria-label="cancel"><!--?lit$568155653$-->
    <!--?lit$568155653$--><i class="material-icons"><!--?lit$568155653$-->cancel</i>
    <span><slot></slot></span>
  </button></template>
          </mwc-icon-button><!--?--></template></colab-output-info></div>
          <div class="output-iframe-container">
            <div class="output-iframe-sizer" style="min-height: 0px;"> <div><div><colab-static-output-renderer role="group" tabindex="0"><div><div class="stream output-id-31 output_text"><pre>30/30 [==============================] - 6s 179ms/step - loss: 0.2542 - accuracy: 0.9005
</pre></div><div class="execute_result output-id-32 output_text"><pre>[0.25415608286857605, 0.9005290865898132]</pre></div></div><div></div></colab-static-output-renderer></div></div></div>
          </div>
        </div></div></div><colab-cell-next-steps><template shadowrootmode="open"><!----></template></colab-cell-next-steps></div></div><div class="add-cell">
      <div class="add-cell-buttons">
        <md-outlined-button class="add-code add-button" aria-label="Add code cell
Ctrl+M B" title="Add code cell
Ctrl+M B" role="presentation" value="" has-icon=""><template shadowrootmode="open" shadowrootdelegatesfocus><!---->
      <!--?lit$568155653$--><div class="outline"></div>
      <div class="background"></div>
      <md-focus-ring part="focus-ring" for="button" aria-hidden="true"><template shadowrootmode="open"><!----></template></md-focus-ring>
      <md-ripple for="button" aria-hidden="true"><template shadowrootmode="open"><!----><div class="surface   "></div></template></md-ripple>
      <!--?lit$568155653$--><button id="button" class="button" aria-label="Add code cell
Ctrl+M B">
      <!--?lit$568155653$-->
      <span class="touch"></span>
      <!--?lit$568155653$--><slot name="icon"></slot>
      <span class="label"><slot></slot></span>
      <!--?lit$568155653$-->
    
    </button>
    </template>
          <md-icon slot="icon" aria-hidden="true"><template shadowrootmode="open"><!----><slot></slot></template>add</md-icon>
          <!--?lit$568155653$-->Code
        </md-outlined-button>
        <md-outlined-button class="add-text add-button" aria-label="Add text cell" title="Add text cell" role="presentation" value="" has-icon=""><template shadowrootmode="open" shadowrootdelegatesfocus><!---->
      <!--?lit$568155653$--><div class="outline"></div>
      <div class="background"></div>
      <md-focus-ring part="focus-ring" for="button" aria-hidden="true"><template shadowrootmode="open"><!----></template></md-focus-ring>
      <md-ripple for="button" aria-hidden="true"><template shadowrootmode="open"><!----><div class="surface   "></div></template></md-ripple>
      <!--?lit$568155653$--><button id="button" class="button" aria-label="Add text cell">
      <!--?lit$568155653$-->
      <span class="touch"></span>
      <!--?lit$568155653$--><slot name="icon"></slot>
      <span class="label"><slot></slot></span>
      <!--?lit$568155653$-->
    
    </button>
    </template>
          <md-icon slot="icon" aria-hidden="true"><template shadowrootmode="open"><!----><slot></slot></template>add</md-icon>
          <!--?lit$568155653$-->Text
        </md-outlined-button>
        <!--?lit$568155653$-->
      </div><hr>
    </div></div></div>
              </div>
            </div>
          <div class="sidebar" style="display: none;"></div></div>
          <!--?lit$568155653$--> <div class="footer-links">
      <a target="_blank" href="https://colab.research.google.com/signup?utm_source=footer&amp;utm_medium=link&amp;utm_campaign=footer_links">
        <!--?lit$568155653$-->Colab paid products
      </a>
      -
      <a href="https://colab.research.google.com/cancel-subscription" target="_blank">
        <!--?lit$568155653$-->Cancel contracts here
      </a>
    </div>
        </div>
      </colab-shaded-scroller>
      <div class="notebook-scroll-shadow" style=""></div>
    </div></colab-tab></div>
  </div></colab-tab-pane>
      <colab-resizer style="height: 33.3%" class="sn-resize no-tabs"><div class="resizer-thumb"></div>
        <!--?lit$568155653$--><colab-tab-pane class="layout vertical grow no-tabs" align="horizontal"><!----> <div class="layout vertical grow">
    <div class="tab-pane-header layout horizontal noshrink">
      <paper-tabs selected="0" noink="" class="layout grow" scrollable="" role="tablist" dir="null" tabindex="0"><template shadowrootmode="open"><style scope="paper-tabs">:host {
  display: var(--layout_-_display);
        -ms-flex-align: var(--layout-center_-_-ms-flex-align); -webkit-align-items: var(--layout-center_-_-webkit-align-items); align-items: var(--layout-center_-_align-items);

        height: 48px;
        font-size: 14px;
        font-weight: 500;
        overflow: hidden;
        -moz-user-select: none;
        -ms-user-select: none;
        -webkit-user-select: none;
        user-select: none;

        
        -webkit-tap-highlight-color: rgba(0, 0, 0, 0);
        -webkit-tap-highlight-color: transparent;

        ;
}

:host([dir="rtl"]) {
  display: var(--layout-horizontal-reverse_-_display); -ms-flex-direction: var(--layout-horizontal-reverse_-_-ms-flex-direction); -webkit-flex-direction: var(--layout-horizontal-reverse_-_-webkit-flex-direction); flex-direction: var(--layout-horizontal-reverse_-_flex-direction);
}

#tabsContainer {
  position: relative;
        height: 100%;
        white-space: nowrap;
        overflow: hidden;
        -ms-flex: var(--layout-flex-auto_-_-ms-flex); -webkit-flex: var(--layout-flex-auto_-_-webkit-flex); flex: var(--layout-flex-auto_-_flex);
        ;
}

#tabsContent {
  height: 100%;
        -moz-flex-basis: auto;
        -ms-flex-basis: auto;
        flex-basis: auto;
        ;
}

#tabsContent.scrollable {
  position: absolute;
        white-space: nowrap;
}

#tabsContent:not(.scrollable), #tabsContent.scrollable.fit-container {
  display: var(--layout-horizontal_-_display); -ms-flex-direction: var(--layout-horizontal_-_-ms-flex-direction); -webkit-flex-direction: var(--layout-horizontal_-_-webkit-flex-direction); flex-direction: var(--layout-horizontal_-_flex-direction);
}

#tabsContent.scrollable.fit-container {
  min-width: 100%;
}

#tabsContent.scrollable.fit-container > ::slotted(*) {
  -ms-flex: 1 0 auto;
        -webkit-flex: 1 0 auto;
        flex: 1 0 auto;
}

.hidden {
  display: none;
}

.not-visible {
  opacity: 0;
        cursor: default;
}

paper-icon-button {
  width: 48px;
        height: 48px;
        padding: 12px;
        margin: 0 4px;
        background-color: var(--paper-icon-buttons_-_background-color); border-radius: var(--paper-icon-buttons_-_border-radius); color: var(--paper-icon-buttons_-_color); height: var(--paper-icon-buttons_-_height, 48px); padding: var(--paper-icon-buttons_-_padding, 12px); position: var(--paper-icon-buttons_-_position); width: var(--paper-icon-buttons_-_width, 48px)
}

paper-icon-button#left {
  left: var(--paper-icon-button-left_-_left); z-index: var(--paper-icon-button-left_-_z-index)
}

paper-icon-button#right {
  right: var(--paper-icon-button-right_-_right)
}

#selectionBar {
  position: absolute;
        height: 0;
        bottom: 0;
        left: 0;
        right: 0;
        border-bottom: 2px solid var(--paper-tabs-selection-bar-color, var(--paper-yellow-a100));
          -webkit-transform: scale(0);
        transform: scale(0);
          -webkit-transform-origin: left center;
        transform-origin: left center;
          transition: -webkit-transform;
        transition: transform;

        z-index: var(--paper-tabs-selection-bar_-_z-index);
}

#selectionBar.align-bottom {
  top: 0;
        bottom: auto;
}

#selectionBar.expand {
  transition-duration: 0.15s;
        transition-timing-function: cubic-bezier(0.4, 0.0, 1, 1);
}

#selectionBar.contract {
  transition-duration: 0.18s;
        transition-timing-function: cubic-bezier(0.0, 0.0, 0.2, 1);
}

#tabsContent > ::slotted(:not(#selectionBar)) {
  height: 100%;
}</style>
    

    <paper-icon-button id="left" icon="paper-tabs:chevron-left" class="not-visible" aria-hidden="true" role="button" aria-disabled="true" aria-label="" disabled="" style="pointer-events: none;" tabindex="-1"><template shadowrootmode="open"><style scope="paper-icon-button">:host {
  display: inline-block;
        position: relative;
        padding: 8px;
        outline: none;
        -webkit-user-select: none;
        -moz-user-select: none;
        -ms-user-select: none;
        user-select: none;
        cursor: pointer;
        z-index: 0;
        line-height: 1;

        width: 40px;
        height: 40px;

        
        -webkit-tap-highlight-color: rgba(0, 0, 0, 0);
        -webkit-tap-highlight-color: transparent;

        
        box-sizing: border-box !important;

        ;
}

:host #ink {
  color: var(--paper-icon-button-ink-color, var(--primary-text-color));
        opacity: 0.6;
}

:host([disabled]) {
  color: var(--paper-icon-button-disabled-text, var(--disabled-text-color));
        pointer-events: none;
        cursor: auto;

        ;
}

:host([hidden]) {
  display: none !important;
}

:host(:hover) {
  ;
}

iron-icon {
  --iron-icon-width: 100%;
        --iron-icon-height: 100%;
}</style><iron-icon id="icon" alt=""><template shadowrootmode="open"><svg viewBox="0 0 24 24" preserveAspectRatio="xMidYMid meet" focusable="false" style="pointer-events: none; display: block; width: 100%; height: 100%;"><g><path d="M15.41 7.41L14 6l-6 6 6 6 1.41-1.41L10.83 12z"></path></g></svg><style scope="iron-icon">:host {
  display: var(--layout-inline_-_display);
        -ms-flex-align: var(--layout-center-center_-_-ms-flex-align); -webkit-align-items: var(--layout-center-center_-_-webkit-align-items); align-items: var(--layout-center-center_-_align-items); -ms-flex-pack: var(--layout-center-center_-_-ms-flex-pack); -webkit-justify-content: var(--layout-center-center_-_-webkit-justify-content); justify-content: var(--layout-center-center_-_justify-content);
        position: relative;

        vertical-align: middle;

        fill: var(--iron-icon-fill-color, currentcolor);
        stroke: var(--iron-icon-stroke-color, none);

        width: var(--iron-icon-width, 24px);
        height: var(--iron-icon-height, 24px);
        ;
}

:host([hidden]) {
  display: none;
}</style>
    
</template></iron-icon></template></paper-icon-button>

    <div id="tabsContainer" style="touch-action: pan-y;">
      <div id="tabsContent" class="scrollable">
        <div id="selectionBar" class="" style="transform: translateX(0%) scaleX(0);"></div>
        <slot></slot>
      </div>
    </div>

    <paper-icon-button id="right" icon="paper-tabs:chevron-right" class="not-visible" aria-hidden="true" role="button" aria-disabled="true" aria-label="" disabled="" style="pointer-events: none;" tabindex="-1"><template shadowrootmode="open"><style scope="paper-icon-button">:host {
  display: inline-block;
        position: relative;
        padding: 8px;
        outline: none;
        -webkit-user-select: none;
        -moz-user-select: none;
        -ms-user-select: none;
        user-select: none;
        cursor: pointer;
        z-index: 0;
        line-height: 1;

        width: 40px;
        height: 40px;

        
        -webkit-tap-highlight-color: rgba(0, 0, 0, 0);
        -webkit-tap-highlight-color: transparent;

        
        box-sizing: border-box !important;

        ;
}

:host #ink {
  color: var(--paper-icon-button-ink-color, var(--primary-text-color));
        opacity: 0.6;
}

:host([disabled]) {
  color: var(--paper-icon-button-disabled-text, var(--disabled-text-color));
        pointer-events: none;
        cursor: auto;

        ;
}

:host([hidden]) {
  display: none !important;
}

:host(:hover) {
  ;
}

iron-icon {
  --iron-icon-width: 100%;
        --iron-icon-height: 100%;
}</style><iron-icon id="icon" alt=""><template shadowrootmode="open"><svg viewBox="0 0 24 24" preserveAspectRatio="xMidYMid meet" focusable="false" style="pointer-events: none; display: block; width: 100%; height: 100%;"><g><path d="M10 6L8.59 7.41 13.17 12l-4.58 4.59L10 18l6-6z"></path></g></svg><style scope="iron-icon">:host {
  display: var(--layout-inline_-_display);
        -ms-flex-align: var(--layout-center-center_-_-ms-flex-align); -webkit-align-items: var(--layout-center-center_-_-webkit-align-items); align-items: var(--layout-center-center_-_align-items); -ms-flex-pack: var(--layout-center-center_-_-ms-flex-pack); -webkit-justify-content: var(--layout-center-center_-_-webkit-justify-content); justify-content: var(--layout-center-center_-_justify-content);
        position: relative;

        vertical-align: middle;

        fill: var(--iron-icon-fill-color, currentcolor);
        stroke: var(--iron-icon-stroke-color, none);

        width: var(--iron-icon-width, 24px);
        height: var(--iron-icon-height, 24px);
        ;
}

:host([hidden]) {
  display: none;
}</style>
    
</template></iron-icon></template></paper-icon-button>
</template>
      </paper-tabs>
      <!--?lit$568155653$--> <md-icon-button title="Show more" aria-label="Show more" role="presentation" value=""><template shadowrootmode="open" shadowrootdelegatesfocus><!----><button id="button" class="icon-button  standard " aria-label="Show more">
        <!--?lit$568155653$--><md-focus-ring part="focus-ring" for="button" aria-hidden="true"><template shadowrootmode="open"><!----></template></md-focus-ring>
        <!--?lit$568155653$--><md-ripple aria-hidden="true"><template shadowrootmode="open"><!----><div class="surface   "></div></template></md-ripple>
        <!--?lit$568155653$--><span class="icon"><slot></slot></span>
        <!--?lit$568155653$-->
        <!--?lit$568155653$--><span class="touch"></span>
        <!--?lit$568155653$-->
  </button></template>
    <md-icon aria-hidden="true"><template shadowrootmode="open"><!----><slot></slot></template>more_horiz</md-icon>
  </md-icon-button>
    </div>
    <div class="layout vertical grow tab-pane-container"> </div>
  </div></colab-tab-pane>
      </colab-resizer>
    </div>
      <colab-resizer style="width: 37%" class="we-resize no-tabs"><div class="resizer-thumb"></div>
        <!--?lit$568155653$--> <div class="layout vertical tab-pane-parent">
      <!--?lit$568155653$--><colab-tab-pane class="layout vertical grow no-tabs" align="horizontal"><!----> <div class="layout vertical grow">
    <div class="tab-pane-header layout horizontal noshrink">
      <paper-tabs selected="0" noink="" class="layout grow" scrollable="" role="tablist" dir="null" tabindex="0"><template shadowrootmode="open"><style scope="paper-tabs">:host {
  display: var(--layout_-_display);
        -ms-flex-align: var(--layout-center_-_-ms-flex-align); -webkit-align-items: var(--layout-center_-_-webkit-align-items); align-items: var(--layout-center_-_align-items);

        height: 48px;
        font-size: 14px;
        font-weight: 500;
        overflow: hidden;
        -moz-user-select: none;
        -ms-user-select: none;
        -webkit-user-select: none;
        user-select: none;

        
        -webkit-tap-highlight-color: rgba(0, 0, 0, 0);
        -webkit-tap-highlight-color: transparent;

        ;
}

:host([dir="rtl"]) {
  display: var(--layout-horizontal-reverse_-_display); -ms-flex-direction: var(--layout-horizontal-reverse_-_-ms-flex-direction); -webkit-flex-direction: var(--layout-horizontal-reverse_-_-webkit-flex-direction); flex-direction: var(--layout-horizontal-reverse_-_flex-direction);
}

#tabsContainer {
  position: relative;
        height: 100%;
        white-space: nowrap;
        overflow: hidden;
        -ms-flex: var(--layout-flex-auto_-_-ms-flex); -webkit-flex: var(--layout-flex-auto_-_-webkit-flex); flex: var(--layout-flex-auto_-_flex);
        ;
}

#tabsContent {
  height: 100%;
        -moz-flex-basis: auto;
        -ms-flex-basis: auto;
        flex-basis: auto;
        ;
}

#tabsContent.scrollable {
  position: absolute;
        white-space: nowrap;
}

#tabsContent:not(.scrollable), #tabsContent.scrollable.fit-container {
  display: var(--layout-horizontal_-_display); -ms-flex-direction: var(--layout-horizontal_-_-ms-flex-direction); -webkit-flex-direction: var(--layout-horizontal_-_-webkit-flex-direction); flex-direction: var(--layout-horizontal_-_flex-direction);
}

#tabsContent.scrollable.fit-container {
  min-width: 100%;
}

#tabsContent.scrollable.fit-container > ::slotted(*) {
  -ms-flex: 1 0 auto;
        -webkit-flex: 1 0 auto;
        flex: 1 0 auto;
}

.hidden {
  display: none;
}

.not-visible {
  opacity: 0;
        cursor: default;
}

paper-icon-button {
  width: 48px;
        height: 48px;
        padding: 12px;
        margin: 0 4px;
        background-color: var(--paper-icon-buttons_-_background-color); border-radius: var(--paper-icon-buttons_-_border-radius); color: var(--paper-icon-buttons_-_color); height: var(--paper-icon-buttons_-_height, 48px); padding: var(--paper-icon-buttons_-_padding, 12px); position: var(--paper-icon-buttons_-_position); width: var(--paper-icon-buttons_-_width, 48px)
}

paper-icon-button#left {
  left: var(--paper-icon-button-left_-_left); z-index: var(--paper-icon-button-left_-_z-index)
}

paper-icon-button#right {
  right: var(--paper-icon-button-right_-_right)
}

#selectionBar {
  position: absolute;
        height: 0;
        bottom: 0;
        left: 0;
        right: 0;
        border-bottom: 2px solid var(--paper-tabs-selection-bar-color, var(--paper-yellow-a100));
          -webkit-transform: scale(0);
        transform: scale(0);
          -webkit-transform-origin: left center;
        transform-origin: left center;
          transition: -webkit-transform;
        transition: transform;

        z-index: var(--paper-tabs-selection-bar_-_z-index);
}

#selectionBar.align-bottom {
  top: 0;
        bottom: auto;
}

#selectionBar.expand {
  transition-duration: 0.15s;
        transition-timing-function: cubic-bezier(0.4, 0.0, 1, 1);
}

#selectionBar.contract {
  transition-duration: 0.18s;
        transition-timing-function: cubic-bezier(0.0, 0.0, 0.2, 1);
}

#tabsContent > ::slotted(:not(#selectionBar)) {
  height: 100%;
}</style>
    

    <paper-icon-button id="left" icon="paper-tabs:chevron-left" class="not-visible" aria-hidden="true" role="button" aria-disabled="true" aria-label="" disabled="" style="pointer-events: none;" tabindex="-1"><template shadowrootmode="open"><style scope="paper-icon-button">:host {
  display: inline-block;
        position: relative;
        padding: 8px;
        outline: none;
        -webkit-user-select: none;
        -moz-user-select: none;
        -ms-user-select: none;
        user-select: none;
        cursor: pointer;
        z-index: 0;
        line-height: 1;

        width: 40px;
        height: 40px;

        
        -webkit-tap-highlight-color: rgba(0, 0, 0, 0);
        -webkit-tap-highlight-color: transparent;

        
        box-sizing: border-box !important;

        ;
}

:host #ink {
  color: var(--paper-icon-button-ink-color, var(--primary-text-color));
        opacity: 0.6;
}

:host([disabled]) {
  color: var(--paper-icon-button-disabled-text, var(--disabled-text-color));
        pointer-events: none;
        cursor: auto;

        ;
}

:host([hidden]) {
  display: none !important;
}

:host(:hover) {
  ;
}

iron-icon {
  --iron-icon-width: 100%;
        --iron-icon-height: 100%;
}</style><iron-icon id="icon" alt=""><template shadowrootmode="open"><svg viewBox="0 0 24 24" preserveAspectRatio="xMidYMid meet" focusable="false" style="pointer-events: none; display: block; width: 100%; height: 100%;"><g><path d="M15.41 7.41L14 6l-6 6 6 6 1.41-1.41L10.83 12z"></path></g></svg><style scope="iron-icon">:host {
  display: var(--layout-inline_-_display);
        -ms-flex-align: var(--layout-center-center_-_-ms-flex-align); -webkit-align-items: var(--layout-center-center_-_-webkit-align-items); align-items: var(--layout-center-center_-_align-items); -ms-flex-pack: var(--layout-center-center_-_-ms-flex-pack); -webkit-justify-content: var(--layout-center-center_-_-webkit-justify-content); justify-content: var(--layout-center-center_-_justify-content);
        position: relative;

        vertical-align: middle;

        fill: var(--iron-icon-fill-color, currentcolor);
        stroke: var(--iron-icon-stroke-color, none);

        width: var(--iron-icon-width, 24px);
        height: var(--iron-icon-height, 24px);
        ;
}

:host([hidden]) {
  display: none;
}</style>
    
</template></iron-icon></template></paper-icon-button>

    <div id="tabsContainer" style="touch-action: pan-y;">
      <div id="tabsContent" class="scrollable">
        <div id="selectionBar" class="" style="transform: translateX(0%) scaleX(0);"></div>
        <slot></slot>
      </div>
    </div>

    <paper-icon-button id="right" icon="paper-tabs:chevron-right" class="not-visible" aria-hidden="true" role="button" aria-disabled="true" aria-label="" disabled="" style="pointer-events: none;" tabindex="-1"><template shadowrootmode="open"><style scope="paper-icon-button">:host {
  display: inline-block;
        position: relative;
        padding: 8px;
        outline: none;
        -webkit-user-select: none;
        -moz-user-select: none;
        -ms-user-select: none;
        user-select: none;
        cursor: pointer;
        z-index: 0;
        line-height: 1;

        width: 40px;
        height: 40px;

        
        -webkit-tap-highlight-color: rgba(0, 0, 0, 0);
        -webkit-tap-highlight-color: transparent;

        
        box-sizing: border-box !important;

        ;
}

:host #ink {
  color: var(--paper-icon-button-ink-color, var(--primary-text-color));
        opacity: 0.6;
}

:host([disabled]) {
  color: var(--paper-icon-button-disabled-text, var(--disabled-text-color));
        pointer-events: none;
        cursor: auto;

        ;
}

:host([hidden]) {
  display: none !important;
}

:host(:hover) {
  ;
}

iron-icon {
  --iron-icon-width: 100%;
        --iron-icon-height: 100%;
}</style><iron-icon id="icon" alt=""><template shadowrootmode="open"><svg viewBox="0 0 24 24" preserveAspectRatio="xMidYMid meet" focusable="false" style="pointer-events: none; display: block; width: 100%; height: 100%;"><g><path d="M10 6L8.59 7.41 13.17 12l-4.58 4.59L10 18l6-6z"></path></g></svg><style scope="iron-icon">:host {
  display: var(--layout-inline_-_display);
        -ms-flex-align: var(--layout-center-center_-_-ms-flex-align); -webkit-align-items: var(--layout-center-center_-_-webkit-align-items); align-items: var(--layout-center-center_-_align-items); -ms-flex-pack: var(--layout-center-center_-_-ms-flex-pack); -webkit-justify-content: var(--layout-center-center_-_-webkit-justify-content); justify-content: var(--layout-center-center_-_justify-content);
        position: relative;

        vertical-align: middle;

        fill: var(--iron-icon-fill-color, currentcolor);
        stroke: var(--iron-icon-stroke-color, none);

        width: var(--iron-icon-width, 24px);
        height: var(--iron-icon-height, 24px);
        ;
}

:host([hidden]) {
  display: none;
}</style>
    
</template></iron-icon></template></paper-icon-button>
</template>
      </paper-tabs>
      <!--?lit$568155653$--> <md-icon-button title="Show more" aria-label="Show more" role="presentation" value=""><template shadowrootmode="open" shadowrootdelegatesfocus><!----><button id="button" class="icon-button  standard " aria-label="Show more">
        <!--?lit$568155653$--><md-focus-ring part="focus-ring" for="button" aria-hidden="true"><template shadowrootmode="open"><!----></template></md-focus-ring>
        <!--?lit$568155653$--><md-ripple aria-hidden="true"><template shadowrootmode="open"><!----><div class="surface   "></div></template></md-ripple>
        <!--?lit$568155653$--><span class="icon"><slot></slot></span>
        <!--?lit$568155653$-->
        <!--?lit$568155653$--><span class="touch"></span>
        <!--?lit$568155653$-->
  </button></template>
    <md-icon aria-hidden="true"><template shadowrootmode="open"><!----><slot></slot></template>more_horiz</md-icon>
  </md-icon-button>
    </div>
    <div class="layout vertical grow tab-pane-container"> </div>
  </div></colab-tab-pane>
      <colab-resizer style="height: 33.3%" class="sn-resize no-tabs"><div class="resizer-thumb"></div>
        <!--?lit$568155653$--><colab-tab-pane class="layout vertical grow no-tabs" align="horizontal"><!----> <div class="layout vertical grow">
    <div class="tab-pane-header layout horizontal noshrink">
      <paper-tabs selected="0" noink="" class="layout grow" scrollable="" role="tablist" dir="null" tabindex="0"><template shadowrootmode="open"><style scope="paper-tabs">:host {
  display: var(--layout_-_display);
        -ms-flex-align: var(--layout-center_-_-ms-flex-align); -webkit-align-items: var(--layout-center_-_-webkit-align-items); align-items: var(--layout-center_-_align-items);

        height: 48px;
        font-size: 14px;
        font-weight: 500;
        overflow: hidden;
        -moz-user-select: none;
        -ms-user-select: none;
        -webkit-user-select: none;
        user-select: none;

        
        -webkit-tap-highlight-color: rgba(0, 0, 0, 0);
        -webkit-tap-highlight-color: transparent;

        ;
}

:host([dir="rtl"]) {
  display: var(--layout-horizontal-reverse_-_display); -ms-flex-direction: var(--layout-horizontal-reverse_-_-ms-flex-direction); -webkit-flex-direction: var(--layout-horizontal-reverse_-_-webkit-flex-direction); flex-direction: var(--layout-horizontal-reverse_-_flex-direction);
}

#tabsContainer {
  position: relative;
        height: 100%;
        white-space: nowrap;
        overflow: hidden;
        -ms-flex: var(--layout-flex-auto_-_-ms-flex); -webkit-flex: var(--layout-flex-auto_-_-webkit-flex); flex: var(--layout-flex-auto_-_flex);
        ;
}

#tabsContent {
  height: 100%;
        -moz-flex-basis: auto;
        -ms-flex-basis: auto;
        flex-basis: auto;
        ;
}

#tabsContent.scrollable {
  position: absolute;
        white-space: nowrap;
}

#tabsContent:not(.scrollable), #tabsContent.scrollable.fit-container {
  display: var(--layout-horizontal_-_display); -ms-flex-direction: var(--layout-horizontal_-_-ms-flex-direction); -webkit-flex-direction: var(--layout-horizontal_-_-webkit-flex-direction); flex-direction: var(--layout-horizontal_-_flex-direction);
}

#tabsContent.scrollable.fit-container {
  min-width: 100%;
}

#tabsContent.scrollable.fit-container > ::slotted(*) {
  -ms-flex: 1 0 auto;
        -webkit-flex: 1 0 auto;
        flex: 1 0 auto;
}

.hidden {
  display: none;
}

.not-visible {
  opacity: 0;
        cursor: default;
}

paper-icon-button {
  width: 48px;
        height: 48px;
        padding: 12px;
        margin: 0 4px;
        background-color: var(--paper-icon-buttons_-_background-color); border-radius: var(--paper-icon-buttons_-_border-radius); color: var(--paper-icon-buttons_-_color); height: var(--paper-icon-buttons_-_height, 48px); padding: var(--paper-icon-buttons_-_padding, 12px); position: var(--paper-icon-buttons_-_position); width: var(--paper-icon-buttons_-_width, 48px)
}

paper-icon-button#left {
  left: var(--paper-icon-button-left_-_left); z-index: var(--paper-icon-button-left_-_z-index)
}

paper-icon-button#right {
  right: var(--paper-icon-button-right_-_right)
}

#selectionBar {
  position: absolute;
        height: 0;
        bottom: 0;
        left: 0;
        right: 0;
        border-bottom: 2px solid var(--paper-tabs-selection-bar-color, var(--paper-yellow-a100));
          -webkit-transform: scale(0);
        transform: scale(0);
          -webkit-transform-origin: left center;
        transform-origin: left center;
          transition: -webkit-transform;
        transition: transform;

        z-index: var(--paper-tabs-selection-bar_-_z-index);
}

#selectionBar.align-bottom {
  top: 0;
        bottom: auto;
}

#selectionBar.expand {
  transition-duration: 0.15s;
        transition-timing-function: cubic-bezier(0.4, 0.0, 1, 1);
}

#selectionBar.contract {
  transition-duration: 0.18s;
        transition-timing-function: cubic-bezier(0.0, 0.0, 0.2, 1);
}

#tabsContent > ::slotted(:not(#selectionBar)) {
  height: 100%;
}</style>
    

    <paper-icon-button id="left" icon="paper-tabs:chevron-left" class="not-visible" aria-hidden="true" role="button" aria-disabled="true" aria-label="" disabled="" style="pointer-events: none;" tabindex="-1"><template shadowrootmode="open"><style scope="paper-icon-button">:host {
  display: inline-block;
        position: relative;
        padding: 8px;
        outline: none;
        -webkit-user-select: none;
        -moz-user-select: none;
        -ms-user-select: none;
        user-select: none;
        cursor: pointer;
        z-index: 0;
        line-height: 1;

        width: 40px;
        height: 40px;

        
        -webkit-tap-highlight-color: rgba(0, 0, 0, 0);
        -webkit-tap-highlight-color: transparent;

        
        box-sizing: border-box !important;

        ;
}

:host #ink {
  color: var(--paper-icon-button-ink-color, var(--primary-text-color));
        opacity: 0.6;
}

:host([disabled]) {
  color: var(--paper-icon-button-disabled-text, var(--disabled-text-color));
        pointer-events: none;
        cursor: auto;

        ;
}

:host([hidden]) {
  display: none !important;
}

:host(:hover) {
  ;
}

iron-icon {
  --iron-icon-width: 100%;
        --iron-icon-height: 100%;
}</style><iron-icon id="icon" alt=""><template shadowrootmode="open"><svg viewBox="0 0 24 24" preserveAspectRatio="xMidYMid meet" focusable="false" style="pointer-events: none; display: block; width: 100%; height: 100%;"><g><path d="M15.41 7.41L14 6l-6 6 6 6 1.41-1.41L10.83 12z"></path></g></svg><style scope="iron-icon">:host {
  display: var(--layout-inline_-_display);
        -ms-flex-align: var(--layout-center-center_-_-ms-flex-align); -webkit-align-items: var(--layout-center-center_-_-webkit-align-items); align-items: var(--layout-center-center_-_align-items); -ms-flex-pack: var(--layout-center-center_-_-ms-flex-pack); -webkit-justify-content: var(--layout-center-center_-_-webkit-justify-content); justify-content: var(--layout-center-center_-_justify-content);
        position: relative;

        vertical-align: middle;

        fill: var(--iron-icon-fill-color, currentcolor);
        stroke: var(--iron-icon-stroke-color, none);

        width: var(--iron-icon-width, 24px);
        height: var(--iron-icon-height, 24px);
        ;
}

:host([hidden]) {
  display: none;
}</style>
    
</template></iron-icon></template></paper-icon-button>

    <div id="tabsContainer" style="touch-action: pan-y;">
      <div id="tabsContent" class="scrollable">
        <div id="selectionBar" class="" style="transform: translateX(0%) scaleX(0);"></div>
        <slot></slot>
      </div>
    </div>

    <paper-icon-button id="right" icon="paper-tabs:chevron-right" class="not-visible" aria-hidden="true" role="button" aria-disabled="true" aria-label="" disabled="" style="pointer-events: none;" tabindex="-1"><template shadowrootmode="open"><style scope="paper-icon-button">:host {
  display: inline-block;
        position: relative;
        padding: 8px;
        outline: none;
        -webkit-user-select: none;
        -moz-user-select: none;
        -ms-user-select: none;
        user-select: none;
        cursor: pointer;
        z-index: 0;
        line-height: 1;

        width: 40px;
        height: 40px;

        
        -webkit-tap-highlight-color: rgba(0, 0, 0, 0);
        -webkit-tap-highlight-color: transparent;

        
        box-sizing: border-box !important;

        ;
}

:host #ink {
  color: var(--paper-icon-button-ink-color, var(--primary-text-color));
        opacity: 0.6;
}

:host([disabled]) {
  color: var(--paper-icon-button-disabled-text, var(--disabled-text-color));
        pointer-events: none;
        cursor: auto;

        ;
}

:host([hidden]) {
  display: none !important;
}

:host(:hover) {
  ;
}

iron-icon {
  --iron-icon-width: 100%;
        --iron-icon-height: 100%;
}</style><iron-icon id="icon" alt=""><template shadowrootmode="open"><svg viewBox="0 0 24 24" preserveAspectRatio="xMidYMid meet" focusable="false" style="pointer-events: none; display: block; width: 100%; height: 100%;"><g><path d="M10 6L8.59 7.41 13.17 12l-4.58 4.59L10 18l6-6z"></path></g></svg><style scope="iron-icon">:host {
  display: var(--layout-inline_-_display);
        -ms-flex-align: var(--layout-center-center_-_-ms-flex-align); -webkit-align-items: var(--layout-center-center_-_-webkit-align-items); align-items: var(--layout-center-center_-_align-items); -ms-flex-pack: var(--layout-center-center_-_-ms-flex-pack); -webkit-justify-content: var(--layout-center-center_-_-webkit-justify-content); justify-content: var(--layout-center-center_-_justify-content);
        position: relative;

        vertical-align: middle;

        fill: var(--iron-icon-fill-color, currentcolor);
        stroke: var(--iron-icon-stroke-color, none);

        width: var(--iron-icon-width, 24px);
        height: var(--iron-icon-height, 24px);
        ;
}

:host([hidden]) {
  display: none;
}</style>
    
</template></iron-icon></template></paper-icon-button>
</template>
      </paper-tabs>
      <!--?lit$568155653$--> <md-icon-button title="Show more" aria-label="Show more" role="presentation" value=""><template shadowrootmode="open" shadowrootdelegatesfocus><!----><button id="button" class="icon-button  standard " aria-label="Show more">
        <!--?lit$568155653$--><md-focus-ring part="focus-ring" for="button" aria-hidden="true"><template shadowrootmode="open"><!----></template></md-focus-ring>
        <!--?lit$568155653$--><md-ripple aria-hidden="true"><template shadowrootmode="open"><!----><div class="surface   "></div></template></md-ripple>
        <!--?lit$568155653$--><span class="icon"><slot></slot></span>
        <!--?lit$568155653$-->
        <!--?lit$568155653$--><span class="touch"></span>
        <!--?lit$568155653$-->
  </button></template>
    <md-icon aria-hidden="true"><template shadowrootmode="open"><!----><slot></slot></template>more_horiz</md-icon>
  </md-icon-button>
    </div>
    <div class="layout vertical grow tab-pane-container"> </div>
  </div></colab-tab-pane>
      </colab-resizer>
    </div>
      </colab-resizer>
    </div></colab-tab-layout-container>
        </div>
        <div class="proxies"><div><colab-dom-lifecycle-events style="display: none;"></colab-dom-lifecycle-events><iframe allow="" sandbox="allow-downloads allow-forms allow-pointer-lock allow-popups allow-same-origin allow-scripts allow-storage-access-by-user-activation allow-popups-to-escape-sandbox" src="./Sentiment Analysis on Amazon_Alexa_review_files/outputframe(4).html" style="width: 1px; height: 1px; position: absolute; top: -100px;"></iframe></div><div><colab-dom-lifecycle-events style="display: none;"></colab-dom-lifecycle-events><iframe allow="accelerometer; autoplay; camera; gyroscope; magnetometer; microphone; serial; usb; xr-spatial-tracking; clipboard-write" sandbox="allow-downloads allow-forms allow-pointer-lock allow-popups allow-same-origin allow-scripts allow-storage-access-by-user-activation allow-modals allow-popups-to-escape-sandbox" src="./Sentiment Analysis on Amazon_Alexa_review_files/outputframe(5).html" style="width: 1px; height: 1px; position: absolute; top: -100px;"></iframe></div></div>
      <colab-file-viewer-manager></colab-file-viewer-manager></div>
    <colab-status-bar role="region" aria-label="Runtime status bar" style="min-height: inherit;"><template shadowrootmode="open"><!----> <!--?lit$568155653$--> <div class="connect-status">
        <md-icon status="icon-okay" aria-hidden="true"><template shadowrootmode="open"><!----><slot></slot></template><!--?lit$568155653$--><svg viewBox="0 0 24 24"><!--?lit$568155653$--><path d="M9 16.17L4.83 12l-1.42 1.41L9 19 21 7l-1.41-1.41z"></path></svg></md-icon>
        <div aria-atomic="true" aria-live="polite"><!--?lit$568155653$-->Connected to Python 3 Google Compute Engine backend</div>
      </div>
      <md-icon-button class="visible-on-closed" title="Connected" aria-label="Connected" disabled="" role="presentation" value=""><template shadowrootmode="open" shadowrootdelegatesfocus><!----><button id="button" class="icon-button  standard " aria-label="Connected" disabled="">
        <!--?lit$568155653$--><md-focus-ring part="focus-ring" for="button" aria-hidden="true"><template shadowrootmode="open"><!----></template></md-focus-ring>
        <!--?lit$568155653$--><md-ripple disabled="" aria-hidden="true"><template shadowrootmode="open"><!----><div class="surface   "></div></template></md-ripple>
        <!--?lit$568155653$--><span class="icon"><slot></slot></span>
        <!--?lit$568155653$-->
        <!--?lit$568155653$--><span class="touch"></span>
        <!--?lit$568155653$-->
  </button></template>
        <md-icon filled="" class="visible-on-closed" status="icon-okay" aria-hidden="true"><template shadowrootmode="open"><!----><slot></slot></template><!--?lit$568155653$-->fiber_manual_record</md-icon>
      </md-icon-button>
      <md-icon-button title="Close" aria-label="Close" role="presentation" value=""><template shadowrootmode="open" shadowrootdelegatesfocus><!----><button id="button" class="icon-button  standard " aria-label="Close">
        <!--?lit$568155653$--><md-focus-ring part="focus-ring" for="button" aria-hidden="true"><template shadowrootmode="open"><!----></template></md-focus-ring>
        <!--?lit$568155653$--><md-ripple aria-hidden="true"><template shadowrootmode="open"><!----><div class="surface   "></div></template></md-ripple>
        <!--?lit$568155653$--><span class="icon"><slot></slot></span>
        <!--?lit$568155653$-->
        <!--?lit$568155653$--><span class="touch"></span>
        <!--?lit$568155653$-->
  </button></template>
        <md-icon aria-hidden="true"><template shadowrootmode="open"><!----><slot></slot></template>close</md-icon>
      </md-icon-button></template></colab-status-bar></div><div class="goog-menu" id="file-menu" role="menu" aria-haspopup="true" style="display: none; user-select: none;"><!--?lit$568155653$--><div command="locate-in-drive" class="goog-menuitem " role="menuitem" id=":2" style="user-select: none;"><div class="goog-menuitem-content" style="user-select: none;"><!--?lit$568155653$-->Locate in Drive<!--?lit$568155653$--></div></div><div command="open-in-playground" class="goog-menuitem " role="menuitem" id=":3" style="user-select: none;"><div class="goog-menuitem-content" style="user-select: none;"><!--?lit$568155653$-->Open in playground mode<!--?lit$568155653$--></div></div><div class="goog-menuseparator goog-menuitem-disabled" aria-disabled="true" role="separator" id=":4" style="user-select: none;"></div><div command="new" class="goog-menuitem " role="menuitem" id=":5" style="user-select: none;"><div class="goog-menuitem-content" style="user-select: none;"><!--?lit$568155653$-->New notebook<!--?lit$568155653$--></div></div><div command="open" class="goog-menuitem " role="menuitem" id=":6" style="user-select: none;"><div class="goog-menuitem-content" style="user-select: none;"><!--?lit$568155653$-->Open notebook<!--?lit$568155653$--></div></div><div command="import-notebook" class="goog-menuitem " role="menuitem" id=":7" style="user-select: none;"><div class="goog-menuitem-content" style="user-select: none;"><!--?lit$568155653$-->Upload notebook<!--?lit$568155653$--></div></div><div class="goog-menuseparator goog-menuitem-disabled" aria-disabled="true" role="separator" id=":8" style="user-select: none;"></div><div command="rename" class="goog-menuitem " role="menuitem" id=":9" style="user-select: none;"><div class="goog-menuitem-content" style="user-select: none;"><!--?lit$568155653$-->Rename<!--?lit$568155653$--></div></div><div command="move-notebook" class="goog-menuitem " role="menuitem" id=":a" style="user-select: none;"><div class="goog-menuitem-content" style="user-select: none;"><!--?lit$568155653$-->Move<!--?lit$568155653$--></div></div><div command="trash" class="goog-menuitem " role="menuitem" id=":b" style="user-select: none;"><div class="goog-menuitem-content" style="user-select: none;"><!--?lit$568155653$-->Move to trash<!--?lit$568155653$--></div></div><div class="goog-menuseparator goog-menuitem-disabled" aria-disabled="true" role="separator" id=":c" style="user-select: none;"></div><div command="clone" class="goog-menuitem " role="menuitem" id=":d" style="user-select: none;"><div class="goog-menuitem-content" style="user-select: none;"><!--?lit$568155653$-->Save a copy in Drive<!--?lit$568155653$--></div></div><div command="copy-to-gist" class="goog-menuitem " role="menuitem" id=":e" style="user-select: none;"><div class="goog-menuitem-content" style="user-select: none;"><!--?lit$568155653$-->Save a copy as a GitHub Gist<!--?lit$568155653$--></div></div><div command="copy-to-github" class="goog-menuitem " role="menuitem" id=":f" style="user-select: none;"><div class="goog-menuitem-content" style="user-select: none;"><!--?lit$568155653$-->Save a copy in GitHub<!--?lit$568155653$--></div></div><div class="goog-menuseparator goog-menuitem-disabled" aria-disabled="true" role="separator" id=":g" style="user-select: none;"></div><div command="save" class="goog-menuitem " role="menuitem" id=":h" style="user-select: none;"><div class="goog-menuitem-content" style="user-select: none;"><!--?lit$568155653$-->Save<!--?lit$568155653$--></div></div><div command="save-and-checkpoint" class="goog-menuitem " role="menuitem" id=":i" style="user-select: none;"><div class="goog-menuitem-content" style="user-select: none;"><!--?lit$568155653$-->Save and pin revision<!--?lit$568155653$--></div></div><div command="show-history" class="goog-menuitem " role="menuitem" id=":j" style="user-select: none;"><div class="goog-menuitem-content" style="user-select: none;"><!--?lit$568155653$-->Revision history<!--?lit$568155653$--></div></div><div class="goog-menuseparator goog-menuitem-disabled" aria-disabled="true" role="separator" id=":k" style="user-select: none;"></div><div class="goog-submenu goog-menuitem" id="download-submenu-menu-button" role="menuitem" aria-haspopup="true" style="user-select: none;"><div class="goog-menuitem-content" style="user-select: none;">
      <!--?lit$568155653$-->Download
    <span class="goog-submenu-arrow" style="user-select: none;">►</span></div></div><div command="print" class="goog-menuitem " role="menuitem" id=":o" style="user-select: none;"><div class="goog-menuitem-content" style="user-select: none;"><!--?lit$568155653$-->Print<!--?lit$568155653$--></div></div></div><div class="goog-menu" id="download-submenu-menu" role="menu" aria-haspopup="true" style="display: none; user-select: none;"><!--?lit$568155653$--><div command="download-ipynb" class="goog-menuitem " role="menuitem" id=":m" style="user-select: none;"><div class="goog-menuitem-content" style="user-select: none;"><!--?lit$568155653$-->Download .ipynb<!--?lit$568155653$--></div></div><div command="download-python" class="goog-menuitem " role="menuitem" id=":n" style="user-select: none;"><div class="goog-menuitem-content" style="user-select: none;"><!--?lit$568155653$-->Download .py<!--?lit$568155653$--></div></div></div><div class="goog-menu" id="edit-menu" role="menu" aria-haspopup="true" style="display: none; user-select: none;"><!--?lit$568155653$--><div command="undo" class="goog-menuitem " role="menuitem" id=":q" style="user-select: none;"><div class="goog-menuitem-content" style="user-select: none;"><!--?lit$568155653$-->Undo<!--?lit$568155653$--></div></div><div command="redo" class="goog-menuitem " role="menuitem" id=":r" style="user-select: none;"><div class="goog-menuitem-content" style="user-select: none;"><!--?lit$568155653$-->Redo<!--?lit$568155653$--></div></div><div class="goog-menuseparator goog-menuitem-disabled" aria-disabled="true" role="separator" id=":s" style="user-select: none;"></div><div command="select-all" class="goog-menuitem " role="menuitem" id=":t" style="user-select: none;"><div class="goog-menuitem-content" style="user-select: none;"><!--?lit$568155653$-->Select all cells<!--?lit$568155653$--></div></div><div command="cut" class="goog-menuitem " role="menuitem" id=":u" style="user-select: none;"><div class="goog-menuitem-content" style="user-select: none;"><!--?lit$568155653$-->Cut cell or selection<!--?lit$568155653$--></div></div><div command="copy" class="goog-menuitem " role="menuitem" id=":v" style="user-select: none;"><div class="goog-menuitem-content" style="user-select: none;"><!--?lit$568155653$-->Copy cell or selection<!--?lit$568155653$--></div></div><div command="paste" class="goog-menuitem " role="menuitem" id=":w" style="user-select: none;"><div class="goog-menuitem-content" style="user-select: none;"><!--?lit$568155653$-->Paste<!--?lit$568155653$--></div></div><div command="delete-cell-or-selection" class="goog-menuitem " role="menuitem" id=":x" style="user-select: none;"><div class="goog-menuitem-content" style="user-select: none;"><!--?lit$568155653$-->Delete selected cells<!--?lit$568155653$--></div></div><div class="goog-menuseparator goog-menuitem-disabled" aria-disabled="true" role="separator" id=":y" style="user-select: none;"></div><div command="find" class="goog-menuitem " role="menuitem" id=":z" style="user-select: none;"><div class="goog-menuitem-content" style="user-select: none;"><!--?lit$568155653$-->Find and replace<!--?lit$568155653$--></div></div><div command="find-next" class="goog-menuitem " role="menuitem" id=":10" style="user-select: none;"><div class="goog-menuitem-content" style="user-select: none;"><!--?lit$568155653$-->Find next<!--?lit$568155653$--></div></div><div command="find-previous" class="goog-menuitem " role="menuitem" id=":11" style="user-select: none;"><div class="goog-menuitem-content" style="user-select: none;"><!--?lit$568155653$-->Find previous<!--?lit$568155653$--></div></div><div class="goog-menuseparator goog-menuitem-disabled" aria-disabled="true" role="separator" id=":12" style="user-select: none;"></div><div command="notebook-settings" class="goog-menuitem " role="menuitem" id=":13" style="user-select: none;"><div class="goog-menuitem-content" style="user-select: none;"><!--?lit$568155653$-->Notebook settings<!--?lit$568155653$--></div></div><div class="goog-menuseparator goog-menuitem-disabled" aria-disabled="true" role="separator" id=":14" style="user-select: none;"></div><div command="clear-outputs" class="goog-menuitem " role="menuitem" id=":15" style="user-select: none;"><div class="goog-menuitem-content" style="user-select: none;"><!--?lit$568155653$-->Clear all outputs<!--?lit$568155653$--></div></div></div><div class="goog-menu" id="view-menu" role="menu" aria-haspopup="true" style="display: none; user-select: none;"><!--?lit$568155653$--><div command="show-toc-pane" class="goog-menuitem goog-option" role="menuitemcheckbox" aria-checked="false" id=":17" style="user-select: none;"><div class="goog-menuitem-content" style="user-select: none;"><div class="goog-menuitem-checkbox" style="user-select: none;"><!----><md-icon aria-hidden="true"><template shadowrootmode="open"><!----><slot></slot></template>check</md-icon> </div><!--?lit$568155653$-->Table of contents<!--?lit$568155653$--></div></div><div command="show-fileinfo" class="goog-menuitem " role="menuitem" id=":18" style="user-select: none;"><div class="goog-menuitem-content" style="user-select: none;"><!--?lit$568155653$-->Notebook info<!--?lit$568155653$--></div></div><div command="show-executedcode" class="goog-menuitem " role="menuitem" id=":19" style="user-select: none;"><div class="goog-menuitem-content" style="user-select: none;"><!--?lit$568155653$-->Executed code history<!--?lit$568155653$--></div></div><div command="toggle-comments-visibility" class="goog-menuitem goog-option" role="menuitemcheckbox" aria-checked="false" id=":1a" style="user-select: none;"><div class="goog-menuitem-content" style="user-select: none;"><div class="goog-menuitem-checkbox" style="user-select: none;"><!----><md-icon aria-hidden="true"><template shadowrootmode="open"><!----><slot></slot></template>check</md-icon> </div><!--?lit$568155653$-->Comments sidebar<!--?lit$568155653$--></div></div><div class="goog-menuseparator goog-menuitem-disabled" aria-disabled="true" role="separator" id=":1b" style="user-select: none;"></div><div command="collapse-sections" class="goog-menuitem " role="menuitem" id=":1c" style="user-select: none;"><div class="goog-menuitem-content" style="user-select: none;"><!--?lit$568155653$-->Collapse sections<!--?lit$568155653$--></div></div><div command="expand-sections" class="goog-menuitem " role="menuitem" id=":1d" style="user-select: none;"><div class="goog-menuitem-content" style="user-select: none;"><!--?lit$568155653$-->Expand sections<!--?lit$568155653$--></div></div><div command="save-section-layout" class="goog-menuitem " role="menuitem" id=":1e" style="user-select: none;"><div class="goog-menuitem-content" style="user-select: none;"><!--?lit$568155653$-->Save collapsed section layout<!--?lit$568155653$--></div></div><div class="goog-menuseparator goog-menuitem-disabled" aria-disabled="true" role="separator" id=":1f" style="user-select: none;"></div><div command="hide-code" class="goog-menuitem " role="menuitem" id=":1g" style="user-select: none;"><div class="goog-menuitem-content" style="user-select: none;"><!--?lit$568155653$-->Show/hide code<!--?lit$568155653$--></div></div><div command="toggle-output" class="goog-menuitem " role="menuitem" id=":1h" style="user-select: none;"><div class="goog-menuitem-content" style="user-select: none;"><!--?lit$568155653$-->Show/hide output<!--?lit$568155653$--></div></div><div class="goog-menuseparator goog-menuitem-disabled" aria-disabled="true" role="separator" id=":1i" style="user-select: none;"></div><div command="focus-next-tab" class="goog-menuitem " role="menuitem" id=":1j" style="user-select: none;"><div class="goog-menuitem-content" style="user-select: none;"><!--?lit$568155653$-->Focus next tab<!--?lit$568155653$--></div></div><div command="focus-previous-tab" class="goog-menuitem " role="menuitem" id=":1k" style="user-select: none;"><div class="goog-menuitem-content" style="user-select: none;"><!--?lit$568155653$-->Focus previous tab<!--?lit$568155653$--></div></div><div command="move-tab-to-next" class="goog-menuitem " role="menuitem" id=":1l" style="user-select: none;"><div class="goog-menuitem-content" style="user-select: none;"><!--?lit$568155653$-->Move tab to next pane<!--?lit$568155653$--></div></div><div command="move-tab-to-prev" class="goog-menuitem " role="menuitem" id=":1m" style="user-select: none;"><div class="goog-menuitem-content" style="user-select: none;"><!--?lit$568155653$-->Move tab to previous pane<!--?lit$568155653$--></div></div></div><div class="goog-menu" id="insert-menu" role="menu" aria-haspopup="true" style="display: none; user-select: none;"><!--?lit$568155653$--><div command="insert-cell-below" class="goog-menuitem " role="menuitem" id=":1o" style="user-select: none;"><div class="goog-menuitem-content" style="user-select: none;"><!--?lit$568155653$-->Code cell<!--?lit$568155653$--></div></div><div command="add-text" class="goog-menuitem " role="menuitem" id=":1p" style="user-select: none;"><div class="goog-menuitem-content" style="user-select: none;"><!--?lit$568155653$-->Text cell<!--?lit$568155653$--></div></div><div command="add-section-header" class="goog-menuitem " role="menuitem" id=":1q" style="user-select: none;"><div class="goog-menuitem-content" style="user-select: none;"><!--?lit$568155653$-->Section header cell<!--?lit$568155653$--></div></div><div class="goog-menuseparator goog-menuitem-disabled" aria-disabled="true" role="separator" id=":1r" style="user-select: none;"></div><div command="open-scratch-code-cell" class="goog-menuitem " role="menuitem" id=":1s" style="user-select: none;"><div class="goog-menuitem-content" style="user-select: none;"><!--?lit$568155653$-->Scratch code cell<!--?lit$568155653$--></div></div><div command="snippets" class="goog-menuitem " role="menuitem" id=":1t" style="user-select: none;"><div class="goog-menuitem-content" style="user-select: none;"><!--?lit$568155653$-->Code snippets<!--?lit$568155653$--></div></div><div class="goog-menuseparator goog-menuitem-disabled" aria-disabled="true" role="separator" id=":1u" style="user-select: none;"></div><div command="add-form-field" class="goog-menuitem " role="menuitem" id=":1v" style="user-select: none;"><div class="goog-menuitem-content" style="user-select: none;"><!--?lit$568155653$-->Add a form field<!--?lit$568155653$--></div></div></div><div class="goog-menu" id="runtime-menu" role="menu" aria-haspopup="true" style="display: none; user-select: none;"><!--?lit$568155653$--><div command="runall" class="goog-menuitem " role="menuitem" id=":1x" style="user-select: none;"><div class="goog-menuitem-content" style="user-select: none;"><!--?lit$568155653$-->Run all<!--?lit$568155653$--></div></div><div command="runbefore" class="goog-menuitem " role="menuitem" id=":1y" style="user-select: none;"><div class="goog-menuitem-content" style="user-select: none;"><!--?lit$568155653$-->Run before<!--?lit$568155653$--></div></div><div command="runfocused" class="goog-menuitem " role="menuitem" id=":1z" style="user-select: none;"><div class="goog-menuitem-content" style="user-select: none;"><!--?lit$568155653$-->Run the focused cell<!--?lit$568155653$--></div></div><div command="runselected" class="goog-menuitem " role="menuitem" id=":20" style="user-select: none;"><div class="goog-menuitem-content" style="user-select: none;"><!--?lit$568155653$-->Run selection<!--?lit$568155653$--></div></div><div command="runafter" class="goog-menuitem " role="menuitem" id=":21" style="user-select: none;"><div class="goog-menuitem-content" style="user-select: none;"><!--?lit$568155653$-->Run after<!--?lit$568155653$--></div></div><div class="goog-menuseparator goog-menuitem-disabled" aria-disabled="true" role="separator" id=":22" style="user-select: none;"></div><div command="interrupt" class="goog-menuitem " role="menuitem" id=":23" style="user-select: none;"><div class="goog-menuitem-content" style="user-select: none;"><!--?lit$568155653$-->Interrupt execution<!--?lit$568155653$--></div></div><div command="restart" class="goog-menuitem " role="menuitem" id=":24" style="user-select: none;"><div class="goog-menuitem-content" style="user-select: none;"><!--?lit$568155653$-->Restart session<!--?lit$568155653$--></div></div><div command="restart-and-run-all" class="goog-menuitem " role="menuitem" id=":25" style="user-select: none;"><div class="goog-menuitem-content" style="user-select: none;"><!--?lit$568155653$-->Restart session and run all<!--?lit$568155653$--></div></div><div command="powerwash-current-vm" class="goog-menuitem " role="menuitem" id=":26" style="user-select: none;"><div class="goog-menuitem-content" style="user-select: none;"><!--?lit$568155653$-->Disconnect and delete runtime<!--?lit$568155653$--></div></div><div class="goog-menuseparator goog-menuitem-disabled" aria-disabled="true" role="separator" id=":27" style="user-select: none;"></div><div command="change-runtime-type" class="goog-menuitem " role="menuitem" id=":28" style="user-select: none;"><div class="goog-menuitem-content" style="user-select: none;"><!--?lit$568155653$-->Change runtime type<!--?lit$568155653$--></div></div><div class="goog-menuseparator goog-menuitem-disabled" aria-disabled="true" role="separator" id=":29" style="user-select: none;"></div><div command="manage-sessions" class="goog-menuitem " role="menuitem" id=":2a" style="user-select: none;"><div class="goog-menuitem-content" style="user-select: none;"><!--?lit$568155653$-->Manage sessions<!--?lit$568155653$--></div></div><div command="open-resource-viewer" class="goog-menuitem " role="menuitem" id=":2b" style="user-select: none;"><div class="goog-menuitem-content" style="user-select: none;"><!--?lit$568155653$-->View resources<!--?lit$568155653$--></div></div><div command="view-runtime-logs" class="goog-menuitem " role="menuitem" id=":2c" style="user-select: none;"><div class="goog-menuitem-content" style="user-select: none;"><!--?lit$568155653$-->View runtime logs<!--?lit$568155653$--></div></div></div><div class="goog-menu" id="tools-menu" role="menu" aria-haspopup="true" style="display: none; user-select: none;"><!--?lit$568155653$--><div command="show-command-palette" class="goog-menuitem " role="menuitem" id=":2e" style="user-select: none;"><div class="goog-menuitem-content" style="user-select: none;"><!--?lit$568155653$-->Command palette<!--?lit$568155653$--></div></div><div class="goog-menuseparator goog-menuitem-disabled" aria-disabled="true" role="separator" id=":2f" style="user-select: none;"></div><div command="preferences" class="goog-menuitem " role="menuitem" id=":2g" style="user-select: none;"><div class="goog-menuitem-content" style="user-select: none;"><!--?lit$568155653$-->Settings<!--?lit$568155653$--></div></div><div command="shortcuts" class="goog-menuitem " role="menuitem" id=":2h" style="user-select: none;"><div class="goog-menuitem-content" style="user-select: none;"><!--?lit$568155653$-->Keyboard shortcuts<!--?lit$568155653$--></div></div><div class="goog-menuseparator goog-menuitem-disabled" aria-disabled="true" role="separator" id=":2i" style="user-select: none;"></div><div command="open-differ" class="goog-menuitem " role="menuitem" id=":2j" style="user-select: none;"><div class="goog-menuitem-content" style="user-select: none;"><!--?lit$568155653$-->Diff notebooks<!--?lit$568155653$--> <span class="screenreader-only" style="user-select: none;"><!--?lit$568155653$-->(opens in a new tab)</span></div></div></div><div class="goog-menu" id="help-menu" role="menu" aria-haspopup="true" style="display: none; user-select: none;"><!--?lit$568155653$--><div command="faq" class="goog-menuitem " role="menuitem" id=":2l" style="user-select: none;"><div class="goog-menuitem-content" style="user-select: none;"><!--?lit$568155653$-->Frequently asked questions<!--?lit$568155653$--></div></div><div command="view-relnotes" class="goog-menuitem " role="menuitem" id=":2m" style="user-select: none;"><div class="goog-menuitem-content" style="user-select: none;"><!--?lit$568155653$-->View release notes<!--?lit$568155653$--></div></div><div command="snippets" class="goog-menuitem " role="menuitem" id=":2n" style="user-select: none;"><div class="goog-menuitem-content" style="user-select: none;"><!--?lit$568155653$-->Search code snippets<!--?lit$568155653$--></div></div><div class="goog-menuseparator goog-menuitem-disabled" aria-disabled="true" role="separator" id=":2o" style="user-select: none;"></div><div command="report-bug" class="goog-menuitem " role="menuitem" id=":2p" style="user-select: none;"><div class="goog-menuitem-content" style="user-select: none;"><!--?lit$568155653$-->Report a bug<!--?lit$568155653$--></div></div><div command="report-abuse" class="goog-menuitem " role="menuitem" id=":2q" style="user-select: none;"><div class="goog-menuitem-content" style="user-select: none;"><!--?lit$568155653$-->Report Drive abuse<!--?lit$568155653$--></div></div><div command="send-feedback" class="goog-menuitem " role="menuitem" id=":2r" style="user-select: none;"><div class="goog-menuitem-content" style="user-select: none;"><!--?lit$568155653$-->Send feedback<!--?lit$568155653$--></div></div></div><div class="doc-comments-area" style="display: none;"><!----><div class="doc-comments-buttons">
        <md-text-button command="add-comment" role="presentation" value="" has-icon=""><template shadowrootmode="open" shadowrootdelegatesfocus><!---->
      <!--?lit$568155653$-->
      <div class="background"></div>
      <md-focus-ring part="focus-ring" for="button" aria-hidden="true"><template shadowrootmode="open"><!----></template></md-focus-ring>
      <md-ripple for="button" aria-hidden="true"><template shadowrootmode="open"><!----><div class="surface   "></div></template></md-ripple>
      <!--?lit$568155653$--><button id="button" class="button">
      <!--?lit$568155653$-->
      <span class="touch"></span>
      <!--?lit$568155653$--><slot name="icon"></slot>
      <span class="label"><slot></slot></span>
      <!--?lit$568155653$-->
    
    </button>
    </template>
          <md-icon slot="icon" filled="" aria-hidden="true"><template shadowrootmode="open"><!----><slot></slot></template>comment</md-icon>
          <!--?lit$568155653$-->Add a comment
        </md-text-button>
      </div></div><div class="thumbnail"></div><div class="monaco-aria-container"><div class="monaco-alert" role="alert" aria-atomic="true" style="visibility: visible;">dtype: None = ..., array(object, dtype=None, *, copy=True, order='K', subok=False, ndmin=0,
      like=None)

Create an array.

Parameters
----------
object : array_like
    An array, any object exposing the array interface, an object whose
    ``__array__`` method returns an array, or any (nested) sequence.
    If object is a scalar, a 0-dimensional array containing object is
    returned.
dtype : data-type, optional
    The desired data-type for the array. If not given, NumPy will try to use
    a default ``dtype`` that can represent the values (by applying promotion
    rules when necessary.)
copy : bool, optional
    If true (default), then the object is copied.  Otherwise, a copy will
    only be made if ``__array__`` returns a copy, if obj is a nested
    sequence, or if a copy is needed to satisfy any of the other
    requirements (``dtype``, ``order``, etc.).
order : {'K', 'A', 'C', 'F'}, optional
    Specify the memory layout of the array. If object is not an array, the
    newly created array will be in C order (row major) unless 'F' is
    specified, in which case it will be in Fortran order (column major).
    If object is an array the following holds.

    ===== ========= ===================================================
    order  no copy                     copy=True
    ===== ========= ===================================================
    'K'   unchanged F &amp; C order preserved, otherwise most similar order
    'A'   unchanged F order if input is F and not C, otherwise C order
    'C'   C order   C order
    'F'   F order   F order
    ===== ========= ===================================================

    When ``copy=False`` and a copy is made for other reasons, the result is
    the same as if ``copy=True``, with some exceptions for 'A', see the
    Notes section. The default order is 'K'.
subok : bool, optional
    If True, then sub-classes will be passed-through, otherwise
    the returned array will be forced to be a base-class array (default).
ndmin : int, optional
    Specifies the minimum number of dimensions that the resulting
    array should have.  Ones will be prepended to the shape as
    needed to meet this requirement.
like : array_like, optional
    Reference object to allow the creation of arrays which are not
    NumPy arrays. If an array-like passed in as ``like`` supports
    the ``__array_function__`` protocol, the result will be defined
    by it. In this case, it ensures the creation of an array object
    compatible with that passed in via this argument.

    .. versionadded:: 1.20.0

Returns
-------
out : ndarray
    An array object satisfying the specified requirements.

See Also
--------
empty_like : Return an empty array with shape and type of input.
ones_like : Return an array of ones with shape and type of input.
zeros_like : Return an array of zeros with shape and type of input.
full_like : Return a new array with shape of input filled with value.
empty : Return a new uninitialized array.
ones : Return a new array setting values to one.
zeros : Return a new array setting values to zero.
full : Return a new array of given shape filled with value.


Notes
-----
When order is 'A' and ``object`` is an array in neither 'C' nor 'F' order,
and a copy is forced by a change in dtype, then the order of the result is
not necessarily 'C' as expected. This is likely a bug.

Examples
--------
&gt;&gt;&gt; np.array([1, 2, 3])
array([1, 2, 3])

Upcasting:

&gt;&gt;&gt; np.array([1, 2, 3.0])
array([ 1.,  2.,  3.])

More than one dimension:

&gt;&gt;&gt; np.array([[1, 2], [3, 4]])
array([[1, 2],
       [3, 4]])

Minimum dimensions 2:

&gt;&gt;&gt; np.array([1, 2, 3], ndmin=2)
array([[1, 2, 3]])

Type provided:

&gt;&gt;&gt; np.array([1, 2, 3], dtype=complex)
array([ 1.+0.j,  2.+0.j,  3.+0.j])

Data-type consisting of more than one element:

&gt;&gt;&gt; x = np.array([(1,2),(3,4)],dtype=[('a','&lt;i4'),('b','&lt;i4')])
&gt;&gt;&gt; x['a']
array([1, 3])

Creating an array from sub-classes:

&gt;&gt;&gt; np.array(np.mat('1 2; 3 4'))
array([[1, 2],
       [3, 4]])

&gt;&gt;&gt; np.array(np.mat('1 2; 3 4'), subok=True)
matrix([[1, 2],
        [3, 4]]), hint</div><div class="monaco-alert" role="alert" aria-atomic="true"></div><div class="monaco-status" role="complementary" aria-live="polite" aria-atomic="true"></div><div class="monaco-status" role="complementary" aria-live="polite" aria-atomic="true"></div></div><iframe id="apiproxy93646d3b66dbe6f68810b3469c108281e065972c0.2364285011" name="apiproxy93646d3b66dbe6f68810b3469c108281e065972c0.2364285011" src="./Sentiment Analysis on Amazon_Alexa_review_files/proxy.html" tabindex="-1" aria-hidden="true" style="width: 1px; height: 1px; position: absolute; top: -100px; display: none;"></iframe><div><div>Could not connect to the reCAPTCHA service. Please check your internet connection and reload to get a reCAPTCHA challenge.</div></div><iframe id="apiproxy3bcd7bff6d847833bb170534371773bed1591e860.2503737332" name="apiproxy3bcd7bff6d847833bb170534371773bed1591e860.2503737332" src="./Sentiment Analysis on Amazon_Alexa_review_files/proxy(1).html" tabindex="-1" aria-hidden="true" style="width: 1px; height: 1px; position: absolute; top: -100px; display: none;"></iframe><iframe src="./Sentiment Analysis on Amazon_Alexa_review_files/bscframe.html" style="display: none;"></iframe><iframe frameborder="0" src="./Sentiment Analysis on Amazon_Alexa_review_files/saved_resource(1).html" class="modal-dialog-bg" style="border: 0px; vertical-align: bottom; opacity: 0; width: 1536px; height: 756px; display: none;"></iframe><div class="modal-dialog-bg" style="opacity: 0.5; width: 1536px; height: 756px; display: none;"></div><div class="modal-dialog share-client-loading-dialog" role="dialog" aria-labelledby=":6y" style="left: 532px; top: 303.5px; display: none;" tabindex="0"><div class="modal-dialog-title modal-dialog-title-draggable"><span class="modal-dialog-title-text" id=":6y" role="heading">Loading...</span><span class="modal-dialog-title-close" role="button" aria-label="Close" tabindex="0"></span></div><div class="modal-dialog-content" id=":6y.contentEl"><div class="share-client-loading-contents"><div class="share-client-spinner"> </div></div></div><div class="modal-dialog-buttons" style="display: none;"></div></div><span style="position: absolute; left: 532px; top: 303.5px; display: none;" tabindex="0"></span><div class="modal-dialog share-client-dialog full-screen-share-client-dialog team-drive-share-client-dialog share-client-offscreen" role="dialog" aria-labelledby=":6z" guidedhelpid="drive_share_dialog" aria-hidden="true" style="left: 0px; top: 0px;" tabindex="-1"><grammarly-extension data-grammarly-shadow-root="true" class="dnXmp" style="position: absolute; top: 0px; left: 0px; pointer-events: none;"><template shadowrootmode="open"><style>.teaserCard_fxhghsp{background:#ffffff;border-radius:0 calc(0.75px * var(--rem)) calc(0.75px * var(--rem)) calc(0.75px * var(--rem));box-shadow:0px 1px 8px 0.5px rgba(135, 141, 162, 0.50);font-size:calc(0.875px * var(--rem));line-height:1.5;margin-top:3px;max-width:calc(21.5px * var(--rem));padding:calc(0.25px * var(--rem))}.showFullCard_frsuylz{color:#016A5E;display:inline-block;font-family:Inter;font-size:calc(0.875px * var(--rem));font-weight:700;line-height:1.5;white-space:nowrap}.dismissIconRow_f1s0la05{bottom:0;cursor:pointer;display:flex;flex-direction:column;justify-content:end;padding:calc(0.5px * var(--rem));position:absolute;right:0}.dismissIconBox_f1kkwfhx{align-items:center;border:1px solid transparent;border-radius:calc(0.5px * var(--rem));display:flex;height:calc(2px * var(--rem));justify-content:center;width:calc(2px * var(--rem))}.dismissIconBox_f1kkwfhx:hover{background:#EBEBEB;border:1px solid #A8A8A8 !important}.teaserRow_fit6i0j{cursor:pointer;display:flex;gap:calc(0.5px * var(--rem));padding:calc(0.25px * var(--rem));padding-right:calc(2.5px * var(--rem))}.teaserBackground_f1akz7ku{background:transparent}.teaserBackground_f1akz7ku:hover{background:#EBEBEB;border-radius:calc(0.5px * var(--rem))}.suggestionText_ffqtqcu{margin-left:0;margin-right:calc(0.5px * var(--rem))}.teaserContent_f1a11phz{display:inline-block;text-align:left;width:fit-content}.logo_fofu1t3{align-items:center;display:flex;height:calc(1.25px * var(--rem));justify-content:center;padding-left:calc(0.25px * var(--rem))}.iconSize_ftxbu1z{height:calc(1.25px * var(--rem));width:calc(1.25px * var(--rem))}.wrapper_fpd82bo{border:7px solid rgb(51, 57, 84);position:absolute;transform:translate(-7px, -7px)}.top_fxrg51k{border-left-color:transparent;border-right-color:transparent;border-top-color:transparent}.top_fxrg51k + *{transform:translateY(7px)}.right_f8ouv74{border-bottom-color:transparent;border-right-color:transparent;border-top-color:transparent}.right_f8ouv74 + *{transform:translateX(-7px)}.bottom_f1egmyip{border-bottom-color:transparent;border-left-color:transparent;border-right-color:transparent}.bottom_f1egmyip + *{transform:translateY(-7px)}.left_fadbd2e{border-bottom-color:transparent;border-left-color:transparent;border-top-color:transparent}.left_fadbd2e + *{transform:translateX(7px)}.hidden_f5z7vvf{opacity:0;visibility:hidden}.wrapper_f1x2i2y1{position:absolute;transition:opacity .2s}.container_f1bp7wzs{pointer-events:none;position:fixed;z-index:10000}@media print{.container_f1bp7wzs{visibility:hidden}}.content_f57u1qe{background:rgb(51, 57, 84);border-radius:calc(0.25px * var(--rem));color:#F9FAFF;font-size:calc(0.75px * var(--rem));letter-spacing:0.25px;line-height:calc(1px * var(--rem));padding:calc(0.25px * var(--rem)) calc(1px * var(--rem));text-align:center;white-space:nowrap}</style><style>*[data-gramm] g{display:inline;color:inherit !important;font-size:inherit !important}*[data-gramm] gr_block{color:inherit !important;font-size:inherit !important}*[data-gramm][data-gramm_editor] .gr-alert.gr_spell,body[data-gramm_id][data-gramm_editor] .gr-alert.gr_spell,*[data-gramm][data-gramm_editor] .gr-alert.gr_gramm,body[data-gramm_id][data-gramm_editor] .gr-alert.gr_gramm{border-bottom:2px solid transparent;background-repeat:no-repeat;background-position:-1px calc(100% + 3px);background-image:url(chrome-extension://kbfnbcaeplbcioakkpcpgfkobkghlhen/src/images/1e327dac156d0f9d/underline-inline-cards.svg);background-size:calc(100% + 1px) 100%;}*[data-gramm][data-gramm_editor] .gr-alert.gr_spell.gr_premium,body[data-gramm_id][data-gramm_editor] .gr-alert.gr_spell.gr_premium,*[data-gramm][data-gramm_editor] .gr-alert.gr_gramm.gr_premium,body[data-gramm_id][data-gramm_editor] .gr-alert.gr_gramm.gr_premium{background-image:url(chrome-extension://kbfnbcaeplbcioakkpcpgfkobkghlhen/src/images/35ca7c56ceec901d/underline-inline-cards-premium.svg)}*[data-gramm][data-gramm_editor] .gr-alert.gr_spell.gr_spell .gr_gramm.gr-alert,body[data-gramm_id][data-gramm_editor] .gr-alert.gr_spell.gr_spell .gr_gramm.gr-alert,*[data-gramm][data-gramm_editor] .gr-alert.gr_gramm.gr_spell .gr_gramm.gr-alert,body[data-gramm_id][data-gramm_editor] .gr-alert.gr_gramm.gr_spell .gr_gramm.gr-alert,*[data-gramm][data-gramm_editor] .gr-alert.gr_spell.gr_gramm .gr_gramm.gr-alert,body[data-gramm_id][data-gramm_editor] .gr-alert.gr_spell.gr_gramm .gr_gramm.gr-alert,*[data-gramm][data-gramm_editor] .gr-alert.gr_gramm.gr_gramm .gr_gramm.gr-alert,body[data-gramm_id][data-gramm_editor] .gr-alert.gr_gramm.gr_gramm .gr_gramm.gr-alert{background-image:url(chrome-extension://kbfnbcaeplbcioakkpcpgfkobkghlhen/src/images/1e327dac156d0f9d/underline-inline-cards.svg);}*[data-gramm][data-gramm_editor] .gr-alert.gr_spell.gr_spell .gr_gramm.gr-alert.gr_premium,body[data-gramm_id][data-gramm_editor] .gr-alert.gr_spell.gr_spell .gr_gramm.gr-alert.gr_premium,*[data-gramm][data-gramm_editor] .gr-alert.gr_gramm.gr_spell .gr_gramm.gr-alert.gr_premium,body[data-gramm_id][data-gramm_editor] .gr-alert.gr_gramm.gr_spell .gr_gramm.gr-alert.gr_premium,*[data-gramm][data-gramm_editor] .gr-alert.gr_spell.gr_gramm .gr_gramm.gr-alert.gr_premium,body[data-gramm_id][data-gramm_editor] .gr-alert.gr_spell.gr_gramm .gr_gramm.gr-alert.gr_premium,*[data-gramm][data-gramm_editor] .gr-alert.gr_gramm.gr_gramm .gr_gramm.gr-alert.gr_premium,body[data-gramm_id][data-gramm_editor] .gr-alert.gr_gramm.gr_gramm .gr_gramm.gr-alert.gr_premium{background-image:url(chrome-extension://kbfnbcaeplbcioakkpcpgfkobkghlhen/src/images/35ca7c56ceec901d/underline-inline-cards-premium.svg)}*[data-gramm][data-gramm_editor] .gr-alert.gr_spell.gr_run_anim,body[data-gramm_id][data-gramm_editor] .gr-alert.gr_spell.gr_run_anim,*[data-gramm][data-gramm_editor] .gr-alert.gr_gramm.gr_run_anim,body[data-gramm_id][data-gramm_editor] .gr-alert.gr_gramm.gr_run_anim{animation:gr__appear_critical .4s ease forwards;}@supports (-ms-ime-align:auto){*[data-gramm][data-gramm_editor] .gr-alert.gr_spell.gr_run_anim,body[data-gramm_id][data-gramm_editor] .gr-alert.gr_spell.gr_run_anim,*[data-gramm][data-gramm_editor] .gr-alert.gr_gramm.gr_run_anim,body[data-gramm_id][data-gramm_editor] .gr-alert.gr_gramm.gr_run_anim{animation:none !important}}*[data-gramm][data-gramm_editor] .gr-alert.gr_spell.gr_disable_anim_appear,body[data-gramm_id][data-gramm_editor] .gr-alert.gr_spell.gr_disable_anim_appear,*[data-gramm][data-gramm_editor] .gr-alert.gr_gramm.gr_disable_anim_appear,body[data-gramm_id][data-gramm_editor] .gr-alert.gr_gramm.gr_disable_anim_appear{animation:none !important;background-size:calc(100% + 1px) 100% !important}*[data-gramm][data-gramm_editor] .gr-alert.gr_spell.gr-progress,body[data-gramm_id][data-gramm_editor] .gr-alert.gr_spell.gr-progress,*[data-gramm][data-gramm_editor] .gr-alert.gr_gramm.gr-progress,body[data-gramm_id][data-gramm_editor] .gr-alert.gr_gramm.gr-progress{animation:gr__appear_critical_sel_inline .5s ease forwards,gr__appear_critical .5s forwards !important;background-image:url(chrome-extension://kbfnbcaeplbcioakkpcpgfkobkghlhen/src/images/283f5c27d57541c1/underline-inline-cards-appear.svg) !important;border-bottom-width:2px;}*[data-gramm][data-gramm_editor] .gr-alert.gr_spell.gr-progress.gr_premium,body[data-gramm_id][data-gramm_editor] .gr-alert.gr_spell.gr-progress.gr_premium,*[data-gramm][data-gramm_editor] .gr-alert.gr_gramm.gr-progress.gr_premium,body[data-gramm_id][data-gramm_editor] .gr-alert.gr_gramm.gr-progress.gr_premium{animation:gr__appear_premium_sel_inline .5s ease forwards,gr__appear_critical .5s forwards !important;background-image:url(chrome-extension://kbfnbcaeplbcioakkpcpgfkobkghlhen/src/images/0a157672c1130a96/underline-inline-cards-appear-premium.svg) !important}*[data-gramm][data-gramm_editor] .gr-alert.gr_spell.gr-progress-overlay,body[data-gramm_id][data-gramm_editor] .gr-alert.gr_spell.gr-progress-overlay,*[data-gramm][data-gramm_editor] .gr-alert.gr_gramm.gr-progress-overlay,body[data-gramm_id][data-gramm_editor] .gr-alert.gr_gramm.gr-progress-overlay{animation:gr__appear_critical_sel_inline_overlay .5s ease forwards,gr__appear_critical .5s forwards !important;background-image:url(chrome-extension://kbfnbcaeplbcioakkpcpgfkobkghlhen/src/images/283f5c27d57541c1/underline-inline-cards-appear.svg) !important;border-bottom-width:2px;}*[data-gramm][data-gramm_editor] .gr-alert.gr_spell.gr-progress-overlay.gr_premium,body[data-gramm_id][data-gramm_editor] .gr-alert.gr_spell.gr-progress-overlay.gr_premium,*[data-gramm][data-gramm_editor] .gr-alert.gr_gramm.gr-progress-overlay.gr_premium,body[data-gramm_id][data-gramm_editor] .gr-alert.gr_gramm.gr-progress-overlay.gr_premium{animation:gr__appear_premium_sel_inline .5s ease forwards,gr__appear_critical .5s forwards !important;background-image:url(chrome-extension://kbfnbcaeplbcioakkpcpgfkobkghlhen/src/images/0a157672c1130a96/underline-inline-cards-appear-premium.svg) !important}*[data-gramm][data-gramm_editor] .gr-alert.gr_spell.gr_disable_anim_appear.gr-progress,body[data-gramm_id][data-gramm_editor] .gr-alert.gr_spell.gr_disable_anim_appear.gr-progress,*[data-gramm][data-gramm_editor] .gr-alert.gr_gramm.gr_disable_anim_appear.gr-progress,body[data-gramm_id][data-gramm_editor] .gr-alert.gr_gramm.gr_disable_anim_appear.gr-progress{animation:gr__appear_critical_sel_inline .5s ease forwards !important;background-size:calc(100% + 3px) 100% !important;background-position-x:-2px !important;}*[data-gramm][data-gramm_editor] .gr-alert.gr_spell.gr_disable_anim_appear.gr-progress.gr_premium,body[data-gramm_id][data-gramm_editor] .gr-alert.gr_spell.gr_disable_anim_appear.gr-progress.gr_premium,*[data-gramm][data-gramm_editor] .gr-alert.gr_gramm.gr_disable_anim_appear.gr-progress.gr_premium,body[data-gramm_id][data-gramm_editor] .gr-alert.gr_gramm.gr_disable_anim_appear.gr-progress.gr_premium{animation:gr__appear_premium_sel_inline .5s ease forwards !important}*[data-gramm][data-gramm_editor] .gr-alert.gr_spell.gr_disable_anim_appear.gr-progress-overlay,body[data-gramm_id][data-gramm_editor] .gr-alert.gr_spell.gr_disable_anim_appear.gr-progress-overlay,*[data-gramm][data-gramm_editor] .gr-alert.gr_gramm.gr_disable_anim_appear.gr-progress-overlay,body[data-gramm_id][data-gramm_editor] .gr-alert.gr_gramm.gr_disable_anim_appear.gr-progress-overlay{animation:gr__appear_critical_sel_inline_overlay .5s ease forwards !important;background-size:calc(100% + 3px) 100% !important;background-position-x:-2px !important;}*[data-gramm][data-gramm_editor] .gr-alert.gr_spell.gr_disable_anim_appear.gr-progress-overlay.gr_premium,body[data-gramm_id][data-gramm_editor] .gr-alert.gr_spell.gr_disable_anim_appear.gr-progress-overlay.gr_premium,*[data-gramm][data-gramm_editor] .gr-alert.gr_gramm.gr_disable_anim_appear.gr-progress-overlay.gr_premium,body[data-gramm_id][data-gramm_editor] .gr-alert.gr_gramm.gr_disable_anim_appear.gr-progress-overlay.gr_premium{animation:gr__appear_premium_sel_inline .5s ease forwards !important}*[data-gramm][data-gramm_editor] .gr-alert.gr_spell.gr_replaced,body[data-gramm_id][data-gramm_editor] .gr-alert.gr_spell.gr_replaced,*[data-gramm][data-gramm_editor] .gr-alert.gr_gramm.gr_replaced,body[data-gramm_id][data-gramm_editor] .gr-alert.gr_gramm.gr_replaced{border-bottom:0 !important;background-size:0 !important}*[data-gramm][data-gramm_editor] .gr-alert.gr_spell.gr_hide.sel,body[data-gramm_id][data-gramm_editor] .gr-alert.gr_spell.gr_hide.sel,*[data-gramm][data-gramm_editor] .gr-alert.gr_gramm.gr_hide.sel,body[data-gramm_id][data-gramm_editor] .gr-alert.gr_gramm.gr_hide.sel{border-bottom-width:2px}*[data-gramm][data-gramm_editor] .gr-alert.gr_spell.gr_tiny,body[data-gramm_id][data-gramm_editor] .gr-alert.gr_spell.gr_tiny,*[data-gramm][data-gramm_editor] .gr-alert.gr_gramm.gr_tiny,body[data-gramm_id][data-gramm_editor] .gr-alert.gr_gramm.gr_tiny,*[data-gramm][data-gramm_editor] .gr-alert.gr_spell:empty,body[data-gramm_id][data-gramm_editor] .gr-alert.gr_spell:empty,*[data-gramm][data-gramm_editor] .gr-alert.gr_gramm:empty,body[data-gramm_id][data-gramm_editor] .gr-alert.gr_gramm:empty{padding:0 .35em;margin:0 -.35em}*[data-gramm][data-gramm_editor] .kix-lineview .gr-alert.gr_spell,body[data-gramm_id][data-gramm_editor] .kix-lineview .gr-alert.gr_spell,*[data-gramm][data-gramm_editor] .kix-lineview .gr-alert.gr_gramm,body[data-gramm_id][data-gramm_editor] .kix-lineview .gr-alert.gr_gramm{padding:0;margin:0;width:100%;bottom:-2px;position:absolute;height:4px;}*[data-gramm][data-gramm_editor] .kix-lineview .gr-alert.gr_spell.gr_tiny,body[data-gramm_id][data-gramm_editor] .kix-lineview .gr-alert.gr_spell.gr_tiny,*[data-gramm][data-gramm_editor] .kix-lineview .gr-alert.gr_gramm.gr_tiny,body[data-gramm_id][data-gramm_editor] .kix-lineview .gr-alert.gr_gramm.gr_tiny{padding:0 .35em !important;margin:0 -.35em !important}ghost *[data-gramm][data-gramm_editor] .gr-alert.gr-progress,grammarly-ghost *[data-gramm][data-gramm_editor] .gr-alert.gr-progress,ghost body[data-gramm_id][data-gramm_editor] .gr-alert.gr-progress,grammarly-ghost body[data-gramm_id][data-gramm_editor] .gr-alert.gr-progress{animation:gr__appear_critical_sel_inline .5s ease forwards !important;}ghost *[data-gramm][data-gramm_editor] .gr-alert.gr-progress.gr_premium,grammarly-ghost *[data-gramm][data-gramm_editor] .gr-alert.gr-progress.gr_premium,ghost body[data-gramm_id][data-gramm_editor] .gr-alert.gr-progress.gr_premium,grammarly-ghost body[data-gramm_id][data-gramm_editor] .gr-alert.gr-progress.gr_premium{animation:gr__appear_premium_sel_inline .5s ease forwards !important}ghost .gr_highlight_replacement,grammarly-ghost .gr_highlight_replacement,*[data-gramm][data-gramm_editor] .gr_highlight_replacement,body[data-gramm_id][data-gramm_editor] .gr_highlight_replacement{animation:gr__fade_replacement___ 3s ease forwards !important}@keyframes gr__appear_critical{0%{background-size:0 100%}100%{background-size:calc(100% + 1px) 100%}}@keyframes gr__appear_critical_sel_inline{0%{background-color:transparent;background-size:calc(100% + 1px) 100% !important}100%{background-color:#f6d5d9;background-size:calc(100% + 1px) 100% !important}}@keyframes gr__appear_premium_sel_inline{0%{background-color:transparent;background-size:calc(100% + 1px) 100% !important}100%{background-color:rgba(250,214,51,0.25);background-size:calc(100% + 1px) 100% !important}}@keyframes gr__appear_critical_sel_inline_overlay{0%{background-color:transparent;background-size:calc(100% + 1px) 100% !important}100%{background-color:rgba(255,0,0,0.15);background-size:calc(100% + 1px) 100% !important}}@keyframes gr__fade_replacement___{0%{background-color:#cff3ec}100%{background-color:transparent}}
:host{--blue-0:#e5ebff;--blue-10:#d7e0fe;--blue-20:#b8c8fb;--blue-30:#8ca6f6;--blue-40:#5679e8;--blue-60:#2551da;--blue-80:#02289e;--blue-90:#001862;--blue-100:#000a26;--blue-gray-0:#f4f4f6;--blue-gray-5:#e2e4e9;--blue-gray-10:#cdd1dc;--blue-gray-20:#c2c6d4;--blue-gray-30:#adb2c3;--blue-gray-35:#99a0b3;--blue-gray-40:#878da2;--blue-gray-50:#798096;--blue-gray-60:#646b81;--blue-gray-70:#565b6c;--blue-gray-80:#474b58;--blue-gray-90:#27282e;--blue-gray-100:#161719;--gold-0:#fff4e0;--gold-10:#ffeac2;--gold-20:#ffdd9d;--gold-30:#ffc444;--gold-40:#ffa600;--gold-60:#d67400;--gold-80:#bd5b00;--gold-90:#794100;--gold-100:#261900;--green-0:#def7f5;--green-10:#b1f0e8;--green-20:#73e1d4;--green-30:#2cc9b6;--green-40:#16ac9a;--green-60:#027e6f;--green-80:#017467;--green-90:#014c43;--green-100:#00231f;--magenta-0:#ffe5f0;--magenta-10:#fec8dd;--magenta-20:#faaccb;--magenta-30:#f079a8;--magenta-40:#e14683;--magenta-60:#d21861;--magenta-80:#990c43;--magenta-90:#600428;--magenta-100:#26000f;--neutral-gray-0:#f5f5f5;--neutral-gray-5:#e6e6e6;--neutral-gray-10:#d7d7d7;--neutral-gray-20:#cecece;--neutral-gray-30:#bcbcbc;--neutral-gray-35:#a9a9a9;--neutral-gray-40:#979797;--neutral-gray-50:#858585;--neutral-gray-60:#727272;--neutral-gray-70:#616161;--neutral-gray-80:#4f4f4f;--neutral-gray-90:#2b2b2b;--neutral-gray-100:#191919;--purple-0:#f3e0ff;--purple-10:#e6ccfb;--purple-20:#dabaf2;--purple-30:#c194e2;--purple-40:#a469cf;--purple-60:#8943bc;--purple-80:#60258a;--purple-90:#3a1058;--purple-100:#180426;--red-0:#ffebee;--red-10:#fecdd5;--red-20:#fbabb8;--red-30:#f1768a;--red-40:#e5425c;--red-60:#d31332;--red-80:#990921;--red-90:#600312;--red-100:#260006;--teal-0:#e0fcff;--teal-10:#b2f4fa;--teal-20:#7de5ef;--teal-30:#2ac6d5;--teal-40:#1ca5b2;--teal-60:#128d99;--teal-80:#09646c;--teal-90:#034349;--teal-100:#002326;--white:#fff}:host{--elevation100-border:.5px solid var(--color-border-base-default-1);--elevation100-shadow:0 1px 4px .5px var(--color-border-base-default-f3);--elevation200-border:.5px solid var(--color-border-base-default-1);--elevation200-shadow:0 1px 8px .5px var(--color-border-base-default-f5);--elevation300-border:.5px solid var(--color-border-base-default-1);--elevation300-shadow:0 2px 12px .5px var(--color-border-base-default-f5)}:host{--radius-half:.125rem;--radius-half:calc(0.125px * var(--rem));--radius-0:0;--radius-0:calc(0px * var(--rem));--radius-1:.25rem;--radius-1:calc(0.25px * var(--rem));--radius-2:.5rem;--radius-2:calc(0.5px * var(--rem));--radius-3:.75rem;--radius-3:calc(0.75px * var(--rem))}:host{--color-background-addition-default:#017467;--color-background-addition-subdued:#def7f5;--color-background-base-default:#fff;--color-background-base-subdued:#f4f4f6;--color-background-brand-default:#027e6f;--color-background-brand-subdued:#def7f5;--color-background-business-default:#646b81;--color-background-business-subdued:#f4f4f6;--color-background-clarity-default:#2551da;--color-background-clarity-subdued:#e5ebff;--color-background-correctness-default:#d31332;--color-background-correctness-subdued:#ffebee;--color-background-critical-default:#d31332;--color-background-critical-subdued:#ffebee;--color-background-deletion-default:#d31332;--color-background-deletion-subdued:#ffebee;--color-background-delivery-default:#8943bc;--color-background-delivery-subdued:#f3e0ff;--color-background-engagement-default:#017467;--color-background-engagement-subdued:#def7f5;--color-background-neutral-default:#646b81;--color-background-plagiarism-default:#09646c;--color-background-plagiarism-subdued:#e0fcff;--color-background-premium-default:#ffc444;--color-background-premium-subdued:#fff4e0;--color-background-success-default:#017467;--color-background-success-subdued:#def7f5;--color-background-warning-default:#bd5b00;--color-background-warning-subdued:#fff4e0;--color-border-addition-default:#017467;--color-border-addition-subdued:#73e1d4;--color-border-base-default:#646b81;--color-border-base-subdued:#cdd1dc;--color-border-base-inverse:#fff;--color-border-brand-default:#027e6f;--color-border-brand-subdued:#73e1d4;--color-border-business-default:#646b81;--color-border-business-subdued:#cdd1dc;--color-border-clarity-default:#2551da;--color-border-correctness-default:#d31332;--color-border-critical-default:#d31332;--color-border-critical-subdued:#fbabb8;--color-border-deletion-default:#d31332;--color-border-deletion-subdued:#fbabb8;--color-border-delivery-default:#8943bc;--color-border-engagement-default:#017467;--color-border-plagiarism-default:#09646c;--color-border-premium-default:#ffc444;--color-border-premium-subdued:#ffdd9d;--color-border-success-default:#017467;--color-border-success-subdued:#73e1d4;--color-border-warning-default:#bd5b00;--color-border-warning-subdued:#ffdd9d;--color-icon-addition-default:#017467;--color-icon-base-default:#646b81;--color-icon-base-subdued:#adb2c3;--color-icon-base-inverse:#fff;--color-icon-brand-default:#027e6f;--color-icon-business-default:#646b81;--color-icon-critical-default:#d31332;--color-icon-deletion-default:#d31332;--color-icon-premium-default:#794100;--color-icon-success-default:#017467;--color-icon-warning-default:#d67400;--color-text-addition-default:#017467;--color-text-base-default:#161719;--color-text-base-subdued:#646b81;--color-text-base-inverse:#fff;--color-text-brand-default:#027e6f;--color-text-business-default:#646b81;--color-text-critical-default:#d31332;--color-text-dark-default:#161719;--color-text-deletion-default:#d31332;--color-text-light-default:#fff;--color-text-premium-default:#794100;--color-text-success-default:#017467;--color-text-warning-default:#794100;--color-border-base-default-1:#646b81;--color-border-base-default-f3:rgba(100,107,129,0.3);--color-border-base-default-f5:rgba(100,107,129,0.5)}:host{--space-quarter:.0625rem;--space-quarter:calc(0.0625px * var(--rem));--space-half:.125rem;--space-half:calc(0.125px * var(--rem));--space-0:0;--space-0:calc(0px * var(--rem));--space-1:.25rem;--space-1:calc(0.25px * var(--rem));--space-2:.5rem;--space-2:calc(0.5px * var(--rem));--space-3:.75rem;--space-3:calc(0.75px * var(--rem));--space-4:1rem;--space-4:calc(1px * var(--rem));--space-5:1.25rem;--space-5:calc(1.25px * var(--rem));--space-6:1.5rem;--space-6:calc(1.5px * var(--rem));--space-8:2rem;--space-8:calc(2px * var(--rem));--space-10:2.5rem;--space-10:calc(2.5px * var(--rem));--space-12:3rem;--space-12:calc(3px * var(--rem));--space-14:3.5rem;--space-14:calc(3.5px * var(--rem));--space-16:4rem;--space-16:calc(4px * var(--rem));--space-18:4.5rem;--space-18:calc(4.5px * var(--rem));--space-20:5rem;--space-20:calc(5px * var(--rem))}
:host{--base-boundaries-primary-default:#878da2;--base-boundaries-secondary-default:#cdd1dc;--base-content-onprimary-default:#fff;--base-content-primary-default:#161719;--base-content-secondary-default:#646b81;--base-surface-primary-default:#fff;--base-surface-secondary-default:#f4f4f6;--emphasized-content-onprimary-default:#161719;--emphasized-content-primary-default:#fff;--emphasized-content-secondary-default:#99a0b3;--emphasized-dangeranddeletion-primary-default:#f1768a;--emphasized-dangeranddeletion-primary-hover:#fbabb8;--emphasized-interactivebranded-primary-default:#8ca6f6;--emphasized-interactivebranded-primary-hover:#b8c8fb;--emphasized-interactiveneutral-primary-default:#99a0b3;--emphasized-interactiveneutral-primary-hover:#c2c6d4;--emphasized-successandaddition-primary-default:#18e7b7;--emphasized-successandaddition-primary-hover:#7cf4d8;--emphasized-surface-primary-default:#161719;--emphasized-warning-primary-default:#ffa600;--emphasized-warning-primary-hover:#ffc444;--interface-dangeranddeletion-primary-default:#d31332;--interface-dangeranddeletion-primary-hover:#990921;--interface-dangeranddeletion-secondary-default:#ffebee;--interface-dangeranddeletion-secondary-hover:#fecdd5;--interface-interactivebranded-primary-default:#2551da;--interface-interactivebranded-primary-hover:#02289e;--interface-interactivebranded-secondary-default:#e5ebff;--interface-interactivebranded-secondary-hover:#d7e0fe;--interface-interactiveneutral-primary-default:#646b81;--interface-interactiveneutral-primary-hover:#474b58;--interface-interactiveneutral-secondary-default:#f4f4f6;--interface-interactiveneutral-secondary-hover:#cdd1dc;--interface-premium-primary-default:#935f00;--interface-premium-primary-hover:#5c3c00;--interface-premium-secondary-default:#fff4e0;--interface-premium-secondary-hover:#ffeac2;--interface-successandaddition-primary-default:#05735a;--interface-successandaddition-primary-hover:#024d3b;--interface-successandaddition-secondary-default:#e0fff8;--interface-successandaddition-secondary-hover:#befdef;--interface-warning-primary-default:#935f00;--interface-warning-primary-hover:#5c3c00;--interface-warning-secondary-default:#fff4e0;--interface-warning-secondary-hover:#ffeac2;--suggestioncategories-business-primary-default:#646b81;--suggestioncategories-business-primary-hover:#474b58;--suggestioncategories-business-secondary-default:#f4f4f6;--suggestioncategories-business-secondary-hover:#cdd1dc;--suggestioncategories-clarity-primary-default:#2551da;--suggestioncategories-clarity-primary-hover:#02289e;--suggestioncategories-clarity-secondary-default:#e5ebff;--suggestioncategories-clarity-secondary-hover:#d7e0fe;--suggestioncategories-correctness-primary-default:#d31332;--suggestioncategories-correctness-primary-hover:#990921;--suggestioncategories-correctness-secondary-default:#ffebee;--suggestioncategories-correctness-secondary-hover:#fecdd5;--suggestioncategories-delivery-primary-default:#8943bc;--suggestioncategories-delivery-primary-hover:#60258a;--suggestioncategories-delivery-secondary-default:#f3e0ff;--suggestioncategories-delivery-secondary-hover:#e6ccfb;--suggestioncategories-engagement-primary-default:#05735a;--suggestioncategories-engagement-primary-hover:#024d3b;--suggestioncategories-engagement-secondary-default:#e0fff8;--suggestioncategories-engagement-secondary-hover:#befdef;--suggestioncategories-plagiarism-primary-default:#09646c;--suggestioncategories-plagiarism-primary-hover:#034349;--suggestioncategories-plagiarism-secondary-default:#e0fcff;--suggestioncategories-plagiarism-secondary-hover:#b2f4fa;--base-boundaries-primary-default-1:#878da2;--base-boundaries-primary-default-f3:rgba(135,141,162,0.3);--base-boundaries-primary-default-f5:rgba(135,141,162,0.5)}
@media print{.dnXmp,:host(.dnXmp),[data-grammarly-part]{display:none !important}}
.E036s{overflow:hidden}
.ymqHP{visibility:hidden;position:fixed;}.ymqHP:after{content:'';position:absolute;visibility:visible;height:3px;bottom:0;border-radius:10px;background:#488cc8;animation:JQguZ 1.3s ease forwards}.ymqHP.ExcM8:after{animation:JQguZ .2s ease forwards}@keyframes JQguZ{0%{width:0%}100%{width:100%}}
.pHj9I{font-family:Inter,sans-serif;font-style:normal;font-weight:normal;color:#0e101a;font-size:12px;line-height:18px;padding:8px 16px;}.pHj9I.jijnV{display:-ms-grid;display:grid;-ms-grid-columns:26px auto;grid-template-columns:26px auto;}.pHj9I.jijnV .wONgE{font-family:Inter,sans-serif;font-style:normal;font-weight:normal;color:#6d758d;font-size:12px;line-height:18px}.pHj9I [data-grammarly-part='definitions-card-item-qualifier']{font-family:Inter,sans-serif;font-style:normal;font-weight:normal;color:#6d758d;font-size:12px;line-height:18px}
.jmKNY{padding:8px 16px}
.SD4B_{font-family:Inter,sans-serif;font-style:normal;font-weight:normal;color:#0e101a;font-size:14px;line-height:21px;font-feature-settings:'ss03' on;-webkit-font-smoothing:antialiased;background:#fff;border-radius:8px;overflow:hidden;outline:none;}.SD4B_.lDTYf{box-shadow:0 12px 48px rgba(109,117,141,0.2);}.SD4B_.lDTYf.I8fWz{min-width:216px;max-width:324px}.SD4B_.lDTYf.zFjOi{width:324px}.SD4B_.lDTYf.SzLk5{min-width:216px;max-width:none}.SD4B_.SsdZ1{width:100%;box-shadow:0 1px 8px rgba(109,117,141,0.18);}.SD4B_.SsdZ1 > *:first-child{margin:8px}.SD4B_.SsdZ1.OYPRO{min-height:52px;display:-ms-flexbox;display:flex;-ms-flex-direction:column;flex-direction:column;-ms-flex-pack:center;justify-content:center}.SD4B_.FxoHS{cursor:pointer}
.WOgQw{display:-ms-flexbox;display:flex;width:100%;}.WOgQw.vr12Q{-ms-flex-align:center;align-items:center}.WOgQw.Xp7W2{-ms-flex-pack:justify;justify-content:space-between}.WOgQw .mh9xQ{display:-ms-flexbox;display:flex;-ms-flex-pack:center;justify-content:center;width:18px}.WOgQw .tGGjR{display:-ms-flexbox;display:flex;-ms-flex:1;flex:1;-ms-flex-align:center;align-items:center}
.sk6r7{font-family:Inter,sans-serif;font-style:normal;font-weight:normal;color:#0e101a;font-size:12px;line-height:18px;padding:8px 16px;}.sk6r7 b{font-style:italic}
.GKcal{font-family:Inter,sans-serif;font-style:normal;font-weight:normal;color:#0e101a;font-size:12px;line-height:18px;display:-ms-flexbox;display:flex;-ms-flex-align:start;align-items:start;padding:8px 16px;}.GKcal .c2T9j,.GKcal .jp7Ti{width:16px;height:16px}.GKcal .i3Orm{height:18px;display:-ms-flexbox;display:flex;-ms-flex-align:center;align-items:center;margin-right:8px}.GKcal .xXlYa{margin-left:8px}.GKcal .xXlYa{margin-left:8px}
.goatt{display:block;}.goatt.cUc93{color:initial}
.stkrr{display:-ms-inline-flexbox;display:inline-flex;-ms-flex-direction:column;flex-direction:column;-ms-flex-pack:center;justify-content:center;border-radius:4px;padding:0 4px;}.stkrr.XTtJC{font-family:Inter,sans-serif;font-style:normal;font-weight:normal;color:#4a6ee0;font-size:10px;line-height:16px;letter-spacing:.04em;text-transform:uppercase;background:#edf5ff}.stkrr.VlXa2{font-family:Inter,sans-serif;font-style:normal;font-weight:normal;color:#0d8065;font-size:10px;line-height:16px;letter-spacing:.04em;text-transform:uppercase;background:#d7f7f0}.stkrr.TvgjE{font-family:Inter,sans-serif;font-style:normal;font-weight:normal;color:#8c5404;font-size:10px;line-height:16px;letter-spacing:.04em;text-transform:uppercase;background:#ffdf80}.stkrr.elqes{font-family:Inter,sans-serif;font-style:normal;font-weight:normal;color:#ce1331;font-size:10px;line-height:16px;letter-spacing:.04em;text-transform:uppercase;background:#fdf0f3}.stkrr.rI61B{border-radius:50%;padding:0;}.stkrr.j0sDJ{width:16px;height:16px}.stkrr.mJWU1{width:24px;height:24px}.stkrr.VhQJY{width:32px;height:32px}.stkrr .yHBKc{display:-ms-flexbox;display:flex;-ms-flex-pack:center;justify-content:center;white-space:nowrap;}.stkrr .yHBKc.CZLBe{font-weight:bold}
.uaHSw,a{display:-ms-flexbox;display:flex;-ms-flex-pack:center;justify-content:center;-ms-flex-align:start;align-items:flex-start;white-space:nowrap}.uaHSw{background:transparent;-ms-flex-direction:column;flex-direction:column;padding:8px 16px;cursor:default;-webkit-user-select:none;-ms-user-select:none;user-select:none;}.uaHSw.avqAQ{cursor:pointer;background-color:#f0f2fc}.uaHSw a{color:inherit;text-decoration:none}.uaHSw a .uaHSw{width:100%}
@keyframes tRHmW{0%{transform:rotate(0)}100%{transform:rotate(360deg)}}.K_LMA{width:24px;height:24px;background-size:24px 24px;background-image:url(chrome-extension://kbfnbcaeplbcioakkpcpgfkobkghlhen/src/images/6461601641d74251/arrow-right.svg);background-repeat:no-repeat}
.nURov{display:-ms-inline-flexbox;display:inline-flex}.Ij6SI{display:-ms-flexbox;display:flex;-ms-flex-direction:column;flex-direction:column;padding:8px 0;margin-block-start:0;margin-block-end:0;}.Ij6SI.O_T5O{padding:0}.Ij6SI .EF47u{font-family:Inter,sans-serif;font-style:normal;font-weight:normal;color:#6d758d;font-size:12px;line-height:18px;height:32px;padding-left:12px;display:-ms-flexbox;display:flex;-ms-flex-align:center;align-items:center}.Ij6SI .hiFzz{height:0;border-top:1px solid #e7e9f5}.Ij6SI .AFz96{border-top:1px solid #e7e9f5}.Ij6SI .G04S7{padding:8px 16px;}.Ij6SI .G04S7:first-of-type{padding-top:8px}.Ij6SI .G04S7:last-of-type{padding-bottom:8px}.Ij6SI .wt6uR{font-family:Inter,sans-serif;font-style:normal;font-weight:normal;color:#0e101a;font-size:14px;line-height:21px;font-feature-settings:'ss03' on;margin:0;padding:0 6px;cursor:pointer;height:40px;display:-ms-flexbox;display:flex;-ms-flex-direction:column;flex-direction:column;-ms-flex-pack:center;justify-content:center;}.Ij6SI .wt6uR.ct1Rs{font-size:12px;line-height:18px;border-radius:4px;}.Ij6SI .wt6uR.ct1Rs.hJmoX{cursor:not-allowed}.Ij6SI .wt6uR.hJmoX{color:#9fa6bf}.Ij6SI .wt6uR .jgsgt.l6_mK{display:-ms-grid;display:grid;-ms-grid-columns:32px auto;grid-template-columns:32px auto;grid-column-gap:4px;-ms-flex-align:center;align-items:center;padding-right:.5rem;}.Ij6SI .wt6uR .jgsgt.l6_mK .DD9ET{display:-ms-flexbox;display:flex;-ms-flex-pack:center;justify-content:center;-ms-flex-align:center;align-items:center}.Ij6SI .wt6uR:not(.hJmoX):hover{background-color:#f0f2fc}
.m0jPP{position:absolute;}.m0jPP.X6ecE{top:-8px;border-left:8px solid transparent;border-right:8px solid transparent;border-bottom:8px solid #fff;}.m0jPP.X6ecE.m12bb{border-bottom-color:#333954}.m0jPP.X6ecE.EKEQa{border-bottom-color:#161719}.m0jPP.NsYpj{bottom:-8px;border-left:8px solid transparent;border-right:8px solid transparent;border-top:8px solid #fff;}.m0jPP.NsYpj.m12bb{border-top-color:#333954}.m0jPP.NsYpj.EKEQa{border-top-color:#161719}.m0jPP.IQwgo{left:-8px;border-top:8px solid transparent;border-bottom:8px solid transparent;border-right:8px solid #fff;}.m0jPP.IQwgo.m12bb{border-right-color:#333954}.m0jPP.IQwgo.EKEQa{border-right-color:#161719}.m0jPP.k4czK{right:-8px;border-top:8px solid transparent;border-bottom:8px solid transparent;border-left:8px solid #fff;}.m0jPP.k4czK.m12bb{border-left-color:#333954}.m0jPP.k4czK.EKEQa{border-left-color:#161719}
.WEkke{display:-ms-inline-flexbox;display:inline-flex}.IjZe9{filter:drop-shadow(0 0 .5px #878da2) drop-shadow(0 0 2px rgba(135,141,162,0.5)) drop-shadow(0 1px 6px rgba(135,141,162,0.25))}
@keyframes DgOJb{0%{transform:rotate(0)}100%{transform:rotate(360deg)}}.xMSt8{width:32px;height:32px;background-size:32px 32px;background-image:url(chrome-extension://kbfnbcaeplbcioakkpcpgfkobkghlhen/src/images/905b120faab09422/close.svg);background-repeat:no-repeat}.KJIVs{width:24px;height:24px;background-size:24px 24px;background-image:url(chrome-extension://kbfnbcaeplbcioakkpcpgfkobkghlhen/src/images/ce7bc9687440e652/close-small.svg);background-repeat:no-repeat}.vwkk7{width:32px;height:32px;background-size:32px 32px;background-image:url(chrome-extension://kbfnbcaeplbcioakkpcpgfkobkghlhen/src/images/093e98fba73e0c60/close-white.svg);background-repeat:no-repeat}
.Xv6nu{box-shadow:none;-webkit-user-select:none;-ms-user-select:none;user-select:none;border:none;border-radius:4px;}.Xv6nu:focus{outline:#99c2ff auto 3px}.Xv6nu:focus:not(:focus-visible){outline:none}.Xv6nu:focus-visible{outline:#99c2ff auto 3px}.Xv6nu.wsrpG{border-radius:32px}.Xv6nu:not(.aaYpW){padding:0}.Xv6nu.zi_ja{font-family:Inter,sans-serif;font-style:normal;font-weight:bold;color:#fff;font-size:14px;line-height:26px}.Xv6nu.KumoA{font-family:Inter,sans-serif;font-style:normal;font-weight:bold;color:#fff;font-size:14px;line-height:32px}.Xv6nu.uQ7bn,.Xv6nu.v1SWt{font-family:Inter,sans-serif;font-style:normal;font-weight:bold;color:#4a6ee0;font-size:14px;line-height:32px}.Xv6nu.XiP1W{font-family:Inter,sans-serif;font-style:normal;font-weight:normal;color:#4a6ee0;font-size:12px;line-height:18px}.Xv6nu.FfbwC{cursor:pointer;}.Xv6nu.FfbwC.u8dZN{background:#4a6ee0;}.Xv6nu.FfbwC.u8dZN:hover{background:#638eeb}.Xv6nu.FfbwC.u8dZN:active{background:#3659b5}.Xv6nu.FfbwC.bx7Ao{background:#11a683;}.Xv6nu.FfbwC.bx7Ao:hover{background:#15c39a}.Xv6nu.FfbwC.bx7Ao:active{background:#0d8065}.Xv6nu.FfbwC.uQ7bn:not(.QJ7SS),.Xv6nu.FfbwC.XiP1W{background:transparent;}.Xv6nu.FfbwC.uQ7bn:not(.QJ7SS):hover,.Xv6nu.FfbwC.XiP1W:hover{color:#3659b5}.Xv6nu.FfbwC.uQ7bn:not(.QJ7SS):active,.Xv6nu.FfbwC.XiP1W:active{color:#26307d}.Xv6nu.FfbwC.uQ7bn.QJ7SS{background:transparent;transition:background .15s cubic-bezier(.4,0,.2,1);}.Xv6nu.FfbwC.uQ7bn.QJ7SS:hover{background:#e7e9f5}.Xv6nu.FfbwC.uQ7bn.QJ7SS:active{background:#c6cbde}.Xv6nu.FfbwC.v1SWt{background:transparent;border:1px solid #c6cbde;}.Xv6nu.FfbwC.v1SWt:hover{background:#edf5ff;color:#4a6ee0}.Xv6nu.FfbwC.v1SWt:active{background:#dbebff;color:#4a6ee0}.Xv6nu.FfbwC.R0C6b{background:#4d536e;}.Xv6nu.FfbwC.R0C6b:hover{background:#6d758d}.Xv6nu.FfbwC.R0C6b:active{background:#333954}.Xv6nu.FfbwC.Glsdy{background:#f0f2fc;}.Xv6nu.FfbwC.Glsdy:hover{background:#e7e9f5}.Xv6nu.FfbwC.Glsdy:active{background:#c6cbde}.Xv6nu.FfbwC.Xxwoy{background:#fff;box-shadow:0 0 2px .5px rgba(135,141,162,0.5),0 1px 6px .5px rgba(135,141,162,0.25);}.Xv6nu.FfbwC.Xxwoy:hover{background:#f0f2fc}.Xv6nu.FfbwC.Xxwoy:active{background:#e7e9f5}.Xv6nu.FfbwC.FyfT4{background:#ffdf80;color:#8c5404;}.Xv6nu.FfbwC.FyfT4 path{stroke:#8c5404}.Xv6nu.FfbwC.FyfT4:hover{background:#ffc940}.Xv6nu.VMMkP{pointer-events:none;background:#e7e9f5;color:#9fa6bf;}.Xv6nu.VMMkP.uQ7bn,.Xv6nu.VMMkP.XiP1W,.Xv6nu.VMMkP.v1SWt{background:transparent}.Xv6nu.VMMkP.v1SWt{border:1px solid #e7e9f5}.Xv6nu .xYKB9{font-weight:normal}
@keyframes IMGhE{0%{transform:rotate(0)}100%{transform:rotate(360deg)}}.Rktrz{background:#fff;box-shadow:0 0 .5px rgba(0,0,0,0.7),0 2px 8px rgba(26,33,52,0.2);border-radius:8px;}.Rktrz.Iackh{background:#333954}.Rktrz.Egf_e{background:#161719;color:#fff}.Rktrz.Zglu8{width:160px}.Rktrz.KDiTE{width:248px}.Rktrz.Ut6iQ{width:288px}.Rktrz.JyayS{width:344px}.Rktrz .w7cHF{padding-top:8px;padding-bottom:8px;padding-left:12px;padding-right:12px;display:-ms-flexbox;display:flex;-ms-flex-pack:justify;justify-content:space-between;-ms-flex-align:center;align-items:center;}.Rktrz .w7cHF.sJfMe{-ms-flex-direction:row-reverse;flex-direction:row-reverse}.Rktrz .w7cHF .cRXvV{display:-ms-flexbox;display:flex;-ms-flex-align:center;align-items:center;}.Rktrz .w7cHF .cRXvV .mYqjL{margin-right:12px;}.Rktrz .w7cHF .cRXvV .mYqjL.D98fm{width:32px;height:32px;background-size:32px 32px;background-image:url(chrome-extension://kbfnbcaeplbcioakkpcpgfkobkghlhen/src/images/9d6accddf9d3a975/notification-ok.svg);background-repeat:no-repeat;margin-left:-6px}.Rktrz .w7cHF .cRXvV .mYqjL.y9R1h{width:32px;height:32px;background-size:32px 32px;background-image:url(chrome-extension://kbfnbcaeplbcioakkpcpgfkobkghlhen/src/images/9ea9cbd26195de3a/notification-warning.svg);background-repeat:no-repeat;margin-left:-6px}.Rktrz .w7cHF .cRXvV .mYqjL.BTEFg{width:66px;height:38px;background-size:66px 38px;background-image:url(chrome-extension://kbfnbcaeplbcioakkpcpgfkobkghlhen/src/images/b11b1d91ba34cb09/new-magic-badge.svg);background-repeat:no-repeat;margin-left:6px;margin-top:8px}.Rktrz .lafeo{padding:11px 16px;}.Rktrz .lafeo.M2ZM4{padding:0}
.pg_od{font-family:Inter,sans-serif;font-style:normal;font-weight:normal;color:#6d758d;font-size:12px;line-height:18px;line-height:21px}
.AQrxz{font-family:Inter,sans-serif;font-style:normal;font-weight:normal;color:#0e101a;font-size:12px;line-height:18px}
.kilQ_{width:24px;height:24px;cursor:pointer;display:-ms-flexbox;display:flex;-ms-flex-pack:center;justify-content:center;-ms-flex-align:center;align-items:center;margin-left:14px;}.kilQ_:hover{background-color:#f0f2fc;border-radius:4px}
.ouSlE{font-family:Inter,sans-serif;font-style:normal;font-weight:normal;color:#0e101a;font-size:12px;line-height:18px;color:#8c5404;}.ouSlE svg{margin:0 6px}.qOolD{font-family:Inter,sans-serif;font-style:normal;font-weight:normal;color:#0e101a;font-size:12px;line-height:18px;color:#8c5404;}.qOolD svg{margin:0 6px 0 3px}
.amkYk{font-style:normal;font-weight:normal;font-family:Inter,-apple-system,BlinkMacSystemFont,'Segoe UI',Roboto,Oxygen,Ubuntu,Cantarell,'Helvetica Neue',sans-serif,Arial;}.amkYk button,.amkYk input,.amkYk textarea{font-family:inherit}
.GaXCJ{-webkit-font-smoothing:antialiased;display:-ms-flexbox;display:flex;background:#333954;color:#fff;padding:8px;border-radius:4px;font-size:12px;line-height:16px;pointer-events:none;animation:BYM2T ease .2s forwards;-ms-flex-direction:row;flex-direction:row}.edAVi{min-width:18px;padding-right:8px}@keyframes BYM2T{from{opacity:0}to{opacity:1}}
@keyframes CSZH1{0%{transform:rotate(0)}100%{transform:rotate(360deg)}}._ErYR{background:none;cursor:pointer;border:none;border-radius:22px;padding:2px;}._ErYR:hover{background:#e2e4e9}._ErYR .i8HXG{width:22px;height:23px;background-size:22px 23px;background-image:url(chrome-extension://kbfnbcaeplbcioakkpcpgfkobkghlhen/src/images/4c1040aef5510f31/light-bulb.svg);background-repeat:no-repeat}
.ebkJm{position:absolute;margin:0;padding:0;}.ebkJm.C1QGK .Xuw1x{background-color:#def7f5}.ebkJm.C1QGK .Xy8iw{width:4px;transform:translateX(-12px);}.ebkJm.C1QGK .Xy8iw.JyoiH{width:16px;transform:translateX(-10px);}.ebkJm.C1QGK .Xy8iw.JyoiH.QWab2{box-shadow:0 0 4px 0 rgba(0,0,0,0.5);background-color:#16ac9a}.ebkJm.C1QGK .Xy8iw.QWab2{border-color:rgba(60,60,67,0.18)}.Xuw1x{position:absolute;width:100%;height:100%;transition:.1s}.Xy8iw{position:absolute;width:4px;left:0;top:0;height:100%;border-radius:2px;transform:translateX(-6px);box-sizing:border-box;border:1px solid rgba(0,0,0,0);transition:.1s;cursor:pointer;}.Xy8iw.QWab2{background-color:#017467}.YMc40{position:absolute;bottom:0;left:0;z-index:999;overflow:visible;transform:translate(-2px,4px);pointer-events:all;cursor:pointer}
.Jupcl{position:absolute;margin:0;padding:0;}.Jupcl.GpjRg{mix-blend-mode:darken}.Jupcl.AydPB{mix-blend-mode:hard-light}.Jupcl .REwgW{position:absolute;width:100%;height:100%}.Jupcl .QnVQL{position:absolute;bottom:-2px;width:100%;height:3px}.Jupcl .QnVQL.idsUc:after{content:"....";color:transparent;position:absolute;height:0;bottom:0;right:-18px;border-bottom:3px dotted #027e6f}.Jupcl:not(.sSlVb) .QnVQL.SI8GN{animation:DKx9g .4s ease forwards}.Jupcl:not(.sSlVb) .QnVQL.Toqdh{animation:DKx9g 1.3s ease forwards}.Jupcl.inSdx .QnVQL{display:none}.Jupcl.a9sta .REwgW{display:none}.Jupcl.wBKz6 .REwgW{display:none}.Jupcl:not(.DshPN):not(.xf5DP):not(.ARj7P):not(.Ku9Jv):not(.sSlVb) .REwgW{opacity:0}.Jupcl.Ku9Jv:not(.ARj7P) .REwgW,.Jupcl.sSlVb:not(.ARj7P) .REwgW{opacity:.25}.Jupcl.ARj7P:not(.DshPN):not(.xf5DP):not(.sSlVb){animation:VXY0E .5s ease forwards}.Jupcl.ARj7P.Ku9Jv{animation:VXY0E .5s ease forwards}.Jupcl.ARj7P.sSlVb{opacity:.25}.Jupcl.ARj7P .QnVQL{display:none}.Jupcl.DshPN,.Jupcl.xf5DP{z-index:1}.Jupcl.DshPN:not(.xf5DP):not(.ARj7P):not(.Ku9Jv):not(.sSlVb) .REwgW{animation:VXY0E .5s ease forwards}.Jupcl.DshPN:not(.xf5DP):not(.ARj7P).Ku9Jv .REwgW,.Jupcl.DshPN:not(.xf5DP):not(.ARj7P).sSlVb .REwgW{opacity:.25}.Jupcl.DshPN:not(.xf5DP):not(.ARj7P).oI4gx:not(.sSlVb) .REwgW{animation-name:I5Mzs;animation-duration:.5s;animation-timing-function:ease;animation-fill-mode:forwards}.Jupcl.DshPN:not(.xf5DP):not(.ARj7P).oI4gx:not(.sSlVb) .QnVQL{animation-name:mBmA4;animation-duration:.5s;animation-timing-function:ease;animation-fill-mode:forwards}.Jupcl.DshPN:not(.xf5DP).ARj7P:not(.Ku9Jv):not(.sSlVb) .REwgW{animation:YyaFw .5s ease forwards}.Jupcl.DshPN:not(.xf5DP).ARj7P.oI4gx:not(.sSlVb) .REwgW{animation-name:ybu6W;animation-duration:.5s;animation-timing-function:ease;animation-fill-mode:forwards}.Jupcl.xf5DP:not(.Ku9Jv):not(.sSlVb):not(.ARj7P) .REwgW{animation-name:i8Ci6,ctzE5,VXY0E;animation-duration:.2s,.2s,.2s;animation-timing-function:ease-in-out,ease-in-out,ease-in-out;animation-delay:0s,.2s,.4s;animation-fill-mode:forwards,forwards,forwards}.Jupcl.xf5DP:not(.Ku9Jv):not(.sSlVb):not(.ARj7P).oI4gx .REwgW{animation-name:I5Mzs;animation-duration:.5s;animation-timing-function:ease;animation-fill-mode:forwards}.Jupcl.xf5DP:not(.Ku9Jv):not(.sSlVb):not(.ARj7P).oI4gx .QnVQL{animation-name:mBmA4;animation-duration:.5s;animation-timing-function:ease;animation-fill-mode:forwards}.Jupcl.xf5DP:not(.Ku9Jv):not(.sSlVb).ARj7P .REwgW{animation-name:DBDjK,bHZil,YyaFw;animation-duration:.2s,.2s,.2s;animation-timing-function:ease-in-out,ease-in-out,ease-in-out;animation-delay:0s,.2s,.4s;animation-fill-mode:forwards,forwards,forwards}.Jupcl.xf5DP:not(.Ku9Jv):not(.sSlVb).ARj7P.oI4gx .REwgW{animation-name:ybu6W;animation-duration:.5s;animation-timing-function:ease;animation-fill-mode:forwards}.Jupcl.YSZTR .QnVQL{background-color:#ff99ab}.Jupcl.YSZTR .REwgW{background-color:#f27388}.Jupcl.YSZTR.DshPN .QnVQL,.Jupcl.YSZTR.xf5DP .QnVQL,.Jupcl.YSZTR.Ku9Jv .QnVQL,.Jupcl.YSZTR.sSlVb .QnVQL{background-color:#ea1537}.Jupcl.YSZTR.wBKz6 .QnVQL{background-color:transparent;background-image:var(--underline-start-gradient)}.Jupcl.YSZTR.wBKz6.DshPN .QnVQL,.Jupcl.YSZTR.wBKz6.xf5DP .QnVQL,.Jupcl.YSZTR.wBKz6.Ku9Jv .QnVQL,.Jupcl.YSZTR.wBKz6.sSlVb .QnVQL{background-color:transparent;background-image:var(--underline-start-gradient-hovered)}.Jupcl.lUmQf .QnVQL{background-color:#99c2ff}.Jupcl.lUmQf .REwgW{background-color:#79a8e2}.Jupcl.lUmQf.DshPN .QnVQL,.Jupcl.lUmQf.xf5DP .QnVQL,.Jupcl.lUmQf.Ku9Jv .QnVQL,.Jupcl.lUmQf.sSlVb .QnVQL{background-color:#4a6ee0}.Jupcl.lUmQf.wBKz6 .QnVQL{background-color:transparent;background-image:var(--underline-start-gradient)}.Jupcl.lUmQf.wBKz6.DshPN .QnVQL,.Jupcl.lUmQf.wBKz6.xf5DP .QnVQL,.Jupcl.lUmQf.wBKz6.Ku9Jv .QnVQL,.Jupcl.lUmQf.wBKz6.sSlVb .QnVQL{background-color:transparent;background-image:var(--underline-start-gradient-hovered)}.Jupcl.qlU9z .QnVQL{background-color:#aaf2e1}.Jupcl.qlU9z .REwgW{background-color:#87e8d1}.Jupcl.qlU9z.DshPN .QnVQL,.Jupcl.qlU9z.xf5DP .QnVQL,.Jupcl.qlU9z.Ku9Jv .QnVQL,.Jupcl.qlU9z.sSlVb .QnVQL{background-color:#15c39a}.Jupcl.qlU9z.wBKz6 .QnVQL{background-color:transparent;background-image:var(--underline-start-gradient)}.Jupcl.qlU9z.wBKz6.DshPN .QnVQL,.Jupcl.qlU9z.wBKz6.xf5DP .QnVQL,.Jupcl.qlU9z.wBKz6.Ku9Jv .QnVQL,.Jupcl.qlU9z.wBKz6.sSlVb .QnVQL{background-color:transparent;background-image:var(--underline-start-gradient-hovered)}.Jupcl.yt6yL .QnVQL{background-color:#41d9b5}.Jupcl.yt6yL .REwgW{background-color:#41d9b5}.Jupcl.yt6yL.DshPN .QnVQL,.Jupcl.yt6yL.xf5DP .QnVQL,.Jupcl.yt6yL.Ku9Jv .QnVQL,.Jupcl.yt6yL.sSlVb .QnVQL{background-color:#15c39a}.Jupcl.yt6yL.wBKz6 .QnVQL{background-color:transparent;background-image:var(--underline-start-gradient)}.Jupcl.yt6yL.wBKz6.DshPN .QnVQL,.Jupcl.yt6yL.wBKz6.xf5DP .QnVQL,.Jupcl.yt6yL.wBKz6.Ku9Jv .QnVQL,.Jupcl.yt6yL.wBKz6.sSlVb .QnVQL{background-color:transparent;background-image:var(--underline-start-gradient-hovered)}.Jupcl.yl6gK .QnVQL{background-color:#d3a1f7}.Jupcl.yl6gK .REwgW{background-color:#bd79ed}.Jupcl.yl6gK.DshPN .QnVQL,.Jupcl.yl6gK.xf5DP .QnVQL,.Jupcl.yl6gK.Ku9Jv .QnVQL,.Jupcl.yl6gK.sSlVb .QnVQL{background-color:#8f4dbf}.Jupcl.yl6gK.wBKz6 .QnVQL{background-color:transparent;background-image:var(--underline-start-gradient)}.Jupcl.yl6gK.wBKz6.DshPN .QnVQL,.Jupcl.yl6gK.wBKz6.xf5DP .QnVQL,.Jupcl.yl6gK.wBKz6.Ku9Jv .QnVQL,.Jupcl.yl6gK.wBKz6.sSlVb .QnVQL{background-color:transparent;background-image:var(--underline-start-gradient-hovered)}.Jupcl.W6JT4 .QnVQL{background-color:#ffdf80}.Jupcl.W6JT4 .REwgW{background-color:#ffc940}.Jupcl.W6JT4.DshPN .QnVQL,.Jupcl.W6JT4.xf5DP .QnVQL,.Jupcl.W6JT4.Ku9Jv .QnVQL,.Jupcl.W6JT4.sSlVb .QnVQL{background-color:#ffa600}.Jupcl.W6JT4.wBKz6 .QnVQL{background-color:transparent;background-image:var(--underline-start-gradient)}.Jupcl.W6JT4.wBKz6.DshPN .QnVQL,.Jupcl.W6JT4.wBKz6.xf5DP .QnVQL,.Jupcl.W6JT4.wBKz6.Ku9Jv .QnVQL,.Jupcl.W6JT4.wBKz6.sSlVb .QnVQL{background-color:transparent;background-image:var(--underline-start-gradient-hovered)}.Jupcl.uPdhS .QnVQL{background-color:#e7e9f5}.Jupcl.uPdhS .REwgW{background-color:#9fa6bf}.Jupcl.uPdhS.DshPN .QnVQL,.Jupcl.uPdhS.xf5DP .QnVQL,.Jupcl.uPdhS.Ku9Jv .QnVQL,.Jupcl.uPdhS.sSlVb .QnVQL{background-color:#6d758d}.Jupcl.uPdhS.wBKz6 .QnVQL{background-color:transparent;background-image:var(--underline-start-gradient)}.Jupcl.uPdhS.wBKz6.DshPN .QnVQL,.Jupcl.uPdhS.wBKz6.xf5DP .QnVQL,.Jupcl.uPdhS.wBKz6.Ku9Jv .QnVQL,.Jupcl.uPdhS.wBKz6.sSlVb .QnVQL{background-color:transparent;background-image:var(--underline-start-gradient-hovered)}.Jupcl.iziVD .QnVQL{background-color:rgba(9,164,178,0.502)}.Jupcl.iziVD .REwgW{background-color:#acebf1}.Jupcl.iziVD.DshPN .QnVQL,.Jupcl.iziVD.xf5DP .QnVQL,.Jupcl.iziVD.Ku9Jv .QnVQL,.Jupcl.iziVD.sSlVb .QnVQL{background-color:#09a4b2}.Jupcl.iziVD.wBKz6 .QnVQL{background-color:transparent;background-image:var(--underline-start-gradient)}.Jupcl.iziVD.wBKz6.DshPN .QnVQL,.Jupcl.iziVD.wBKz6.xf5DP .QnVQL,.Jupcl.iziVD.wBKz6.Ku9Jv .QnVQL,.Jupcl.iziVD.wBKz6.sSlVb .QnVQL{background-color:transparent;background-image:var(--underline-start-gradient-hovered)}.Jupcl.YO7r1 .QnVQL{background-color:#027e6f}.Jupcl.YO7r1 .REwgW{background-color:#a8a8a8}.Jupcl.YO7r1.DshPN .QnVQL,.Jupcl.YO7r1.xf5DP .QnVQL,.Jupcl.YO7r1.Ku9Jv .QnVQL,.Jupcl.YO7r1.sSlVb .QnVQL{background-color:#017467}.Jupcl.YO7r1.wBKz6 .QnVQL{background-color:transparent;background-image:var(--underline-start-gradient)}.Jupcl.YO7r1.wBKz6.DshPN .QnVQL,.Jupcl.YO7r1.wBKz6.xf5DP .QnVQL,.Jupcl.YO7r1.wBKz6.Ku9Jv .QnVQL,.Jupcl.YO7r1.wBKz6.sSlVb .QnVQL{background-color:transparent;background-image:var(--underline-start-gradient-hovered)}@keyframes DKx9g{0%{width:0%}100%{width:100%}}@keyframes mBmA4{0%{opacity:1}100%{opacity:0}}@keyframes VXY0E{0%{opacity:0}100%{opacity:.25}}@keyframes I5Mzs{0%{opacity:.25}100%{opacity:0}}@keyframes ctzE5{0%{opacity:.65}100%{opacity:0}}@keyframes i8Ci6{0%{opacity:0}100%{opacity:.65}}@keyframes YyaFw{0%{opacity:.25}100%{opacity:.5}}@keyframes ybu6W{0%{opacity:.5}100%{opacity:0}}@keyframes DBDjK{0%{opacity:.25}100%{opacity:.65}}@keyframes bHZil{0%{opacity:.65}100%{opacity:.25}}
@keyframes Gmzav{0%{transform:rotate(0)}100%{transform:rotate(360deg)}}.ptGJG{-ms-flex-direction:row;flex-direction:row;-ms-flex-align:center;align-items:center}
.cuBuK:before{content:'';display:inline-block;width:20px;height:20px;background-size:20px 20px;background-image:url(chrome-extension://kbfnbcaeplbcioakkpcpgfkobkghlhen/src/images/ed3cf900c7124783/info.svg);background-repeat:no-repeat}.uBI59{font-family:Inter !important;font-weight:normal !important;font-size:12px !important;color:#6d758d !important;white-space:nowrap !important;margin:0 6px !important}.HHZ0f{margin-left:10px !important}.HHZ0f:before{content:'';display:inline-block;width:12px;height:12px;background-size:12px 12px;background-image:url(chrome-extension://kbfnbcaeplbcioakkpcpgfkobkghlhen/src/images/5113bc1a70156789/close.svg);background-repeat:no-repeat}
.DKn0C{cursor:pointer !important;color:#1c1e29 !important;font-size:14px !important;font-family:Inter,-apple-system,BlinkMacSystemFont,'Segoxe UI',Roboto,Oxygen,Ubuntu,Cantarell,'Helvetica Neue',sans-serif !important;font-weight:100 !important;}.DKn0C .TAanz{position:relative !important;white-space:nowrap !important;background:#fff !important;display:-ms-flexbox !important;display:flex !important;-ms-flex-align:center !important;align-items:center !important;height:28px !important;}.DKn0C .TAanz .X8oUo{visibility:hidden !important;position:absolute !important;right:-10px !important;bottom:5px !important;transform:rotate(90deg) scale(1.05,.7) !important;text-shadow:rgba(76,85,101,0.25) .5px -2px 2px !important;border:1px solid rgba(76,85,101,0.01) !important;color:#fff !important}.DKn0C .TAanz .rPSfu{visibility:visible !important}.DKn0C .Z3iZh{background:#fff !important;position:absolute !important;top:0 !important;bottom:0 !important;left:0 !important;right:100% !important}div.lZaei{margin-left:5px !important;}div.lZaei .DKn0C{overflow-x:hidden !important;height:38px !important;margin-top:-7px;padding:3px 2px 0 !important;}div.lZaei .DKn0C .TAanz{box-shadow:0 1px 2px 1px rgba(0,0,0,0.1) !important;margin-right:10px !important;padding:0 6px !important}div.lZaei .DKn0C .Z3iZh{margin:-2px !important}div.lZaei.uUOra{transition:visibility .2s ease .2s,opacity .2s ease .2s !important;opacity:1 !important;visibility:visible !important;}div.lZaei.uUOra .DKn0C .TAanz .Z3iZh{transition:right .2s ease .2s !important;right:105% !important}div.lZaei.PaytJ{transition:visibility .2s,opacity .2s !important;opacity:0 !important;visibility:hidden !important;}div.lZaei.PaytJ .DKn0C .TAanz .Z3iZh{transition:right .2s !important;right:0 !important}div.Sk03L{display:inline-block !important;}div.Sk03L .TAanz{padding-left:4px !important;margin-right:8px !important}
.zCXgw{font-family:Inter !important;font-weight:normal !important;font-size:12px !important;color:#6d758d !important;white-space:nowrap !important;margin:0 6px !important}.iTuG1{margin-left:10px !important}
.Eg8pv.Ls_xS{-webkit-user-select:none;-khtml-user-drag:none;-ms-user-select:none;user-select:none;font-size:22.5px;width:22.5px;height:22.5px;background-size:22.5px 22.5px;position:relative;display:inline-block}.Eg8pv.ZVWqH{display:inline-block;position:relative;top:2px;width:14px;height:14px;background-size:14px 14px}.cenoh{margin-right:2px;padding:2px;display:-ms-flexbox;display:flex;background:none;box-sizing:border-box;}.cenoh:hover{border-radius:28px;background:#e7e9f5;transition:100ms background}.Bg2tI{cursor:pointer;display:-ms-flexbox;display:flex;-ms-flex-align:center;align-items:center}.C3ro0{transition:visibility .2s ease .2s,opacity .2s ease .2s,transform .2s ease .2s;opacity:1;visibility:visible;transform:translateX(0)}.nul4w{transition:visibility .2s,opacity .2s,transform .2s;opacity:0;visibility:hidden;transform:translateX(8px)}
@keyframes dorp7{0%{transform:rotate(0)}100%{transform:rotate(360deg)}}.jeWQ0{display:-ms-flexbox;display:flex;-ms-flex-direction:row;flex-direction:row;-ms-flex-align:center;align-items:center;border-radius:30px;padding:2px;height:26px;min-width:26px;position:absolute;background:#fff;box-shadow:inset 0 0 0 1px #cdd1dc;z-index:-1;right:0;bottom:0;}.jeWQ0 > :not(link) + *{margin-left:-1px}.jeWQ0.q44yz{border-radius:30px 30px 30px 0}.AyDlc{width:26px}.obQyN{display:none}.UP62D{padding:2px 2px 2px 0}
.NRIwa{visibility:hidden;}.NRIwa .yEioX{font-weight:100}.NRIwa .qcX4v{font-style:italic;font-weight:100}.NRIwa .zVlKD{font-weight:200}.NRIwa .G5uFu{font-style:italic;font-weight:200}.NRIwa .ss65s{font-weight:300}.NRIwa .BAp6C{font-style:italic;font-weight:300}.NRIwa .TsKuT{font-weight:400}.NRIwa .zaGJf{font-style:italic;font-weight:400}.NRIwa .m1asa{font-weight:500}.NRIwa .OrxoJ{font-style:italic;font-weight:500}.NRIwa .DZkXF{font-weight:600}.NRIwa .nIB5t{font-style:italic;font-weight:600}.NRIwa .fcnMV{font-weight:700}.NRIwa .sxDQt{font-style:italic;font-weight:700}.NRIwa .PWSxT{font-weight:800}.NRIwa .NWlff{font-style:italic;font-weight:800}.NRIwa .CDNOZ{font-weight:900}.NRIwa .ZeE9p{font-style:italic;font-weight:900}
@keyframes Dsbpp{0%{transform:rotate(0)}100%{transform:rotate(360deg)}}.sA6Mi{font-family:Inter,sans-serif;font-style:normal;font-weight:normal;color:#0e101a;font-size:14px;line-height:21px;font-feature-settings:'ss03' on;margin:16px 19px 23px 17px;}.sA6Mi .QuGn8{margin-left:42px;margin-bottom:18px;}.sA6Mi .QuGn8:before{content:'';position:absolute;margin-left:-42px;width:32px;height:32px;background-size:32px 32px;background-image:url(chrome-extension://kbfnbcaeplbcioakkpcpgfkobkghlhen/src/images/309912d7d3e3d68c/sign-in-error.svg);background-repeat:no-repeat}.sA6Mi .Gq2l7{font-family:Inter,sans-serif;font-style:normal;font-weight:bold;color:#0e101a;font-size:16px;line-height:24px}.sA6Mi .ukjM0{width:100%}
.NA7KP{font-family:Inter,sans-serif;font-style:normal;font-weight:normal;color:#0e101a;font-size:12px;line-height:18px}.n7Ycl{font-family:Inter,sans-serif;font-style:normal;font-weight:bold;color:#ea1537;font-size:12px;line-height:18px}
.x1Ca0{font-family:Inter,sans-serif;font-style:normal;font-weight:normal;color:#0e101a;font-size:17px;line-height:22px;padding:8px 16px}
.D2b29{height:32px;background:linear-gradient(269.83deg,rgba(228,244,247,0.6) .02%,rgba(215,248,240,0.6) 50.81%,rgba(202,227,250,0.6) 99.98%);box-sizing:border-box;padding-left:16px;display:-ms-flexbox;display:flex;-ms-flex-direction:row;flex-direction:row;-ms-flex-pack:justify;justify-content:space-between;-ms-flex-align:center;align-items:center;}.ZF5XM{font-size:11px;line-height:32px;color:#7e8494}.sRgc3{cursor:pointer;width:32px;height:32px;display:-ms-flexbox;display:flex;-ms-flex-pack:center;justify-content:center;-ms-flex-align:center;align-items:center;}.aWZGD{transition:fill .2s;fill:#7e8494}.sRgc3:hover .aWZGD{transition:fill .2s;fill:#b6b9c2}
.A4HZx{background:#f0f2fc;position:relative;padding:8px 32px 8px 16px;display:-ms-flexbox;display:flex;-ms-flex-pack:center;justify-content:center;-ms-flex-align:center;align-items:center;gap:8px}
.Ezqkf{padding:8px 16px;cursor:pointer;}.Ezqkf .UiK_k{padding:0;margin-bottom:.5em}.Ezqkf .e_COQ:not(.yk_z2){font-family:Inter,sans-serif;font-style:normal;font-weight:bold;color:#11a683;font-size:17px;line-height:22px}.Ezqkf .e_COQ.yk_z2{font-feature-settings:'ss03' on;font-family:Inter,sans-serif;font-style:normal;font-weight:bold;color:#11a683;font-size:14px;line-height:21px}.Ezqkf .e_COQ.SWIeI{padding:0 2px;background-color:#aaf2e1;}.Ezqkf .e_COQ.SWIeI:not(.yk_z2){font-family:Inter,sans-serif;font-style:normal;font-weight:bold;color:#0d8065;font-size:17px;line-height:22px}.Ezqkf .e_COQ.SWIeI.yk_z2{font-feature-settings:'ss03' on;font-family:Inter,sans-serif;font-style:normal;font-weight:bold;color:#0d8065;font-size:14px;line-height:21px}.Ezqkf .mGivv:not(.yk_z2){font-family:Inter,sans-serif;font-style:normal;font-weight:normal;color:#0e101a;font-size:17px;line-height:22px}.Ezqkf .mGivv.yk_z2{font-feature-settings:'ss03' on;font-family:Inter,sans-serif;font-style:normal;font-weight:normal;color:#0e101a;font-size:14px;line-height:21px}.Ezqkf .flmnH{-webkit-text-decoration-line:line-through;text-decoration-line:line-through;}.Ezqkf .flmnH:not(.yk_z2){font-family:Inter,sans-serif;font-style:normal;font-weight:bold;color:#ea1537;font-size:17px;line-height:22px}.Ezqkf .flmnH.yk_z2{font-feature-settings:'ss03' on;font-family:Inter,sans-serif;font-style:normal;font-weight:bold;color:#ea1537;font-size:14px;line-height:21px}.Ezqkf .flmnH.SWIeI{padding:0 2px;text-decoration:none;background-color:#ffdbe3}.Ezqkf.KVaCJ{background-color:#11a683;}.Ezqkf.KVaCJ .UiK_k,.Ezqkf.KVaCJ .e_COQ,.Ezqkf.KVaCJ .mGivv,.Ezqkf.KVaCJ .flmnH{color:#fff}.Ezqkf.KVaCJ .flmnH.SWIeI,.Ezqkf.KVaCJ .e_COQ.SWIeI{background-color:#15c39a}.Ezqkf.JfKEH{background-color:#e7e9f5;cursor:default;}.Ezqkf.JfKEH .fleYC{position:relative;}.Ezqkf.JfKEH .fleYC .Gksh0{position:absolute;top:0;right:0}.Ezqkf.JfKEH .e_COQ{color:#6d758d}.Ezqkf.JfKEH .UiK_k,.Ezqkf.JfKEH .mGivv,.Ezqkf.JfKEH .flmnH{color:#333954}.Ezqkf.JfKEH:hover{background-color:#e7e9f5;}.Ezqkf.JfKEH:hover .e_COQ{color:#6d758d}.Ezqkf.JfKEH:hover .UiK_k,.Ezqkf.JfKEH:hover .mGivv,.Ezqkf.JfKEH:hover .flmnH{color:#333954}
.L9fYv{padding:8px 16px;}.L9fYv .klKEM{font-family:Inter,sans-serif;font-style:normal;font-weight:bold;color:#0e101a;font-size:14px;line-height:21px;font-feature-settings:'ss03' on;}.L9fYv .klKEM .r0TEV{display:-ms-flexbox;display:flex;-ms-flex-pack:center;justify-content:center;width:18px}.L9fYv .zQ7RP{font-family:Inter,sans-serif;font-style:normal;font-weight:normal;color:#0e101a;font-size:12px;line-height:18px;grid-template-areas:'empty-column text-column';}.L9fYv .zQ7RP .impTu{grid-area:text-column}.L9fYv .klKEM,.L9fYv .zQ7RP{display:-ms-grid;display:grid;-ms-grid-columns:18px auto;grid-template-columns:18px auto;grid-column-gap:8px;-ms-flex-align:center;align-items:center}.L9fYv .OhsKW{font-family:Inter,sans-serif;font-style:normal;font-weight:normal;color:#4a6ee0;font-size:12px;line-height:18px;cursor:pointer}
@keyframes CAGyv{0%{transform:rotate(0)}100%{transform:rotate(360deg)}}.yCx4F{padding:11px 1rem 4px 1rem}.vhILi{width:12px;height:12px;background-size:12px 12px;background-image:url(chrome-extension://kbfnbcaeplbcioakkpcpgfkobkghlhen/src/images/d79b89a642af07c6/new.svg);background-repeat:no-repeat}.TCkda{font-family:Inter,sans-serif;font-style:normal;font-weight:normal;color:#0e101a;font-size:12px;line-height:18px;margin-bottom:.25rem}
.Q_ghU{margin-right:-15px;padding-right:15px;margin-bottom:-7.5px;padding-bottom:7.5px}.vkuMN{-webkit-appearance:none;appearance:none;box-sizing:content-box;background:transparent;border:none;padding:0;margin:0}
.fDZiE{position:absolute;top:-5px;right:-5px}.BHWNr{border-radius:100% 100% 100% 0;background-image:url(chrome-extension://kbfnbcaeplbcioakkpcpgfkobkghlhen/src/images/79480f99c914924c/gbtn-grammarly-shape.svg)}.R7Ehf{cursor:pointer;transform:translate(0,0) scale(1);background-size:100%;border-radius:100%;background-clip:content-box;background-repeat:no-repeat;font-family:Inter,sans-serif;font-style:normal;font-weight:bold;color:#0e101a;font-size:14px;line-height:21px;font-feature-settings:'ss03' on;font-feature-settings:'ss01';margin:0;position:relative;color:#fff;-ms-flex-pack:center;justify-content:center;display:-ms-flexbox;display:flex;-ms-flex-align:center;align-items:center}.R7Ehf.fspWv{background-image:url(chrome-extension://kbfnbcaeplbcioakkpcpgfkobkghlhen/src/images/bea5f441adcc6b1f/gbtn-grammarly-no-background.svg)}.VNMHv{background:none;border-radius:32px;visibility:visible;opacity:1;z-index:auto;transition:opacity .11s,visibility .11s;-webkit-user-select:none;-khtml-user-drag:none;-ms-user-select:none;user-select:none;}.VNMHv:hover{background:#e2e4e9;transition:100ms background;border-radius:100% 100% 100% 0}.VNMHv:focus{outline:none}.VNMHv .L704q{width:100%;height:100%;display:-ms-flexbox;display:flex;-ms-flex-pack:center;justify-content:center;-ms-flex-align:center;align-items:center;position:relative}.VNMHv.NlgDT .BHWNr{background-image:url(chrome-extension://kbfnbcaeplbcioakkpcpgfkobkghlhen/src/images/0c67988c42191b0e/gbtn-grammarly-shape-disabled.svg)}.VNMHv.NlgDT .R7Ehf{background-image:url(chrome-extension://kbfnbcaeplbcioakkpcpgfkobkghlhen/src/images/bea5f441adcc6b1f/gbtn-grammarly-no-background.svg);background-color:transparent}.VNMHv.RZgek:not(.DR3p_) .R7Ehf{font-size:10px}.VNMHv.k6Tcg .BHWNr{background-image:url(chrome-extension://kbfnbcaeplbcioakkpcpgfkobkghlhen/src/images/deec2670219d90d5/gbtn-grammarly-shape-error.svg)}.VNMHv.k6Tcg .R7Ehf{background-image:url(chrome-extension://kbfnbcaeplbcioakkpcpgfkobkghlhen/src/images/deec2670219d90d5/gbtn-grammarly-shape-error.svg);min-width:10px}.VNMHv.BWwwG .R7Ehf{transition:transform .25s ease-in-out,font .18s ease-out,background-image .25s ease-in-out,opacity .18s ease-in;background-position:center center}.VNMHv.BWwwG .BHWNr{transition:background-image .25s linear;background-position:center center}.VNMHv.DR3p_ .R7Ehf{font-size:0;background-image:url(chrome-extension://kbfnbcaeplbcioakkpcpgfkobkghlhen/src/images/640e14a8a397f39e/gbtn-progress-no-background.svg);background-size:100%;animation:LGWmk 1.2s infinite linear}.VNMHv.QLHBQ .BHWNr{background-image:url(chrome-extension://kbfnbcaeplbcioakkpcpgfkobkghlhen/src/images/deec2670219d90d5/gbtn-grammarly-shape-error.svg)}.VNMHv.QLHBQ.DR3p_ .R7Ehf{background-image:url(chrome-extension://kbfnbcaeplbcioakkpcpgfkobkghlhen/src/images/640e14a8a397f39e/gbtn-progress-no-background.svg);background-size:100%}.VNMHv.BiKGJ{cursor:default;}.VNMHv.BiKGJ:hover{animation:none;background:none}.VNMHv.BiKGJ .R7Ehf{background:url(chrome-extension://kbfnbcaeplbcioakkpcpgfkobkghlhen/src/images/ef228ed126ec31f2/gbtn-offline-icon.svg) no-repeat;background-position:center center;color:transparent;border-radius:0}.VNMHv.BiKGJ .BHWNr{background-image:none}.VNMHv.knLsy{transition:padding .25s ease-in-out,margin .25 ease-in-out}.VNMHv.knLsy:hover{background:unset}.VNMHv.DEhDO .bzMoj .k1mI2{transform:translateY(18px) scale(.5);opacity:0;animation:njdpU 200ms ease-in}.VNMHv.DEhDO .bzMoj .fDZiE{animation:hYrGt 200ms ease-out;transform:translate(-9px,9px) scale(2)}.VNMHv.DEhDO .Sr9ej .k1mI2{transform:unset;opacity:1;animation:njdpU 200ms ease-out reverse}.VNMHv.DEhDO .Sr9ej .fDZiE{animation:hYrGt 200ms ease-in reverse;transform:unset}.dIh67 .R7Ehf{background-image:url(chrome-extension://kbfnbcaeplbcioakkpcpgfkobkghlhen/src/images/4fcbfa30bea012fa/gbtn_to_checking.png);background-size:100%;background-position:0 0;animation:w6bRT 1s steps(90) 0s forwards;transition:none}@keyframes w6bRT{0%{background-position:0 0}100%{background-position:0 -1980px}}.Z1fL3 .R7Ehf{background-image:url(chrome-extension://kbfnbcaeplbcioakkpcpgfkobkghlhen/src/images/877d23f0cdd17b37/checking_to_gbtn.png);background-size:100%;background-position:0 0;animation:For4O 1s steps(90) 0s forwards;transition:none}@keyframes For4O{0%{background-position:0 0}100%{background-position:0 -1980px}}.jFgYC .R7Ehf{background-image:url(chrome-extension://kbfnbcaeplbcioakkpcpgfkobkghlhen/src/images/2333ca8e6c5492fd/checking_to_err.png);background-size:100%;background-position:0 0;animation:RyPM1 1s steps(90) 0s forwards;transition:none}@keyframes RyPM1{0%{background-position:0 0}100%{background-position:0 -1980px}}.WIx0v .R7Ehf{background-image:url(chrome-extension://kbfnbcaeplbcioakkpcpgfkobkghlhen/src/images/40008732a174717b/err_to_checking.png);background-size:100%;background-position:0 0;animation:TCVhS 1s steps(90) 0s forwards;transition:none}@keyframes TCVhS{0%{background-position:0 0}100%{background-position:0 -1980px}}.IOAEi .R7Ehf{background-image:url(chrome-extension://kbfnbcaeplbcioakkpcpgfkobkghlhen/src/images/892ac9f468085c41/checking_1.png);background-size:100%;background-position:0 0;animation:rBS4r 1s steps(90) 0s forwards;transition:none}@keyframes rBS4r{0%{background-position:0 0}100%{background-position:0 -1980px}}.dO5QJ .R7Ehf{background-image:url(chrome-extension://kbfnbcaeplbcioakkpcpgfkobkghlhen/src/images/a07bc1043fc0b42d/checking_2.png);background-size:100%;background-position:0 0;animation:fKLfO 1s steps(90) 0s forwards;transition:none}@keyframes fKLfO{0%{background-position:0 0}100%{background-position:0 -1980px}}.meEMG .R7Ehf{background-image:url(chrome-extension://kbfnbcaeplbcioakkpcpgfkobkghlhen/src/images/18a779399458436f/checking_3.png);background-size:100%;background-position:0 0;animation:itt13 1s steps(90) 0s forwards;transition:none}@keyframes itt13{0%{background-position:0 0}100%{background-position:0 -1980px}}@keyframes LGWmk{0%{transform:rotate(0)}100%{transform:rotate(-360deg)}}@keyframes njdpU{from{transform:unset;opacity:1}to{transform:translateY(18px) scale(.5);opacity:0}}@keyframes hYrGt{from{transform:unset}to{transform:translate(-9px,9px) scale(2)}}
@keyframes UEIeW{0%{transform:rotate(0)}100%{transform:rotate(360deg)}}.oZITg{height:12px;color:#fff;border-radius:16px;border:1px solid #fff;display:-ms-flexbox;display:flex;-ms-flex-align:center;align-items:center;-ms-flex-pack:center;justify-content:center;font-size:9px;background:linear-gradient(307.49deg,#2551da 16.75%,#8943bc 84.79%);}.oZITg.qjyIX{width:12px;height:12px;background-size:12px 12px;background-image:url(chrome-extension://kbfnbcaeplbcioakkpcpgfkobkghlhen/src/images/46797004aaa37902/notification-warning-small.svg);background-repeat:no-repeat;background-color:transparent;border:none}.DdTeK{font-weight:bold;font-size:9px;line-height:12px;min-width:6px;padding:0 3px}.c91Hn{width:12px}.pasnE{background:#ffdd9d;color:#935f00}
@keyframes QpnmA{0%{transform:rotate(0)}100%{transform:rotate(360deg)}}.xfAhf{height:8px;width:8px;border-radius:16px;border:1px solid #fff;display:-ms-flexbox;display:flex;-ms-flex-align:center;align-items:center;-ms-flex-pack:center;justify-content:center}.adW5N{width:12px;height:12px;background-size:12px 12px;background-image:url(chrome-extension://kbfnbcaeplbcioakkpcpgfkobkghlhen/src/images/46797004aaa37902/notification-warning-small.svg);background-repeat:no-repeat}
.QlWC3{padding:2px;border-radius:28px;}.QlWC3.bDFhD{border-radius:28px 28px 28px 0}.QlWC3.pNqwS{-webkit-appearance:none;appearance:none;display:block;border:none;box-sizing:content-box;background:transparent}.QlWC3:hover{cursor:pointer;background:#e2e4e9}.QlWC3 .pUWpj{display:-ms-flexbox;display:flex;-ms-flex-direction:row;flex-direction:row;-ms-flex-align:center;align-items:center;color:#fff;}.QlWC3 .pUWpj .kWwTq{width:22px;height:22px;border-radius:22px;display:-ms-flexbox;display:flex;-ms-flex-pack:center;justify-content:center;-ms-flex-align:center;align-items:center;font-family:Inter,sans-serif;font-style:normal;font-weight:bold;color:#0e101a;font-size:14px;line-height:21px;font-feature-settings:'ss03' on;font-feature-settings:'ss01'}.QlWC3 .pUWpj .YgrpB{background:linear-gradient(307.49deg,#3659b5 16.75%,#7e3dad 84.79%);color:#fff}.QlWC3 .pUWpj .wpng1{background:#ffdd9d;color:#935f00}.QlWC3 .pUWpj .ORukD{background:#ce1331;border-radius:100% 100% 100% 0;color:#fff}.QlWC3 .pUWpj.yUffi .YgrpB,.QlWC3 .pUWpj.yUffi .wpng1,.QlWC3 .pUWpj.yUffi .HOMyy{font-size:10px}.KDpkP .QlWC3 .YgrpB,.KDpkP .QlWC3 .wpng1{animation:a1Nnn 200ms ease-out}.vVtoM .QlWC3 .YgrpB,.vVtoM .QlWC3 .wpng1{animation:a1Nnn 200ms ease-in reverse}.iZlEr .QlWC3 .YgrpB,.iZlEr .QlWC3 .wpng1{animation:none}@keyframes a1Nnn{from{transform:translate(9px,-9px) scale(.5)}to{transform:unset}}
.KVqAr{animation:ovczZ 200ms ease-out}.HRbha{animation:ovczZ 200ms ease-in reverse}@keyframes ovczZ{0%{opacity:0}100%{opacity:1}}
.ya261{z-index:2147483646;-webkit-user-select:none;-ms-user-select:none;user-select:none;margin:-1px -1px 0 0;padding:1px 1px 0 0;transform:translate(0,1px);}.ya261.NGdvA{margin-bottom:-9px;margin-right:-13px;padding-bottom:9px;padding-right:13px}.VLwh0{display:-ms-flexbox;display:flex;-ms-flex-direction:row;flex-direction:row;-ms-flex-align:center;align-items:center;padding:2px;height:28px;box-shadow:0 0 0 .5px #878da2,0 0 2px .5px rgba(135,141,162,0.5),0 1px 8px .5px rgba(135,141,162,0.1),0 2px 12px .5px rgba(135,141,162,0.1),0 4px 20px .5px rgba(135,141,162,0.25);border-radius:32px;background-color:#fff;white-space:nowrap;font-family:Inter,sans-serif;font-style:normal;font-weight:normal;color:#0e101a;font-size:12px;line-height:18px}.VLwh0 > * + *{margin-left:-1px}
.p1CkB{width:22px;height:22px;padding:2px;display:-ms-flexbox;display:flex;-ms-flex-align:center;align-items:center;-ms-flex-pack:center;justify-content:center;border:none;background:none;box-sizing:content-box;border-radius:22px;}.p1CkB path{stroke:#858585}.p1CkB:hover,.p1CkB:focus{cursor:pointer;background:#e2e4e9;}.p1CkB:hover path,.p1CkB:focus path{stroke:#2b2b2b}.gzhRJ{width:26px;height:26px}
.iJMot{width:22px;height:22px;border-radius:12px;display:-ms-flexbox;display:flex;-ms-flex-align:center;align-items:center;-ms-flex-pack:center;justify-content:center;padding:2px;}.iJMot:hover{background:#e2e4e9;cursor:pointer}.iJMot.qYeb1{width:26px;height:26px;border-radius:15px}
.FUnoM{width:22px;height:22px;display:-ms-flexbox;display:flex;-ms-flex-align:center;align-items:center;-ms-flex-pack:center;justify-content:center;}.FUnoM:hover{cursor:pointer;background:#fff;border-radius:22px}
.oBIpc{font-family:Inter,sans-serif;font-style:normal;font-weight:normal;color:#0e101a;font-size:14px;line-height:21px;font-feature-settings:'ss03' on}.VyZvP{font-family:Inter,sans-serif;font-style:normal;font-weight:normal;color:#0e101a;font-size:12px;line-height:18px;padding:0 16px;display:-ms-grid;display:grid;-ms-grid-columns:26px auto;grid-template-columns:26px auto;}.VyZvP .qZhWG{font-family:Inter,sans-serif;font-style:normal;font-weight:normal;color:#6d758d;font-size:12px;line-height:18px}.d073Y.Y3B6x{padding:8px 42px}.d073Y.G9UtX{padding:8px 16px}.d073Y .RqHGa{font-feature-settings:'ss03' on;font-family:Inter,sans-serif;font-style:normal;font-weight:bold;color:#11a683;font-size:14px;line-height:21px;background-color:#f0f2fc;padding:4px 8px;display:inline-block;border-radius:4px;margin-right:8px;margin-bottom:8px;cursor:pointer;}.d073Y .RqHGa:hover{background-color:#11a683;color:#fff}
.TACLT{z-index:0}
</style></template></grammarly-extension><div class="modal-dialog-title modal-dialog-title-draggable"><span class="modal-dialog-title-text" id=":6z" role="heading"></span><span class="modal-dialog-title-close" role="button" aria-label="Close" aria-hidden="true" style="display: none;" tabindex="0"></span></div><div class="modal-dialog-content" id=":6z.contentEl"><iframe frameborder="0" src="./Sentiment Analysis on Amazon_Alexa_review_files/driveshare.html" class="share-client-content-iframe" title="Content" tabindex="-1" spellcheck="false"></iframe></div><div class="modal-dialog-buttons" style="display: none;"></div><div class="share-client-debug"></div></div><span style="position: absolute; left: 0px; top: 0px;" tabindex="-1"></span></body><grammarly-desktop-integration data-grammarly-shadow-root="true"><template shadowrootmode="open"><style>
      div.grammarly-desktop-integration {
        position: absolute;
        width: 1px;
        height: 1px;
        padding: 0;
        margin: -1px;
        overflow: hidden;
        clip: rect(0, 0, 0, 0);
        white-space: nowrap;
        border: 0;
        -moz-user-select: none;
        -webkit-user-select: none;
        -ms-user-select:none;
        user-select:none;
      }

      div.grammarly-desktop-integration:before {
        content: attr(data-content);
      }
    </style><div aria-label="grammarly-integration" role="group" tabindex="-1" class="grammarly-desktop-integration" data-content="{&quot;mode&quot;:&quot;full&quot;,&quot;isActive&quot;:true,&quot;isUserDisabled&quot;:false}"></div></template></grammarly-desktop-integration><grammarly-popups data-grammarly-shadow-root="true" class="dnXmp"><template shadowrootmode="open"><style>.teaserCard_fxhghsp{background:#ffffff;border-radius:0 calc(0.75px * var(--rem)) calc(0.75px * var(--rem)) calc(0.75px * var(--rem));box-shadow:0px 1px 8px 0.5px rgba(135, 141, 162, 0.50);font-size:calc(0.875px * var(--rem));line-height:1.5;margin-top:3px;max-width:calc(21.5px * var(--rem));padding:calc(0.25px * var(--rem))}.showFullCard_frsuylz{color:#016A5E;display:inline-block;font-family:Inter;font-size:calc(0.875px * var(--rem));font-weight:700;line-height:1.5;white-space:nowrap}.dismissIconRow_f1s0la05{bottom:0;cursor:pointer;display:flex;flex-direction:column;justify-content:end;padding:calc(0.5px * var(--rem));position:absolute;right:0}.dismissIconBox_f1kkwfhx{align-items:center;border:1px solid transparent;border-radius:calc(0.5px * var(--rem));display:flex;height:calc(2px * var(--rem));justify-content:center;width:calc(2px * var(--rem))}.dismissIconBox_f1kkwfhx:hover{background:#EBEBEB;border:1px solid #A8A8A8 !important}.teaserRow_fit6i0j{cursor:pointer;display:flex;gap:calc(0.5px * var(--rem));padding:calc(0.25px * var(--rem));padding-right:calc(2.5px * var(--rem))}.teaserBackground_f1akz7ku{background:transparent}.teaserBackground_f1akz7ku:hover{background:#EBEBEB;border-radius:calc(0.5px * var(--rem))}.suggestionText_ffqtqcu{margin-left:0;margin-right:calc(0.5px * var(--rem))}.teaserContent_f1a11phz{display:inline-block;text-align:left;width:fit-content}.logo_fofu1t3{align-items:center;display:flex;height:calc(1.25px * var(--rem));justify-content:center;padding-left:calc(0.25px * var(--rem))}.iconSize_ftxbu1z{height:calc(1.25px * var(--rem));width:calc(1.25px * var(--rem))}.wrapper_fpd82bo{border:7px solid rgb(51, 57, 84);position:absolute;transform:translate(-7px, -7px)}.top_fxrg51k{border-left-color:transparent;border-right-color:transparent;border-top-color:transparent}.top_fxrg51k + *{transform:translateY(7px)}.right_f8ouv74{border-bottom-color:transparent;border-right-color:transparent;border-top-color:transparent}.right_f8ouv74 + *{transform:translateX(-7px)}.bottom_f1egmyip{border-bottom-color:transparent;border-left-color:transparent;border-right-color:transparent}.bottom_f1egmyip + *{transform:translateY(-7px)}.left_fadbd2e{border-bottom-color:transparent;border-left-color:transparent;border-top-color:transparent}.left_fadbd2e + *{transform:translateX(7px)}.hidden_f5z7vvf{opacity:0;visibility:hidden}.wrapper_f1x2i2y1{position:absolute;transition:opacity .2s}.container_f1bp7wzs{pointer-events:none;position:fixed;z-index:10000}@media print{.container_f1bp7wzs{visibility:hidden}}.content_f57u1qe{background:rgb(51, 57, 84);border-radius:calc(0.25px * var(--rem));color:#F9FAFF;font-size:calc(0.75px * var(--rem));letter-spacing:0.25px;line-height:calc(1px * var(--rem));padding:calc(0.25px * var(--rem)) calc(1px * var(--rem));text-align:center;white-space:nowrap}</style><style>*[data-gramm] g{display:inline;color:inherit !important;font-size:inherit !important}*[data-gramm] gr_block{color:inherit !important;font-size:inherit !important}*[data-gramm][data-gramm_editor] .gr-alert.gr_spell,body[data-gramm_id][data-gramm_editor] .gr-alert.gr_spell,*[data-gramm][data-gramm_editor] .gr-alert.gr_gramm,body[data-gramm_id][data-gramm_editor] .gr-alert.gr_gramm{border-bottom:2px solid transparent;background-repeat:no-repeat;background-position:-1px calc(100% + 3px);background-image:url(chrome-extension://kbfnbcaeplbcioakkpcpgfkobkghlhen/src/images/1e327dac156d0f9d/underline-inline-cards.svg);background-size:calc(100% + 1px) 100%;}*[data-gramm][data-gramm_editor] .gr-alert.gr_spell.gr_premium,body[data-gramm_id][data-gramm_editor] .gr-alert.gr_spell.gr_premium,*[data-gramm][data-gramm_editor] .gr-alert.gr_gramm.gr_premium,body[data-gramm_id][data-gramm_editor] .gr-alert.gr_gramm.gr_premium{background-image:url(chrome-extension://kbfnbcaeplbcioakkpcpgfkobkghlhen/src/images/35ca7c56ceec901d/underline-inline-cards-premium.svg)}*[data-gramm][data-gramm_editor] .gr-alert.gr_spell.gr_spell .gr_gramm.gr-alert,body[data-gramm_id][data-gramm_editor] .gr-alert.gr_spell.gr_spell .gr_gramm.gr-alert,*[data-gramm][data-gramm_editor] .gr-alert.gr_gramm.gr_spell .gr_gramm.gr-alert,body[data-gramm_id][data-gramm_editor] .gr-alert.gr_gramm.gr_spell .gr_gramm.gr-alert,*[data-gramm][data-gramm_editor] .gr-alert.gr_spell.gr_gramm .gr_gramm.gr-alert,body[data-gramm_id][data-gramm_editor] .gr-alert.gr_spell.gr_gramm .gr_gramm.gr-alert,*[data-gramm][data-gramm_editor] .gr-alert.gr_gramm.gr_gramm .gr_gramm.gr-alert,body[data-gramm_id][data-gramm_editor] .gr-alert.gr_gramm.gr_gramm .gr_gramm.gr-alert{background-image:url(chrome-extension://kbfnbcaeplbcioakkpcpgfkobkghlhen/src/images/1e327dac156d0f9d/underline-inline-cards.svg);}*[data-gramm][data-gramm_editor] .gr-alert.gr_spell.gr_spell .gr_gramm.gr-alert.gr_premium,body[data-gramm_id][data-gramm_editor] .gr-alert.gr_spell.gr_spell .gr_gramm.gr-alert.gr_premium,*[data-gramm][data-gramm_editor] .gr-alert.gr_gramm.gr_spell .gr_gramm.gr-alert.gr_premium,body[data-gramm_id][data-gramm_editor] .gr-alert.gr_gramm.gr_spell .gr_gramm.gr-alert.gr_premium,*[data-gramm][data-gramm_editor] .gr-alert.gr_spell.gr_gramm .gr_gramm.gr-alert.gr_premium,body[data-gramm_id][data-gramm_editor] .gr-alert.gr_spell.gr_gramm .gr_gramm.gr-alert.gr_premium,*[data-gramm][data-gramm_editor] .gr-alert.gr_gramm.gr_gramm .gr_gramm.gr-alert.gr_premium,body[data-gramm_id][data-gramm_editor] .gr-alert.gr_gramm.gr_gramm .gr_gramm.gr-alert.gr_premium{background-image:url(chrome-extension://kbfnbcaeplbcioakkpcpgfkobkghlhen/src/images/35ca7c56ceec901d/underline-inline-cards-premium.svg)}*[data-gramm][data-gramm_editor] .gr-alert.gr_spell.gr_run_anim,body[data-gramm_id][data-gramm_editor] .gr-alert.gr_spell.gr_run_anim,*[data-gramm][data-gramm_editor] .gr-alert.gr_gramm.gr_run_anim,body[data-gramm_id][data-gramm_editor] .gr-alert.gr_gramm.gr_run_anim{animation:gr__appear_critical .4s ease forwards;}@supports (-ms-ime-align:auto){*[data-gramm][data-gramm_editor] .gr-alert.gr_spell.gr_run_anim,body[data-gramm_id][data-gramm_editor] .gr-alert.gr_spell.gr_run_anim,*[data-gramm][data-gramm_editor] .gr-alert.gr_gramm.gr_run_anim,body[data-gramm_id][data-gramm_editor] .gr-alert.gr_gramm.gr_run_anim{animation:none !important}}*[data-gramm][data-gramm_editor] .gr-alert.gr_spell.gr_disable_anim_appear,body[data-gramm_id][data-gramm_editor] .gr-alert.gr_spell.gr_disable_anim_appear,*[data-gramm][data-gramm_editor] .gr-alert.gr_gramm.gr_disable_anim_appear,body[data-gramm_id][data-gramm_editor] .gr-alert.gr_gramm.gr_disable_anim_appear{animation:none !important;background-size:calc(100% + 1px) 100% !important}*[data-gramm][data-gramm_editor] .gr-alert.gr_spell.gr-progress,body[data-gramm_id][data-gramm_editor] .gr-alert.gr_spell.gr-progress,*[data-gramm][data-gramm_editor] .gr-alert.gr_gramm.gr-progress,body[data-gramm_id][data-gramm_editor] .gr-alert.gr_gramm.gr-progress{animation:gr__appear_critical_sel_inline .5s ease forwards,gr__appear_critical .5s forwards !important;background-image:url(chrome-extension://kbfnbcaeplbcioakkpcpgfkobkghlhen/src/images/283f5c27d57541c1/underline-inline-cards-appear.svg) !important;border-bottom-width:2px;}*[data-gramm][data-gramm_editor] .gr-alert.gr_spell.gr-progress.gr_premium,body[data-gramm_id][data-gramm_editor] .gr-alert.gr_spell.gr-progress.gr_premium,*[data-gramm][data-gramm_editor] .gr-alert.gr_gramm.gr-progress.gr_premium,body[data-gramm_id][data-gramm_editor] .gr-alert.gr_gramm.gr-progress.gr_premium{animation:gr__appear_premium_sel_inline .5s ease forwards,gr__appear_critical .5s forwards !important;background-image:url(chrome-extension://kbfnbcaeplbcioakkpcpgfkobkghlhen/src/images/0a157672c1130a96/underline-inline-cards-appear-premium.svg) !important}*[data-gramm][data-gramm_editor] .gr-alert.gr_spell.gr-progress-overlay,body[data-gramm_id][data-gramm_editor] .gr-alert.gr_spell.gr-progress-overlay,*[data-gramm][data-gramm_editor] .gr-alert.gr_gramm.gr-progress-overlay,body[data-gramm_id][data-gramm_editor] .gr-alert.gr_gramm.gr-progress-overlay{animation:gr__appear_critical_sel_inline_overlay .5s ease forwards,gr__appear_critical .5s forwards !important;background-image:url(chrome-extension://kbfnbcaeplbcioakkpcpgfkobkghlhen/src/images/283f5c27d57541c1/underline-inline-cards-appear.svg) !important;border-bottom-width:2px;}*[data-gramm][data-gramm_editor] .gr-alert.gr_spell.gr-progress-overlay.gr_premium,body[data-gramm_id][data-gramm_editor] .gr-alert.gr_spell.gr-progress-overlay.gr_premium,*[data-gramm][data-gramm_editor] .gr-alert.gr_gramm.gr-progress-overlay.gr_premium,body[data-gramm_id][data-gramm_editor] .gr-alert.gr_gramm.gr-progress-overlay.gr_premium{animation:gr__appear_premium_sel_inline .5s ease forwards,gr__appear_critical .5s forwards !important;background-image:url(chrome-extension://kbfnbcaeplbcioakkpcpgfkobkghlhen/src/images/0a157672c1130a96/underline-inline-cards-appear-premium.svg) !important}*[data-gramm][data-gramm_editor] .gr-alert.gr_spell.gr_disable_anim_appear.gr-progress,body[data-gramm_id][data-gramm_editor] .gr-alert.gr_spell.gr_disable_anim_appear.gr-progress,*[data-gramm][data-gramm_editor] .gr-alert.gr_gramm.gr_disable_anim_appear.gr-progress,body[data-gramm_id][data-gramm_editor] .gr-alert.gr_gramm.gr_disable_anim_appear.gr-progress{animation:gr__appear_critical_sel_inline .5s ease forwards !important;background-size:calc(100% + 3px) 100% !important;background-position-x:-2px !important;}*[data-gramm][data-gramm_editor] .gr-alert.gr_spell.gr_disable_anim_appear.gr-progress.gr_premium,body[data-gramm_id][data-gramm_editor] .gr-alert.gr_spell.gr_disable_anim_appear.gr-progress.gr_premium,*[data-gramm][data-gramm_editor] .gr-alert.gr_gramm.gr_disable_anim_appear.gr-progress.gr_premium,body[data-gramm_id][data-gramm_editor] .gr-alert.gr_gramm.gr_disable_anim_appear.gr-progress.gr_premium{animation:gr__appear_premium_sel_inline .5s ease forwards !important}*[data-gramm][data-gramm_editor] .gr-alert.gr_spell.gr_disable_anim_appear.gr-progress-overlay,body[data-gramm_id][data-gramm_editor] .gr-alert.gr_spell.gr_disable_anim_appear.gr-progress-overlay,*[data-gramm][data-gramm_editor] .gr-alert.gr_gramm.gr_disable_anim_appear.gr-progress-overlay,body[data-gramm_id][data-gramm_editor] .gr-alert.gr_gramm.gr_disable_anim_appear.gr-progress-overlay{animation:gr__appear_critical_sel_inline_overlay .5s ease forwards !important;background-size:calc(100% + 3px) 100% !important;background-position-x:-2px !important;}*[data-gramm][data-gramm_editor] .gr-alert.gr_spell.gr_disable_anim_appear.gr-progress-overlay.gr_premium,body[data-gramm_id][data-gramm_editor] .gr-alert.gr_spell.gr_disable_anim_appear.gr-progress-overlay.gr_premium,*[data-gramm][data-gramm_editor] .gr-alert.gr_gramm.gr_disable_anim_appear.gr-progress-overlay.gr_premium,body[data-gramm_id][data-gramm_editor] .gr-alert.gr_gramm.gr_disable_anim_appear.gr-progress-overlay.gr_premium{animation:gr__appear_premium_sel_inline .5s ease forwards !important}*[data-gramm][data-gramm_editor] .gr-alert.gr_spell.gr_replaced,body[data-gramm_id][data-gramm_editor] .gr-alert.gr_spell.gr_replaced,*[data-gramm][data-gramm_editor] .gr-alert.gr_gramm.gr_replaced,body[data-gramm_id][data-gramm_editor] .gr-alert.gr_gramm.gr_replaced{border-bottom:0 !important;background-size:0 !important}*[data-gramm][data-gramm_editor] .gr-alert.gr_spell.gr_hide.sel,body[data-gramm_id][data-gramm_editor] .gr-alert.gr_spell.gr_hide.sel,*[data-gramm][data-gramm_editor] .gr-alert.gr_gramm.gr_hide.sel,body[data-gramm_id][data-gramm_editor] .gr-alert.gr_gramm.gr_hide.sel{border-bottom-width:2px}*[data-gramm][data-gramm_editor] .gr-alert.gr_spell.gr_tiny,body[data-gramm_id][data-gramm_editor] .gr-alert.gr_spell.gr_tiny,*[data-gramm][data-gramm_editor] .gr-alert.gr_gramm.gr_tiny,body[data-gramm_id][data-gramm_editor] .gr-alert.gr_gramm.gr_tiny,*[data-gramm][data-gramm_editor] .gr-alert.gr_spell:empty,body[data-gramm_id][data-gramm_editor] .gr-alert.gr_spell:empty,*[data-gramm][data-gramm_editor] .gr-alert.gr_gramm:empty,body[data-gramm_id][data-gramm_editor] .gr-alert.gr_gramm:empty{padding:0 .35em;margin:0 -.35em}*[data-gramm][data-gramm_editor] .kix-lineview .gr-alert.gr_spell,body[data-gramm_id][data-gramm_editor] .kix-lineview .gr-alert.gr_spell,*[data-gramm][data-gramm_editor] .kix-lineview .gr-alert.gr_gramm,body[data-gramm_id][data-gramm_editor] .kix-lineview .gr-alert.gr_gramm{padding:0;margin:0;width:100%;bottom:-2px;position:absolute;height:4px;}*[data-gramm][data-gramm_editor] .kix-lineview .gr-alert.gr_spell.gr_tiny,body[data-gramm_id][data-gramm_editor] .kix-lineview .gr-alert.gr_spell.gr_tiny,*[data-gramm][data-gramm_editor] .kix-lineview .gr-alert.gr_gramm.gr_tiny,body[data-gramm_id][data-gramm_editor] .kix-lineview .gr-alert.gr_gramm.gr_tiny{padding:0 .35em !important;margin:0 -.35em !important}ghost *[data-gramm][data-gramm_editor] .gr-alert.gr-progress,grammarly-ghost *[data-gramm][data-gramm_editor] .gr-alert.gr-progress,ghost body[data-gramm_id][data-gramm_editor] .gr-alert.gr-progress,grammarly-ghost body[data-gramm_id][data-gramm_editor] .gr-alert.gr-progress{animation:gr__appear_critical_sel_inline .5s ease forwards !important;}ghost *[data-gramm][data-gramm_editor] .gr-alert.gr-progress.gr_premium,grammarly-ghost *[data-gramm][data-gramm_editor] .gr-alert.gr-progress.gr_premium,ghost body[data-gramm_id][data-gramm_editor] .gr-alert.gr-progress.gr_premium,grammarly-ghost body[data-gramm_id][data-gramm_editor] .gr-alert.gr-progress.gr_premium{animation:gr__appear_premium_sel_inline .5s ease forwards !important}ghost .gr_highlight_replacement,grammarly-ghost .gr_highlight_replacement,*[data-gramm][data-gramm_editor] .gr_highlight_replacement,body[data-gramm_id][data-gramm_editor] .gr_highlight_replacement{animation:gr__fade_replacement___ 3s ease forwards !important}@keyframes gr__appear_critical{0%{background-size:0 100%}100%{background-size:calc(100% + 1px) 100%}}@keyframes gr__appear_critical_sel_inline{0%{background-color:transparent;background-size:calc(100% + 1px) 100% !important}100%{background-color:#f6d5d9;background-size:calc(100% + 1px) 100% !important}}@keyframes gr__appear_premium_sel_inline{0%{background-color:transparent;background-size:calc(100% + 1px) 100% !important}100%{background-color:rgba(250,214,51,0.25);background-size:calc(100% + 1px) 100% !important}}@keyframes gr__appear_critical_sel_inline_overlay{0%{background-color:transparent;background-size:calc(100% + 1px) 100% !important}100%{background-color:rgba(255,0,0,0.15);background-size:calc(100% + 1px) 100% !important}}@keyframes gr__fade_replacement___{0%{background-color:#cff3ec}100%{background-color:transparent}}
:host{--blue-0:#e5ebff;--blue-10:#d7e0fe;--blue-20:#b8c8fb;--blue-30:#8ca6f6;--blue-40:#5679e8;--blue-60:#2551da;--blue-80:#02289e;--blue-90:#001862;--blue-100:#000a26;--blue-gray-0:#f4f4f6;--blue-gray-5:#e2e4e9;--blue-gray-10:#cdd1dc;--blue-gray-20:#c2c6d4;--blue-gray-30:#adb2c3;--blue-gray-35:#99a0b3;--blue-gray-40:#878da2;--blue-gray-50:#798096;--blue-gray-60:#646b81;--blue-gray-70:#565b6c;--blue-gray-80:#474b58;--blue-gray-90:#27282e;--blue-gray-100:#161719;--gold-0:#fff4e0;--gold-10:#ffeac2;--gold-20:#ffdd9d;--gold-30:#ffc444;--gold-40:#ffa600;--gold-60:#d67400;--gold-80:#bd5b00;--gold-90:#794100;--gold-100:#261900;--green-0:#def7f5;--green-10:#b1f0e8;--green-20:#73e1d4;--green-30:#2cc9b6;--green-40:#16ac9a;--green-60:#027e6f;--green-80:#017467;--green-90:#014c43;--green-100:#00231f;--magenta-0:#ffe5f0;--magenta-10:#fec8dd;--magenta-20:#faaccb;--magenta-30:#f079a8;--magenta-40:#e14683;--magenta-60:#d21861;--magenta-80:#990c43;--magenta-90:#600428;--magenta-100:#26000f;--neutral-gray-0:#f5f5f5;--neutral-gray-5:#e6e6e6;--neutral-gray-10:#d7d7d7;--neutral-gray-20:#cecece;--neutral-gray-30:#bcbcbc;--neutral-gray-35:#a9a9a9;--neutral-gray-40:#979797;--neutral-gray-50:#858585;--neutral-gray-60:#727272;--neutral-gray-70:#616161;--neutral-gray-80:#4f4f4f;--neutral-gray-90:#2b2b2b;--neutral-gray-100:#191919;--purple-0:#f3e0ff;--purple-10:#e6ccfb;--purple-20:#dabaf2;--purple-30:#c194e2;--purple-40:#a469cf;--purple-60:#8943bc;--purple-80:#60258a;--purple-90:#3a1058;--purple-100:#180426;--red-0:#ffebee;--red-10:#fecdd5;--red-20:#fbabb8;--red-30:#f1768a;--red-40:#e5425c;--red-60:#d31332;--red-80:#990921;--red-90:#600312;--red-100:#260006;--teal-0:#e0fcff;--teal-10:#b2f4fa;--teal-20:#7de5ef;--teal-30:#2ac6d5;--teal-40:#1ca5b2;--teal-60:#128d99;--teal-80:#09646c;--teal-90:#034349;--teal-100:#002326;--white:#fff}:host{--elevation100-border:.5px solid var(--color-border-base-default-1);--elevation100-shadow:0 1px 4px .5px var(--color-border-base-default-f3);--elevation200-border:.5px solid var(--color-border-base-default-1);--elevation200-shadow:0 1px 8px .5px var(--color-border-base-default-f5);--elevation300-border:.5px solid var(--color-border-base-default-1);--elevation300-shadow:0 2px 12px .5px var(--color-border-base-default-f5)}:host{--radius-half:.125rem;--radius-half:calc(0.125px * var(--rem));--radius-0:0;--radius-0:calc(0px * var(--rem));--radius-1:.25rem;--radius-1:calc(0.25px * var(--rem));--radius-2:.5rem;--radius-2:calc(0.5px * var(--rem));--radius-3:.75rem;--radius-3:calc(0.75px * var(--rem))}:host{--color-background-addition-default:#017467;--color-background-addition-subdued:#def7f5;--color-background-base-default:#fff;--color-background-base-subdued:#f4f4f6;--color-background-brand-default:#027e6f;--color-background-brand-subdued:#def7f5;--color-background-business-default:#646b81;--color-background-business-subdued:#f4f4f6;--color-background-clarity-default:#2551da;--color-background-clarity-subdued:#e5ebff;--color-background-correctness-default:#d31332;--color-background-correctness-subdued:#ffebee;--color-background-critical-default:#d31332;--color-background-critical-subdued:#ffebee;--color-background-deletion-default:#d31332;--color-background-deletion-subdued:#ffebee;--color-background-delivery-default:#8943bc;--color-background-delivery-subdued:#f3e0ff;--color-background-engagement-default:#017467;--color-background-engagement-subdued:#def7f5;--color-background-neutral-default:#646b81;--color-background-plagiarism-default:#09646c;--color-background-plagiarism-subdued:#e0fcff;--color-background-premium-default:#ffc444;--color-background-premium-subdued:#fff4e0;--color-background-success-default:#017467;--color-background-success-subdued:#def7f5;--color-background-warning-default:#bd5b00;--color-background-warning-subdued:#fff4e0;--color-border-addition-default:#017467;--color-border-addition-subdued:#73e1d4;--color-border-base-default:#646b81;--color-border-base-subdued:#cdd1dc;--color-border-base-inverse:#fff;--color-border-brand-default:#027e6f;--color-border-brand-subdued:#73e1d4;--color-border-business-default:#646b81;--color-border-business-subdued:#cdd1dc;--color-border-clarity-default:#2551da;--color-border-correctness-default:#d31332;--color-border-critical-default:#d31332;--color-border-critical-subdued:#fbabb8;--color-border-deletion-default:#d31332;--color-border-deletion-subdued:#fbabb8;--color-border-delivery-default:#8943bc;--color-border-engagement-default:#017467;--color-border-plagiarism-default:#09646c;--color-border-premium-default:#ffc444;--color-border-premium-subdued:#ffdd9d;--color-border-success-default:#017467;--color-border-success-subdued:#73e1d4;--color-border-warning-default:#bd5b00;--color-border-warning-subdued:#ffdd9d;--color-icon-addition-default:#017467;--color-icon-base-default:#646b81;--color-icon-base-subdued:#adb2c3;--color-icon-base-inverse:#fff;--color-icon-brand-default:#027e6f;--color-icon-business-default:#646b81;--color-icon-critical-default:#d31332;--color-icon-deletion-default:#d31332;--color-icon-premium-default:#794100;--color-icon-success-default:#017467;--color-icon-warning-default:#d67400;--color-text-addition-default:#017467;--color-text-base-default:#161719;--color-text-base-subdued:#646b81;--color-text-base-inverse:#fff;--color-text-brand-default:#027e6f;--color-text-business-default:#646b81;--color-text-critical-default:#d31332;--color-text-dark-default:#161719;--color-text-deletion-default:#d31332;--color-text-light-default:#fff;--color-text-premium-default:#794100;--color-text-success-default:#017467;--color-text-warning-default:#794100;--color-border-base-default-1:#646b81;--color-border-base-default-f3:rgba(100,107,129,0.3);--color-border-base-default-f5:rgba(100,107,129,0.5)}:host{--space-quarter:.0625rem;--space-quarter:calc(0.0625px * var(--rem));--space-half:.125rem;--space-half:calc(0.125px * var(--rem));--space-0:0;--space-0:calc(0px * var(--rem));--space-1:.25rem;--space-1:calc(0.25px * var(--rem));--space-2:.5rem;--space-2:calc(0.5px * var(--rem));--space-3:.75rem;--space-3:calc(0.75px * var(--rem));--space-4:1rem;--space-4:calc(1px * var(--rem));--space-5:1.25rem;--space-5:calc(1.25px * var(--rem));--space-6:1.5rem;--space-6:calc(1.5px * var(--rem));--space-8:2rem;--space-8:calc(2px * var(--rem));--space-10:2.5rem;--space-10:calc(2.5px * var(--rem));--space-12:3rem;--space-12:calc(3px * var(--rem));--space-14:3.5rem;--space-14:calc(3.5px * var(--rem));--space-16:4rem;--space-16:calc(4px * var(--rem));--space-18:4.5rem;--space-18:calc(4.5px * var(--rem));--space-20:5rem;--space-20:calc(5px * var(--rem))}
:host{--base-boundaries-primary-default:#878da2;--base-boundaries-secondary-default:#cdd1dc;--base-content-onprimary-default:#fff;--base-content-primary-default:#161719;--base-content-secondary-default:#646b81;--base-surface-primary-default:#fff;--base-surface-secondary-default:#f4f4f6;--emphasized-content-onprimary-default:#161719;--emphasized-content-primary-default:#fff;--emphasized-content-secondary-default:#99a0b3;--emphasized-dangeranddeletion-primary-default:#f1768a;--emphasized-dangeranddeletion-primary-hover:#fbabb8;--emphasized-interactivebranded-primary-default:#8ca6f6;--emphasized-interactivebranded-primary-hover:#b8c8fb;--emphasized-interactiveneutral-primary-default:#99a0b3;--emphasized-interactiveneutral-primary-hover:#c2c6d4;--emphasized-successandaddition-primary-default:#18e7b7;--emphasized-successandaddition-primary-hover:#7cf4d8;--emphasized-surface-primary-default:#161719;--emphasized-warning-primary-default:#ffa600;--emphasized-warning-primary-hover:#ffc444;--interface-dangeranddeletion-primary-default:#d31332;--interface-dangeranddeletion-primary-hover:#990921;--interface-dangeranddeletion-secondary-default:#ffebee;--interface-dangeranddeletion-secondary-hover:#fecdd5;--interface-interactivebranded-primary-default:#2551da;--interface-interactivebranded-primary-hover:#02289e;--interface-interactivebranded-secondary-default:#e5ebff;--interface-interactivebranded-secondary-hover:#d7e0fe;--interface-interactiveneutral-primary-default:#646b81;--interface-interactiveneutral-primary-hover:#474b58;--interface-interactiveneutral-secondary-default:#f4f4f6;--interface-interactiveneutral-secondary-hover:#cdd1dc;--interface-premium-primary-default:#935f00;--interface-premium-primary-hover:#5c3c00;--interface-premium-secondary-default:#fff4e0;--interface-premium-secondary-hover:#ffeac2;--interface-successandaddition-primary-default:#05735a;--interface-successandaddition-primary-hover:#024d3b;--interface-successandaddition-secondary-default:#e0fff8;--interface-successandaddition-secondary-hover:#befdef;--interface-warning-primary-default:#935f00;--interface-warning-primary-hover:#5c3c00;--interface-warning-secondary-default:#fff4e0;--interface-warning-secondary-hover:#ffeac2;--suggestioncategories-business-primary-default:#646b81;--suggestioncategories-business-primary-hover:#474b58;--suggestioncategories-business-secondary-default:#f4f4f6;--suggestioncategories-business-secondary-hover:#cdd1dc;--suggestioncategories-clarity-primary-default:#2551da;--suggestioncategories-clarity-primary-hover:#02289e;--suggestioncategories-clarity-secondary-default:#e5ebff;--suggestioncategories-clarity-secondary-hover:#d7e0fe;--suggestioncategories-correctness-primary-default:#d31332;--suggestioncategories-correctness-primary-hover:#990921;--suggestioncategories-correctness-secondary-default:#ffebee;--suggestioncategories-correctness-secondary-hover:#fecdd5;--suggestioncategories-delivery-primary-default:#8943bc;--suggestioncategories-delivery-primary-hover:#60258a;--suggestioncategories-delivery-secondary-default:#f3e0ff;--suggestioncategories-delivery-secondary-hover:#e6ccfb;--suggestioncategories-engagement-primary-default:#05735a;--suggestioncategories-engagement-primary-hover:#024d3b;--suggestioncategories-engagement-secondary-default:#e0fff8;--suggestioncategories-engagement-secondary-hover:#befdef;--suggestioncategories-plagiarism-primary-default:#09646c;--suggestioncategories-plagiarism-primary-hover:#034349;--suggestioncategories-plagiarism-secondary-default:#e0fcff;--suggestioncategories-plagiarism-secondary-hover:#b2f4fa;--base-boundaries-primary-default-1:#878da2;--base-boundaries-primary-default-f3:rgba(135,141,162,0.3);--base-boundaries-primary-default-f5:rgba(135,141,162,0.5)}
@media print{.dnXmp,:host(.dnXmp),[data-grammarly-part]{display:none !important}}
.E036s{overflow:hidden}
.ymqHP{visibility:hidden;position:fixed;}.ymqHP:after{content:'';position:absolute;visibility:visible;height:3px;bottom:0;border-radius:10px;background:#488cc8;animation:JQguZ 1.3s ease forwards}.ymqHP.ExcM8:after{animation:JQguZ .2s ease forwards}@keyframes JQguZ{0%{width:0%}100%{width:100%}}
.pHj9I{font-family:Inter,sans-serif;font-style:normal;font-weight:normal;color:#0e101a;font-size:12px;line-height:18px;padding:8px 16px;}.pHj9I.jijnV{display:-ms-grid;display:grid;-ms-grid-columns:26px auto;grid-template-columns:26px auto;}.pHj9I.jijnV .wONgE{font-family:Inter,sans-serif;font-style:normal;font-weight:normal;color:#6d758d;font-size:12px;line-height:18px}.pHj9I [data-grammarly-part='definitions-card-item-qualifier']{font-family:Inter,sans-serif;font-style:normal;font-weight:normal;color:#6d758d;font-size:12px;line-height:18px}
.jmKNY{padding:8px 16px}
.SD4B_{font-family:Inter,sans-serif;font-style:normal;font-weight:normal;color:#0e101a;font-size:14px;line-height:21px;font-feature-settings:'ss03' on;-webkit-font-smoothing:antialiased;background:#fff;border-radius:8px;overflow:hidden;outline:none;}.SD4B_.lDTYf{box-shadow:0 12px 48px rgba(109,117,141,0.2);}.SD4B_.lDTYf.I8fWz{min-width:216px;max-width:324px}.SD4B_.lDTYf.zFjOi{width:324px}.SD4B_.lDTYf.SzLk5{min-width:216px;max-width:none}.SD4B_.SsdZ1{width:100%;box-shadow:0 1px 8px rgba(109,117,141,0.18);}.SD4B_.SsdZ1 > *:first-child{margin:8px}.SD4B_.SsdZ1.OYPRO{min-height:52px;display:-ms-flexbox;display:flex;-ms-flex-direction:column;flex-direction:column;-ms-flex-pack:center;justify-content:center}.SD4B_.FxoHS{cursor:pointer}
.WOgQw{display:-ms-flexbox;display:flex;width:100%;}.WOgQw.vr12Q{-ms-flex-align:center;align-items:center}.WOgQw.Xp7W2{-ms-flex-pack:justify;justify-content:space-between}.WOgQw .mh9xQ{display:-ms-flexbox;display:flex;-ms-flex-pack:center;justify-content:center;width:18px}.WOgQw .tGGjR{display:-ms-flexbox;display:flex;-ms-flex:1;flex:1;-ms-flex-align:center;align-items:center}
.sk6r7{font-family:Inter,sans-serif;font-style:normal;font-weight:normal;color:#0e101a;font-size:12px;line-height:18px;padding:8px 16px;}.sk6r7 b{font-style:italic}
.GKcal{font-family:Inter,sans-serif;font-style:normal;font-weight:normal;color:#0e101a;font-size:12px;line-height:18px;display:-ms-flexbox;display:flex;-ms-flex-align:start;align-items:start;padding:8px 16px;}.GKcal .c2T9j,.GKcal .jp7Ti{width:16px;height:16px}.GKcal .i3Orm{height:18px;display:-ms-flexbox;display:flex;-ms-flex-align:center;align-items:center;margin-right:8px}.GKcal .xXlYa{margin-left:8px}.GKcal .xXlYa{margin-left:8px}
.goatt{display:block;}.goatt.cUc93{color:initial}
.stkrr{display:-ms-inline-flexbox;display:inline-flex;-ms-flex-direction:column;flex-direction:column;-ms-flex-pack:center;justify-content:center;border-radius:4px;padding:0 4px;}.stkrr.XTtJC{font-family:Inter,sans-serif;font-style:normal;font-weight:normal;color:#4a6ee0;font-size:10px;line-height:16px;letter-spacing:.04em;text-transform:uppercase;background:#edf5ff}.stkrr.VlXa2{font-family:Inter,sans-serif;font-style:normal;font-weight:normal;color:#0d8065;font-size:10px;line-height:16px;letter-spacing:.04em;text-transform:uppercase;background:#d7f7f0}.stkrr.TvgjE{font-family:Inter,sans-serif;font-style:normal;font-weight:normal;color:#8c5404;font-size:10px;line-height:16px;letter-spacing:.04em;text-transform:uppercase;background:#ffdf80}.stkrr.elqes{font-family:Inter,sans-serif;font-style:normal;font-weight:normal;color:#ce1331;font-size:10px;line-height:16px;letter-spacing:.04em;text-transform:uppercase;background:#fdf0f3}.stkrr.rI61B{border-radius:50%;padding:0;}.stkrr.j0sDJ{width:16px;height:16px}.stkrr.mJWU1{width:24px;height:24px}.stkrr.VhQJY{width:32px;height:32px}.stkrr .yHBKc{display:-ms-flexbox;display:flex;-ms-flex-pack:center;justify-content:center;white-space:nowrap;}.stkrr .yHBKc.CZLBe{font-weight:bold}
.uaHSw,a{display:-ms-flexbox;display:flex;-ms-flex-pack:center;justify-content:center;-ms-flex-align:start;align-items:flex-start;white-space:nowrap}.uaHSw{background:transparent;-ms-flex-direction:column;flex-direction:column;padding:8px 16px;cursor:default;-webkit-user-select:none;-ms-user-select:none;user-select:none;}.uaHSw.avqAQ{cursor:pointer;background-color:#f0f2fc}.uaHSw a{color:inherit;text-decoration:none}.uaHSw a .uaHSw{width:100%}
@keyframes tRHmW{0%{transform:rotate(0)}100%{transform:rotate(360deg)}}.K_LMA{width:24px;height:24px;background-size:24px 24px;background-image:url(chrome-extension://kbfnbcaeplbcioakkpcpgfkobkghlhen/src/images/6461601641d74251/arrow-right.svg);background-repeat:no-repeat}
.nURov{display:-ms-inline-flexbox;display:inline-flex}.Ij6SI{display:-ms-flexbox;display:flex;-ms-flex-direction:column;flex-direction:column;padding:8px 0;margin-block-start:0;margin-block-end:0;}.Ij6SI.O_T5O{padding:0}.Ij6SI .EF47u{font-family:Inter,sans-serif;font-style:normal;font-weight:normal;color:#6d758d;font-size:12px;line-height:18px;height:32px;padding-left:12px;display:-ms-flexbox;display:flex;-ms-flex-align:center;align-items:center}.Ij6SI .hiFzz{height:0;border-top:1px solid #e7e9f5}.Ij6SI .AFz96{border-top:1px solid #e7e9f5}.Ij6SI .G04S7{padding:8px 16px;}.Ij6SI .G04S7:first-of-type{padding-top:8px}.Ij6SI .G04S7:last-of-type{padding-bottom:8px}.Ij6SI .wt6uR{font-family:Inter,sans-serif;font-style:normal;font-weight:normal;color:#0e101a;font-size:14px;line-height:21px;font-feature-settings:'ss03' on;margin:0;padding:0 6px;cursor:pointer;height:40px;display:-ms-flexbox;display:flex;-ms-flex-direction:column;flex-direction:column;-ms-flex-pack:center;justify-content:center;}.Ij6SI .wt6uR.ct1Rs{font-size:12px;line-height:18px;border-radius:4px;}.Ij6SI .wt6uR.ct1Rs.hJmoX{cursor:not-allowed}.Ij6SI .wt6uR.hJmoX{color:#9fa6bf}.Ij6SI .wt6uR .jgsgt.l6_mK{display:-ms-grid;display:grid;-ms-grid-columns:32px auto;grid-template-columns:32px auto;grid-column-gap:4px;-ms-flex-align:center;align-items:center;padding-right:.5rem;}.Ij6SI .wt6uR .jgsgt.l6_mK .DD9ET{display:-ms-flexbox;display:flex;-ms-flex-pack:center;justify-content:center;-ms-flex-align:center;align-items:center}.Ij6SI .wt6uR:not(.hJmoX):hover{background-color:#f0f2fc}
.m0jPP{position:absolute;}.m0jPP.X6ecE{top:-8px;border-left:8px solid transparent;border-right:8px solid transparent;border-bottom:8px solid #fff;}.m0jPP.X6ecE.m12bb{border-bottom-color:#333954}.m0jPP.X6ecE.EKEQa{border-bottom-color:#161719}.m0jPP.NsYpj{bottom:-8px;border-left:8px solid transparent;border-right:8px solid transparent;border-top:8px solid #fff;}.m0jPP.NsYpj.m12bb{border-top-color:#333954}.m0jPP.NsYpj.EKEQa{border-top-color:#161719}.m0jPP.IQwgo{left:-8px;border-top:8px solid transparent;border-bottom:8px solid transparent;border-right:8px solid #fff;}.m0jPP.IQwgo.m12bb{border-right-color:#333954}.m0jPP.IQwgo.EKEQa{border-right-color:#161719}.m0jPP.k4czK{right:-8px;border-top:8px solid transparent;border-bottom:8px solid transparent;border-left:8px solid #fff;}.m0jPP.k4czK.m12bb{border-left-color:#333954}.m0jPP.k4czK.EKEQa{border-left-color:#161719}
.WEkke{display:-ms-inline-flexbox;display:inline-flex}.IjZe9{filter:drop-shadow(0 0 .5px #878da2) drop-shadow(0 0 2px rgba(135,141,162,0.5)) drop-shadow(0 1px 6px rgba(135,141,162,0.25))}
@keyframes DgOJb{0%{transform:rotate(0)}100%{transform:rotate(360deg)}}.xMSt8{width:32px;height:32px;background-size:32px 32px;background-image:url(chrome-extension://kbfnbcaeplbcioakkpcpgfkobkghlhen/src/images/905b120faab09422/close.svg);background-repeat:no-repeat}.KJIVs{width:24px;height:24px;background-size:24px 24px;background-image:url(chrome-extension://kbfnbcaeplbcioakkpcpgfkobkghlhen/src/images/ce7bc9687440e652/close-small.svg);background-repeat:no-repeat}.vwkk7{width:32px;height:32px;background-size:32px 32px;background-image:url(chrome-extension://kbfnbcaeplbcioakkpcpgfkobkghlhen/src/images/093e98fba73e0c60/close-white.svg);background-repeat:no-repeat}
.Xv6nu{box-shadow:none;-webkit-user-select:none;-ms-user-select:none;user-select:none;border:none;border-radius:4px;}.Xv6nu:focus{outline:#99c2ff auto 3px}.Xv6nu:focus:not(:focus-visible){outline:none}.Xv6nu:focus-visible{outline:#99c2ff auto 3px}.Xv6nu.wsrpG{border-radius:32px}.Xv6nu:not(.aaYpW){padding:0}.Xv6nu.zi_ja{font-family:Inter,sans-serif;font-style:normal;font-weight:bold;color:#fff;font-size:14px;line-height:26px}.Xv6nu.KumoA{font-family:Inter,sans-serif;font-style:normal;font-weight:bold;color:#fff;font-size:14px;line-height:32px}.Xv6nu.uQ7bn,.Xv6nu.v1SWt{font-family:Inter,sans-serif;font-style:normal;font-weight:bold;color:#4a6ee0;font-size:14px;line-height:32px}.Xv6nu.XiP1W{font-family:Inter,sans-serif;font-style:normal;font-weight:normal;color:#4a6ee0;font-size:12px;line-height:18px}.Xv6nu.FfbwC{cursor:pointer;}.Xv6nu.FfbwC.u8dZN{background:#4a6ee0;}.Xv6nu.FfbwC.u8dZN:hover{background:#638eeb}.Xv6nu.FfbwC.u8dZN:active{background:#3659b5}.Xv6nu.FfbwC.bx7Ao{background:#11a683;}.Xv6nu.FfbwC.bx7Ao:hover{background:#15c39a}.Xv6nu.FfbwC.bx7Ao:active{background:#0d8065}.Xv6nu.FfbwC.uQ7bn:not(.QJ7SS),.Xv6nu.FfbwC.XiP1W{background:transparent;}.Xv6nu.FfbwC.uQ7bn:not(.QJ7SS):hover,.Xv6nu.FfbwC.XiP1W:hover{color:#3659b5}.Xv6nu.FfbwC.uQ7bn:not(.QJ7SS):active,.Xv6nu.FfbwC.XiP1W:active{color:#26307d}.Xv6nu.FfbwC.uQ7bn.QJ7SS{background:transparent;transition:background .15s cubic-bezier(.4,0,.2,1);}.Xv6nu.FfbwC.uQ7bn.QJ7SS:hover{background:#e7e9f5}.Xv6nu.FfbwC.uQ7bn.QJ7SS:active{background:#c6cbde}.Xv6nu.FfbwC.v1SWt{background:transparent;border:1px solid #c6cbde;}.Xv6nu.FfbwC.v1SWt:hover{background:#edf5ff;color:#4a6ee0}.Xv6nu.FfbwC.v1SWt:active{background:#dbebff;color:#4a6ee0}.Xv6nu.FfbwC.R0C6b{background:#4d536e;}.Xv6nu.FfbwC.R0C6b:hover{background:#6d758d}.Xv6nu.FfbwC.R0C6b:active{background:#333954}.Xv6nu.FfbwC.Glsdy{background:#f0f2fc;}.Xv6nu.FfbwC.Glsdy:hover{background:#e7e9f5}.Xv6nu.FfbwC.Glsdy:active{background:#c6cbde}.Xv6nu.FfbwC.Xxwoy{background:#fff;box-shadow:0 0 2px .5px rgba(135,141,162,0.5),0 1px 6px .5px rgba(135,141,162,0.25);}.Xv6nu.FfbwC.Xxwoy:hover{background:#f0f2fc}.Xv6nu.FfbwC.Xxwoy:active{background:#e7e9f5}.Xv6nu.FfbwC.FyfT4{background:#ffdf80;color:#8c5404;}.Xv6nu.FfbwC.FyfT4 path{stroke:#8c5404}.Xv6nu.FfbwC.FyfT4:hover{background:#ffc940}.Xv6nu.VMMkP{pointer-events:none;background:#e7e9f5;color:#9fa6bf;}.Xv6nu.VMMkP.uQ7bn,.Xv6nu.VMMkP.XiP1W,.Xv6nu.VMMkP.v1SWt{background:transparent}.Xv6nu.VMMkP.v1SWt{border:1px solid #e7e9f5}.Xv6nu .xYKB9{font-weight:normal}
@keyframes IMGhE{0%{transform:rotate(0)}100%{transform:rotate(360deg)}}.Rktrz{background:#fff;box-shadow:0 0 .5px rgba(0,0,0,0.7),0 2px 8px rgba(26,33,52,0.2);border-radius:8px;}.Rktrz.Iackh{background:#333954}.Rktrz.Egf_e{background:#161719;color:#fff}.Rktrz.Zglu8{width:160px}.Rktrz.KDiTE{width:248px}.Rktrz.Ut6iQ{width:288px}.Rktrz.JyayS{width:344px}.Rktrz .w7cHF{padding-top:8px;padding-bottom:8px;padding-left:12px;padding-right:12px;display:-ms-flexbox;display:flex;-ms-flex-pack:justify;justify-content:space-between;-ms-flex-align:center;align-items:center;}.Rktrz .w7cHF.sJfMe{-ms-flex-direction:row-reverse;flex-direction:row-reverse}.Rktrz .w7cHF .cRXvV{display:-ms-flexbox;display:flex;-ms-flex-align:center;align-items:center;}.Rktrz .w7cHF .cRXvV .mYqjL{margin-right:12px;}.Rktrz .w7cHF .cRXvV .mYqjL.D98fm{width:32px;height:32px;background-size:32px 32px;background-image:url(chrome-extension://kbfnbcaeplbcioakkpcpgfkobkghlhen/src/images/9d6accddf9d3a975/notification-ok.svg);background-repeat:no-repeat;margin-left:-6px}.Rktrz .w7cHF .cRXvV .mYqjL.y9R1h{width:32px;height:32px;background-size:32px 32px;background-image:url(chrome-extension://kbfnbcaeplbcioakkpcpgfkobkghlhen/src/images/9ea9cbd26195de3a/notification-warning.svg);background-repeat:no-repeat;margin-left:-6px}.Rktrz .w7cHF .cRXvV .mYqjL.BTEFg{width:66px;height:38px;background-size:66px 38px;background-image:url(chrome-extension://kbfnbcaeplbcioakkpcpgfkobkghlhen/src/images/b11b1d91ba34cb09/new-magic-badge.svg);background-repeat:no-repeat;margin-left:6px;margin-top:8px}.Rktrz .lafeo{padding:11px 16px;}.Rktrz .lafeo.M2ZM4{padding:0}
.pg_od{font-family:Inter,sans-serif;font-style:normal;font-weight:normal;color:#6d758d;font-size:12px;line-height:18px;line-height:21px}
.AQrxz{font-family:Inter,sans-serif;font-style:normal;font-weight:normal;color:#0e101a;font-size:12px;line-height:18px}
.kilQ_{width:24px;height:24px;cursor:pointer;display:-ms-flexbox;display:flex;-ms-flex-pack:center;justify-content:center;-ms-flex-align:center;align-items:center;margin-left:14px;}.kilQ_:hover{background-color:#f0f2fc;border-radius:4px}
.ouSlE{font-family:Inter,sans-serif;font-style:normal;font-weight:normal;color:#0e101a;font-size:12px;line-height:18px;color:#8c5404;}.ouSlE svg{margin:0 6px}.qOolD{font-family:Inter,sans-serif;font-style:normal;font-weight:normal;color:#0e101a;font-size:12px;line-height:18px;color:#8c5404;}.qOolD svg{margin:0 6px 0 3px}
.amkYk{font-style:normal;font-weight:normal;font-family:Inter,-apple-system,BlinkMacSystemFont,'Segoe UI',Roboto,Oxygen,Ubuntu,Cantarell,'Helvetica Neue',sans-serif,Arial;}.amkYk button,.amkYk input,.amkYk textarea{font-family:inherit}
.GaXCJ{-webkit-font-smoothing:antialiased;display:-ms-flexbox;display:flex;background:#333954;color:#fff;padding:8px;border-radius:4px;font-size:12px;line-height:16px;pointer-events:none;animation:BYM2T ease .2s forwards;-ms-flex-direction:row;flex-direction:row}.edAVi{min-width:18px;padding-right:8px}@keyframes BYM2T{from{opacity:0}to{opacity:1}}
@keyframes CSZH1{0%{transform:rotate(0)}100%{transform:rotate(360deg)}}._ErYR{background:none;cursor:pointer;border:none;border-radius:22px;padding:2px;}._ErYR:hover{background:#e2e4e9}._ErYR .i8HXG{width:22px;height:23px;background-size:22px 23px;background-image:url(chrome-extension://kbfnbcaeplbcioakkpcpgfkobkghlhen/src/images/4c1040aef5510f31/light-bulb.svg);background-repeat:no-repeat}
.ebkJm{position:absolute;margin:0;padding:0;}.ebkJm.C1QGK .Xuw1x{background-color:#def7f5}.ebkJm.C1QGK .Xy8iw{width:4px;transform:translateX(-12px);}.ebkJm.C1QGK .Xy8iw.JyoiH{width:16px;transform:translateX(-10px);}.ebkJm.C1QGK .Xy8iw.JyoiH.QWab2{box-shadow:0 0 4px 0 rgba(0,0,0,0.5);background-color:#16ac9a}.ebkJm.C1QGK .Xy8iw.QWab2{border-color:rgba(60,60,67,0.18)}.Xuw1x{position:absolute;width:100%;height:100%;transition:.1s}.Xy8iw{position:absolute;width:4px;left:0;top:0;height:100%;border-radius:2px;transform:translateX(-6px);box-sizing:border-box;border:1px solid rgba(0,0,0,0);transition:.1s;cursor:pointer;}.Xy8iw.QWab2{background-color:#017467}.YMc40{position:absolute;bottom:0;left:0;z-index:999;overflow:visible;transform:translate(-2px,4px);pointer-events:all;cursor:pointer}
.Jupcl{position:absolute;margin:0;padding:0;}.Jupcl.GpjRg{mix-blend-mode:darken}.Jupcl.AydPB{mix-blend-mode:hard-light}.Jupcl .REwgW{position:absolute;width:100%;height:100%}.Jupcl .QnVQL{position:absolute;bottom:-2px;width:100%;height:3px}.Jupcl .QnVQL.idsUc:after{content:"....";color:transparent;position:absolute;height:0;bottom:0;right:-18px;border-bottom:3px dotted #027e6f}.Jupcl:not(.sSlVb) .QnVQL.SI8GN{animation:DKx9g .4s ease forwards}.Jupcl:not(.sSlVb) .QnVQL.Toqdh{animation:DKx9g 1.3s ease forwards}.Jupcl.inSdx .QnVQL{display:none}.Jupcl.a9sta .REwgW{display:none}.Jupcl.wBKz6 .REwgW{display:none}.Jupcl:not(.DshPN):not(.xf5DP):not(.ARj7P):not(.Ku9Jv):not(.sSlVb) .REwgW{opacity:0}.Jupcl.Ku9Jv:not(.ARj7P) .REwgW,.Jupcl.sSlVb:not(.ARj7P) .REwgW{opacity:.25}.Jupcl.ARj7P:not(.DshPN):not(.xf5DP):not(.sSlVb){animation:VXY0E .5s ease forwards}.Jupcl.ARj7P.Ku9Jv{animation:VXY0E .5s ease forwards}.Jupcl.ARj7P.sSlVb{opacity:.25}.Jupcl.ARj7P .QnVQL{display:none}.Jupcl.DshPN,.Jupcl.xf5DP{z-index:1}.Jupcl.DshPN:not(.xf5DP):not(.ARj7P):not(.Ku9Jv):not(.sSlVb) .REwgW{animation:VXY0E .5s ease forwards}.Jupcl.DshPN:not(.xf5DP):not(.ARj7P).Ku9Jv .REwgW,.Jupcl.DshPN:not(.xf5DP):not(.ARj7P).sSlVb .REwgW{opacity:.25}.Jupcl.DshPN:not(.xf5DP):not(.ARj7P).oI4gx:not(.sSlVb) .REwgW{animation-name:I5Mzs;animation-duration:.5s;animation-timing-function:ease;animation-fill-mode:forwards}.Jupcl.DshPN:not(.xf5DP):not(.ARj7P).oI4gx:not(.sSlVb) .QnVQL{animation-name:mBmA4;animation-duration:.5s;animation-timing-function:ease;animation-fill-mode:forwards}.Jupcl.DshPN:not(.xf5DP).ARj7P:not(.Ku9Jv):not(.sSlVb) .REwgW{animation:YyaFw .5s ease forwards}.Jupcl.DshPN:not(.xf5DP).ARj7P.oI4gx:not(.sSlVb) .REwgW{animation-name:ybu6W;animation-duration:.5s;animation-timing-function:ease;animation-fill-mode:forwards}.Jupcl.xf5DP:not(.Ku9Jv):not(.sSlVb):not(.ARj7P) .REwgW{animation-name:i8Ci6,ctzE5,VXY0E;animation-duration:.2s,.2s,.2s;animation-timing-function:ease-in-out,ease-in-out,ease-in-out;animation-delay:0s,.2s,.4s;animation-fill-mode:forwards,forwards,forwards}.Jupcl.xf5DP:not(.Ku9Jv):not(.sSlVb):not(.ARj7P).oI4gx .REwgW{animation-name:I5Mzs;animation-duration:.5s;animation-timing-function:ease;animation-fill-mode:forwards}.Jupcl.xf5DP:not(.Ku9Jv):not(.sSlVb):not(.ARj7P).oI4gx .QnVQL{animation-name:mBmA4;animation-duration:.5s;animation-timing-function:ease;animation-fill-mode:forwards}.Jupcl.xf5DP:not(.Ku9Jv):not(.sSlVb).ARj7P .REwgW{animation-name:DBDjK,bHZil,YyaFw;animation-duration:.2s,.2s,.2s;animation-timing-function:ease-in-out,ease-in-out,ease-in-out;animation-delay:0s,.2s,.4s;animation-fill-mode:forwards,forwards,forwards}.Jupcl.xf5DP:not(.Ku9Jv):not(.sSlVb).ARj7P.oI4gx .REwgW{animation-name:ybu6W;animation-duration:.5s;animation-timing-function:ease;animation-fill-mode:forwards}.Jupcl.YSZTR .QnVQL{background-color:#ff99ab}.Jupcl.YSZTR .REwgW{background-color:#f27388}.Jupcl.YSZTR.DshPN .QnVQL,.Jupcl.YSZTR.xf5DP .QnVQL,.Jupcl.YSZTR.Ku9Jv .QnVQL,.Jupcl.YSZTR.sSlVb .QnVQL{background-color:#ea1537}.Jupcl.YSZTR.wBKz6 .QnVQL{background-color:transparent;background-image:var(--underline-start-gradient)}.Jupcl.YSZTR.wBKz6.DshPN .QnVQL,.Jupcl.YSZTR.wBKz6.xf5DP .QnVQL,.Jupcl.YSZTR.wBKz6.Ku9Jv .QnVQL,.Jupcl.YSZTR.wBKz6.sSlVb .QnVQL{background-color:transparent;background-image:var(--underline-start-gradient-hovered)}.Jupcl.lUmQf .QnVQL{background-color:#99c2ff}.Jupcl.lUmQf .REwgW{background-color:#79a8e2}.Jupcl.lUmQf.DshPN .QnVQL,.Jupcl.lUmQf.xf5DP .QnVQL,.Jupcl.lUmQf.Ku9Jv .QnVQL,.Jupcl.lUmQf.sSlVb .QnVQL{background-color:#4a6ee0}.Jupcl.lUmQf.wBKz6 .QnVQL{background-color:transparent;background-image:var(--underline-start-gradient)}.Jupcl.lUmQf.wBKz6.DshPN .QnVQL,.Jupcl.lUmQf.wBKz6.xf5DP .QnVQL,.Jupcl.lUmQf.wBKz6.Ku9Jv .QnVQL,.Jupcl.lUmQf.wBKz6.sSlVb .QnVQL{background-color:transparent;background-image:var(--underline-start-gradient-hovered)}.Jupcl.qlU9z .QnVQL{background-color:#aaf2e1}.Jupcl.qlU9z .REwgW{background-color:#87e8d1}.Jupcl.qlU9z.DshPN .QnVQL,.Jupcl.qlU9z.xf5DP .QnVQL,.Jupcl.qlU9z.Ku9Jv .QnVQL,.Jupcl.qlU9z.sSlVb .QnVQL{background-color:#15c39a}.Jupcl.qlU9z.wBKz6 .QnVQL{background-color:transparent;background-image:var(--underline-start-gradient)}.Jupcl.qlU9z.wBKz6.DshPN .QnVQL,.Jupcl.qlU9z.wBKz6.xf5DP .QnVQL,.Jupcl.qlU9z.wBKz6.Ku9Jv .QnVQL,.Jupcl.qlU9z.wBKz6.sSlVb .QnVQL{background-color:transparent;background-image:var(--underline-start-gradient-hovered)}.Jupcl.yt6yL .QnVQL{background-color:#41d9b5}.Jupcl.yt6yL .REwgW{background-color:#41d9b5}.Jupcl.yt6yL.DshPN .QnVQL,.Jupcl.yt6yL.xf5DP .QnVQL,.Jupcl.yt6yL.Ku9Jv .QnVQL,.Jupcl.yt6yL.sSlVb .QnVQL{background-color:#15c39a}.Jupcl.yt6yL.wBKz6 .QnVQL{background-color:transparent;background-image:var(--underline-start-gradient)}.Jupcl.yt6yL.wBKz6.DshPN .QnVQL,.Jupcl.yt6yL.wBKz6.xf5DP .QnVQL,.Jupcl.yt6yL.wBKz6.Ku9Jv .QnVQL,.Jupcl.yt6yL.wBKz6.sSlVb .QnVQL{background-color:transparent;background-image:var(--underline-start-gradient-hovered)}.Jupcl.yl6gK .QnVQL{background-color:#d3a1f7}.Jupcl.yl6gK .REwgW{background-color:#bd79ed}.Jupcl.yl6gK.DshPN .QnVQL,.Jupcl.yl6gK.xf5DP .QnVQL,.Jupcl.yl6gK.Ku9Jv .QnVQL,.Jupcl.yl6gK.sSlVb .QnVQL{background-color:#8f4dbf}.Jupcl.yl6gK.wBKz6 .QnVQL{background-color:transparent;background-image:var(--underline-start-gradient)}.Jupcl.yl6gK.wBKz6.DshPN .QnVQL,.Jupcl.yl6gK.wBKz6.xf5DP .QnVQL,.Jupcl.yl6gK.wBKz6.Ku9Jv .QnVQL,.Jupcl.yl6gK.wBKz6.sSlVb .QnVQL{background-color:transparent;background-image:var(--underline-start-gradient-hovered)}.Jupcl.W6JT4 .QnVQL{background-color:#ffdf80}.Jupcl.W6JT4 .REwgW{background-color:#ffc940}.Jupcl.W6JT4.DshPN .QnVQL,.Jupcl.W6JT4.xf5DP .QnVQL,.Jupcl.W6JT4.Ku9Jv .QnVQL,.Jupcl.W6JT4.sSlVb .QnVQL{background-color:#ffa600}.Jupcl.W6JT4.wBKz6 .QnVQL{background-color:transparent;background-image:var(--underline-start-gradient)}.Jupcl.W6JT4.wBKz6.DshPN .QnVQL,.Jupcl.W6JT4.wBKz6.xf5DP .QnVQL,.Jupcl.W6JT4.wBKz6.Ku9Jv .QnVQL,.Jupcl.W6JT4.wBKz6.sSlVb .QnVQL{background-color:transparent;background-image:var(--underline-start-gradient-hovered)}.Jupcl.uPdhS .QnVQL{background-color:#e7e9f5}.Jupcl.uPdhS .REwgW{background-color:#9fa6bf}.Jupcl.uPdhS.DshPN .QnVQL,.Jupcl.uPdhS.xf5DP .QnVQL,.Jupcl.uPdhS.Ku9Jv .QnVQL,.Jupcl.uPdhS.sSlVb .QnVQL{background-color:#6d758d}.Jupcl.uPdhS.wBKz6 .QnVQL{background-color:transparent;background-image:var(--underline-start-gradient)}.Jupcl.uPdhS.wBKz6.DshPN .QnVQL,.Jupcl.uPdhS.wBKz6.xf5DP .QnVQL,.Jupcl.uPdhS.wBKz6.Ku9Jv .QnVQL,.Jupcl.uPdhS.wBKz6.sSlVb .QnVQL{background-color:transparent;background-image:var(--underline-start-gradient-hovered)}.Jupcl.iziVD .QnVQL{background-color:rgba(9,164,178,0.502)}.Jupcl.iziVD .REwgW{background-color:#acebf1}.Jupcl.iziVD.DshPN .QnVQL,.Jupcl.iziVD.xf5DP .QnVQL,.Jupcl.iziVD.Ku9Jv .QnVQL,.Jupcl.iziVD.sSlVb .QnVQL{background-color:#09a4b2}.Jupcl.iziVD.wBKz6 .QnVQL{background-color:transparent;background-image:var(--underline-start-gradient)}.Jupcl.iziVD.wBKz6.DshPN .QnVQL,.Jupcl.iziVD.wBKz6.xf5DP .QnVQL,.Jupcl.iziVD.wBKz6.Ku9Jv .QnVQL,.Jupcl.iziVD.wBKz6.sSlVb .QnVQL{background-color:transparent;background-image:var(--underline-start-gradient-hovered)}.Jupcl.YO7r1 .QnVQL{background-color:#027e6f}.Jupcl.YO7r1 .REwgW{background-color:#a8a8a8}.Jupcl.YO7r1.DshPN .QnVQL,.Jupcl.YO7r1.xf5DP .QnVQL,.Jupcl.YO7r1.Ku9Jv .QnVQL,.Jupcl.YO7r1.sSlVb .QnVQL{background-color:#017467}.Jupcl.YO7r1.wBKz6 .QnVQL{background-color:transparent;background-image:var(--underline-start-gradient)}.Jupcl.YO7r1.wBKz6.DshPN .QnVQL,.Jupcl.YO7r1.wBKz6.xf5DP .QnVQL,.Jupcl.YO7r1.wBKz6.Ku9Jv .QnVQL,.Jupcl.YO7r1.wBKz6.sSlVb .QnVQL{background-color:transparent;background-image:var(--underline-start-gradient-hovered)}@keyframes DKx9g{0%{width:0%}100%{width:100%}}@keyframes mBmA4{0%{opacity:1}100%{opacity:0}}@keyframes VXY0E{0%{opacity:0}100%{opacity:.25}}@keyframes I5Mzs{0%{opacity:.25}100%{opacity:0}}@keyframes ctzE5{0%{opacity:.65}100%{opacity:0}}@keyframes i8Ci6{0%{opacity:0}100%{opacity:.65}}@keyframes YyaFw{0%{opacity:.25}100%{opacity:.5}}@keyframes ybu6W{0%{opacity:.5}100%{opacity:0}}@keyframes DBDjK{0%{opacity:.25}100%{opacity:.65}}@keyframes bHZil{0%{opacity:.65}100%{opacity:.25}}
@keyframes Gmzav{0%{transform:rotate(0)}100%{transform:rotate(360deg)}}.ptGJG{-ms-flex-direction:row;flex-direction:row;-ms-flex-align:center;align-items:center}
.cuBuK:before{content:'';display:inline-block;width:20px;height:20px;background-size:20px 20px;background-image:url(chrome-extension://kbfnbcaeplbcioakkpcpgfkobkghlhen/src/images/ed3cf900c7124783/info.svg);background-repeat:no-repeat}.uBI59{font-family:Inter !important;font-weight:normal !important;font-size:12px !important;color:#6d758d !important;white-space:nowrap !important;margin:0 6px !important}.HHZ0f{margin-left:10px !important}.HHZ0f:before{content:'';display:inline-block;width:12px;height:12px;background-size:12px 12px;background-image:url(chrome-extension://kbfnbcaeplbcioakkpcpgfkobkghlhen/src/images/5113bc1a70156789/close.svg);background-repeat:no-repeat}
.DKn0C{cursor:pointer !important;color:#1c1e29 !important;font-size:14px !important;font-family:Inter,-apple-system,BlinkMacSystemFont,'Segoxe UI',Roboto,Oxygen,Ubuntu,Cantarell,'Helvetica Neue',sans-serif !important;font-weight:100 !important;}.DKn0C .TAanz{position:relative !important;white-space:nowrap !important;background:#fff !important;display:-ms-flexbox !important;display:flex !important;-ms-flex-align:center !important;align-items:center !important;height:28px !important;}.DKn0C .TAanz .X8oUo{visibility:hidden !important;position:absolute !important;right:-10px !important;bottom:5px !important;transform:rotate(90deg) scale(1.05,.7) !important;text-shadow:rgba(76,85,101,0.25) .5px -2px 2px !important;border:1px solid rgba(76,85,101,0.01) !important;color:#fff !important}.DKn0C .TAanz .rPSfu{visibility:visible !important}.DKn0C .Z3iZh{background:#fff !important;position:absolute !important;top:0 !important;bottom:0 !important;left:0 !important;right:100% !important}div.lZaei{margin-left:5px !important;}div.lZaei .DKn0C{overflow-x:hidden !important;height:38px !important;margin-top:-7px;padding:3px 2px 0 !important;}div.lZaei .DKn0C .TAanz{box-shadow:0 1px 2px 1px rgba(0,0,0,0.1) !important;margin-right:10px !important;padding:0 6px !important}div.lZaei .DKn0C .Z3iZh{margin:-2px !important}div.lZaei.uUOra{transition:visibility .2s ease .2s,opacity .2s ease .2s !important;opacity:1 !important;visibility:visible !important;}div.lZaei.uUOra .DKn0C .TAanz .Z3iZh{transition:right .2s ease .2s !important;right:105% !important}div.lZaei.PaytJ{transition:visibility .2s,opacity .2s !important;opacity:0 !important;visibility:hidden !important;}div.lZaei.PaytJ .DKn0C .TAanz .Z3iZh{transition:right .2s !important;right:0 !important}div.Sk03L{display:inline-block !important;}div.Sk03L .TAanz{padding-left:4px !important;margin-right:8px !important}
.zCXgw{font-family:Inter !important;font-weight:normal !important;font-size:12px !important;color:#6d758d !important;white-space:nowrap !important;margin:0 6px !important}.iTuG1{margin-left:10px !important}
.Eg8pv.Ls_xS{-webkit-user-select:none;-khtml-user-drag:none;-ms-user-select:none;user-select:none;font-size:22.5px;width:22.5px;height:22.5px;background-size:22.5px 22.5px;position:relative;display:inline-block}.Eg8pv.ZVWqH{display:inline-block;position:relative;top:2px;width:14px;height:14px;background-size:14px 14px}.cenoh{margin-right:2px;padding:2px;display:-ms-flexbox;display:flex;background:none;box-sizing:border-box;}.cenoh:hover{border-radius:28px;background:#e7e9f5;transition:100ms background}.Bg2tI{cursor:pointer;display:-ms-flexbox;display:flex;-ms-flex-align:center;align-items:center}.C3ro0{transition:visibility .2s ease .2s,opacity .2s ease .2s,transform .2s ease .2s;opacity:1;visibility:visible;transform:translateX(0)}.nul4w{transition:visibility .2s,opacity .2s,transform .2s;opacity:0;visibility:hidden;transform:translateX(8px)}
@keyframes dorp7{0%{transform:rotate(0)}100%{transform:rotate(360deg)}}.jeWQ0{display:-ms-flexbox;display:flex;-ms-flex-direction:row;flex-direction:row;-ms-flex-align:center;align-items:center;border-radius:30px;padding:2px;height:26px;min-width:26px;position:absolute;background:#fff;box-shadow:inset 0 0 0 1px #cdd1dc;z-index:-1;right:0;bottom:0;}.jeWQ0 > :not(link) + *{margin-left:-1px}.jeWQ0.q44yz{border-radius:30px 30px 30px 0}.AyDlc{width:26px}.obQyN{display:none}.UP62D{padding:2px 2px 2px 0}
.NRIwa{visibility:hidden;}.NRIwa .yEioX{font-weight:100}.NRIwa .qcX4v{font-style:italic;font-weight:100}.NRIwa .zVlKD{font-weight:200}.NRIwa .G5uFu{font-style:italic;font-weight:200}.NRIwa .ss65s{font-weight:300}.NRIwa .BAp6C{font-style:italic;font-weight:300}.NRIwa .TsKuT{font-weight:400}.NRIwa .zaGJf{font-style:italic;font-weight:400}.NRIwa .m1asa{font-weight:500}.NRIwa .OrxoJ{font-style:italic;font-weight:500}.NRIwa .DZkXF{font-weight:600}.NRIwa .nIB5t{font-style:italic;font-weight:600}.NRIwa .fcnMV{font-weight:700}.NRIwa .sxDQt{font-style:italic;font-weight:700}.NRIwa .PWSxT{font-weight:800}.NRIwa .NWlff{font-style:italic;font-weight:800}.NRIwa .CDNOZ{font-weight:900}.NRIwa .ZeE9p{font-style:italic;font-weight:900}
@keyframes Dsbpp{0%{transform:rotate(0)}100%{transform:rotate(360deg)}}.sA6Mi{font-family:Inter,sans-serif;font-style:normal;font-weight:normal;color:#0e101a;font-size:14px;line-height:21px;font-feature-settings:'ss03' on;margin:16px 19px 23px 17px;}.sA6Mi .QuGn8{margin-left:42px;margin-bottom:18px;}.sA6Mi .QuGn8:before{content:'';position:absolute;margin-left:-42px;width:32px;height:32px;background-size:32px 32px;background-image:url(chrome-extension://kbfnbcaeplbcioakkpcpgfkobkghlhen/src/images/309912d7d3e3d68c/sign-in-error.svg);background-repeat:no-repeat}.sA6Mi .Gq2l7{font-family:Inter,sans-serif;font-style:normal;font-weight:bold;color:#0e101a;font-size:16px;line-height:24px}.sA6Mi .ukjM0{width:100%}
.NA7KP{font-family:Inter,sans-serif;font-style:normal;font-weight:normal;color:#0e101a;font-size:12px;line-height:18px}.n7Ycl{font-family:Inter,sans-serif;font-style:normal;font-weight:bold;color:#ea1537;font-size:12px;line-height:18px}
.x1Ca0{font-family:Inter,sans-serif;font-style:normal;font-weight:normal;color:#0e101a;font-size:17px;line-height:22px;padding:8px 16px}
.D2b29{height:32px;background:linear-gradient(269.83deg,rgba(228,244,247,0.6) .02%,rgba(215,248,240,0.6) 50.81%,rgba(202,227,250,0.6) 99.98%);box-sizing:border-box;padding-left:16px;display:-ms-flexbox;display:flex;-ms-flex-direction:row;flex-direction:row;-ms-flex-pack:justify;justify-content:space-between;-ms-flex-align:center;align-items:center;}.ZF5XM{font-size:11px;line-height:32px;color:#7e8494}.sRgc3{cursor:pointer;width:32px;height:32px;display:-ms-flexbox;display:flex;-ms-flex-pack:center;justify-content:center;-ms-flex-align:center;align-items:center;}.aWZGD{transition:fill .2s;fill:#7e8494}.sRgc3:hover .aWZGD{transition:fill .2s;fill:#b6b9c2}
.A4HZx{background:#f0f2fc;position:relative;padding:8px 32px 8px 16px;display:-ms-flexbox;display:flex;-ms-flex-pack:center;justify-content:center;-ms-flex-align:center;align-items:center;gap:8px}
.Ezqkf{padding:8px 16px;cursor:pointer;}.Ezqkf .UiK_k{padding:0;margin-bottom:.5em}.Ezqkf .e_COQ:not(.yk_z2){font-family:Inter,sans-serif;font-style:normal;font-weight:bold;color:#11a683;font-size:17px;line-height:22px}.Ezqkf .e_COQ.yk_z2{font-feature-settings:'ss03' on;font-family:Inter,sans-serif;font-style:normal;font-weight:bold;color:#11a683;font-size:14px;line-height:21px}.Ezqkf .e_COQ.SWIeI{padding:0 2px;background-color:#aaf2e1;}.Ezqkf .e_COQ.SWIeI:not(.yk_z2){font-family:Inter,sans-serif;font-style:normal;font-weight:bold;color:#0d8065;font-size:17px;line-height:22px}.Ezqkf .e_COQ.SWIeI.yk_z2{font-feature-settings:'ss03' on;font-family:Inter,sans-serif;font-style:normal;font-weight:bold;color:#0d8065;font-size:14px;line-height:21px}.Ezqkf .mGivv:not(.yk_z2){font-family:Inter,sans-serif;font-style:normal;font-weight:normal;color:#0e101a;font-size:17px;line-height:22px}.Ezqkf .mGivv.yk_z2{font-feature-settings:'ss03' on;font-family:Inter,sans-serif;font-style:normal;font-weight:normal;color:#0e101a;font-size:14px;line-height:21px}.Ezqkf .flmnH{-webkit-text-decoration-line:line-through;text-decoration-line:line-through;}.Ezqkf .flmnH:not(.yk_z2){font-family:Inter,sans-serif;font-style:normal;font-weight:bold;color:#ea1537;font-size:17px;line-height:22px}.Ezqkf .flmnH.yk_z2{font-feature-settings:'ss03' on;font-family:Inter,sans-serif;font-style:normal;font-weight:bold;color:#ea1537;font-size:14px;line-height:21px}.Ezqkf .flmnH.SWIeI{padding:0 2px;text-decoration:none;background-color:#ffdbe3}.Ezqkf.KVaCJ{background-color:#11a683;}.Ezqkf.KVaCJ .UiK_k,.Ezqkf.KVaCJ .e_COQ,.Ezqkf.KVaCJ .mGivv,.Ezqkf.KVaCJ .flmnH{color:#fff}.Ezqkf.KVaCJ .flmnH.SWIeI,.Ezqkf.KVaCJ .e_COQ.SWIeI{background-color:#15c39a}.Ezqkf.JfKEH{background-color:#e7e9f5;cursor:default;}.Ezqkf.JfKEH .fleYC{position:relative;}.Ezqkf.JfKEH .fleYC .Gksh0{position:absolute;top:0;right:0}.Ezqkf.JfKEH .e_COQ{color:#6d758d}.Ezqkf.JfKEH .UiK_k,.Ezqkf.JfKEH .mGivv,.Ezqkf.JfKEH .flmnH{color:#333954}.Ezqkf.JfKEH:hover{background-color:#e7e9f5;}.Ezqkf.JfKEH:hover .e_COQ{color:#6d758d}.Ezqkf.JfKEH:hover .UiK_k,.Ezqkf.JfKEH:hover .mGivv,.Ezqkf.JfKEH:hover .flmnH{color:#333954}
.L9fYv{padding:8px 16px;}.L9fYv .klKEM{font-family:Inter,sans-serif;font-style:normal;font-weight:bold;color:#0e101a;font-size:14px;line-height:21px;font-feature-settings:'ss03' on;}.L9fYv .klKEM .r0TEV{display:-ms-flexbox;display:flex;-ms-flex-pack:center;justify-content:center;width:18px}.L9fYv .zQ7RP{font-family:Inter,sans-serif;font-style:normal;font-weight:normal;color:#0e101a;font-size:12px;line-height:18px;grid-template-areas:'empty-column text-column';}.L9fYv .zQ7RP .impTu{grid-area:text-column}.L9fYv .klKEM,.L9fYv .zQ7RP{display:-ms-grid;display:grid;-ms-grid-columns:18px auto;grid-template-columns:18px auto;grid-column-gap:8px;-ms-flex-align:center;align-items:center}.L9fYv .OhsKW{font-family:Inter,sans-serif;font-style:normal;font-weight:normal;color:#4a6ee0;font-size:12px;line-height:18px;cursor:pointer}
@keyframes CAGyv{0%{transform:rotate(0)}100%{transform:rotate(360deg)}}.yCx4F{padding:11px 1rem 4px 1rem}.vhILi{width:12px;height:12px;background-size:12px 12px;background-image:url(chrome-extension://kbfnbcaeplbcioakkpcpgfkobkghlhen/src/images/d79b89a642af07c6/new.svg);background-repeat:no-repeat}.TCkda{font-family:Inter,sans-serif;font-style:normal;font-weight:normal;color:#0e101a;font-size:12px;line-height:18px;margin-bottom:.25rem}
.Q_ghU{margin-right:-15px;padding-right:15px;margin-bottom:-7.5px;padding-bottom:7.5px}.vkuMN{-webkit-appearance:none;appearance:none;box-sizing:content-box;background:transparent;border:none;padding:0;margin:0}
.fDZiE{position:absolute;top:-5px;right:-5px}.BHWNr{border-radius:100% 100% 100% 0;background-image:url(chrome-extension://kbfnbcaeplbcioakkpcpgfkobkghlhen/src/images/79480f99c914924c/gbtn-grammarly-shape.svg)}.R7Ehf{cursor:pointer;transform:translate(0,0) scale(1);background-size:100%;border-radius:100%;background-clip:content-box;background-repeat:no-repeat;font-family:Inter,sans-serif;font-style:normal;font-weight:bold;color:#0e101a;font-size:14px;line-height:21px;font-feature-settings:'ss03' on;font-feature-settings:'ss01';margin:0;position:relative;color:#fff;-ms-flex-pack:center;justify-content:center;display:-ms-flexbox;display:flex;-ms-flex-align:center;align-items:center}.R7Ehf.fspWv{background-image:url(chrome-extension://kbfnbcaeplbcioakkpcpgfkobkghlhen/src/images/bea5f441adcc6b1f/gbtn-grammarly-no-background.svg)}.VNMHv{background:none;border-radius:32px;visibility:visible;opacity:1;z-index:auto;transition:opacity .11s,visibility .11s;-webkit-user-select:none;-khtml-user-drag:none;-ms-user-select:none;user-select:none;}.VNMHv:hover{background:#e2e4e9;transition:100ms background;border-radius:100% 100% 100% 0}.VNMHv:focus{outline:none}.VNMHv .L704q{width:100%;height:100%;display:-ms-flexbox;display:flex;-ms-flex-pack:center;justify-content:center;-ms-flex-align:center;align-items:center;position:relative}.VNMHv.NlgDT .BHWNr{background-image:url(chrome-extension://kbfnbcaeplbcioakkpcpgfkobkghlhen/src/images/0c67988c42191b0e/gbtn-grammarly-shape-disabled.svg)}.VNMHv.NlgDT .R7Ehf{background-image:url(chrome-extension://kbfnbcaeplbcioakkpcpgfkobkghlhen/src/images/bea5f441adcc6b1f/gbtn-grammarly-no-background.svg);background-color:transparent}.VNMHv.RZgek:not(.DR3p_) .R7Ehf{font-size:10px}.VNMHv.k6Tcg .BHWNr{background-image:url(chrome-extension://kbfnbcaeplbcioakkpcpgfkobkghlhen/src/images/deec2670219d90d5/gbtn-grammarly-shape-error.svg)}.VNMHv.k6Tcg .R7Ehf{background-image:url(chrome-extension://kbfnbcaeplbcioakkpcpgfkobkghlhen/src/images/deec2670219d90d5/gbtn-grammarly-shape-error.svg);min-width:10px}.VNMHv.BWwwG .R7Ehf{transition:transform .25s ease-in-out,font .18s ease-out,background-image .25s ease-in-out,opacity .18s ease-in;background-position:center center}.VNMHv.BWwwG .BHWNr{transition:background-image .25s linear;background-position:center center}.VNMHv.DR3p_ .R7Ehf{font-size:0;background-image:url(chrome-extension://kbfnbcaeplbcioakkpcpgfkobkghlhen/src/images/640e14a8a397f39e/gbtn-progress-no-background.svg);background-size:100%;animation:LGWmk 1.2s infinite linear}.VNMHv.QLHBQ .BHWNr{background-image:url(chrome-extension://kbfnbcaeplbcioakkpcpgfkobkghlhen/src/images/deec2670219d90d5/gbtn-grammarly-shape-error.svg)}.VNMHv.QLHBQ.DR3p_ .R7Ehf{background-image:url(chrome-extension://kbfnbcaeplbcioakkpcpgfkobkghlhen/src/images/640e14a8a397f39e/gbtn-progress-no-background.svg);background-size:100%}.VNMHv.BiKGJ{cursor:default;}.VNMHv.BiKGJ:hover{animation:none;background:none}.VNMHv.BiKGJ .R7Ehf{background:url(chrome-extension://kbfnbcaeplbcioakkpcpgfkobkghlhen/src/images/ef228ed126ec31f2/gbtn-offline-icon.svg) no-repeat;background-position:center center;color:transparent;border-radius:0}.VNMHv.BiKGJ .BHWNr{background-image:none}.VNMHv.knLsy{transition:padding .25s ease-in-out,margin .25 ease-in-out}.VNMHv.knLsy:hover{background:unset}.VNMHv.DEhDO .bzMoj .k1mI2{transform:translateY(18px) scale(.5);opacity:0;animation:njdpU 200ms ease-in}.VNMHv.DEhDO .bzMoj .fDZiE{animation:hYrGt 200ms ease-out;transform:translate(-9px,9px) scale(2)}.VNMHv.DEhDO .Sr9ej .k1mI2{transform:unset;opacity:1;animation:njdpU 200ms ease-out reverse}.VNMHv.DEhDO .Sr9ej .fDZiE{animation:hYrGt 200ms ease-in reverse;transform:unset}.dIh67 .R7Ehf{background-image:url(chrome-extension://kbfnbcaeplbcioakkpcpgfkobkghlhen/src/images/4fcbfa30bea012fa/gbtn_to_checking.png);background-size:100%;background-position:0 0;animation:w6bRT 1s steps(90) 0s forwards;transition:none}@keyframes w6bRT{0%{background-position:0 0}100%{background-position:0 -1980px}}.Z1fL3 .R7Ehf{background-image:url(chrome-extension://kbfnbcaeplbcioakkpcpgfkobkghlhen/src/images/877d23f0cdd17b37/checking_to_gbtn.png);background-size:100%;background-position:0 0;animation:For4O 1s steps(90) 0s forwards;transition:none}@keyframes For4O{0%{background-position:0 0}100%{background-position:0 -1980px}}.jFgYC .R7Ehf{background-image:url(chrome-extension://kbfnbcaeplbcioakkpcpgfkobkghlhen/src/images/2333ca8e6c5492fd/checking_to_err.png);background-size:100%;background-position:0 0;animation:RyPM1 1s steps(90) 0s forwards;transition:none}@keyframes RyPM1{0%{background-position:0 0}100%{background-position:0 -1980px}}.WIx0v .R7Ehf{background-image:url(chrome-extension://kbfnbcaeplbcioakkpcpgfkobkghlhen/src/images/40008732a174717b/err_to_checking.png);background-size:100%;background-position:0 0;animation:TCVhS 1s steps(90) 0s forwards;transition:none}@keyframes TCVhS{0%{background-position:0 0}100%{background-position:0 -1980px}}.IOAEi .R7Ehf{background-image:url(chrome-extension://kbfnbcaeplbcioakkpcpgfkobkghlhen/src/images/892ac9f468085c41/checking_1.png);background-size:100%;background-position:0 0;animation:rBS4r 1s steps(90) 0s forwards;transition:none}@keyframes rBS4r{0%{background-position:0 0}100%{background-position:0 -1980px}}.dO5QJ .R7Ehf{background-image:url(chrome-extension://kbfnbcaeplbcioakkpcpgfkobkghlhen/src/images/a07bc1043fc0b42d/checking_2.png);background-size:100%;background-position:0 0;animation:fKLfO 1s steps(90) 0s forwards;transition:none}@keyframes fKLfO{0%{background-position:0 0}100%{background-position:0 -1980px}}.meEMG .R7Ehf{background-image:url(chrome-extension://kbfnbcaeplbcioakkpcpgfkobkghlhen/src/images/18a779399458436f/checking_3.png);background-size:100%;background-position:0 0;animation:itt13 1s steps(90) 0s forwards;transition:none}@keyframes itt13{0%{background-position:0 0}100%{background-position:0 -1980px}}@keyframes LGWmk{0%{transform:rotate(0)}100%{transform:rotate(-360deg)}}@keyframes njdpU{from{transform:unset;opacity:1}to{transform:translateY(18px) scale(.5);opacity:0}}@keyframes hYrGt{from{transform:unset}to{transform:translate(-9px,9px) scale(2)}}
@keyframes UEIeW{0%{transform:rotate(0)}100%{transform:rotate(360deg)}}.oZITg{height:12px;color:#fff;border-radius:16px;border:1px solid #fff;display:-ms-flexbox;display:flex;-ms-flex-align:center;align-items:center;-ms-flex-pack:center;justify-content:center;font-size:9px;background:linear-gradient(307.49deg,#2551da 16.75%,#8943bc 84.79%);}.oZITg.qjyIX{width:12px;height:12px;background-size:12px 12px;background-image:url(chrome-extension://kbfnbcaeplbcioakkpcpgfkobkghlhen/src/images/46797004aaa37902/notification-warning-small.svg);background-repeat:no-repeat;background-color:transparent;border:none}.DdTeK{font-weight:bold;font-size:9px;line-height:12px;min-width:6px;padding:0 3px}.c91Hn{width:12px}.pasnE{background:#ffdd9d;color:#935f00}
@keyframes QpnmA{0%{transform:rotate(0)}100%{transform:rotate(360deg)}}.xfAhf{height:8px;width:8px;border-radius:16px;border:1px solid #fff;display:-ms-flexbox;display:flex;-ms-flex-align:center;align-items:center;-ms-flex-pack:center;justify-content:center}.adW5N{width:12px;height:12px;background-size:12px 12px;background-image:url(chrome-extension://kbfnbcaeplbcioakkpcpgfkobkghlhen/src/images/46797004aaa37902/notification-warning-small.svg);background-repeat:no-repeat}
.QlWC3{padding:2px;border-radius:28px;}.QlWC3.bDFhD{border-radius:28px 28px 28px 0}.QlWC3.pNqwS{-webkit-appearance:none;appearance:none;display:block;border:none;box-sizing:content-box;background:transparent}.QlWC3:hover{cursor:pointer;background:#e2e4e9}.QlWC3 .pUWpj{display:-ms-flexbox;display:flex;-ms-flex-direction:row;flex-direction:row;-ms-flex-align:center;align-items:center;color:#fff;}.QlWC3 .pUWpj .kWwTq{width:22px;height:22px;border-radius:22px;display:-ms-flexbox;display:flex;-ms-flex-pack:center;justify-content:center;-ms-flex-align:center;align-items:center;font-family:Inter,sans-serif;font-style:normal;font-weight:bold;color:#0e101a;font-size:14px;line-height:21px;font-feature-settings:'ss03' on;font-feature-settings:'ss01'}.QlWC3 .pUWpj .YgrpB{background:linear-gradient(307.49deg,#3659b5 16.75%,#7e3dad 84.79%);color:#fff}.QlWC3 .pUWpj .wpng1{background:#ffdd9d;color:#935f00}.QlWC3 .pUWpj .ORukD{background:#ce1331;border-radius:100% 100% 100% 0;color:#fff}.QlWC3 .pUWpj.yUffi .YgrpB,.QlWC3 .pUWpj.yUffi .wpng1,.QlWC3 .pUWpj.yUffi .HOMyy{font-size:10px}.KDpkP .QlWC3 .YgrpB,.KDpkP .QlWC3 .wpng1{animation:a1Nnn 200ms ease-out}.vVtoM .QlWC3 .YgrpB,.vVtoM .QlWC3 .wpng1{animation:a1Nnn 200ms ease-in reverse}.iZlEr .QlWC3 .YgrpB,.iZlEr .QlWC3 .wpng1{animation:none}@keyframes a1Nnn{from{transform:translate(9px,-9px) scale(.5)}to{transform:unset}}
.KVqAr{animation:ovczZ 200ms ease-out}.HRbha{animation:ovczZ 200ms ease-in reverse}@keyframes ovczZ{0%{opacity:0}100%{opacity:1}}
.ya261{z-index:2147483646;-webkit-user-select:none;-ms-user-select:none;user-select:none;margin:-1px -1px 0 0;padding:1px 1px 0 0;transform:translate(0,1px);}.ya261.NGdvA{margin-bottom:-9px;margin-right:-13px;padding-bottom:9px;padding-right:13px}.VLwh0{display:-ms-flexbox;display:flex;-ms-flex-direction:row;flex-direction:row;-ms-flex-align:center;align-items:center;padding:2px;height:28px;box-shadow:0 0 0 .5px #878da2,0 0 2px .5px rgba(135,141,162,0.5),0 1px 8px .5px rgba(135,141,162,0.1),0 2px 12px .5px rgba(135,141,162,0.1),0 4px 20px .5px rgba(135,141,162,0.25);border-radius:32px;background-color:#fff;white-space:nowrap;font-family:Inter,sans-serif;font-style:normal;font-weight:normal;color:#0e101a;font-size:12px;line-height:18px}.VLwh0 > * + *{margin-left:-1px}
.p1CkB{width:22px;height:22px;padding:2px;display:-ms-flexbox;display:flex;-ms-flex-align:center;align-items:center;-ms-flex-pack:center;justify-content:center;border:none;background:none;box-sizing:content-box;border-radius:22px;}.p1CkB path{stroke:#858585}.p1CkB:hover,.p1CkB:focus{cursor:pointer;background:#e2e4e9;}.p1CkB:hover path,.p1CkB:focus path{stroke:#2b2b2b}.gzhRJ{width:26px;height:26px}
.iJMot{width:22px;height:22px;border-radius:12px;display:-ms-flexbox;display:flex;-ms-flex-align:center;align-items:center;-ms-flex-pack:center;justify-content:center;padding:2px;}.iJMot:hover{background:#e2e4e9;cursor:pointer}.iJMot.qYeb1{width:26px;height:26px;border-radius:15px}
.FUnoM{width:22px;height:22px;display:-ms-flexbox;display:flex;-ms-flex-align:center;align-items:center;-ms-flex-pack:center;justify-content:center;}.FUnoM:hover{cursor:pointer;background:#fff;border-radius:22px}
.oBIpc{font-family:Inter,sans-serif;font-style:normal;font-weight:normal;color:#0e101a;font-size:14px;line-height:21px;font-feature-settings:'ss03' on}.VyZvP{font-family:Inter,sans-serif;font-style:normal;font-weight:normal;color:#0e101a;font-size:12px;line-height:18px;padding:0 16px;display:-ms-grid;display:grid;-ms-grid-columns:26px auto;grid-template-columns:26px auto;}.VyZvP .qZhWG{font-family:Inter,sans-serif;font-style:normal;font-weight:normal;color:#6d758d;font-size:12px;line-height:18px}.d073Y.Y3B6x{padding:8px 42px}.d073Y.G9UtX{padding:8px 16px}.d073Y .RqHGa{font-feature-settings:'ss03' on;font-family:Inter,sans-serif;font-style:normal;font-weight:bold;color:#11a683;font-size:14px;line-height:21px;background-color:#f0f2fc;padding:4px 8px;display:inline-block;border-radius:4px;margin-right:8px;margin-bottom:8px;cursor:pointer;}.d073Y .RqHGa:hover{background-color:#11a683;color:#fff}
.TACLT{z-index:0}
</style><div data-grammarly-part="outer-elements" class="amkYk" style="z-index: 2147483647; position: absolute; top: 0px; left: 0px; width: 100%;"><div style="position: fixed; visibility: hidden;"></div><div data-grammarly-part="outer-elements-wrapper" style="position: relative; z-index: 2147483645;"><div data-name="outer-elements-portal"></div></div><div><div data-grammarly-part="expanded-gbutton" style="top: -9244px; left: -8464px; position: absolute; transform: translate(-100%, -100%); z-index: 2147483644;"><div style="transform-origin: right center; transform: scale(1);"><div data-purpose="animation-wrapper"></div></div></div></div><div></div><div data-grammarly-part="fonts-preloader" class="NRIwa"><span class="TsKuT"></span><span class="fcnMV"></span></div></div></template></grammarly-popups></html>